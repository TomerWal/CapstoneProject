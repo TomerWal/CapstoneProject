{
 "metadata": {
  "language_info": {
   "codemirror_mode": {
    "name": "ipython",
    "version": 3
   },
   "file_extension": ".py",
   "mimetype": "text/x-python",
   "name": "python",
   "nbconvert_exporter": "python",
   "pygments_lexer": "ipython3",
   "version": "3.8.5-final"
  },
  "orig_nbformat": 2,
  "kernelspec": {
   "name": "Python 3.8.5 32-bit ('.venv')",
   "display_name": "Python 3.8.5 32-bit ('.venv')",
   "metadata": {
    "interpreter": {
     "hash": "dc527fef7d5d15cba3b114307afddd50c0d3d28f64b8b7acd3f6583844dbb6cf"
    }
   }
  }
 },
 "nbformat": 4,
 "nbformat_minor": 2,
 "cells": [
  {
   "source": [
    "# Introduction:"
   ],
   "cell_type": "markdown",
   "metadata": {}
  },
  {
   "source": [
    "## The business Business Problem:\n",
    "There are a lot of accidents in the world, most of them deadly. we want to know how these deadly accidents become so deadly.\n",
    "we will explore the data and find some insights by building a model that predicts severity's accident.\n",
    "\n",
    "This project will interest the Transportation Authority of siattle USA.\n",
    "\n",
    "The project's insights will help to reduce the amount of deadly accidents.\n"
   ],
   "cell_type": "markdown",
   "metadata": {}
  },
  {
   "source": [
    "## DATA\n",
    "the data contains all the Collisions from the years: 2004-2020 in siattle USA\n",
    "I will use the following features to predict the severity:\n",
    "location, presons' count, day/night, where happened (interchange, alley and etc).\n",
    "all these features will help me to analayze the question."
   ],
   "cell_type": "markdown",
   "metadata": {}
  },
  {
   "source": [
    "import wget\n",
    "acc_data = wget.download('https://s3.us.cloud-object-storage.appdomain.cloud/cf-courses-data/CognitiveClass/DP0701EN/version-2/Data-Collisions.csv')##downloading geospatial data"
   ],
   "cell_type": "code",
   "metadata": {},
   "execution_count": null,
   "outputs": []
  },
  {
   "source": [
    "# Cleaning the Data"
   ],
   "cell_type": "markdown",
   "metadata": {}
  },
  {
   "cell_type": "code",
   "execution_count": 102,
   "metadata": {},
   "outputs": [],
   "source": [
    "import pandas as pd\n",
    "import numpy as np"
   ]
  },
  {
   "cell_type": "code",
   "execution_count": 103,
   "metadata": {},
   "outputs": [
    {
     "output_type": "execute_result",
     "data": {
      "text/plain": "   SEVERITYCODE           X          Y  OBJECTID  INCKEY  COLDETKEY REPORTNO  \\\n0             2 -122.323148  47.703140         1    1307       1307  3502005   \n1             1 -122.347294  47.647172         2   52200      52200  2607959   \n2             1 -122.334540  47.607871         3   26700      26700  1482393   \n3             1 -122.334803  47.604803         4    1144       1144  3503937   \n4             2 -122.306426  47.545739         5   17700      17700  1807429   \n\n    STATUS      ADDRTYPE   INTKEY  ... ROADCOND                LIGHTCOND  \\\n0  Matched  Intersection  37475.0  ...      Wet                 Daylight   \n1  Matched         Block      NaN  ...      Wet  Dark - Street Lights On   \n2  Matched         Block      NaN  ...      Dry                 Daylight   \n3  Matched         Block      NaN  ...      Dry                 Daylight   \n4  Matched  Intersection  34387.0  ...      Wet                 Daylight   \n\n  PEDROWNOTGRNT  SDOTCOLNUM SPEEDING ST_COLCODE  \\\n0           NaN         NaN      NaN         10   \n1           NaN   6354039.0      NaN         11   \n2           NaN   4323031.0      NaN         32   \n3           NaN         NaN      NaN         23   \n4           NaN   4028032.0      NaN         10   \n\n                                          ST_COLDESC  SEGLANEKEY  \\\n0                                  Entering at angle           0   \n1  From same direction - both going straight - bo...           0   \n2                             One parked--one moving           0   \n3                   From same direction - all others           0   \n4                                  Entering at angle           0   \n\n   CROSSWALKKEY  HITPARKEDCAR  \n0             0             N  \n1             0             N  \n2             0             N  \n3             0             N  \n4             0             N  \n\n[5 rows x 38 columns]",
      "text/html": "<div>\n<style scoped>\n    .dataframe tbody tr th:only-of-type {\n        vertical-align: middle;\n    }\n\n    .dataframe tbody tr th {\n        vertical-align: top;\n    }\n\n    .dataframe thead th {\n        text-align: right;\n    }\n</style>\n<table border=\"1\" class=\"dataframe\">\n  <thead>\n    <tr style=\"text-align: right;\">\n      <th></th>\n      <th>SEVERITYCODE</th>\n      <th>X</th>\n      <th>Y</th>\n      <th>OBJECTID</th>\n      <th>INCKEY</th>\n      <th>COLDETKEY</th>\n      <th>REPORTNO</th>\n      <th>STATUS</th>\n      <th>ADDRTYPE</th>\n      <th>INTKEY</th>\n      <th>...</th>\n      <th>ROADCOND</th>\n      <th>LIGHTCOND</th>\n      <th>PEDROWNOTGRNT</th>\n      <th>SDOTCOLNUM</th>\n      <th>SPEEDING</th>\n      <th>ST_COLCODE</th>\n      <th>ST_COLDESC</th>\n      <th>SEGLANEKEY</th>\n      <th>CROSSWALKKEY</th>\n      <th>HITPARKEDCAR</th>\n    </tr>\n  </thead>\n  <tbody>\n    <tr>\n      <th>0</th>\n      <td>2</td>\n      <td>-122.323148</td>\n      <td>47.703140</td>\n      <td>1</td>\n      <td>1307</td>\n      <td>1307</td>\n      <td>3502005</td>\n      <td>Matched</td>\n      <td>Intersection</td>\n      <td>37475.0</td>\n      <td>...</td>\n      <td>Wet</td>\n      <td>Daylight</td>\n      <td>NaN</td>\n      <td>NaN</td>\n      <td>NaN</td>\n      <td>10</td>\n      <td>Entering at angle</td>\n      <td>0</td>\n      <td>0</td>\n      <td>N</td>\n    </tr>\n    <tr>\n      <th>1</th>\n      <td>1</td>\n      <td>-122.347294</td>\n      <td>47.647172</td>\n      <td>2</td>\n      <td>52200</td>\n      <td>52200</td>\n      <td>2607959</td>\n      <td>Matched</td>\n      <td>Block</td>\n      <td>NaN</td>\n      <td>...</td>\n      <td>Wet</td>\n      <td>Dark - Street Lights On</td>\n      <td>NaN</td>\n      <td>6354039.0</td>\n      <td>NaN</td>\n      <td>11</td>\n      <td>From same direction - both going straight - bo...</td>\n      <td>0</td>\n      <td>0</td>\n      <td>N</td>\n    </tr>\n    <tr>\n      <th>2</th>\n      <td>1</td>\n      <td>-122.334540</td>\n      <td>47.607871</td>\n      <td>3</td>\n      <td>26700</td>\n      <td>26700</td>\n      <td>1482393</td>\n      <td>Matched</td>\n      <td>Block</td>\n      <td>NaN</td>\n      <td>...</td>\n      <td>Dry</td>\n      <td>Daylight</td>\n      <td>NaN</td>\n      <td>4323031.0</td>\n      <td>NaN</td>\n      <td>32</td>\n      <td>One parked--one moving</td>\n      <td>0</td>\n      <td>0</td>\n      <td>N</td>\n    </tr>\n    <tr>\n      <th>3</th>\n      <td>1</td>\n      <td>-122.334803</td>\n      <td>47.604803</td>\n      <td>4</td>\n      <td>1144</td>\n      <td>1144</td>\n      <td>3503937</td>\n      <td>Matched</td>\n      <td>Block</td>\n      <td>NaN</td>\n      <td>...</td>\n      <td>Dry</td>\n      <td>Daylight</td>\n      <td>NaN</td>\n      <td>NaN</td>\n      <td>NaN</td>\n      <td>23</td>\n      <td>From same direction - all others</td>\n      <td>0</td>\n      <td>0</td>\n      <td>N</td>\n    </tr>\n    <tr>\n      <th>4</th>\n      <td>2</td>\n      <td>-122.306426</td>\n      <td>47.545739</td>\n      <td>5</td>\n      <td>17700</td>\n      <td>17700</td>\n      <td>1807429</td>\n      <td>Matched</td>\n      <td>Intersection</td>\n      <td>34387.0</td>\n      <td>...</td>\n      <td>Wet</td>\n      <td>Daylight</td>\n      <td>NaN</td>\n      <td>4028032.0</td>\n      <td>NaN</td>\n      <td>10</td>\n      <td>Entering at angle</td>\n      <td>0</td>\n      <td>0</td>\n      <td>N</td>\n    </tr>\n  </tbody>\n</table>\n<p>5 rows × 38 columns</p>\n</div>"
     },
     "metadata": {},
     "execution_count": 103
    }
   ],
   "source": [
    "df_coll = pd.read_csv('Data-Collisions.csv') ## read csv file into dataframe\n",
    "df_coll.head()"
   ]
  },
  {
   "cell_type": "code",
   "execution_count": 104,
   "metadata": {},
   "outputs": [],
   "source": [
    "df_coll.rename(columns={\"SEVERITYCODE\" : \"Deadly_Accident\"}, inplace = True) ## change the column name\n"
   ]
  },
  {
   "cell_type": "code",
   "execution_count": 105,
   "metadata": {},
   "outputs": [
    {
     "output_type": "execute_result",
     "data": {
      "text/plain": "   Deadly_Accident           X          Y      ADDRTYPE COLLISIONTYPE  \\\n0                2 -122.323148  47.703140  Intersection        Angles   \n1                1 -122.347294  47.647172         Block     Sideswipe   \n2                1 -122.334540  47.607871         Block    Parked Car   \n3                1 -122.334803  47.604803         Block         Other   \n4                2 -122.306426  47.545739  Intersection        Angles   \n\n   PERSONCOUNT                                       SDOT_COLDESC   WEATHER  \\\n0            2  MOTOR VEHICLE STRUCK MOTOR VEHICLE, FRONT END ...  Overcast   \n1            2  MOTOR VEHICLE STRUCK MOTOR VEHICLE, LEFT SIDE ...   Raining   \n2            4       MOTOR VEHICLE STRUCK MOTOR VEHICLE, REAR END  Overcast   \n3            3  MOTOR VEHICLE STRUCK MOTOR VEHICLE, FRONT END ...     Clear   \n4            2  MOTOR VEHICLE STRUCK MOTOR VEHICLE, FRONT END ...   Raining   \n\n  ROADCOND                LIGHTCOND SPEEDING  \\\n0      Wet                 Daylight      NaN   \n1      Wet  Dark - Street Lights On      NaN   \n2      Dry                 Daylight      NaN   \n3      Dry                 Daylight      NaN   \n4      Wet                 Daylight      NaN   \n\n                                          ST_COLDESC  \n0                                  Entering at angle  \n1  From same direction - both going straight - bo...  \n2                             One parked--one moving  \n3                   From same direction - all others  \n4                                  Entering at angle  ",
      "text/html": "<div>\n<style scoped>\n    .dataframe tbody tr th:only-of-type {\n        vertical-align: middle;\n    }\n\n    .dataframe tbody tr th {\n        vertical-align: top;\n    }\n\n    .dataframe thead th {\n        text-align: right;\n    }\n</style>\n<table border=\"1\" class=\"dataframe\">\n  <thead>\n    <tr style=\"text-align: right;\">\n      <th></th>\n      <th>Deadly_Accident</th>\n      <th>X</th>\n      <th>Y</th>\n      <th>ADDRTYPE</th>\n      <th>COLLISIONTYPE</th>\n      <th>PERSONCOUNT</th>\n      <th>SDOT_COLDESC</th>\n      <th>WEATHER</th>\n      <th>ROADCOND</th>\n      <th>LIGHTCOND</th>\n      <th>SPEEDING</th>\n      <th>ST_COLDESC</th>\n    </tr>\n  </thead>\n  <tbody>\n    <tr>\n      <th>0</th>\n      <td>2</td>\n      <td>-122.323148</td>\n      <td>47.703140</td>\n      <td>Intersection</td>\n      <td>Angles</td>\n      <td>2</td>\n      <td>MOTOR VEHICLE STRUCK MOTOR VEHICLE, FRONT END ...</td>\n      <td>Overcast</td>\n      <td>Wet</td>\n      <td>Daylight</td>\n      <td>NaN</td>\n      <td>Entering at angle</td>\n    </tr>\n    <tr>\n      <th>1</th>\n      <td>1</td>\n      <td>-122.347294</td>\n      <td>47.647172</td>\n      <td>Block</td>\n      <td>Sideswipe</td>\n      <td>2</td>\n      <td>MOTOR VEHICLE STRUCK MOTOR VEHICLE, LEFT SIDE ...</td>\n      <td>Raining</td>\n      <td>Wet</td>\n      <td>Dark - Street Lights On</td>\n      <td>NaN</td>\n      <td>From same direction - both going straight - bo...</td>\n    </tr>\n    <tr>\n      <th>2</th>\n      <td>1</td>\n      <td>-122.334540</td>\n      <td>47.607871</td>\n      <td>Block</td>\n      <td>Parked Car</td>\n      <td>4</td>\n      <td>MOTOR VEHICLE STRUCK MOTOR VEHICLE, REAR END</td>\n      <td>Overcast</td>\n      <td>Dry</td>\n      <td>Daylight</td>\n      <td>NaN</td>\n      <td>One parked--one moving</td>\n    </tr>\n    <tr>\n      <th>3</th>\n      <td>1</td>\n      <td>-122.334803</td>\n      <td>47.604803</td>\n      <td>Block</td>\n      <td>Other</td>\n      <td>3</td>\n      <td>MOTOR VEHICLE STRUCK MOTOR VEHICLE, FRONT END ...</td>\n      <td>Clear</td>\n      <td>Dry</td>\n      <td>Daylight</td>\n      <td>NaN</td>\n      <td>From same direction - all others</td>\n    </tr>\n    <tr>\n      <th>4</th>\n      <td>2</td>\n      <td>-122.306426</td>\n      <td>47.545739</td>\n      <td>Intersection</td>\n      <td>Angles</td>\n      <td>2</td>\n      <td>MOTOR VEHICLE STRUCK MOTOR VEHICLE, FRONT END ...</td>\n      <td>Raining</td>\n      <td>Wet</td>\n      <td>Daylight</td>\n      <td>NaN</td>\n      <td>Entering at angle</td>\n    </tr>\n  </tbody>\n</table>\n</div>"
     },
     "metadata": {},
     "execution_count": 105
    }
   ],
   "source": [
    "df_coll = df_coll[['Deadly_Accident','X','Y','ADDRTYPE','COLLISIONTYPE','PERSONCOUNT','SDOT_COLDESC','WEATHER','ROADCOND','LIGHTCOND','SPEEDING','ST_COLDESC']] ## cleaning the unrelevant columns\n",
    "df_coll.head()"
   ]
  },
  {
   "cell_type": "code",
   "execution_count": 106,
   "metadata": {},
   "outputs": [
    {
     "output_type": "execute_result",
     "data": {
      "text/plain": "   Deadly_Accident      X      Y  ADDRTYPE  COLLISIONTYPE  PERSONCOUNT  \\\n0            False  False  False     False          False        False   \n1            False  False  False     False          False        False   \n2            False  False  False     False          False        False   \n3            False  False  False     False          False        False   \n4            False  False  False     False          False        False   \n\n   SDOT_COLDESC  WEATHER  ROADCOND  LIGHTCOND  SPEEDING  ST_COLDESC  \n0         False    False     False      False      True       False  \n1         False    False     False      False      True       False  \n2         False    False     False      False      True       False  \n3         False    False     False      False      True       False  \n4         False    False     False      False      True       False  ",
      "text/html": "<div>\n<style scoped>\n    .dataframe tbody tr th:only-of-type {\n        vertical-align: middle;\n    }\n\n    .dataframe tbody tr th {\n        vertical-align: top;\n    }\n\n    .dataframe thead th {\n        text-align: right;\n    }\n</style>\n<table border=\"1\" class=\"dataframe\">\n  <thead>\n    <tr style=\"text-align: right;\">\n      <th></th>\n      <th>Deadly_Accident</th>\n      <th>X</th>\n      <th>Y</th>\n      <th>ADDRTYPE</th>\n      <th>COLLISIONTYPE</th>\n      <th>PERSONCOUNT</th>\n      <th>SDOT_COLDESC</th>\n      <th>WEATHER</th>\n      <th>ROADCOND</th>\n      <th>LIGHTCOND</th>\n      <th>SPEEDING</th>\n      <th>ST_COLDESC</th>\n    </tr>\n  </thead>\n  <tbody>\n    <tr>\n      <th>0</th>\n      <td>False</td>\n      <td>False</td>\n      <td>False</td>\n      <td>False</td>\n      <td>False</td>\n      <td>False</td>\n      <td>False</td>\n      <td>False</td>\n      <td>False</td>\n      <td>False</td>\n      <td>True</td>\n      <td>False</td>\n    </tr>\n    <tr>\n      <th>1</th>\n      <td>False</td>\n      <td>False</td>\n      <td>False</td>\n      <td>False</td>\n      <td>False</td>\n      <td>False</td>\n      <td>False</td>\n      <td>False</td>\n      <td>False</td>\n      <td>False</td>\n      <td>True</td>\n      <td>False</td>\n    </tr>\n    <tr>\n      <th>2</th>\n      <td>False</td>\n      <td>False</td>\n      <td>False</td>\n      <td>False</td>\n      <td>False</td>\n      <td>False</td>\n      <td>False</td>\n      <td>False</td>\n      <td>False</td>\n      <td>False</td>\n      <td>True</td>\n      <td>False</td>\n    </tr>\n    <tr>\n      <th>3</th>\n      <td>False</td>\n      <td>False</td>\n      <td>False</td>\n      <td>False</td>\n      <td>False</td>\n      <td>False</td>\n      <td>False</td>\n      <td>False</td>\n      <td>False</td>\n      <td>False</td>\n      <td>True</td>\n      <td>False</td>\n    </tr>\n    <tr>\n      <th>4</th>\n      <td>False</td>\n      <td>False</td>\n      <td>False</td>\n      <td>False</td>\n      <td>False</td>\n      <td>False</td>\n      <td>False</td>\n      <td>False</td>\n      <td>False</td>\n      <td>False</td>\n      <td>True</td>\n      <td>False</td>\n    </tr>\n  </tbody>\n</table>\n</div>"
     },
     "metadata": {},
     "execution_count": 106
    }
   ],
   "source": [
    "missing_data = df_coll.isnull()\n",
    "missing_data.head(5)"
   ]
  },
  {
   "cell_type": "code",
   "execution_count": 107,
   "metadata": {
    "tags": []
   },
   "outputs": [
    {
     "output_type": "stream",
     "name": "stdout",
     "text": "Deadly_Accident\nFalse    194673\nName: Deadly_Accident, dtype: int64\n\nX\nFalse    189339\nTrue       5334\nName: X, dtype: int64\n\nY\nFalse    189339\nTrue       5334\nName: Y, dtype: int64\n\nADDRTYPE\nFalse    192747\nTrue       1926\nName: ADDRTYPE, dtype: int64\n\nCOLLISIONTYPE\nFalse    189769\nTrue       4904\nName: COLLISIONTYPE, dtype: int64\n\nPERSONCOUNT\nFalse    194673\nName: PERSONCOUNT, dtype: int64\n\nSDOT_COLDESC\nFalse    194673\nName: SDOT_COLDESC, dtype: int64\n\nWEATHER\nFalse    189592\nTrue       5081\nName: WEATHER, dtype: int64\n\nROADCOND\nFalse    189661\nTrue       5012\nName: ROADCOND, dtype: int64\n\nLIGHTCOND\nFalse    189503\nTrue       5170\nName: LIGHTCOND, dtype: int64\n\nSPEEDING\nTrue     185340\nFalse      9333\nName: SPEEDING, dtype: int64\n\nST_COLDESC\nFalse    189769\nTrue       4904\nName: ST_COLDESC, dtype: int64\n\n"
    }
   ],
   "source": [
    "for column in missing_data.columns.values.tolist():\n",
    "    print(column)\n",
    "    print (missing_data[column].value_counts())\n",
    "    print(\"\")"
   ]
  },
  {
   "cell_type": "code",
   "execution_count": 108,
   "metadata": {},
   "outputs": [
    {
     "output_type": "execute_result",
     "data": {
      "text/plain": "0    136485\n1     58188\nName: Deadly_Accident, dtype: int64"
     },
     "metadata": {},
     "execution_count": 108
    }
   ],
   "source": [
    "df_coll[\"Deadly_Accident\"].replace(1, 0, inplace = True) ## replace 1 to 0 - \"No\"\n",
    "df_coll[\"Deadly_Accident\"].replace(2, 1, inplace = True) ## replace 2 to 1 - \"Yes\"\n",
    "df_coll[\"Deadly_Accident\"].value_counts() ## check the distribution to insure what we instered"
   ]
  },
  {
   "cell_type": "code",
   "execution_count": 109,
   "metadata": {
    "tags": []
   },
   "outputs": [
    {
     "output_type": "stream",
     "name": "stdout",
     "text": "Deadly_Accident\nFalse    189339\nName: Deadly_Accident, dtype: int64\n\nX\nFalse    189339\nName: X, dtype: int64\n\nY\nFalse    189339\nName: Y, dtype: int64\n\nADDRTYPE\nFalse    189339\nName: ADDRTYPE, dtype: int64\n\nCOLLISIONTYPE\nFalse    184582\nTrue       4757\nName: COLLISIONTYPE, dtype: int64\n\nPERSONCOUNT\nFalse    189339\nName: PERSONCOUNT, dtype: int64\n\nSDOT_COLDESC\nFalse    189339\nName: SDOT_COLDESC, dtype: int64\n\nWEATHER\nFalse    184414\nTrue       4925\nName: WEATHER, dtype: int64\n\nROADCOND\nFalse    184481\nTrue       4858\nName: ROADCOND, dtype: int64\n\nLIGHTCOND\nFalse    184327\nTrue       5012\nName: LIGHTCOND, dtype: int64\n\nSPEEDING\nTrue     180619\nFalse      8720\nName: SPEEDING, dtype: int64\n\nST_COLDESC\nFalse    184582\nTrue       4757\nName: ST_COLDESC, dtype: int64\n\n"
    }
   ],
   "source": [
    "df_coll.dropna(subset=[\"X\"], axis=0, inplace = True) ## remove all the rows that has no loctaion\n",
    "missing_data = df_coll.isnull() ## check if the rows had dropped\n",
    "for column in missing_data.columns.values.tolist(): \n",
    "    print(column)\n",
    "    print (missing_data[column].value_counts())\n",
    "    print(\"\")"
   ]
  },
  {
   "cell_type": "code",
   "execution_count": 110,
   "metadata": {
    "tags": []
   },
   "outputs": [
    {
     "output_type": "stream",
     "name": "stdout",
     "text": "Deadly_Accident\nFalse    184582\nName: Deadly_Accident, dtype: int64\n\nX\nFalse    184582\nName: X, dtype: int64\n\nY\nFalse    184582\nName: Y, dtype: int64\n\nADDRTYPE\nFalse    184582\nName: ADDRTYPE, dtype: int64\n\nCOLLISIONTYPE\nFalse    184582\nName: COLLISIONTYPE, dtype: int64\n\nPERSONCOUNT\nFalse    184582\nName: PERSONCOUNT, dtype: int64\n\nSDOT_COLDESC\nFalse    184582\nName: SDOT_COLDESC, dtype: int64\n\nWEATHER\nFalse    184393\nTrue        189\nName: WEATHER, dtype: int64\n\nROADCOND\nFalse    184460\nTrue        122\nName: ROADCOND, dtype: int64\n\nLIGHTCOND\nFalse    184306\nTrue        276\nName: LIGHTCOND, dtype: int64\n\nSPEEDING\nTrue     175863\nFalse      8719\nName: SPEEDING, dtype: int64\n\nST_COLDESC\nFalse    184582\nName: ST_COLDESC, dtype: int64\n\n"
    }
   ],
   "source": [
    "df_coll.dropna(subset=[\"COLLISIONTYPE\"], axis=0, inplace = True) ## remove all the rows that has COLLISION TYPE\n",
    "missing_data = df_coll.isnull() ## check if the rows had dropped\n",
    "for column in missing_data.columns.values.tolist(): \n",
    "    print(column)\n",
    "    print (missing_data[column].value_counts())\n",
    "    print(\"\")"
   ]
  },
  {
   "cell_type": "code",
   "execution_count": 111,
   "metadata": {},
   "outputs": [
    {
     "output_type": "execute_result",
     "data": {
      "text/plain": "Clear                       108953\nRaining                      32008\nOvercast                     27130\nUnknown                      13891\nSnowing                        894\nOther                          773\nFog/Smog/Smoke                 553\nSleet/Hail/Freezing Rain       112\nBlowing Sand/Dirt               50\nSevere Crosswind                24\nPartly Cloudy                    5\nName: WEATHER, dtype: int64"
     },
     "metadata": {},
     "execution_count": 111
    }
   ],
   "source": [
    "df_coll[\"WEATHER\"].value_counts() ## check the distribution in order to complete the empty values"
   ]
  },
  {
   "cell_type": "code",
   "execution_count": 112,
   "metadata": {},
   "outputs": [
    {
     "output_type": "execute_result",
     "data": {
      "text/plain": "Clear                       109142\nRaining                      32008\nOvercast                     27130\nUnknown                      13891\nSnowing                        894\nOther                          773\nFog/Smog/Smoke                 553\nSleet/Hail/Freezing Rain       112\nBlowing Sand/Dirt               50\nSevere Crosswind                24\nPartly Cloudy                    5\nName: WEATHER, dtype: int64"
     },
     "metadata": {},
     "execution_count": 112
    }
   ],
   "source": [
    "df_coll.replace(\"?\", np.nan, inplace = True) ## if there any \"?\" it was replaced by Nan\n",
    "df_coll[\"WEATHER\"].replace(np.nan, 'Clear', inplace = True)\n",
    "df_coll[\"WEATHER\"].value_counts() ## check the distribution to insure what we instered"
   ]
  },
  {
   "cell_type": "code",
   "execution_count": 113,
   "metadata": {},
   "outputs": [
    {
     "output_type": "execute_result",
     "data": {
      "text/plain": "Dry               122070\nWet                46054\nUnknown            13835\nIce                 1176\nSnow/Slush           989\nOther                117\nStanding Water       102\nSand/Mud/Dirt         64\nOil                   53\nName: ROADCOND, dtype: int64"
     },
     "metadata": {},
     "execution_count": 113
    }
   ],
   "source": [
    "df_coll[\"ROADCOND\"].value_counts() ## check the distribution in order to complete the empty values"
   ]
  },
  {
   "cell_type": "code",
   "execution_count": 114,
   "metadata": {},
   "outputs": [
    {
     "output_type": "execute_result",
     "data": {
      "text/plain": "Dry               122192\nWet                46054\nUnknown            13835\nIce                 1176\nSnow/Slush           989\nOther                117\nStanding Water       102\nSand/Mud/Dirt         64\nOil                   53\nName: ROADCOND, dtype: int64"
     },
     "metadata": {},
     "execution_count": 114
    }
   ],
   "source": [
    "df_coll[\"ROADCOND\"].replace(np.nan, 'Dry', inplace = True)\n",
    "df_coll[\"ROADCOND\"].value_counts() ## check the distribution to insure what we instered"
   ]
  },
  {
   "cell_type": "code",
   "execution_count": 115,
   "metadata": {},
   "outputs": [
    {
     "output_type": "execute_result",
     "data": {
      "text/plain": "Daylight                    113569\nDark - Street Lights On      47311\nUnknown                      12430\nDusk                          5774\nDawn                          2421\nDark - No Street Lights       1450\nDark - Street Lights Off      1152\nOther                          188\nDark - Unknown Lighting         11\nName: LIGHTCOND, dtype: int64"
     },
     "metadata": {},
     "execution_count": 115
    }
   ],
   "source": [
    "df_coll[\"LIGHTCOND\"].value_counts() ## check the distribution in order to complete the empty values"
   ]
  },
  {
   "cell_type": "code",
   "execution_count": 116,
   "metadata": {},
   "outputs": [
    {
     "output_type": "execute_result",
     "data": {
      "text/plain": "Daylight                    113845\nDark - Street Lights On      47311\nUnknown                      12430\nDusk                          5774\nDawn                          2421\nDark - No Street Lights       1450\nDark - Street Lights Off      1152\nOther                          188\nDark - Unknown Lighting         11\nName: LIGHTCOND, dtype: int64"
     },
     "metadata": {},
     "execution_count": 116
    }
   ],
   "source": [
    "df_coll[\"LIGHTCOND\"].replace(np.nan, 'Daylight', inplace = True)\n",
    "df_coll[\"LIGHTCOND\"].value_counts() ## check the distribution to insure what we instered"
   ]
  },
  {
   "cell_type": "code",
   "execution_count": 117,
   "metadata": {},
   "outputs": [
    {
     "output_type": "execute_result",
     "data": {
      "text/plain": "0    175863\n1      8719\nName: SPEEDING, dtype: int64"
     },
     "metadata": {},
     "execution_count": 117
    }
   ],
   "source": [
    "df_coll[\"SPEEDING\"].replace(np.nan, 0, inplace = True) ## in the df there is Y which means yes and all the other cells empty so I decided to instert 0 which means No \n",
    "df_coll[\"SPEEDING\"].replace('Y', 1, inplace = True) ## convert Y to int (1)\n",
    "df_coll[\"SPEEDING\"].value_counts() ## check the distribution to see that we instered the values"
   ]
  },
  {
   "cell_type": "code",
   "execution_count": 118,
   "metadata": {},
   "outputs": [
    {
     "output_type": "execute_result",
     "data": {
      "text/plain": "One parked--one moving                                                 42869\nEntering at angle                                                      34460\nFrom same direction - both going straight - one stopped - rear-end     25061\nFixed object                                                           12452\nFrom same direction - both going straight - both moving - sideswipe    12304\n                                                                       ...  \nVehicle Strikes All Other Non-Domestic Animal                              2\nRailway Vehicle Strikes Pedalcyclist                                       2\nNon-domestic animal (deer, bear, elk, etc)                                 1\nVehicle Strikes Deer                                                       1\nVehicle Hits State Road or Construction Machinery                          1\nName: ST_COLDESC, Length: 62, dtype: int64"
     },
     "metadata": {},
     "execution_count": 118
    }
   ],
   "source": [
    "df_coll[\"ST_COLDESC\"].value_counts() "
   ]
  },
  {
   "cell_type": "code",
   "execution_count": 119,
   "metadata": {},
   "outputs": [],
   "source": [
    "df_coll.dropna(subset=[\"ST_COLDESC\"], axis=0, inplace = True) ## remove all the rows that has empty value\n",
    "## we can't know which value to complete so I will remove the empty rows"
   ]
  },
  {
   "cell_type": "code",
   "execution_count": 120,
   "metadata": {
    "tags": []
   },
   "outputs": [
    {
     "output_type": "stream",
     "name": "stdout",
     "text": "Deadly_Accident\nFalse    184582\nName: Deadly_Accident, dtype: int64\n\nX\nFalse    184582\nName: X, dtype: int64\n\nY\nFalse    184582\nName: Y, dtype: int64\n\nADDRTYPE\nFalse    184582\nName: ADDRTYPE, dtype: int64\n\nCOLLISIONTYPE\nFalse    184582\nName: COLLISIONTYPE, dtype: int64\n\nPERSONCOUNT\nFalse    184582\nName: PERSONCOUNT, dtype: int64\n\nSDOT_COLDESC\nFalse    184582\nName: SDOT_COLDESC, dtype: int64\n\nWEATHER\nFalse    184582\nName: WEATHER, dtype: int64\n\nROADCOND\nFalse    184582\nName: ROADCOND, dtype: int64\n\nLIGHTCOND\nFalse    184582\nName: LIGHTCOND, dtype: int64\n\nSPEEDING\nFalse    184582\nName: SPEEDING, dtype: int64\n\nST_COLDESC\nFalse    184582\nName: ST_COLDESC, dtype: int64\n\n"
    }
   ],
   "source": [
    "missing_data = df_coll.isnull() ## check for the last if there is no missing value\n",
    "for column in missing_data.columns.values.tolist(): \n",
    "    print(column)\n",
    "    print (missing_data[column].value_counts())\n",
    "    print(\"\")"
   ]
  },
  {
   "source": [
    "## Correct data format"
   ],
   "cell_type": "markdown",
   "metadata": {}
  },
  {
   "cell_type": "code",
   "execution_count": 121,
   "metadata": {},
   "outputs": [
    {
     "output_type": "execute_result",
     "data": {
      "text/plain": "Deadly_Accident      int64\nX                  float64\nY                  float64\nADDRTYPE            object\nCOLLISIONTYPE       object\nPERSONCOUNT          int64\nSDOT_COLDESC        object\nWEATHER             object\nROADCOND            object\nLIGHTCOND           object\nSPEEDING             int64\nST_COLDESC          object\ndtype: object"
     },
     "metadata": {},
     "execution_count": 121
    }
   ],
   "source": [
    "df_coll.dtypes ## learning about columns types, everthing OK"
   ]
  },
  {
   "source": [
    "## Data Normalization"
   ],
   "cell_type": "markdown",
   "metadata": {}
  },
  {
   "cell_type": "code",
   "execution_count": 122,
   "metadata": {},
   "outputs": [],
   "source": [
    "df_coll['PERSONCOUNT'] = df_coll['PERSONCOUNT']/df_coll['PERSONCOUNT'].max()\n"
   ]
  },
  {
   "source": [
    "## Divide the location to bins: South, Center and North"
   ],
   "cell_type": "markdown",
   "metadata": {}
  },
  {
   "cell_type": "code",
   "execution_count": 123,
   "metadata": {},
   "outputs": [
    {
     "output_type": "execute_result",
     "data": {
      "text/plain": "0      North\n1     Center\n2     Center\n3     Center\n4      South\n5      North\n6     Center\n7     Center\n8     Center\n9      South\n11     South\n12     South\n13    Center\n14     North\n16     North\n18     South\n19    Center\n20     North\n21     North\n22    Center\nName: Area, dtype: category\nCategories (3, object): [&#39;South&#39; &lt; &#39;Center&#39; &lt; &#39;North&#39;]"
     },
     "metadata": {},
     "execution_count": 123
    }
   ],
   "source": [
    "bins = np.linspace(min(df_coll[\"Y\"]), max(df_coll[\"Y\"]), 4)\n",
    "group_names = ['South', 'Center', 'North']\n",
    "df_coll['Area'] = pd.cut(df_coll['Y'], bins, labels=group_names, include_lowest=True)\n",
    "df_coll['Area'].head(20)"
   ]
  },
  {
   "cell_type": "code",
   "execution_count": 124,
   "metadata": {},
   "outputs": [
    {
     "output_type": "execute_result",
     "data": {
      "text/plain": "Center    82401\nNorth     56502\nSouth     45679\nName: Area, dtype: int64"
     },
     "metadata": {},
     "execution_count": 124
    }
   ],
   "source": [
    "df_coll['Area'].value_counts() ## insure that the divide was useful"
   ]
  },
  {
   "source": [
    "df_coll.drop(['X','Y'] , axis = 1, inplace = True) ## we don't need lan and long so we drop them"
   ],
   "cell_type": "code",
   "metadata": {},
   "execution_count": 125,
   "outputs": []
  },
  {
   "cell_type": "code",
   "execution_count": 126,
   "metadata": {},
   "outputs": [
    {
     "output_type": "execute_result",
     "data": {
      "text/plain": "   Deadly_Accident      ADDRTYPE COLLISIONTYPE  PERSONCOUNT  \\\n0                1  Intersection        Angles     0.024691   \n1                0         Block     Sideswipe     0.024691   \n2                0         Block    Parked Car     0.049383   \n3                0         Block         Other     0.037037   \n4                1  Intersection        Angles     0.024691   \n\n                                        SDOT_COLDESC   WEATHER ROADCOND  \\\n0  MOTOR VEHICLE STRUCK MOTOR VEHICLE, FRONT END ...  Overcast      Wet   \n1  MOTOR VEHICLE STRUCK MOTOR VEHICLE, LEFT SIDE ...   Raining      Wet   \n2       MOTOR VEHICLE STRUCK MOTOR VEHICLE, REAR END  Overcast      Dry   \n3  MOTOR VEHICLE STRUCK MOTOR VEHICLE, FRONT END ...     Clear      Dry   \n4  MOTOR VEHICLE STRUCK MOTOR VEHICLE, FRONT END ...   Raining      Wet   \n\n                 LIGHTCOND  SPEEDING  \\\n0                 Daylight         0   \n1  Dark - Street Lights On         0   \n2                 Daylight         0   \n3                 Daylight         0   \n4                 Daylight         0   \n\n                                          ST_COLDESC    Area  \n0                                  Entering at angle   North  \n1  From same direction - both going straight - bo...  Center  \n2                             One parked--one moving  Center  \n3                   From same direction - all others  Center  \n4                                  Entering at angle   South  ",
      "text/html": "<div>\n<style scoped>\n    .dataframe tbody tr th:only-of-type {\n        vertical-align: middle;\n    }\n\n    .dataframe tbody tr th {\n        vertical-align: top;\n    }\n\n    .dataframe thead th {\n        text-align: right;\n    }\n</style>\n<table border=\"1\" class=\"dataframe\">\n  <thead>\n    <tr style=\"text-align: right;\">\n      <th></th>\n      <th>Deadly_Accident</th>\n      <th>ADDRTYPE</th>\n      <th>COLLISIONTYPE</th>\n      <th>PERSONCOUNT</th>\n      <th>SDOT_COLDESC</th>\n      <th>WEATHER</th>\n      <th>ROADCOND</th>\n      <th>LIGHTCOND</th>\n      <th>SPEEDING</th>\n      <th>ST_COLDESC</th>\n      <th>Area</th>\n    </tr>\n  </thead>\n  <tbody>\n    <tr>\n      <th>0</th>\n      <td>1</td>\n      <td>Intersection</td>\n      <td>Angles</td>\n      <td>0.024691</td>\n      <td>MOTOR VEHICLE STRUCK MOTOR VEHICLE, FRONT END ...</td>\n      <td>Overcast</td>\n      <td>Wet</td>\n      <td>Daylight</td>\n      <td>0</td>\n      <td>Entering at angle</td>\n      <td>North</td>\n    </tr>\n    <tr>\n      <th>1</th>\n      <td>0</td>\n      <td>Block</td>\n      <td>Sideswipe</td>\n      <td>0.024691</td>\n      <td>MOTOR VEHICLE STRUCK MOTOR VEHICLE, LEFT SIDE ...</td>\n      <td>Raining</td>\n      <td>Wet</td>\n      <td>Dark - Street Lights On</td>\n      <td>0</td>\n      <td>From same direction - both going straight - bo...</td>\n      <td>Center</td>\n    </tr>\n    <tr>\n      <th>2</th>\n      <td>0</td>\n      <td>Block</td>\n      <td>Parked Car</td>\n      <td>0.049383</td>\n      <td>MOTOR VEHICLE STRUCK MOTOR VEHICLE, REAR END</td>\n      <td>Overcast</td>\n      <td>Dry</td>\n      <td>Daylight</td>\n      <td>0</td>\n      <td>One parked--one moving</td>\n      <td>Center</td>\n    </tr>\n    <tr>\n      <th>3</th>\n      <td>0</td>\n      <td>Block</td>\n      <td>Other</td>\n      <td>0.037037</td>\n      <td>MOTOR VEHICLE STRUCK MOTOR VEHICLE, FRONT END ...</td>\n      <td>Clear</td>\n      <td>Dry</td>\n      <td>Daylight</td>\n      <td>0</td>\n      <td>From same direction - all others</td>\n      <td>Center</td>\n    </tr>\n    <tr>\n      <th>4</th>\n      <td>1</td>\n      <td>Intersection</td>\n      <td>Angles</td>\n      <td>0.024691</td>\n      <td>MOTOR VEHICLE STRUCK MOTOR VEHICLE, FRONT END ...</td>\n      <td>Raining</td>\n      <td>Wet</td>\n      <td>Daylight</td>\n      <td>0</td>\n      <td>Entering at angle</td>\n      <td>South</td>\n    </tr>\n  </tbody>\n</table>\n</div>"
     },
     "metadata": {},
     "execution_count": 126
    }
   ],
   "source": [
    "df_coll.reset_index(inplace = True, drop = True) ## arrange the new df after cleaning\n",
    "df_coll.head()"
   ]
  },
  {
   "source": [
    "\n",
    "## Indicator variable (or dummy variable)"
   ],
   "cell_type": "markdown",
   "metadata": {}
  },
  {
   "cell_type": "code",
   "execution_count": 127,
   "metadata": {
    "tags": []
   },
   "outputs": [
    {
     "output_type": "stream",
     "name": "stdout",
     "text": "Requirement already satisfied: seaborn in d:\\gitprojects\\.venv\\lib\\site-packages (0.11.0)\nRequirement already satisfied: scipy&gt;=1.0 in d:\\gitprojects\\.venv\\lib\\site-packages (from seaborn) (1.5.2)\nRequirement already satisfied: pandas&gt;=0.23 in d:\\gitprojects\\.venv\\lib\\site-packages (from seaborn) (1.1.2)\nRequirement already satisfied: numpy&gt;=1.15 in d:\\gitprojects\\.venv\\lib\\site-packages (from seaborn) (1.19.2)\nRequirement already satisfied: matplotlib&gt;=2.2 in d:\\gitprojects\\.venv\\lib\\site-packages (from seaborn) (3.3.1)\nRequirement already satisfied: python-dateutil&gt;=2.7.3 in d:\\gitprojects\\.venv\\lib\\site-packages (from pandas&gt;=0.23-&gt;seaborn) (2.8.1)\nRequirement already satisfied: pytz&gt;=2017.2 in d:\\gitprojects\\.venv\\lib\\site-packages (from pandas&gt;=0.23-&gt;seaborn) (2020.1)\nRequirement already satisfied: cycler&gt;=0.10 in d:\\gitprojects\\.venv\\lib\\site-packages (from matplotlib&gt;=2.2-&gt;seaborn) (0.10.0)\nRequirement already satisfied: pyparsing!=2.0.4,!=2.1.2,!=2.1.6,&gt;=2.0.3 in d:\\gitprojects\\.venv\\lib\\site-packages (from matplotlib&gt;=2.2-&gt;seaborn) (2.4.7)\nRequirement already satisfied: kiwisolver&gt;=1.0.1 in d:\\gitprojects\\.venv\\lib\\site-packages (from matplotlib&gt;=2.2-&gt;seaborn) (1.2.0)\nRequirement already satisfied: pillow&gt;=6.2.0 in d:\\gitprojects\\.venv\\lib\\site-packages (from matplotlib&gt;=2.2-&gt;seaborn) (7.2.0)\nRequirement already satisfied: certifi&gt;=2020.06.20 in d:\\gitprojects\\.venv\\lib\\site-packages (from matplotlib&gt;=2.2-&gt;seaborn) (2020.6.20)\nRequirement already satisfied: six&gt;=1.5 in d:\\gitprojects\\.venv\\lib\\site-packages (from python-dateutil&gt;=2.7.3-&gt;pandas&gt;=0.23-&gt;seaborn) (1.15.0)\nNote: you may need to restart the kernel to use updated packages.\nWARNING: You are using pip version 20.1.1; however, version 20.2.3 is available.\nYou should consider upgrading via the &#39;d:\\GitProjects\\.venv\\Scripts\\python.exe -m pip install --upgrade pip&#39; command.\n"
    }
   ],
   "source": [
    "%pip install seaborn"
   ]
  },
  {
   "cell_type": "code",
   "execution_count": 128,
   "metadata": {},
   "outputs": [],
   "source": [
    "import matplotlib.pyplot as plt\n",
    "import seaborn as sns\n",
    "%matplotlib inline "
   ]
  },
  {
   "cell_type": "code",
   "execution_count": 129,
   "metadata": {
    "tags": []
   },
   "outputs": [],
   "source": [
    "from scipy import stats"
   ]
  },
  {
   "cell_type": "code",
   "execution_count": 130,
   "metadata": {},
   "outputs": [
    {
     "output_type": "execute_result",
     "data": {
      "text/plain": "   Deadly_Accident      ADDRTYPE COLLISIONTYPE  PERSONCOUNT  \\\n0                1  Intersection        Angles     0.024691   \n1                0         Block     Sideswipe     0.024691   \n2                0         Block    Parked Car     0.049383   \n3                0         Block         Other     0.037037   \n4                1  Intersection        Angles     0.024691   \n\n                                        SDOT_COLDESC   WEATHER ROADCOND  \\\n0  MOTOR VEHICLE STRUCK MOTOR VEHICLE, FRONT END ...  Overcast      Wet   \n1  MOTOR VEHICLE STRUCK MOTOR VEHICLE, LEFT SIDE ...   Raining      Wet   \n2       MOTOR VEHICLE STRUCK MOTOR VEHICLE, REAR END  Overcast      Dry   \n3  MOTOR VEHICLE STRUCK MOTOR VEHICLE, FRONT END ...     Clear      Dry   \n4  MOTOR VEHICLE STRUCK MOTOR VEHICLE, FRONT END ...   Raining      Wet   \n\n                 LIGHTCOND  SPEEDING  \\\n0                 Daylight         0   \n1  Dark - Street Lights On         0   \n2                 Daylight         0   \n3                 Daylight         0   \n4                 Daylight         0   \n\n                                          ST_COLDESC    Area  \n0                                  Entering at angle   North  \n1  From same direction - both going straight - bo...  Center  \n2                             One parked--one moving  Center  \n3                   From same direction - all others  Center  \n4                                  Entering at angle   South  ",
      "text/html": "<div>\n<style scoped>\n    .dataframe tbody tr th:only-of-type {\n        vertical-align: middle;\n    }\n\n    .dataframe tbody tr th {\n        vertical-align: top;\n    }\n\n    .dataframe thead th {\n        text-align: right;\n    }\n</style>\n<table border=\"1\" class=\"dataframe\">\n  <thead>\n    <tr style=\"text-align: right;\">\n      <th></th>\n      <th>Deadly_Accident</th>\n      <th>ADDRTYPE</th>\n      <th>COLLISIONTYPE</th>\n      <th>PERSONCOUNT</th>\n      <th>SDOT_COLDESC</th>\n      <th>WEATHER</th>\n      <th>ROADCOND</th>\n      <th>LIGHTCOND</th>\n      <th>SPEEDING</th>\n      <th>ST_COLDESC</th>\n      <th>Area</th>\n    </tr>\n  </thead>\n  <tbody>\n    <tr>\n      <th>0</th>\n      <td>1</td>\n      <td>Intersection</td>\n      <td>Angles</td>\n      <td>0.024691</td>\n      <td>MOTOR VEHICLE STRUCK MOTOR VEHICLE, FRONT END ...</td>\n      <td>Overcast</td>\n      <td>Wet</td>\n      <td>Daylight</td>\n      <td>0</td>\n      <td>Entering at angle</td>\n      <td>North</td>\n    </tr>\n    <tr>\n      <th>1</th>\n      <td>0</td>\n      <td>Block</td>\n      <td>Sideswipe</td>\n      <td>0.024691</td>\n      <td>MOTOR VEHICLE STRUCK MOTOR VEHICLE, LEFT SIDE ...</td>\n      <td>Raining</td>\n      <td>Wet</td>\n      <td>Dark - Street Lights On</td>\n      <td>0</td>\n      <td>From same direction - both going straight - bo...</td>\n      <td>Center</td>\n    </tr>\n    <tr>\n      <th>2</th>\n      <td>0</td>\n      <td>Block</td>\n      <td>Parked Car</td>\n      <td>0.049383</td>\n      <td>MOTOR VEHICLE STRUCK MOTOR VEHICLE, REAR END</td>\n      <td>Overcast</td>\n      <td>Dry</td>\n      <td>Daylight</td>\n      <td>0</td>\n      <td>One parked--one moving</td>\n      <td>Center</td>\n    </tr>\n    <tr>\n      <th>3</th>\n      <td>0</td>\n      <td>Block</td>\n      <td>Other</td>\n      <td>0.037037</td>\n      <td>MOTOR VEHICLE STRUCK MOTOR VEHICLE, FRONT END ...</td>\n      <td>Clear</td>\n      <td>Dry</td>\n      <td>Daylight</td>\n      <td>0</td>\n      <td>From same direction - all others</td>\n      <td>Center</td>\n    </tr>\n    <tr>\n      <th>4</th>\n      <td>1</td>\n      <td>Intersection</td>\n      <td>Angles</td>\n      <td>0.024691</td>\n      <td>MOTOR VEHICLE STRUCK MOTOR VEHICLE, FRONT END ...</td>\n      <td>Raining</td>\n      <td>Wet</td>\n      <td>Daylight</td>\n      <td>0</td>\n      <td>Entering at angle</td>\n      <td>South</td>\n    </tr>\n  </tbody>\n</table>\n</div>"
     },
     "metadata": {},
     "execution_count": 130
    }
   ],
   "source": [
    "df_coll.head()"
   ]
  },
  {
   "source": [
    "# correlation\n",
    " I will use ANOVA methodology to analyze the categorical features' correlation"
   ],
   "cell_type": "markdown",
   "metadata": {}
  },
  {
   "cell_type": "code",
   "execution_count": 131,
   "metadata": {},
   "outputs": [
    {
     "output_type": "execute_result",
     "data": {
      "text/plain": "        Deadly_Accident                                         ST_COLDESC\n0                     1                                  Entering at angle\n1                     0  From same direction - both going straight - bo...\n2                     0                             One parked--one moving\n3                     0                   From same direction - all others\n4                     1                                  Entering at angle\n...                 ...                                                ...\n175034                0  Strikes or Was Struck by Object from the Load ...\n175370                0  Strikes or Was Struck by a Part of Another Veh...\n176672                0                            All Other Multi Vehicle\n177320                0  Strikes or Was Struck by a Part of Another Veh...\n179669                0                            All Other Multi Vehicle\n\n[291 rows x 2 columns]",
      "text/html": "<div>\n<style scoped>\n    .dataframe tbody tr th:only-of-type {\n        vertical-align: middle;\n    }\n\n    .dataframe tbody tr th {\n        vertical-align: top;\n    }\n\n    .dataframe thead th {\n        text-align: right;\n    }\n</style>\n<table border=\"1\" class=\"dataframe\">\n  <thead>\n    <tr style=\"text-align: right;\">\n      <th></th>\n      <th>Deadly_Accident</th>\n      <th>ST_COLDESC</th>\n    </tr>\n  </thead>\n  <tbody>\n    <tr>\n      <th>0</th>\n      <td>1</td>\n      <td>Entering at angle</td>\n    </tr>\n    <tr>\n      <th>1</th>\n      <td>0</td>\n      <td>From same direction - both going straight - bo...</td>\n    </tr>\n    <tr>\n      <th>2</th>\n      <td>0</td>\n      <td>One parked--one moving</td>\n    </tr>\n    <tr>\n      <th>3</th>\n      <td>0</td>\n      <td>From same direction - all others</td>\n    </tr>\n    <tr>\n      <th>4</th>\n      <td>1</td>\n      <td>Entering at angle</td>\n    </tr>\n    <tr>\n      <th>...</th>\n      <td>...</td>\n      <td>...</td>\n    </tr>\n    <tr>\n      <th>175034</th>\n      <td>0</td>\n      <td>Strikes or Was Struck by Object from the Load ...</td>\n    </tr>\n    <tr>\n      <th>175370</th>\n      <td>0</td>\n      <td>Strikes or Was Struck by a Part of Another Veh...</td>\n    </tr>\n    <tr>\n      <th>176672</th>\n      <td>0</td>\n      <td>All Other Multi Vehicle</td>\n    </tr>\n    <tr>\n      <th>177320</th>\n      <td>0</td>\n      <td>Strikes or Was Struck by a Part of Another Veh...</td>\n    </tr>\n    <tr>\n      <th>179669</th>\n      <td>0</td>\n      <td>All Other Multi Vehicle</td>\n    </tr>\n  </tbody>\n</table>\n<p>291 rows × 2 columns</p>\n</div>"
     },
     "metadata": {},
     "execution_count": 131
    }
   ],
   "source": [
    "## ST_COLDESC column correlation \n",
    "grouped_test_ST_COLDESC = df_coll[['Deadly_Accident', 'ST_COLDESC']]\n",
    "grouped_test2 = grouped_test_ST_COLDESC.groupby(['ST_COLDESC'])\n",
    "grouped_test2.head()"
   ]
  },
  {
   "cell_type": "code",
   "execution_count": 132,
   "metadata": {},
   "outputs": [
    {
     "output_type": "execute_result",
     "data": {
      "text/plain": "[&#39;Entering at angle&#39;,\n &#39;From same direction - both going straight - both moving - sideswipe&#39;,\n &#39;One parked--one moving&#39;,\n &#39;From same direction - all others&#39;,\n &#39;Vehicle Strikes Pedalcyclist&#39;,\n &#39;From same direction - both going straight - one stopped - rear-end&#39;,\n &#39;From opposite direction - all others&#39;,\n &#39;From opposite direction - one left turn - one straight&#39;,\n &#39;Other object&#39;,\n &#39;From same direction - both going straight - both moving - rear-end&#39;,\n &#39;Fixed object&#39;,\n &#39;One car leaving driveway access&#39;,\n &#39;From same direction - both going straight - one stopped - sideswipe&#39;,\n &#39;Vehicle - Pedalcyclist&#39;,\n &#39;Vehicle going straight hits pedestrian&#39;,\n &#39;One car leaving parked position&#39;,\n &#39;One car entering driveway access&#39;,\n &#39;Vehicle turning right hits pedestrian&#39;,\n &#39;Vehicle overturned&#39;,\n &#39;From same direction - one right turn - one straight&#39;,\n &#39;From same direction - one left turn - one straight&#39;,\n &#39;Same direction -- both turning right -- one stopped -- rear end&#39;,\n &#39;Same direction -- both turning left -- both moving -- sideswipe&#39;,\n &#39;From opposite direction - both going straight - sideswipe&#39;,\n &#39;One car entering parked position&#39;,\n &#39;Vehicle turning left hits pedestrian&#39;,\n &#39;Vehicle Hits Other Road or Construction Machinery&#39;,\n &#39;Same direction -- both turning right -- both moving -- sideswipe&#39;,\n &#39;Vehicle backing hits pedestrian&#39;,\n &#39;From opposite direction - both moving - head-on&#39;,\n &#39;Railway Vehicle Strikes Vehicle&#39;,\n &#39;All other non-collision&#39;,\n &#39;Pedalcyclist Strikes Moving Vehicle&#39;,\n &#39;Same direction -- both turning left -- both moving -- rear end&#39;,\n &#39;From opposite direction - one stopped - head-on&#39;,\n &#39;From opposite direction - both going straight - one stopped - sideswipe&#39;,\n &#39;Vehicle hits Pedestrian - All Other Actions&#39;,\n &#39;Same direction -- both turning right -- one stopped -- sideswipe&#39;,\n &#39;From opposite direction - one left turn - one right turn&#39;,\n &#39;Breakage of any part of the vehicle resulting in injury or in further property damage&#39;,\n &#39;Same direction -- both turning right -- both moving -- rear end&#39;,\n &#39;Vehicle Strikes Railway Vehicle&#39;,\n &#39;Strikes or Was Struck by Object from the Load of Another Vehicle&#39;,\n &#39;Vehicle Struck by City Road or Construction Machinery&#39;,\n &#39;Same direction -- both turning left -- one stopped -- sideswipe&#39;,\n &#39;Vehicle Struck by Other Road or Construction Machinery&#39;,\n &#39;Non-domestic animal (deer, bear, elk, etc)&#39;,\n &#39;Same direction -- both turning left -- one stopped -- rear end&#39;,\n &#39;Not stated&#39;,\n &#39;Railway Vehicle Strikes Pedalcyclist&#39;,\n &#39;Railway Vehicle Strikes Pedestrian&#39;,\n &#39;Vehicle Hits City Road or Construction Machinery&#39;,\n &#39;Domestic animal other (cat, dog, etc)&#39;,\n &#39;Person fell, jumped or was pushed from vehicle&#39;,\n &#39;Fire started in vehicle&#39;,\n &#39;Vehicle Hits State Road or Construction Machinery&#39;,\n &#39;Vehicle Strikes All Other Non-Domestic Animal&#39;,\n &#39;Pedalcyclist Strikes Pedalcyclist or Pedestrian&#39;,\n &#39;Pedalcyclist All Other Involvements ONE UNIT - PEDALCYCLIST ONLY or PEDALCYCLIST STR&#39;,\n &#39;Vehicle Strikes Deer&#39;,\n &#39;All Other Multi Vehicle&#39;,\n &#39;Strikes or Was Struck by a Part of Another Vehicle (Not from Load)&#39;]"
     },
     "metadata": {},
     "execution_count": 132
    }
   ],
   "source": [
    "col_list = grouped_test_ST_COLDESC.ST_COLDESC.unique().tolist() ## get all the unique values into list\n",
    "col_list"
   ]
  },
  {
   "source": [
    "## ANOVA methology - As F-score is larger and P-value is smaller the correlation is stronger.\n",
    "f_oneway - function that calculate the F-score and P-value"
   ],
   "cell_type": "markdown",
   "metadata": {}
  },
  {
   "cell_type": "code",
   "execution_count": 133,
   "metadata": {
    "tags": []
   },
   "outputs": [
    {
     "output_type": "stream",
     "name": "stdout",
     "text": "grouped_test2.get_group(&#39;Entering at angle&#39;)[&#39;Deadly_Accident&#39;],grouped_test2.get_group(&#39;From same direction - both going straight - both moving - sideswipe&#39;)[&#39;Deadly_Accident&#39;],grouped_test2.get_group(&#39;One parked--one moving&#39;)[&#39;Deadly_Accident&#39;],grouped_test2.get_group(&#39;From same direction - all others&#39;)[&#39;Deadly_Accident&#39;],grouped_test2.get_group(&#39;Vehicle Strikes Pedalcyclist&#39;)[&#39;Deadly_Accident&#39;],grouped_test2.get_group(&#39;From same direction - both going straight - one stopped - rear-end&#39;)[&#39;Deadly_Accident&#39;],grouped_test2.get_group(&#39;From opposite direction - all others&#39;)[&#39;Deadly_Accident&#39;],grouped_test2.get_group(&#39;From opposite direction - one left turn - one straight&#39;)[&#39;Deadly_Accident&#39;],grouped_test2.get_group(&#39;Other object&#39;)[&#39;Deadly_Accident&#39;],grouped_test2.get_group(&#39;From same direction - both going straight - both moving - rear-end&#39;)[&#39;Deadly_Accident&#39;],grouped_test2.get_group(&#39;Fixed object&#39;)[&#39;Deadly_Accident&#39;],grouped_test2.get_group(&#39;One car leaving driveway access&#39;)[&#39;Deadly_Accident&#39;],grouped_test2.get_group(&#39;From same direction - both going straight - one stopped - sideswipe&#39;)[&#39;Deadly_Accident&#39;],grouped_test2.get_group(&#39;Vehicle - Pedalcyclist&#39;)[&#39;Deadly_Accident&#39;],grouped_test2.get_group(&#39;Vehicle going straight hits pedestrian&#39;)[&#39;Deadly_Accident&#39;],grouped_test2.get_group(&#39;One car leaving parked position&#39;)[&#39;Deadly_Accident&#39;],grouped_test2.get_group(&#39;One car entering driveway access&#39;)[&#39;Deadly_Accident&#39;],grouped_test2.get_group(&#39;Vehicle turning right hits pedestrian&#39;)[&#39;Deadly_Accident&#39;],grouped_test2.get_group(&#39;Vehicle overturned&#39;)[&#39;Deadly_Accident&#39;],grouped_test2.get_group(&#39;From same direction - one right turn - one straight&#39;)[&#39;Deadly_Accident&#39;],grouped_test2.get_group(&#39;From same direction - one left turn - one straight&#39;)[&#39;Deadly_Accident&#39;],grouped_test2.get_group(&#39;Same direction -- both turning right -- one stopped -- rear end&#39;)[&#39;Deadly_Accident&#39;],grouped_test2.get_group(&#39;Same direction -- both turning left -- both moving -- sideswipe&#39;)[&#39;Deadly_Accident&#39;],grouped_test2.get_group(&#39;From opposite direction - both going straight - sideswipe&#39;)[&#39;Deadly_Accident&#39;],grouped_test2.get_group(&#39;One car entering parked position&#39;)[&#39;Deadly_Accident&#39;],grouped_test2.get_group(&#39;Vehicle turning left hits pedestrian&#39;)[&#39;Deadly_Accident&#39;],grouped_test2.get_group(&#39;Vehicle Hits Other Road or Construction Machinery&#39;)[&#39;Deadly_Accident&#39;],grouped_test2.get_group(&#39;Same direction -- both turning right -- both moving -- sideswipe&#39;)[&#39;Deadly_Accident&#39;],grouped_test2.get_group(&#39;Vehicle backing hits pedestrian&#39;)[&#39;Deadly_Accident&#39;],grouped_test2.get_group(&#39;From opposite direction - both moving - head-on&#39;)[&#39;Deadly_Accident&#39;],grouped_test2.get_group(&#39;Railway Vehicle Strikes Vehicle&#39;)[&#39;Deadly_Accident&#39;],grouped_test2.get_group(&#39;All other non-collision&#39;)[&#39;Deadly_Accident&#39;],grouped_test2.get_group(&#39;Pedalcyclist Strikes Moving Vehicle&#39;)[&#39;Deadly_Accident&#39;],grouped_test2.get_group(&#39;Same direction -- both turning left -- both moving -- rear end&#39;)[&#39;Deadly_Accident&#39;],grouped_test2.get_group(&#39;From opposite direction - one stopped - head-on&#39;)[&#39;Deadly_Accident&#39;],grouped_test2.get_group(&#39;From opposite direction - both going straight - one stopped - sideswipe&#39;)[&#39;Deadly_Accident&#39;],grouped_test2.get_group(&#39;Vehicle hits Pedestrian - All Other Actions&#39;)[&#39;Deadly_Accident&#39;],grouped_test2.get_group(&#39;Same direction -- both turning right -- one stopped -- sideswipe&#39;)[&#39;Deadly_Accident&#39;],grouped_test2.get_group(&#39;From opposite direction - one left turn - one right turn&#39;)[&#39;Deadly_Accident&#39;],grouped_test2.get_group(&#39;Breakage of any part of the vehicle resulting in injury or in further property damage&#39;)[&#39;Deadly_Accident&#39;],grouped_test2.get_group(&#39;Same direction -- both turning right -- both moving -- rear end&#39;)[&#39;Deadly_Accident&#39;],grouped_test2.get_group(&#39;Vehicle Strikes Railway Vehicle&#39;)[&#39;Deadly_Accident&#39;],grouped_test2.get_group(&#39;Strikes or Was Struck by Object from the Load of Another Vehicle&#39;)[&#39;Deadly_Accident&#39;],grouped_test2.get_group(&#39;Vehicle Struck by City Road or Construction Machinery&#39;)[&#39;Deadly_Accident&#39;],grouped_test2.get_group(&#39;Same direction -- both turning left -- one stopped -- sideswipe&#39;)[&#39;Deadly_Accident&#39;],grouped_test2.get_group(&#39;Vehicle Struck by Other Road or Construction Machinery&#39;)[&#39;Deadly_Accident&#39;],grouped_test2.get_group(&#39;Non-domestic animal (deer, bear, elk, etc)&#39;)[&#39;Deadly_Accident&#39;],grouped_test2.get_group(&#39;Same direction -- both turning left -- one stopped -- rear end&#39;)[&#39;Deadly_Accident&#39;],grouped_test2.get_group(&#39;Not stated&#39;)[&#39;Deadly_Accident&#39;],grouped_test2.get_group(&#39;Railway Vehicle Strikes Pedalcyclist&#39;)[&#39;Deadly_Accident&#39;],grouped_test2.get_group(&#39;Railway Vehicle Strikes Pedestrian&#39;)[&#39;Deadly_Accident&#39;],grouped_test2.get_group(&#39;Vehicle Hits City Road or Construction Machinery&#39;)[&#39;Deadly_Accident&#39;],grouped_test2.get_group(&#39;Domestic animal other (cat, dog, etc)&#39;)[&#39;Deadly_Accident&#39;],grouped_test2.get_group(&#39;Person fell, jumped or was pushed from vehicle&#39;)[&#39;Deadly_Accident&#39;],grouped_test2.get_group(&#39;Fire started in vehicle&#39;)[&#39;Deadly_Accident&#39;],grouped_test2.get_group(&#39;Vehicle Hits State Road or Construction Machinery&#39;)[&#39;Deadly_Accident&#39;],grouped_test2.get_group(&#39;Vehicle Strikes All Other Non-Domestic Animal&#39;)[&#39;Deadly_Accident&#39;],grouped_test2.get_group(&#39;Pedalcyclist Strikes Pedalcyclist or Pedestrian&#39;)[&#39;Deadly_Accident&#39;],grouped_test2.get_group(&#39;Pedalcyclist All Other Involvements ONE UNIT - PEDALCYCLIST ONLY or PEDALCYCLIST STR&#39;)[&#39;Deadly_Accident&#39;],grouped_test2.get_group(&#39;Vehicle Strikes Deer&#39;)[&#39;Deadly_Accident&#39;],grouped_test2.get_group(&#39;All Other Multi Vehicle&#39;)[&#39;Deadly_Accident&#39;],grouped_test2.get_group(&#39;Strikes or Was Struck by a Part of Another Vehicle (Not from Load)&#39;)[&#39;Deadly_Accident&#39;],\n"
    }
   ],
   "source": [
    "## I wrote a script that print a long string that I will use to calculate all the ST_COLDESC values\n",
    "b = \"\"\n",
    "for i in col_list:\n",
    "    a = \"grouped_test2.get_group('\" + i + \"')['Deadly_Accident'],\"\n",
    "    b = b + a\n",
    "    \n",
    "print(b)"
   ]
  },
  {
   "cell_type": "code",
   "execution_count": 134,
   "metadata": {
    "tags": []
   },
   "outputs": [
    {
     "output_type": "stream",
     "name": "stdout",
     "text": "ANOVA results: F= 896.271278026926 , P = 0.0\n"
    }
   ],
   "source": [
    "f_val, p_val = stats.f_oneway(grouped_test2.get_group('Entering at angle')['Deadly_Accident'],grouped_test2.get_group('From same direction - both going straight - both moving - sideswipe')['Deadly_Accident'],grouped_test2.get_group('One parked--one moving')['Deadly_Accident'],grouped_test2.get_group('From same direction - all others')['Deadly_Accident'],grouped_test2.get_group('Vehicle Strikes Pedalcyclist')['Deadly_Accident'],grouped_test2.get_group('From same direction - both going straight - one stopped - rear-end')['Deadly_Accident'],grouped_test2.get_group('From opposite direction - all others')['Deadly_Accident'],grouped_test2.get_group('From opposite direction - one left turn - one straight')['Deadly_Accident'],grouped_test2.get_group('Other object')['Deadly_Accident'],grouped_test2.get_group('From same direction - both going straight - both moving - rear-end')['Deadly_Accident'],grouped_test2.get_group('Fixed object')['Deadly_Accident'],grouped_test2.get_group('One car leaving driveway access')['Deadly_Accident'],grouped_test2.get_group('From same direction - both going straight - one stopped - sideswipe')['Deadly_Accident'],grouped_test2.get_group('Vehicle - Pedalcyclist')['Deadly_Accident'],grouped_test2.get_group('Vehicle going straight hits pedestrian')['Deadly_Accident'],grouped_test2.get_group('One car leaving parked position')['Deadly_Accident'],grouped_test2.get_group('One car entering driveway access')['Deadly_Accident'],grouped_test2.get_group('Vehicle turning right hits pedestrian')['Deadly_Accident'],grouped_test2.get_group('Vehicle overturned')['Deadly_Accident'],grouped_test2.get_group('From same direction - one right turn - one straight')['Deadly_Accident'],grouped_test2.get_group('From same direction - one left turn - one straight')['Deadly_Accident'],grouped_test2.get_group('Same direction -- both turning right -- one stopped -- rear end')['Deadly_Accident'],grouped_test2.get_group('Same direction -- both turning left -- both moving -- sideswipe')['Deadly_Accident'],grouped_test2.get_group('From opposite direction - both going straight - sideswipe')['Deadly_Accident'],grouped_test2.get_group('One car entering parked position')['Deadly_Accident'],grouped_test2.get_group('Vehicle turning left hits pedestrian')['Deadly_Accident'],grouped_test2.get_group('Vehicle Hits Other Road or Construction Machinery')['Deadly_Accident'],grouped_test2.get_group('Same direction -- both turning right -- both moving -- sideswipe')['Deadly_Accident'],grouped_test2.get_group('Vehicle backing hits pedestrian')['Deadly_Accident'],grouped_test2.get_group('From opposite direction - both moving - head-on')['Deadly_Accident'],grouped_test2.get_group('Railway Vehicle Strikes Vehicle')['Deadly_Accident'],grouped_test2.get_group('All other non-collision')['Deadly_Accident'],grouped_test2.get_group('Pedalcyclist Strikes Moving Vehicle')['Deadly_Accident'],grouped_test2.get_group('Same direction -- both turning left -- both moving -- rear end')['Deadly_Accident'],grouped_test2.get_group('From opposite direction - one stopped - head-on')['Deadly_Accident'],grouped_test2.get_group('From opposite direction - both going straight - one stopped - sideswipe')['Deadly_Accident'],grouped_test2.get_group('Vehicle hits Pedestrian - All Other Actions')['Deadly_Accident'],grouped_test2.get_group('Same direction -- both turning right -- one stopped -- sideswipe')['Deadly_Accident'],grouped_test2.get_group('From opposite direction - one left turn - one right turn')['Deadly_Accident'],grouped_test2.get_group('Breakage of any part of the vehicle resulting in injury or in further property damage')['Deadly_Accident'],grouped_test2.get_group('Same direction -- both turning right -- both moving -- rear end')['Deadly_Accident'],grouped_test2.get_group('Vehicle Strikes Railway Vehicle')['Deadly_Accident'],grouped_test2.get_group('Strikes or Was Struck by Object from the Load of Another Vehicle')['Deadly_Accident'],grouped_test2.get_group('Vehicle Struck by City Road or Construction Machinery')['Deadly_Accident'],grouped_test2.get_group('Same direction -- both turning left -- one stopped -- sideswipe')['Deadly_Accident'],grouped_test2.get_group('Vehicle Struck by Other Road or Construction Machinery')['Deadly_Accident'],grouped_test2.get_group('Non-domestic animal (deer, bear, elk, etc)')['Deadly_Accident'],grouped_test2.get_group('Same direction -- both turning left -- one stopped -- rear end')['Deadly_Accident'],grouped_test2.get_group('Not stated')['Deadly_Accident'],grouped_test2.get_group('Railway Vehicle Strikes Pedalcyclist')['Deadly_Accident'],grouped_test2.get_group('Railway Vehicle Strikes Pedestrian')['Deadly_Accident'],grouped_test2.get_group('Vehicle Hits City Road or Construction Machinery')['Deadly_Accident'],grouped_test2.get_group('Domestic animal other (cat, dog, etc)')['Deadly_Accident'],grouped_test2.get_group('Person fell, jumped or was pushed from vehicle')['Deadly_Accident'],grouped_test2.get_group('Fire started in vehicle')['Deadly_Accident'],grouped_test2.get_group('Vehicle Hits State Road or Construction Machinery')['Deadly_Accident'],grouped_test2.get_group('Vehicle Strikes All Other Non-Domestic Animal')['Deadly_Accident'],grouped_test2.get_group('Pedalcyclist Strikes Pedalcyclist or Pedestrian')['Deadly_Accident'],grouped_test2.get_group('Pedalcyclist All Other Involvements ONE UNIT - PEDALCYCLIST ONLY or PEDALCYCLIST STR')['Deadly_Accident'],grouped_test2.get_group('Vehicle Strikes Deer')['Deadly_Accident'],grouped_test2.get_group('All Other Multi Vehicle')['Deadly_Accident'],grouped_test2.get_group('Strikes or Was Struck by a Part of Another Vehicle (Not from Load)')['Deadly_Accident'])\n",
    "\n",
    "print( \"ANOVA results: F=\", f_val, \", P =\", p_val)"
   ]
  },
  {
   "source": [
    "F-score large P-value small means strong corr"
   ],
   "cell_type": "markdown",
   "metadata": {}
  },
  {
   "cell_type": "code",
   "execution_count": 135,
   "metadata": {
    "tags": []
   },
   "outputs": [
    {
     "output_type": "execute_result",
     "data": {
      "text/plain": "    Deadly_Accident    Area\n0                 1   North\n1                 0  Center\n2                 0  Center\n3                 0  Center\n4                 1   South\n5                 0   North\n6                 0  Center\n7                 1  Center\n9                 1   South\n10                0   South\n11                0   South\n13                1   North\n14                1   North\n15                1   South\n17                1   North",
      "text/html": "<div>\n<style scoped>\n    .dataframe tbody tr th:only-of-type {\n        vertical-align: middle;\n    }\n\n    .dataframe tbody tr th {\n        vertical-align: top;\n    }\n\n    .dataframe thead th {\n        text-align: right;\n    }\n</style>\n<table border=\"1\" class=\"dataframe\">\n  <thead>\n    <tr style=\"text-align: right;\">\n      <th></th>\n      <th>Deadly_Accident</th>\n      <th>Area</th>\n    </tr>\n  </thead>\n  <tbody>\n    <tr>\n      <th>0</th>\n      <td>1</td>\n      <td>North</td>\n    </tr>\n    <tr>\n      <th>1</th>\n      <td>0</td>\n      <td>Center</td>\n    </tr>\n    <tr>\n      <th>2</th>\n      <td>0</td>\n      <td>Center</td>\n    </tr>\n    <tr>\n      <th>3</th>\n      <td>0</td>\n      <td>Center</td>\n    </tr>\n    <tr>\n      <th>4</th>\n      <td>1</td>\n      <td>South</td>\n    </tr>\n    <tr>\n      <th>5</th>\n      <td>0</td>\n      <td>North</td>\n    </tr>\n    <tr>\n      <th>6</th>\n      <td>0</td>\n      <td>Center</td>\n    </tr>\n    <tr>\n      <th>7</th>\n      <td>1</td>\n      <td>Center</td>\n    </tr>\n    <tr>\n      <th>9</th>\n      <td>1</td>\n      <td>South</td>\n    </tr>\n    <tr>\n      <th>10</th>\n      <td>0</td>\n      <td>South</td>\n    </tr>\n    <tr>\n      <th>11</th>\n      <td>0</td>\n      <td>South</td>\n    </tr>\n    <tr>\n      <th>13</th>\n      <td>1</td>\n      <td>North</td>\n    </tr>\n    <tr>\n      <th>14</th>\n      <td>1</td>\n      <td>North</td>\n    </tr>\n    <tr>\n      <th>15</th>\n      <td>1</td>\n      <td>South</td>\n    </tr>\n    <tr>\n      <th>17</th>\n      <td>1</td>\n      <td>North</td>\n    </tr>\n  </tbody>\n</table>\n</div>"
     },
     "metadata": {},
     "execution_count": 135
    }
   ],
   "source": [
    "grouped_test_Area = df_coll[['Deadly_Accident', 'Area']]\n",
    "grouped_test = grouped_test_Area[['Deadly_Accident', 'Area']].groupby(['Area'])\n",
    "grouped_test.head()"
   ]
  },
  {
   "cell_type": "code",
   "execution_count": 136,
   "metadata": {
    "tags": []
   },
   "outputs": [
    {
     "output_type": "stream",
     "name": "stdout",
     "text": "ANOVA results: F= 99.3879789417427 , P = 7.237262154136091e-44\n"
    }
   ],
   "source": [
    "\n",
    "f_val, p_val = stats.f_oneway(grouped_test.get_group('North')['Deadly_Accident'], grouped_test.get_group('Center')['Deadly_Accident'], grouped_test.get_group('South')['Deadly_Accident'])\n",
    "print( \"ANOVA results: F=\", f_val, \", P =\", p_val)"
   ]
  },
  {
   "source": [
    "F-score large P-value small means strong corr"
   ],
   "cell_type": "markdown",
   "metadata": {}
  },
  {
   "cell_type": "code",
   "execution_count": 137,
   "metadata": {},
   "outputs": [],
   "source": [
    "## LIGHTCOND column correlation \n",
    "grouped_test_LIGHTCOND = df_coll[['Deadly_Accident', 'LIGHTCOND']]\n",
    "grouped_test3 = grouped_test_LIGHTCOND.groupby(['LIGHTCOND'])\n",
    "col_list_light = grouped_test_LIGHTCOND.LIGHTCOND.unique().tolist() ## get all the unique values into list"
   ]
  },
  {
   "cell_type": "code",
   "execution_count": 138,
   "metadata": {
    "tags": []
   },
   "outputs": [
    {
     "output_type": "stream",
     "name": "stdout",
     "text": "grouped_test3.get_group(&#39;Daylight&#39;)[&#39;Deadly_Accident&#39;],grouped_test3.get_group(&#39;Dark - Street Lights On&#39;)[&#39;Deadly_Accident&#39;],grouped_test3.get_group(&#39;Dark - No Street Lights&#39;)[&#39;Deadly_Accident&#39;],grouped_test3.get_group(&#39;Unknown&#39;)[&#39;Deadly_Accident&#39;],grouped_test3.get_group(&#39;Dusk&#39;)[&#39;Deadly_Accident&#39;],grouped_test3.get_group(&#39;Dawn&#39;)[&#39;Deadly_Accident&#39;],grouped_test3.get_group(&#39;Dark - Street Lights Off&#39;)[&#39;Deadly_Accident&#39;],grouped_test3.get_group(&#39;Other&#39;)[&#39;Deadly_Accident&#39;],grouped_test3.get_group(&#39;Dark - Unknown Lighting&#39;)[&#39;Deadly_Accident&#39;],\n"
    }
   ],
   "source": [
    "b = \"\"\n",
    "for i in col_list_light:\n",
    "    a = \"grouped_test3.get_group('\" + i + \"')['Deadly_Accident'],\"\n",
    "    b = b + a\n",
    "    \n",
    "print(b)"
   ]
  },
  {
   "cell_type": "code",
   "execution_count": 139,
   "metadata": {
    "tags": []
   },
   "outputs": [
    {
     "output_type": "stream",
     "name": "stdout",
     "text": "ANOVA results: F= 569.5701095310094 , P = 0.0\n"
    }
   ],
   "source": [
    "f_val, p_val = stats.f_oneway(grouped_test3.get_group('Daylight')['Deadly_Accident'],grouped_test3.get_group('Dark - Street Lights On')['Deadly_Accident'],grouped_test3.get_group('Dark - No Street Lights')['Deadly_Accident'],grouped_test3.get_group('Unknown')['Deadly_Accident'],grouped_test3.get_group('Dusk')['Deadly_Accident'],grouped_test3.get_group('Dawn')['Deadly_Accident'],grouped_test3.get_group('Dark - Street Lights Off')['Deadly_Accident'],grouped_test3.get_group('Other')['Deadly_Accident'],grouped_test3.get_group('Dark - Unknown Lighting')['Deadly_Accident'])\n",
    "\n",
    "print( \"ANOVA results: F=\", f_val, \", P =\", p_val)"
   ]
  },
  {
   "source": [
    "F-score large P-value small means strong corr"
   ],
   "cell_type": "markdown",
   "metadata": {}
  },
  {
   "cell_type": "code",
   "execution_count": 140,
   "metadata": {},
   "outputs": [],
   "source": [
    "grouped_test_ROADCOND = df_coll[['Deadly_Accident', 'ROADCOND']]\n",
    "grouped_test4 = grouped_test_ROADCOND[['Deadly_Accident', 'ROADCOND']].groupby(['ROADCOND'])\n",
    "col_list_road = grouped_test_ROADCOND.ROADCOND.unique().tolist()"
   ]
  },
  {
   "cell_type": "code",
   "execution_count": 141,
   "metadata": {
    "tags": []
   },
   "outputs": [
    {
     "output_type": "stream",
     "name": "stdout",
     "text": "grouped_test4.get_group(&#39;Wet&#39;)[&#39;Deadly_Accident&#39;],grouped_test4.get_group(&#39;Dry&#39;)[&#39;Deadly_Accident&#39;],grouped_test4.get_group(&#39;Unknown&#39;)[&#39;Deadly_Accident&#39;],grouped_test4.get_group(&#39;Snow/Slush&#39;)[&#39;Deadly_Accident&#39;],grouped_test4.get_group(&#39;Ice&#39;)[&#39;Deadly_Accident&#39;],grouped_test4.get_group(&#39;Other&#39;)[&#39;Deadly_Accident&#39;],grouped_test4.get_group(&#39;Sand/Mud/Dirt&#39;)[&#39;Deadly_Accident&#39;],grouped_test4.get_group(&#39;Standing Water&#39;)[&#39;Deadly_Accident&#39;],grouped_test4.get_group(&#39;Oil&#39;)[&#39;Deadly_Accident&#39;],\n"
    }
   ],
   "source": [
    "b = \"\"\n",
    "for i in col_list_road:\n",
    "    a = \"grouped_test4.get_group('\" + i + \"')['Deadly_Accident'],\"\n",
    "    b = b + a\n",
    "    \n",
    "print(b)"
   ]
  },
  {
   "cell_type": "code",
   "execution_count": 142,
   "metadata": {
    "tags": []
   },
   "outputs": [
    {
     "output_type": "stream",
     "name": "stdout",
     "text": "ANOVA results: F= 602.3289481872912 , P = 0.0\n"
    }
   ],
   "source": [
    "f_val, p_val = stats.f_oneway(grouped_test4.get_group('Wet')['Deadly_Accident'],grouped_test4.get_group('Dry')['Deadly_Accident'],grouped_test4.get_group('Unknown')['Deadly_Accident'],grouped_test4.get_group('Snow/Slush')['Deadly_Accident'],grouped_test4.get_group('Ice')['Deadly_Accident'],grouped_test4.get_group('Other')['Deadly_Accident'],grouped_test4.get_group('Sand/Mud/Dirt')['Deadly_Accident'],grouped_test4.get_group('Standing Water')['Deadly_Accident'],grouped_test4.get_group('Oil')['Deadly_Accident'])\n",
    "\n",
    "print( \"ANOVA results: F=\", f_val, \", P =\", p_val)"
   ]
  },
  {
   "source": [
    "F-score large P-value small means strong corr"
   ],
   "cell_type": "markdown",
   "metadata": {}
  },
  {
   "cell_type": "code",
   "execution_count": 143,
   "metadata": {},
   "outputs": [],
   "source": [
    "grouped_test_WEATHER = df_coll[['Deadly_Accident', 'WEATHER']]\n",
    "grouped_test5 = grouped_test_WEATHER[['Deadly_Accident', 'WEATHER']].groupby(['WEATHER'])\n",
    "col_list_weth = grouped_test_WEATHER.WEATHER.unique().tolist()"
   ]
  },
  {
   "cell_type": "code",
   "execution_count": 144,
   "metadata": {
    "tags": []
   },
   "outputs": [
    {
     "output_type": "stream",
     "name": "stdout",
     "text": "grouped_test5.get_group(&#39;Overcast&#39;)[&#39;Deadly_Accident&#39;],grouped_test5.get_group(&#39;Raining&#39;)[&#39;Deadly_Accident&#39;],grouped_test5.get_group(&#39;Clear&#39;)[&#39;Deadly_Accident&#39;],grouped_test5.get_group(&#39;Unknown&#39;)[&#39;Deadly_Accident&#39;],grouped_test5.get_group(&#39;Other&#39;)[&#39;Deadly_Accident&#39;],grouped_test5.get_group(&#39;Snowing&#39;)[&#39;Deadly_Accident&#39;],grouped_test5.get_group(&#39;Fog/Smog/Smoke&#39;)[&#39;Deadly_Accident&#39;],grouped_test5.get_group(&#39;Sleet/Hail/Freezing Rain&#39;)[&#39;Deadly_Accident&#39;],grouped_test5.get_group(&#39;Blowing Sand/Dirt&#39;)[&#39;Deadly_Accident&#39;],grouped_test5.get_group(&#39;Severe Crosswind&#39;)[&#39;Deadly_Accident&#39;],grouped_test5.get_group(&#39;Partly Cloudy&#39;)[&#39;Deadly_Accident&#39;],\n"
    }
   ],
   "source": [
    "b = \"\"\n",
    "for i in col_list_weth:\n",
    "    a = \"grouped_test5.get_group('\" + i + \"')['Deadly_Accident'],\"\n",
    "    b = b + a\n",
    "    \n",
    "print(b)"
   ]
  },
  {
   "cell_type": "code",
   "execution_count": 145,
   "metadata": {
    "tags": []
   },
   "outputs": [
    {
     "output_type": "stream",
     "name": "stdout",
     "text": "ANOVA results: F= 472.97466022858777 , P = 0.0\n"
    }
   ],
   "source": [
    "f_val, p_val = stats.f_oneway(grouped_test5.get_group('Overcast')['Deadly_Accident'],grouped_test5.get_group('Raining')['Deadly_Accident'],grouped_test5.get_group('Clear')['Deadly_Accident'],grouped_test5.get_group('Unknown')['Deadly_Accident'],grouped_test5.get_group('Other')['Deadly_Accident'],grouped_test5.get_group('Snowing')['Deadly_Accident'],grouped_test5.get_group('Fog/Smog/Smoke')['Deadly_Accident'],grouped_test5.get_group('Sleet/Hail/Freezing Rain')['Deadly_Accident'],grouped_test5.get_group('Blowing Sand/Dirt')['Deadly_Accident'],grouped_test5.get_group('Severe Crosswind')['Deadly_Accident'],grouped_test5.get_group('Partly Cloudy')['Deadly_Accident'])\n",
    "\n",
    "print( \"ANOVA results: F=\", f_val, \", P =\", p_val)"
   ]
  },
  {
   "cell_type": "code",
   "execution_count": 146,
   "metadata": {},
   "outputs": [],
   "source": [
    "grouped_test_SDOT_COLDESC = df_coll[['Deadly_Accident', 'SDOT_COLDESC']]\n",
    "grouped_test6 = grouped_test_SDOT_COLDESC[['Deadly_Accident', 'SDOT_COLDESC']].groupby(['SDOT_COLDESC'])\n",
    "col_list_sdot = grouped_test_SDOT_COLDESC.SDOT_COLDESC.unique().tolist()"
   ]
  },
  {
   "cell_type": "code",
   "execution_count": 147,
   "metadata": {
    "tags": []
   },
   "outputs": [
    {
     "output_type": "stream",
     "name": "stdout",
     "text": "grouped_test6.get_group(&#39;MOTOR VEHICLE STRUCK MOTOR VEHICLE, FRONT END AT ANGLE&#39;)[&#39;Deadly_Accident&#39;],grouped_test6.get_group(&#39;MOTOR VEHICLE STRUCK MOTOR VEHICLE, LEFT SIDE SIDESWIPE&#39;)[&#39;Deadly_Accident&#39;],grouped_test6.get_group(&#39;MOTOR VEHICLE STRUCK MOTOR VEHICLE, REAR END&#39;)[&#39;Deadly_Accident&#39;],grouped_test6.get_group(&#39;PEDALCYCLIST STRUCK MOTOR VEHICLE FRONT END AT ANGLE&#39;)[&#39;Deadly_Accident&#39;],grouped_test6.get_group(&#39;MOTOR VEHICLE STRUCK MOTOR VEHICLE, LEFT SIDE AT ANGLE&#39;)[&#39;Deadly_Accident&#39;],grouped_test6.get_group(&#39;MOTOR VEHICLE RAN OFF ROAD - HIT FIXED OBJECT&#39;)[&#39;Deadly_Accident&#39;],grouped_test6.get_group(&#39;MOTOR VEHICLE STRUCK PEDALCYCLIST, FRONT END AT ANGLE&#39;)[&#39;Deadly_Accident&#39;],grouped_test6.get_group(&#39;DRIVERLESS VEHICLE STRUCK MOTOR VEHICLE REAR END&#39;)[&#39;Deadly_Accident&#39;],grouped_test6.get_group(&#39;NOT ENOUGH INFORMATION / NOT APPLICABLE&#39;)[&#39;Deadly_Accident&#39;],grouped_test6.get_group(&#39;MOTOR VEHCILE STRUCK PEDESTRIAN&#39;)[&#39;Deadly_Accident&#39;],grouped_test6.get_group(&#39;PEDALCYCLIST OVERTURNED IN ROAD&#39;)[&#39;Deadly_Accident&#39;],grouped_test6.get_group(&#39;MOTOR VEHICLE STRUCK OBJECT IN ROAD&#39;)[&#39;Deadly_Accident&#39;],grouped_test6.get_group(&#39;MOTOR VEHICLE STRUCK MOTOR VEHICLE, RIGHT SIDE AT ANGLE&#39;)[&#39;Deadly_Accident&#39;],grouped_test6.get_group(&#39;MOTOR VEHICLE STRUCK PEDALCYCLIST, REAR END&#39;)[&#39;Deadly_Accident&#39;],grouped_test6.get_group(&#39;MOTOR VEHICLE STRUCK PEDALCYCLIST, LEFT SIDE SIDESWIPE&#39;)[&#39;Deadly_Accident&#39;],grouped_test6.get_group(&#39;MOTOR VEHICLE OVERTURNED IN ROAD&#39;)[&#39;Deadly_Accident&#39;],grouped_test6.get_group(&#39;DRIVERLESS VEHICLE RAN OFF ROAD - HIT FIXED OBJECT&#39;)[&#39;Deadly_Accident&#39;],grouped_test6.get_group(&#39;MOTOR VEHICLE STRUCK MOTOR VEHICLE, RIGHT SIDE SIDESWIPE&#39;)[&#39;Deadly_Accident&#39;],grouped_test6.get_group(&#39;PEDALCYCLIST STRUCK MOTOR VEHICLE RIGHT SIDE SIDESWIPE&#39;)[&#39;Deadly_Accident&#39;],grouped_test6.get_group(&#39;DRIVERLESS VEHICLE STRUCK MOTOR VEHICLE LEFT SIDE AT ANGLE&#39;)[&#39;Deadly_Accident&#39;],grouped_test6.get_group(&#39;PEDALCYCLIST STRUCK MOTOR VEHICLE LEFT SIDE SIDESWIPE&#39;)[&#39;Deadly_Accident&#39;],grouped_test6.get_group(&#39;PEDALCYCLIST STRUCK MOTOR VEHICLE REAR END&#39;)[&#39;Deadly_Accident&#39;],grouped_test6.get_group(&#39;DRIVERLESS VEHICLE STRUCK MOTOR VEHICLE FRONT END AT ANGLE&#39;)[&#39;Deadly_Accident&#39;],grouped_test6.get_group(&#39;DRIVERLESS VEHICLE STRUCK PEDESTRIAN&#39;)[&#39;Deadly_Accident&#39;],grouped_test6.get_group(&#39;DRIVERLESS VEHICLE STRUCK MOTOR VEHICLE RIGHT SIDE AT ANGLE &#39;)[&#39;Deadly_Accident&#39;],grouped_test6.get_group(&#39;MOTOR VEHICLE RAN OFF ROAD - NO COLLISION&#39;)[&#39;Deadly_Accident&#39;],grouped_test6.get_group(&#39;MOTOR VEHICLE STRUCK TRAIN&#39;)[&#39;Deadly_Accident&#39;],grouped_test6.get_group(&#39;PEDALCYCLIST STRUCK OBJECT IN ROAD&#39;)[&#39;Deadly_Accident&#39;],grouped_test6.get_group(&#39;DRIVERLESS VEHICLE STRUCK MOTOR VEHICLE LEFT SIDE SIDESWIPE&#39;)[&#39;Deadly_Accident&#39;],grouped_test6.get_group(&#39;PEDALCYCLIST STRUCK PEDESTRIAN&#39;)[&#39;Deadly_Accident&#39;],grouped_test6.get_group(&#39;MOTOR VEHICLE STRUCK PEDALCYCLIST, RIGHT SIDE SIDESWIPE&#39;)[&#39;Deadly_Accident&#39;],grouped_test6.get_group(&#39;PEDALCYCLIST STRUCK PEDALCYCLIST FRONT END AT ANGLE&#39;)[&#39;Deadly_Accident&#39;],grouped_test6.get_group(&#39;DRIVERLESS VEHICLE RAN OFF ROAD - NO COLLISION&#39;)[&#39;Deadly_Accident&#39;],grouped_test6.get_group(&#39;PEDALCYCLIST STRUCK PEDALCYCLIST REAR END&#39;)[&#39;Deadly_Accident&#39;],grouped_test6.get_group(&#39;DRIVERLESS VEHICLE STRUCK MOTOR VEHICLE RIGHT SIDE SIDESWIPE&#39;)[&#39;Deadly_Accident&#39;],grouped_test6.get_group(&#39;PEDALCYCLIST STRUCK MOTOR VEHICLE LEFT SIDE AT ANGLE&#39;)[&#39;Deadly_Accident&#39;],grouped_test6.get_group(&#39;DRIVERLESS VEHICLE STRUCK OBJECT IN ROADWAY&#39;)[&#39;Deadly_Accident&#39;],grouped_test6.get_group(&#39;PEDALCYCLIST RAN OFF ROAD - HIT FIXED OBJECT&#39;)[&#39;Deadly_Accident&#39;],grouped_test6.get_group(&#39;PEDALCYCLIST STRUCK MOTOR VEHICLE RIGHT SIDE AT ANGLE&#39;)[&#39;Deadly_Accident&#39;],\n"
    }
   ],
   "source": [
    "b = \"\"\n",
    "for i in col_list_sdot:\n",
    "    a = \"grouped_test6.get_group('\" + i + \"')['Deadly_Accident'],\"\n",
    "    b = b + a\n",
    "    \n",
    "print(b)"
   ]
  },
  {
   "cell_type": "code",
   "execution_count": 148,
   "metadata": {
    "tags": []
   },
   "outputs": [
    {
     "output_type": "stream",
     "name": "stdout",
     "text": "ANOVA results: F= 832.3252211721152 , P = 0.0\n"
    }
   ],
   "source": [
    "f_val, p_val = stats.f_oneway(grouped_test6.get_group('MOTOR VEHICLE STRUCK MOTOR VEHICLE, FRONT END AT ANGLE')['Deadly_Accident'],grouped_test6.get_group('MOTOR VEHICLE STRUCK MOTOR VEHICLE, LEFT SIDE SIDESWIPE')['Deadly_Accident'],grouped_test6.get_group('MOTOR VEHICLE STRUCK MOTOR VEHICLE, REAR END')['Deadly_Accident'],grouped_test6.get_group('PEDALCYCLIST STRUCK MOTOR VEHICLE FRONT END AT ANGLE')['Deadly_Accident'],grouped_test6.get_group('MOTOR VEHICLE STRUCK MOTOR VEHICLE, LEFT SIDE AT ANGLE')['Deadly_Accident'],grouped_test6.get_group('MOTOR VEHICLE RAN OFF ROAD - HIT FIXED OBJECT')['Deadly_Accident'],grouped_test6.get_group('MOTOR VEHICLE STRUCK PEDALCYCLIST, FRONT END AT ANGLE')['Deadly_Accident'],grouped_test6.get_group('DRIVERLESS VEHICLE STRUCK MOTOR VEHICLE REAR END')['Deadly_Accident'],grouped_test6.get_group('NOT ENOUGH INFORMATION / NOT APPLICABLE')['Deadly_Accident'],grouped_test6.get_group('MOTOR VEHCILE STRUCK PEDESTRIAN')['Deadly_Accident'],grouped_test6.get_group('PEDALCYCLIST OVERTURNED IN ROAD')['Deadly_Accident'],grouped_test6.get_group('MOTOR VEHICLE STRUCK OBJECT IN ROAD')['Deadly_Accident'],grouped_test6.get_group('MOTOR VEHICLE STRUCK MOTOR VEHICLE, RIGHT SIDE AT ANGLE')['Deadly_Accident'],grouped_test6.get_group('MOTOR VEHICLE STRUCK PEDALCYCLIST, REAR END')['Deadly_Accident'],grouped_test6.get_group('MOTOR VEHICLE STRUCK PEDALCYCLIST, LEFT SIDE SIDESWIPE')['Deadly_Accident'],grouped_test6.get_group('MOTOR VEHICLE OVERTURNED IN ROAD')['Deadly_Accident'],grouped_test6.get_group('DRIVERLESS VEHICLE RAN OFF ROAD - HIT FIXED OBJECT')['Deadly_Accident'],grouped_test6.get_group('MOTOR VEHICLE STRUCK MOTOR VEHICLE, RIGHT SIDE SIDESWIPE')['Deadly_Accident'],grouped_test6.get_group('PEDALCYCLIST STRUCK MOTOR VEHICLE RIGHT SIDE SIDESWIPE')['Deadly_Accident'],grouped_test6.get_group('DRIVERLESS VEHICLE STRUCK MOTOR VEHICLE LEFT SIDE AT ANGLE')['Deadly_Accident'],grouped_test6.get_group('PEDALCYCLIST STRUCK MOTOR VEHICLE LEFT SIDE SIDESWIPE')['Deadly_Accident'],grouped_test6.get_group('PEDALCYCLIST STRUCK MOTOR VEHICLE REAR END')['Deadly_Accident'],grouped_test6.get_group('DRIVERLESS VEHICLE STRUCK MOTOR VEHICLE FRONT END AT ANGLE')['Deadly_Accident'],grouped_test6.get_group('DRIVERLESS VEHICLE STRUCK PEDESTRIAN')['Deadly_Accident'],grouped_test6.get_group('DRIVERLESS VEHICLE STRUCK MOTOR VEHICLE RIGHT SIDE AT ANGLE ')['Deadly_Accident'],grouped_test6.get_group('MOTOR VEHICLE RAN OFF ROAD - NO COLLISION')['Deadly_Accident'],grouped_test6.get_group('MOTOR VEHICLE STRUCK TRAIN')['Deadly_Accident'],grouped_test6.get_group('PEDALCYCLIST STRUCK OBJECT IN ROAD')['Deadly_Accident'],grouped_test6.get_group('DRIVERLESS VEHICLE STRUCK MOTOR VEHICLE LEFT SIDE SIDESWIPE')['Deadly_Accident'],grouped_test6.get_group('PEDALCYCLIST STRUCK PEDESTRIAN')['Deadly_Accident'],grouped_test6.get_group('MOTOR VEHICLE STRUCK PEDALCYCLIST, RIGHT SIDE SIDESWIPE')['Deadly_Accident'],grouped_test6.get_group('PEDALCYCLIST STRUCK PEDALCYCLIST FRONT END AT ANGLE')['Deadly_Accident'],grouped_test6.get_group('DRIVERLESS VEHICLE RAN OFF ROAD - NO COLLISION')['Deadly_Accident'],grouped_test6.get_group('PEDALCYCLIST STRUCK PEDALCYCLIST REAR END')['Deadly_Accident'],grouped_test6.get_group('DRIVERLESS VEHICLE STRUCK MOTOR VEHICLE RIGHT SIDE SIDESWIPE')['Deadly_Accident'],grouped_test6.get_group('PEDALCYCLIST STRUCK MOTOR VEHICLE LEFT SIDE AT ANGLE')['Deadly_Accident'],grouped_test6.get_group('DRIVERLESS VEHICLE STRUCK OBJECT IN ROADWAY')['Deadly_Accident'],grouped_test6.get_group('PEDALCYCLIST RAN OFF ROAD - HIT FIXED OBJECT')['Deadly_Accident'],grouped_test6.get_group('PEDALCYCLIST STRUCK MOTOR VEHICLE RIGHT SIDE AT ANGLE')['Deadly_Accident'])\n",
    "\n",
    "print( \"ANOVA results: F=\", f_val, \", P =\", p_val)"
   ]
  },
  {
   "cell_type": "code",
   "execution_count": 149,
   "metadata": {},
   "outputs": [],
   "source": [
    "grouped_test_COLLISIONTYPE = df_coll[['Deadly_Accident', 'COLLISIONTYPE']]\n",
    "grouped_test7 = grouped_test_COLLISIONTYPE[['Deadly_Accident', 'COLLISIONTYPE']].groupby(['COLLISIONTYPE'])\n",
    "col_list_type = grouped_test_COLLISIONTYPE.COLLISIONTYPE.unique().tolist()"
   ]
  },
  {
   "cell_type": "code",
   "execution_count": 150,
   "metadata": {
    "tags": []
   },
   "outputs": [
    {
     "output_type": "stream",
     "name": "stdout",
     "text": "grouped_test7.get_group(&#39;Angles&#39;)[&#39;Deadly_Accident&#39;],grouped_test7.get_group(&#39;Sideswipe&#39;)[&#39;Deadly_Accident&#39;],grouped_test7.get_group(&#39;Parked Car&#39;)[&#39;Deadly_Accident&#39;],grouped_test7.get_group(&#39;Other&#39;)[&#39;Deadly_Accident&#39;],grouped_test7.get_group(&#39;Cycles&#39;)[&#39;Deadly_Accident&#39;],grouped_test7.get_group(&#39;Rear Ended&#39;)[&#39;Deadly_Accident&#39;],grouped_test7.get_group(&#39;Head On&#39;)[&#39;Deadly_Accident&#39;],grouped_test7.get_group(&#39;Left Turn&#39;)[&#39;Deadly_Accident&#39;],grouped_test7.get_group(&#39;Pedestrian&#39;)[&#39;Deadly_Accident&#39;],grouped_test7.get_group(&#39;Right Turn&#39;)[&#39;Deadly_Accident&#39;],\n"
    }
   ],
   "source": [
    "b = \"\"\n",
    "for i in col_list_type:\n",
    "    a = \"grouped_test7.get_group('\" + i + \"')['Deadly_Accident'],\"\n",
    "    b = b + a\n",
    "    \n",
    "print(b)"
   ]
  },
  {
   "cell_type": "code",
   "execution_count": 151,
   "metadata": {
    "tags": []
   },
   "outputs": [
    {
     "output_type": "stream",
     "name": "stdout",
     "text": "ANOVA results: F= 5656.322956542205 , P = 0.0\n"
    }
   ],
   "source": [
    "f_val, p_val = stats.f_oneway(grouped_test7.get_group('Angles')['Deadly_Accident'],grouped_test7.get_group('Sideswipe')['Deadly_Accident'],grouped_test7.get_group('Parked Car')['Deadly_Accident'],grouped_test7.get_group('Other')['Deadly_Accident'],grouped_test7.get_group('Cycles')['Deadly_Accident'],grouped_test7.get_group('Rear Ended')['Deadly_Accident'],grouped_test7.get_group('Head On')['Deadly_Accident'],grouped_test7.get_group('Left Turn')['Deadly_Accident'],grouped_test7.get_group('Pedestrian')['Deadly_Accident'],grouped_test7.get_group('Right Turn')['Deadly_Accident'])\n",
    "\n",
    "print( \"ANOVA results: F=\", f_val, \", P =\", p_val)"
   ]
  },
  {
   "cell_type": "code",
   "execution_count": 152,
   "metadata": {},
   "outputs": [],
   "source": [
    "grouped_test_ADDRTYPE = df_coll[['Deadly_Accident', 'ADDRTYPE']]\n",
    "grouped_test8 = grouped_test_ADDRTYPE[['Deadly_Accident', 'ADDRTYPE']].groupby(['ADDRTYPE'])\n",
    "col_list_addr = grouped_test_ADDRTYPE.ADDRTYPE.unique().tolist()"
   ]
  },
  {
   "cell_type": "code",
   "execution_count": 153,
   "metadata": {
    "tags": []
   },
   "outputs": [
    {
     "output_type": "stream",
     "name": "stdout",
     "text": "grouped_test8.get_group(&#39;Intersection&#39;)[&#39;Deadly_Accident&#39;],grouped_test8.get_group(&#39;Block&#39;)[&#39;Deadly_Accident&#39;],\n"
    }
   ],
   "source": [
    "b = \"\"\n",
    "for i in col_list_addr:\n",
    "    a = \"grouped_test8.get_group('\" + i + \"')['Deadly_Accident'],\"\n",
    "    b = b + a\n",
    "    \n",
    "print(b)"
   ]
  },
  {
   "cell_type": "code",
   "execution_count": 154,
   "metadata": {
    "tags": []
   },
   "outputs": [
    {
     "output_type": "stream",
     "name": "stdout",
     "text": "ANOVA results: F= 7739.026142578873 , P = 0.0\n"
    }
   ],
   "source": [
    "f_val, p_val = stats.f_oneway(grouped_test8.get_group('Intersection')['Deadly_Accident'],grouped_test8.get_group('Block')['Deadly_Accident'])\n",
    "\n",
    "print( \"ANOVA results: F=\", f_val, \", P =\", p_val)"
   ]
  },
  {
   "source": [
    "Now I will corr function to analyze the numerical features"
   ],
   "cell_type": "markdown",
   "metadata": {}
  },
  {
   "cell_type": "code",
   "execution_count": 155,
   "metadata": {},
   "outputs": [
    {
     "output_type": "execute_result",
     "data": {
      "text/plain": "                 Deadly_Accident  PERSONCOUNT  SPEEDING\nDeadly_Accident         1.000000     0.127633  0.037518\nPERSONCOUNT             0.127633     1.000000 -0.001623\nSPEEDING                0.037518    -0.001623  1.000000",
      "text/html": "<div>\n<style scoped>\n    .dataframe tbody tr th:only-of-type {\n        vertical-align: middle;\n    }\n\n    .dataframe tbody tr th {\n        vertical-align: top;\n    }\n\n    .dataframe thead th {\n        text-align: right;\n    }\n</style>\n<table border=\"1\" class=\"dataframe\">\n  <thead>\n    <tr style=\"text-align: right;\">\n      <th></th>\n      <th>Deadly_Accident</th>\n      <th>PERSONCOUNT</th>\n      <th>SPEEDING</th>\n    </tr>\n  </thead>\n  <tbody>\n    <tr>\n      <th>Deadly_Accident</th>\n      <td>1.000000</td>\n      <td>0.127633</td>\n      <td>0.037518</td>\n    </tr>\n    <tr>\n      <th>PERSONCOUNT</th>\n      <td>0.127633</td>\n      <td>1.000000</td>\n      <td>-0.001623</td>\n    </tr>\n    <tr>\n      <th>SPEEDING</th>\n      <td>0.037518</td>\n      <td>-0.001623</td>\n      <td>1.000000</td>\n    </tr>\n  </tbody>\n</table>\n</div>"
     },
     "metadata": {},
     "execution_count": 155
    }
   ],
   "source": [
    "df_coll.corr()\n",
    "## PERSONCOUNT, SPEEDING"
   ]
  },
  {
   "source": [
    "As we can there is weak corr between SPEEDING TO Deadly_Accident, I believe we can drop this column"
   ],
   "cell_type": "markdown",
   "metadata": {}
  },
  {
   "cell_type": "code",
   "execution_count": 156,
   "metadata": {},
   "outputs": [],
   "source": [
    "df_coll.drop('SPEEDING' ,axis = 1, inplace = True) ## drop SPEEDING column"
   ]
  },
  {
   "cell_type": "code",
   "execution_count": 157,
   "metadata": {},
   "outputs": [
    {
     "output_type": "execute_result",
     "data": {
      "text/plain": "   Deadly_Accident      ADDRTYPE COLLISIONTYPE  PERSONCOUNT  \\\n0                1  Intersection        Angles     0.024691   \n1                0         Block     Sideswipe     0.024691   \n2                0         Block    Parked Car     0.049383   \n3                0         Block         Other     0.037037   \n4                1  Intersection        Angles     0.024691   \n\n                                        SDOT_COLDESC   WEATHER ROADCOND  \\\n0  MOTOR VEHICLE STRUCK MOTOR VEHICLE, FRONT END ...  Overcast      Wet   \n1  MOTOR VEHICLE STRUCK MOTOR VEHICLE, LEFT SIDE ...   Raining      Wet   \n2       MOTOR VEHICLE STRUCK MOTOR VEHICLE, REAR END  Overcast      Dry   \n3  MOTOR VEHICLE STRUCK MOTOR VEHICLE, FRONT END ...     Clear      Dry   \n4  MOTOR VEHICLE STRUCK MOTOR VEHICLE, FRONT END ...   Raining      Wet   \n\n                 LIGHTCOND                                         ST_COLDESC  \\\n0                 Daylight                                  Entering at angle   \n1  Dark - Street Lights On  From same direction - both going straight - bo...   \n2                 Daylight                             One parked--one moving   \n3                 Daylight                   From same direction - all others   \n4                 Daylight                                  Entering at angle   \n\n     Area  \n0   North  \n1  Center  \n2  Center  \n3  Center  \n4   South  ",
      "text/html": "<div>\n<style scoped>\n    .dataframe tbody tr th:only-of-type {\n        vertical-align: middle;\n    }\n\n    .dataframe tbody tr th {\n        vertical-align: top;\n    }\n\n    .dataframe thead th {\n        text-align: right;\n    }\n</style>\n<table border=\"1\" class=\"dataframe\">\n  <thead>\n    <tr style=\"text-align: right;\">\n      <th></th>\n      <th>Deadly_Accident</th>\n      <th>ADDRTYPE</th>\n      <th>COLLISIONTYPE</th>\n      <th>PERSONCOUNT</th>\n      <th>SDOT_COLDESC</th>\n      <th>WEATHER</th>\n      <th>ROADCOND</th>\n      <th>LIGHTCOND</th>\n      <th>ST_COLDESC</th>\n      <th>Area</th>\n    </tr>\n  </thead>\n  <tbody>\n    <tr>\n      <th>0</th>\n      <td>1</td>\n      <td>Intersection</td>\n      <td>Angles</td>\n      <td>0.024691</td>\n      <td>MOTOR VEHICLE STRUCK MOTOR VEHICLE, FRONT END ...</td>\n      <td>Overcast</td>\n      <td>Wet</td>\n      <td>Daylight</td>\n      <td>Entering at angle</td>\n      <td>North</td>\n    </tr>\n    <tr>\n      <th>1</th>\n      <td>0</td>\n      <td>Block</td>\n      <td>Sideswipe</td>\n      <td>0.024691</td>\n      <td>MOTOR VEHICLE STRUCK MOTOR VEHICLE, LEFT SIDE ...</td>\n      <td>Raining</td>\n      <td>Wet</td>\n      <td>Dark - Street Lights On</td>\n      <td>From same direction - both going straight - bo...</td>\n      <td>Center</td>\n    </tr>\n    <tr>\n      <th>2</th>\n      <td>0</td>\n      <td>Block</td>\n      <td>Parked Car</td>\n      <td>0.049383</td>\n      <td>MOTOR VEHICLE STRUCK MOTOR VEHICLE, REAR END</td>\n      <td>Overcast</td>\n      <td>Dry</td>\n      <td>Daylight</td>\n      <td>One parked--one moving</td>\n      <td>Center</td>\n    </tr>\n    <tr>\n      <th>3</th>\n      <td>0</td>\n      <td>Block</td>\n      <td>Other</td>\n      <td>0.037037</td>\n      <td>MOTOR VEHICLE STRUCK MOTOR VEHICLE, FRONT END ...</td>\n      <td>Clear</td>\n      <td>Dry</td>\n      <td>Daylight</td>\n      <td>From same direction - all others</td>\n      <td>Center</td>\n    </tr>\n    <tr>\n      <th>4</th>\n      <td>1</td>\n      <td>Intersection</td>\n      <td>Angles</td>\n      <td>0.024691</td>\n      <td>MOTOR VEHICLE STRUCK MOTOR VEHICLE, FRONT END ...</td>\n      <td>Raining</td>\n      <td>Wet</td>\n      <td>Daylight</td>\n      <td>Entering at angle</td>\n      <td>South</td>\n    </tr>\n  </tbody>\n</table>\n</div>"
     },
     "metadata": {},
     "execution_count": 157
    }
   ],
   "source": [
    "df_coll.head()"
   ]
  },
  {
   "source": [
    "## Now we continue to the next level"
   ],
   "cell_type": "markdown",
   "metadata": {}
  },
  {
   "source": [
    "# Methodology "
   ],
   "cell_type": "markdown",
   "metadata": {}
  },
  {
   "source": [
    "# Machine learning : Logistic Regression"
   ],
   "cell_type": "markdown",
   "metadata": {}
  },
  {
   "source": [],
   "cell_type": "markdown",
   "metadata": {}
  },
  {
   "source": [
    "in the next section I will convert the data to numerical values"
   ],
   "cell_type": "markdown",
   "metadata": {}
  },
  {
   "cell_type": "code",
   "execution_count": 158,
   "metadata": {},
   "outputs": [],
   "source": [
    "import pylab as pl\n",
    "import scipy.optimize as opt\n",
    "from sklearn import preprocessing\n",
    "%matplotlib inline \n",
    "import matplotlib.pyplot as plt"
   ]
  },
  {
   "cell_type": "code",
   "execution_count": 60,
   "metadata": {},
   "outputs": [],
   "source": []
  },
  {
   "cell_type": "code",
   "execution_count": 159,
   "metadata": {},
   "outputs": [],
   "source": [
    "X = df_coll[['ADDRTYPE', 'COLLISIONTYPE', 'PERSONCOUNT',\n",
    "       'SDOT_COLDESC', 'WEATHER', 'ROADCOND', 'LIGHTCOND', 'ST_COLDESC',\n",
    "       'Area']]"
   ]
  },
  {
   "cell_type": "code",
   "execution_count": 160,
   "metadata": {},
   "outputs": [],
   "source": [
    "y = df_coll.Deadly_Accident"
   ]
  },
  {
   "cell_type": "code",
   "execution_count": 161,
   "metadata": {},
   "outputs": [
    {
     "output_type": "execute_result",
     "data": {
      "text/plain": "Index([&#39;Deadly_Accident&#39;, &#39;ADDRTYPE&#39;, &#39;COLLISIONTYPE&#39;, &#39;PERSONCOUNT&#39;,\n       &#39;SDOT_COLDESC&#39;, &#39;WEATHER&#39;, &#39;ROADCOND&#39;, &#39;LIGHTCOND&#39;, &#39;ST_COLDESC&#39;,\n       &#39;Area&#39;],\n      dtype=&#39;object&#39;)"
     },
     "metadata": {},
     "execution_count": 161
    }
   ],
   "source": [
    "df_coll.columns"
   ]
  },
  {
   "cell_type": "code",
   "execution_count": 162,
   "metadata": {},
   "outputs": [
    {
     "output_type": "execute_result",
     "data": {
      "text/plain": "       ADDRTYPE COLLISIONTYPE  PERSONCOUNT  \\\n0  Intersection        Angles     0.024691   \n1         Block     Sideswipe     0.024691   \n2         Block    Parked Car     0.049383   \n3         Block         Other     0.037037   \n4  Intersection        Angles     0.024691   \n\n                                        SDOT_COLDESC   WEATHER ROADCOND  \\\n0  MOTOR VEHICLE STRUCK MOTOR VEHICLE, FRONT END ...  Overcast      Wet   \n1  MOTOR VEHICLE STRUCK MOTOR VEHICLE, LEFT SIDE ...   Raining      Wet   \n2       MOTOR VEHICLE STRUCK MOTOR VEHICLE, REAR END  Overcast      Dry   \n3  MOTOR VEHICLE STRUCK MOTOR VEHICLE, FRONT END ...     Clear      Dry   \n4  MOTOR VEHICLE STRUCK MOTOR VEHICLE, FRONT END ...   Raining      Wet   \n\n                 LIGHTCOND                                         ST_COLDESC  \\\n0                 Daylight                                  Entering at angle   \n1  Dark - Street Lights On  From same direction - both going straight - bo...   \n2                 Daylight                             One parked--one moving   \n3                 Daylight                   From same direction - all others   \n4                 Daylight                                  Entering at angle   \n\n     Area  \n0   North  \n1  Center  \n2  Center  \n3  Center  \n4   South  ",
      "text/html": "<div>\n<style scoped>\n    .dataframe tbody tr th:only-of-type {\n        vertical-align: middle;\n    }\n\n    .dataframe tbody tr th {\n        vertical-align: top;\n    }\n\n    .dataframe thead th {\n        text-align: right;\n    }\n</style>\n<table border=\"1\" class=\"dataframe\">\n  <thead>\n    <tr style=\"text-align: right;\">\n      <th></th>\n      <th>ADDRTYPE</th>\n      <th>COLLISIONTYPE</th>\n      <th>PERSONCOUNT</th>\n      <th>SDOT_COLDESC</th>\n      <th>WEATHER</th>\n      <th>ROADCOND</th>\n      <th>LIGHTCOND</th>\n      <th>ST_COLDESC</th>\n      <th>Area</th>\n    </tr>\n  </thead>\n  <tbody>\n    <tr>\n      <th>0</th>\n      <td>Intersection</td>\n      <td>Angles</td>\n      <td>0.024691</td>\n      <td>MOTOR VEHICLE STRUCK MOTOR VEHICLE, FRONT END ...</td>\n      <td>Overcast</td>\n      <td>Wet</td>\n      <td>Daylight</td>\n      <td>Entering at angle</td>\n      <td>North</td>\n    </tr>\n    <tr>\n      <th>1</th>\n      <td>Block</td>\n      <td>Sideswipe</td>\n      <td>0.024691</td>\n      <td>MOTOR VEHICLE STRUCK MOTOR VEHICLE, LEFT SIDE ...</td>\n      <td>Raining</td>\n      <td>Wet</td>\n      <td>Dark - Street Lights On</td>\n      <td>From same direction - both going straight - bo...</td>\n      <td>Center</td>\n    </tr>\n    <tr>\n      <th>2</th>\n      <td>Block</td>\n      <td>Parked Car</td>\n      <td>0.049383</td>\n      <td>MOTOR VEHICLE STRUCK MOTOR VEHICLE, REAR END</td>\n      <td>Overcast</td>\n      <td>Dry</td>\n      <td>Daylight</td>\n      <td>One parked--one moving</td>\n      <td>Center</td>\n    </tr>\n    <tr>\n      <th>3</th>\n      <td>Block</td>\n      <td>Other</td>\n      <td>0.037037</td>\n      <td>MOTOR VEHICLE STRUCK MOTOR VEHICLE, FRONT END ...</td>\n      <td>Clear</td>\n      <td>Dry</td>\n      <td>Daylight</td>\n      <td>From same direction - all others</td>\n      <td>Center</td>\n    </tr>\n    <tr>\n      <th>4</th>\n      <td>Intersection</td>\n      <td>Angles</td>\n      <td>0.024691</td>\n      <td>MOTOR VEHICLE STRUCK MOTOR VEHICLE, FRONT END ...</td>\n      <td>Raining</td>\n      <td>Wet</td>\n      <td>Daylight</td>\n      <td>Entering at angle</td>\n      <td>South</td>\n    </tr>\n  </tbody>\n</table>\n</div>"
     },
     "metadata": {},
     "execution_count": 162
    }
   ],
   "source": [
    "X.head()"
   ]
  },
  {
   "cell_type": "code",
   "execution_count": 163,
   "metadata": {},
   "outputs": [
    {
     "output_type": "execute_result",
     "data": {
      "text/plain": "0         Intersection\n1                Block\n2                Block\n3                Block\n4         Intersection\n              ...     \n184577           Block\n184578           Block\n184579    Intersection\n184580    Intersection\n184581           Block\nName: ADDRTYPE, Length: 184582, dtype: object"
     },
     "metadata": {},
     "execution_count": 163
    }
   ],
   "source": [
    "X.iloc[:, 0]"
   ]
  },
  {
   "cell_type": "code",
   "execution_count": 164,
   "metadata": {},
   "outputs": [
    {
     "output_type": "execute_result",
     "data": {
      "text/plain": "array([&#39;Intersection&#39;, &#39;Block&#39;], dtype=object)"
     },
     "metadata": {},
     "execution_count": 164
    }
   ],
   "source": [
    "df_coll.ADDRTYPE.unique()"
   ]
  },
  {
   "source": [
    "le_ADDRTYPE = preprocessing.LabelEncoder()\n",
    "le_ADDRTYPE.fit(['Intersection', 'Block'])\n",
    "X.iloc[:, 0] = le_ADDRTYPE.transform(X.iloc[:, 0])"
   ],
   "cell_type": "code",
   "metadata": {
    "tags": []
   },
   "execution_count": 165,
   "outputs": []
  },
  {
   "cell_type": "code",
   "execution_count": 166,
   "metadata": {},
   "outputs": [
    {
     "output_type": "execute_result",
     "data": {
      "text/plain": "array([&#39;Angles&#39;, &#39;Sideswipe&#39;, &#39;Parked Car&#39;, &#39;Other&#39;, &#39;Cycles&#39;,\n       &#39;Rear Ended&#39;, &#39;Head On&#39;, &#39;Left Turn&#39;, &#39;Pedestrian&#39;, &#39;Right Turn&#39;],\n      dtype=object)"
     },
     "metadata": {},
     "execution_count": 166
    }
   ],
   "source": [
    "df_coll.COLLISIONTYPE.unique()"
   ]
  },
  {
   "cell_type": "code",
   "execution_count": 167,
   "metadata": {},
   "outputs": [],
   "source": [
    "le_COLLISIONTYPE = preprocessing.LabelEncoder()\n",
    "le_COLLISIONTYPE.fit(['Angles', 'Sideswipe', 'Parked Car', 'Other', 'Cycles',\n",
    "       'Rear Ended', 'Head On', 'Left Turn', 'Pedestrian', 'Right Turn'])\n",
    "X.iloc[:, 1] = le_COLLISIONTYPE.transform(X.iloc[:, 1])"
   ]
  },
  {
   "cell_type": "code",
   "execution_count": 168,
   "metadata": {},
   "outputs": [
    {
     "output_type": "execute_result",
     "data": {
      "text/plain": "[&#39;MOTOR VEHICLE STRUCK MOTOR VEHICLE, FRONT END AT ANGLE&#39;,\n &#39;MOTOR VEHICLE STRUCK MOTOR VEHICLE, LEFT SIDE SIDESWIPE&#39;,\n &#39;MOTOR VEHICLE STRUCK MOTOR VEHICLE, REAR END&#39;,\n &#39;PEDALCYCLIST STRUCK MOTOR VEHICLE FRONT END AT ANGLE&#39;,\n &#39;MOTOR VEHICLE STRUCK MOTOR VEHICLE, LEFT SIDE AT ANGLE&#39;,\n &#39;MOTOR VEHICLE RAN OFF ROAD - HIT FIXED OBJECT&#39;,\n &#39;MOTOR VEHICLE STRUCK PEDALCYCLIST, FRONT END AT ANGLE&#39;,\n &#39;DRIVERLESS VEHICLE STRUCK MOTOR VEHICLE REAR END&#39;,\n &#39;NOT ENOUGH INFORMATION / NOT APPLICABLE&#39;,\n &#39;MOTOR VEHCILE STRUCK PEDESTRIAN&#39;,\n &#39;PEDALCYCLIST OVERTURNED IN ROAD&#39;,\n &#39;MOTOR VEHICLE STRUCK OBJECT IN ROAD&#39;,\n &#39;MOTOR VEHICLE STRUCK MOTOR VEHICLE, RIGHT SIDE AT ANGLE&#39;,\n &#39;MOTOR VEHICLE STRUCK PEDALCYCLIST, REAR END&#39;,\n &#39;MOTOR VEHICLE STRUCK PEDALCYCLIST, LEFT SIDE SIDESWIPE&#39;,\n &#39;MOTOR VEHICLE OVERTURNED IN ROAD&#39;,\n &#39;DRIVERLESS VEHICLE RAN OFF ROAD - HIT FIXED OBJECT&#39;,\n &#39;MOTOR VEHICLE STRUCK MOTOR VEHICLE, RIGHT SIDE SIDESWIPE&#39;,\n &#39;PEDALCYCLIST STRUCK MOTOR VEHICLE RIGHT SIDE SIDESWIPE&#39;,\n &#39;DRIVERLESS VEHICLE STRUCK MOTOR VEHICLE LEFT SIDE AT ANGLE&#39;,\n &#39;PEDALCYCLIST STRUCK MOTOR VEHICLE LEFT SIDE SIDESWIPE&#39;,\n &#39;PEDALCYCLIST STRUCK MOTOR VEHICLE REAR END&#39;,\n &#39;DRIVERLESS VEHICLE STRUCK MOTOR VEHICLE FRONT END AT ANGLE&#39;,\n &#39;DRIVERLESS VEHICLE STRUCK PEDESTRIAN&#39;,\n &#39;DRIVERLESS VEHICLE STRUCK MOTOR VEHICLE RIGHT SIDE AT ANGLE &#39;,\n &#39;MOTOR VEHICLE RAN OFF ROAD - NO COLLISION&#39;,\n &#39;MOTOR VEHICLE STRUCK TRAIN&#39;,\n &#39;PEDALCYCLIST STRUCK OBJECT IN ROAD&#39;,\n &#39;DRIVERLESS VEHICLE STRUCK MOTOR VEHICLE LEFT SIDE SIDESWIPE&#39;,\n &#39;PEDALCYCLIST STRUCK PEDESTRIAN&#39;,\n &#39;MOTOR VEHICLE STRUCK PEDALCYCLIST, RIGHT SIDE SIDESWIPE&#39;,\n &#39;PEDALCYCLIST STRUCK PEDALCYCLIST FRONT END AT ANGLE&#39;,\n &#39;DRIVERLESS VEHICLE RAN OFF ROAD - NO COLLISION&#39;,\n &#39;PEDALCYCLIST STRUCK PEDALCYCLIST REAR END&#39;,\n &#39;DRIVERLESS VEHICLE STRUCK MOTOR VEHICLE RIGHT SIDE SIDESWIPE&#39;,\n &#39;PEDALCYCLIST STRUCK MOTOR VEHICLE LEFT SIDE AT ANGLE&#39;,\n &#39;DRIVERLESS VEHICLE STRUCK OBJECT IN ROADWAY&#39;,\n &#39;PEDALCYCLIST RAN OFF ROAD - HIT FIXED OBJECT&#39;,\n &#39;PEDALCYCLIST STRUCK MOTOR VEHICLE RIGHT SIDE AT ANGLE&#39;]"
     },
     "metadata": {},
     "execution_count": 168
    }
   ],
   "source": [
    "df_coll.SDOT_COLDESC.unique().tolist()"
   ]
  },
  {
   "cell_type": "code",
   "execution_count": 169,
   "metadata": {},
   "outputs": [],
   "source": [
    "le_SDOT_COLDESC = preprocessing.LabelEncoder()\n",
    "le_SDOT_COLDESC.fit(['MOTOR VEHICLE STRUCK MOTOR VEHICLE, FRONT END AT ANGLE',\n",
    " 'MOTOR VEHICLE STRUCK MOTOR VEHICLE, LEFT SIDE SIDESWIPE',\n",
    " 'MOTOR VEHICLE STRUCK MOTOR VEHICLE, REAR END',\n",
    " 'PEDALCYCLIST STRUCK MOTOR VEHICLE FRONT END AT ANGLE',\n",
    " 'MOTOR VEHICLE STRUCK MOTOR VEHICLE, LEFT SIDE AT ANGLE',\n",
    " 'MOTOR VEHICLE RAN OFF ROAD - HIT FIXED OBJECT',\n",
    " 'MOTOR VEHICLE STRUCK PEDALCYCLIST, FRONT END AT ANGLE',\n",
    " 'DRIVERLESS VEHICLE STRUCK MOTOR VEHICLE REAR END',\n",
    " 'NOT ENOUGH INFORMATION / NOT APPLICABLE',\n",
    " 'MOTOR VEHCILE STRUCK PEDESTRIAN',\n",
    " 'PEDALCYCLIST OVERTURNED IN ROAD',\n",
    " 'MOTOR VEHICLE STRUCK OBJECT IN ROAD',\n",
    " 'MOTOR VEHICLE STRUCK MOTOR VEHICLE, RIGHT SIDE AT ANGLE',\n",
    " 'MOTOR VEHICLE STRUCK PEDALCYCLIST, REAR END',\n",
    " 'MOTOR VEHICLE STRUCK PEDALCYCLIST, LEFT SIDE SIDESWIPE',\n",
    " 'MOTOR VEHICLE OVERTURNED IN ROAD',\n",
    " 'DRIVERLESS VEHICLE RAN OFF ROAD - HIT FIXED OBJECT',\n",
    " 'MOTOR VEHICLE STRUCK MOTOR VEHICLE, RIGHT SIDE SIDESWIPE',\n",
    " 'PEDALCYCLIST STRUCK MOTOR VEHICLE RIGHT SIDE SIDESWIPE',\n",
    " 'DRIVERLESS VEHICLE STRUCK MOTOR VEHICLE LEFT SIDE AT ANGLE',\n",
    " 'PEDALCYCLIST STRUCK MOTOR VEHICLE LEFT SIDE SIDESWIPE',\n",
    " 'PEDALCYCLIST STRUCK MOTOR VEHICLE REAR END',\n",
    " 'DRIVERLESS VEHICLE STRUCK MOTOR VEHICLE FRONT END AT ANGLE',\n",
    " 'DRIVERLESS VEHICLE STRUCK PEDESTRIAN',\n",
    " 'DRIVERLESS VEHICLE STRUCK MOTOR VEHICLE RIGHT SIDE AT ANGLE ',\n",
    " 'MOTOR VEHICLE RAN OFF ROAD - NO COLLISION',\n",
    " 'MOTOR VEHICLE STRUCK TRAIN',\n",
    " 'PEDALCYCLIST STRUCK OBJECT IN ROAD',\n",
    " 'DRIVERLESS VEHICLE STRUCK MOTOR VEHICLE LEFT SIDE SIDESWIPE',\n",
    " 'PEDALCYCLIST STRUCK PEDESTRIAN',\n",
    " 'MOTOR VEHICLE STRUCK PEDALCYCLIST, RIGHT SIDE SIDESWIPE',\n",
    " 'PEDALCYCLIST STRUCK PEDALCYCLIST FRONT END AT ANGLE',\n",
    " 'DRIVERLESS VEHICLE RAN OFF ROAD - NO COLLISION',\n",
    " 'PEDALCYCLIST STRUCK PEDALCYCLIST REAR END',\n",
    " 'DRIVERLESS VEHICLE STRUCK MOTOR VEHICLE RIGHT SIDE SIDESWIPE',\n",
    " 'PEDALCYCLIST STRUCK MOTOR VEHICLE LEFT SIDE AT ANGLE',\n",
    " 'DRIVERLESS VEHICLE STRUCK OBJECT IN ROADWAY',\n",
    " 'PEDALCYCLIST RAN OFF ROAD - HIT FIXED OBJECT',\n",
    " 'PEDALCYCLIST STRUCK MOTOR VEHICLE RIGHT SIDE AT ANGLE'])\n",
    "X.iloc[:, 3] = le_SDOT_COLDESC.transform(X.iloc[:, 3])"
   ]
  },
  {
   "cell_type": "code",
   "execution_count": 170,
   "metadata": {},
   "outputs": [
    {
     "output_type": "execute_result",
     "data": {
      "text/plain": "array([&#39;Overcast&#39;, &#39;Raining&#39;, &#39;Clear&#39;, &#39;Unknown&#39;, &#39;Other&#39;, &#39;Snowing&#39;,\n       &#39;Fog/Smog/Smoke&#39;, &#39;Sleet/Hail/Freezing Rain&#39;, &#39;Blowing Sand/Dirt&#39;,\n       &#39;Severe Crosswind&#39;, &#39;Partly Cloudy&#39;], dtype=object)"
     },
     "metadata": {},
     "execution_count": 170
    }
   ],
   "source": [
    "df_coll.WEATHER.unique()"
   ]
  },
  {
   "cell_type": "code",
   "execution_count": 171,
   "metadata": {},
   "outputs": [],
   "source": [
    "le_WEATHER = preprocessing.LabelEncoder()\n",
    "le_WEATHER.fit(['Overcast', 'Raining', 'Clear', 'Unknown', 'Other', 'Snowing',\n",
    "       'Fog/Smog/Smoke', 'Sleet/Hail/Freezing Rain', 'Blowing Sand/Dirt',\n",
    "       'Severe Crosswind', 'Partly Cloudy'])\n",
    "X.iloc[:, 4] = le_WEATHER.transform(X.iloc[:, 4])"
   ]
  },
  {
   "cell_type": "code",
   "execution_count": 172,
   "metadata": {},
   "outputs": [
    {
     "output_type": "execute_result",
     "data": {
      "text/plain": "array([&#39;Wet&#39;, &#39;Dry&#39;, &#39;Unknown&#39;, &#39;Snow/Slush&#39;, &#39;Ice&#39;, &#39;Other&#39;,\n       &#39;Sand/Mud/Dirt&#39;, &#39;Standing Water&#39;, &#39;Oil&#39;], dtype=object)"
     },
     "metadata": {},
     "execution_count": 172
    }
   ],
   "source": [
    "df_coll.ROADCOND.unique()"
   ]
  },
  {
   "cell_type": "code",
   "execution_count": 173,
   "metadata": {},
   "outputs": [],
   "source": [
    "le_ROADCOND = preprocessing.LabelEncoder()\n",
    "le_ROADCOND.fit(['Wet', 'Dry', 'Unknown', 'Snow/Slush', 'Ice', 'Other',\n",
    "       'Sand/Mud/Dirt', 'Standing Water', 'Oil'])\n",
    "X.iloc[:, 5] = le_ROADCOND.transform(X.iloc[:, 5])"
   ]
  },
  {
   "cell_type": "code",
   "execution_count": 174,
   "metadata": {},
   "outputs": [
    {
     "output_type": "execute_result",
     "data": {
      "text/plain": "array([&#39;Daylight&#39;, &#39;Dark - Street Lights On&#39;, &#39;Dark - No Street Lights&#39;,\n       &#39;Unknown&#39;, &#39;Dusk&#39;, &#39;Dawn&#39;, &#39;Dark - Street Lights Off&#39;, &#39;Other&#39;,\n       &#39;Dark - Unknown Lighting&#39;], dtype=object)"
     },
     "metadata": {},
     "execution_count": 174
    }
   ],
   "source": [
    "df_coll.LIGHTCOND.unique()"
   ]
  },
  {
   "cell_type": "code",
   "execution_count": 175,
   "metadata": {},
   "outputs": [],
   "source": [
    "le_LIGHTCOND = preprocessing.LabelEncoder()\n",
    "le_LIGHTCOND.fit(['Daylight', 'Dark - Street Lights On', 'Dark - No Street Lights',\n",
    "       'Unknown', 'Dusk', 'Dawn', 'Dark - Street Lights Off', 'Other',\n",
    "       'Dark - Unknown Lighting'])\n",
    "X.iloc[:, 6] = le_LIGHTCOND.transform(X.iloc[:, 6])"
   ]
  },
  {
   "cell_type": "code",
   "execution_count": 176,
   "metadata": {},
   "outputs": [
    {
     "output_type": "execute_result",
     "data": {
      "text/plain": "[&#39;Entering at angle&#39;,\n &#39;From same direction - both going straight - both moving - sideswipe&#39;,\n &#39;One parked--one moving&#39;,\n &#39;From same direction - all others&#39;,\n &#39;Vehicle Strikes Pedalcyclist&#39;,\n &#39;From same direction - both going straight - one stopped - rear-end&#39;,\n &#39;From opposite direction - all others&#39;,\n &#39;From opposite direction - one left turn - one straight&#39;,\n &#39;Other object&#39;,\n &#39;From same direction - both going straight - both moving - rear-end&#39;,\n &#39;Fixed object&#39;,\n &#39;One car leaving driveway access&#39;,\n &#39;From same direction - both going straight - one stopped - sideswipe&#39;,\n &#39;Vehicle - Pedalcyclist&#39;,\n &#39;Vehicle going straight hits pedestrian&#39;,\n &#39;One car leaving parked position&#39;,\n &#39;One car entering driveway access&#39;,\n &#39;Vehicle turning right hits pedestrian&#39;,\n &#39;Vehicle overturned&#39;,\n &#39;From same direction - one right turn - one straight&#39;,\n &#39;From same direction - one left turn - one straight&#39;,\n &#39;Same direction -- both turning right -- one stopped -- rear end&#39;,\n &#39;Same direction -- both turning left -- both moving -- sideswipe&#39;,\n &#39;From opposite direction - both going straight - sideswipe&#39;,\n &#39;One car entering parked position&#39;,\n &#39;Vehicle turning left hits pedestrian&#39;,\n &#39;Vehicle Hits Other Road or Construction Machinery&#39;,\n &#39;Same direction -- both turning right -- both moving -- sideswipe&#39;,\n &#39;Vehicle backing hits pedestrian&#39;,\n &#39;From opposite direction - both moving - head-on&#39;,\n &#39;Railway Vehicle Strikes Vehicle&#39;,\n &#39;All other non-collision&#39;,\n &#39;Pedalcyclist Strikes Moving Vehicle&#39;,\n &#39;Same direction -- both turning left -- both moving -- rear end&#39;,\n &#39;From opposite direction - one stopped - head-on&#39;,\n &#39;From opposite direction - both going straight - one stopped - sideswipe&#39;,\n &#39;Vehicle hits Pedestrian - All Other Actions&#39;,\n &#39;Same direction -- both turning right -- one stopped -- sideswipe&#39;,\n &#39;From opposite direction - one left turn - one right turn&#39;,\n &#39;Breakage of any part of the vehicle resulting in injury or in further property damage&#39;,\n &#39;Same direction -- both turning right -- both moving -- rear end&#39;,\n &#39;Vehicle Strikes Railway Vehicle&#39;,\n &#39;Strikes or Was Struck by Object from the Load of Another Vehicle&#39;,\n &#39;Vehicle Struck by City Road or Construction Machinery&#39;,\n &#39;Same direction -- both turning left -- one stopped -- sideswipe&#39;,\n &#39;Vehicle Struck by Other Road or Construction Machinery&#39;,\n &#39;Non-domestic animal (deer, bear, elk, etc)&#39;,\n &#39;Same direction -- both turning left -- one stopped -- rear end&#39;,\n &#39;Not stated&#39;,\n &#39;Railway Vehicle Strikes Pedalcyclist&#39;,\n &#39;Railway Vehicle Strikes Pedestrian&#39;,\n &#39;Vehicle Hits City Road or Construction Machinery&#39;,\n &#39;Domestic animal other (cat, dog, etc)&#39;,\n &#39;Person fell, jumped or was pushed from vehicle&#39;,\n &#39;Fire started in vehicle&#39;,\n &#39;Vehicle Hits State Road or Construction Machinery&#39;,\n &#39;Vehicle Strikes All Other Non-Domestic Animal&#39;,\n &#39;Pedalcyclist Strikes Pedalcyclist or Pedestrian&#39;,\n &#39;Pedalcyclist All Other Involvements ONE UNIT - PEDALCYCLIST ONLY or PEDALCYCLIST STR&#39;,\n &#39;Vehicle Strikes Deer&#39;,\n &#39;All Other Multi Vehicle&#39;,\n &#39;Strikes or Was Struck by a Part of Another Vehicle (Not from Load)&#39;]"
     },
     "metadata": {},
     "execution_count": 176
    }
   ],
   "source": [
    "df_coll.ST_COLDESC.unique().tolist()"
   ]
  },
  {
   "cell_type": "code",
   "execution_count": 177,
   "metadata": {},
   "outputs": [],
   "source": [
    "le_ST_COLDESC = preprocessing.LabelEncoder()\n",
    "le_ST_COLDESC.fit(['Entering at angle',\n",
    " 'From same direction - both going straight - both moving - sideswipe',\n",
    " 'One parked--one moving',\n",
    " 'From same direction - all others',\n",
    " 'Vehicle Strikes Pedalcyclist',\n",
    " 'From same direction - both going straight - one stopped - rear-end',\n",
    " 'From opposite direction - all others',\n",
    " 'From opposite direction - one left turn - one straight',\n",
    " 'Other object',\n",
    " 'From same direction - both going straight - both moving - rear-end',\n",
    " 'Fixed object',\n",
    " 'One car leaving driveway access',\n",
    " 'From same direction - both going straight - one stopped - sideswipe',\n",
    " 'Vehicle - Pedalcyclist',\n",
    " 'Vehicle going straight hits pedestrian',\n",
    " 'One car leaving parked position',\n",
    " 'One car entering driveway access',\n",
    " 'Vehicle turning right hits pedestrian',\n",
    " 'Vehicle overturned',\n",
    " 'From same direction - one right turn - one straight',\n",
    " 'From same direction - one left turn - one straight',\n",
    " 'Same direction -- both turning right -- one stopped -- rear end',\n",
    " 'Same direction -- both turning left -- both moving -- sideswipe',\n",
    " 'From opposite direction - both going straight - sideswipe',\n",
    " 'One car entering parked position',\n",
    " 'Vehicle turning left hits pedestrian',\n",
    " 'Vehicle Hits Other Road or Construction Machinery',\n",
    " 'Same direction -- both turning right -- both moving -- sideswipe',\n",
    " 'Vehicle backing hits pedestrian',\n",
    " 'From opposite direction - both moving - head-on',\n",
    " 'Railway Vehicle Strikes Vehicle',\n",
    " 'All other non-collision',\n",
    " 'Pedalcyclist Strikes Moving Vehicle',\n",
    " 'Same direction -- both turning left -- both moving -- rear end',\n",
    " 'From opposite direction - one stopped - head-on',\n",
    " 'From opposite direction - both going straight - one stopped - sideswipe',\n",
    " 'Vehicle hits Pedestrian - All Other Actions',\n",
    " 'Same direction -- both turning right -- one stopped -- sideswipe',\n",
    " 'From opposite direction - one left turn - one right turn',\n",
    " 'Breakage of any part of the vehicle resulting in injury or in further property damage',\n",
    " 'Same direction -- both turning right -- both moving -- rear end',\n",
    " 'Vehicle Strikes Railway Vehicle',\n",
    " 'Strikes or Was Struck by Object from the Load of Another Vehicle',\n",
    " 'Vehicle Struck by City Road or Construction Machinery',\n",
    " 'Same direction -- both turning left -- one stopped -- sideswipe',\n",
    " 'Vehicle Struck by Other Road or Construction Machinery',\n",
    " 'Non-domestic animal (deer, bear, elk, etc)',\n",
    " 'Same direction -- both turning left -- one stopped -- rear end',\n",
    " 'Not stated',\n",
    " 'Railway Vehicle Strikes Pedalcyclist',\n",
    " 'Railway Vehicle Strikes Pedestrian',\n",
    " 'Vehicle Hits City Road or Construction Machinery',\n",
    " 'Domestic animal other (cat, dog, etc)',\n",
    " 'Person fell, jumped or was pushed from vehicle',\n",
    " 'Fire started in vehicle',\n",
    " 'Vehicle Hits State Road or Construction Machinery',\n",
    " 'Vehicle Strikes All Other Non-Domestic Animal',\n",
    " 'Pedalcyclist Strikes Pedalcyclist or Pedestrian',\n",
    " 'Pedalcyclist All Other Involvements ONE UNIT - PEDALCYCLIST ONLY or PEDALCYCLIST STR',\n",
    " 'Vehicle Strikes Deer',\n",
    " 'All Other Multi Vehicle',\n",
    " 'Strikes or Was Struck by a Part of Another Vehicle (Not from Load)'])\n",
    "X.iloc[:, 7] = le_ST_COLDESC.transform(X.iloc[:, 7])"
   ]
  },
  {
   "cell_type": "code",
   "execution_count": 178,
   "metadata": {},
   "outputs": [
    {
     "output_type": "execute_result",
     "data": {
      "text/plain": "[&#39;North&#39;, &#39;Center&#39;, &#39;South&#39;]\nCategories (3, object): [&#39;South&#39; &lt; &#39;Center&#39; &lt; &#39;North&#39;]"
     },
     "metadata": {},
     "execution_count": 178
    }
   ],
   "source": [
    "df_coll.Area.unique()"
   ]
  },
  {
   "cell_type": "code",
   "execution_count": 179,
   "metadata": {},
   "outputs": [],
   "source": [
    "le_Area = preprocessing.LabelEncoder()\n",
    "le_Area.fit(['North', 'Center', 'South'])\n",
    "X.iloc[:, 8] = le_Area.transform(X.iloc[:, 8])"
   ]
  },
  {
   "cell_type": "code",
   "execution_count": 180,
   "metadata": {},
   "outputs": [
    {
     "output_type": "execute_result",
     "data": {
      "text/plain": "   ADDRTYPE  COLLISIONTYPE  PERSONCOUNT  SDOT_COLDESC  WEATHER  ROADCOND  \\\n0         1              0     0.024691            14        4         8   \n1         0              9     0.024691            16        6         8   \n2         0              5     0.049383            17        4         0   \n3         0              4     0.037037            14        1         0   \n4         1              0     0.024691            14        6         8   \n\n   LIGHTCOND  ST_COLDESC  Area  \n0          5           4     1  \n1          2          16     0  \n2          5          27     0  \n3          5          14     0  \n4          5           4     2  ",
      "text/html": "<div>\n<style scoped>\n    .dataframe tbody tr th:only-of-type {\n        vertical-align: middle;\n    }\n\n    .dataframe tbody tr th {\n        vertical-align: top;\n    }\n\n    .dataframe thead th {\n        text-align: right;\n    }\n</style>\n<table border=\"1\" class=\"dataframe\">\n  <thead>\n    <tr style=\"text-align: right;\">\n      <th></th>\n      <th>ADDRTYPE</th>\n      <th>COLLISIONTYPE</th>\n      <th>PERSONCOUNT</th>\n      <th>SDOT_COLDESC</th>\n      <th>WEATHER</th>\n      <th>ROADCOND</th>\n      <th>LIGHTCOND</th>\n      <th>ST_COLDESC</th>\n      <th>Area</th>\n    </tr>\n  </thead>\n  <tbody>\n    <tr>\n      <th>0</th>\n      <td>1</td>\n      <td>0</td>\n      <td>0.024691</td>\n      <td>14</td>\n      <td>4</td>\n      <td>8</td>\n      <td>5</td>\n      <td>4</td>\n      <td>1</td>\n    </tr>\n    <tr>\n      <th>1</th>\n      <td>0</td>\n      <td>9</td>\n      <td>0.024691</td>\n      <td>16</td>\n      <td>6</td>\n      <td>8</td>\n      <td>2</td>\n      <td>16</td>\n      <td>0</td>\n    </tr>\n    <tr>\n      <th>2</th>\n      <td>0</td>\n      <td>5</td>\n      <td>0.049383</td>\n      <td>17</td>\n      <td>4</td>\n      <td>0</td>\n      <td>5</td>\n      <td>27</td>\n      <td>0</td>\n    </tr>\n    <tr>\n      <th>3</th>\n      <td>0</td>\n      <td>4</td>\n      <td>0.037037</td>\n      <td>14</td>\n      <td>1</td>\n      <td>0</td>\n      <td>5</td>\n      <td>14</td>\n      <td>0</td>\n    </tr>\n    <tr>\n      <th>4</th>\n      <td>1</td>\n      <td>0</td>\n      <td>0.024691</td>\n      <td>14</td>\n      <td>6</td>\n      <td>8</td>\n      <td>5</td>\n      <td>4</td>\n      <td>2</td>\n    </tr>\n  </tbody>\n</table>\n</div>"
     },
     "metadata": {},
     "execution_count": 180
    }
   ],
   "source": [
    "X.head()"
   ]
  },
  {
   "cell_type": "code",
   "execution_count": 181,
   "metadata": {},
   "outputs": [
    {
     "output_type": "execute_result",
     "data": {
      "text/plain": "   Deadly_Accident  ADDRTYPE  COLLISIONTYPE  PERSONCOUNT  SDOT_COLDESC  \\\n0                1         1              0     0.024691            14   \n1                0         0              9     0.024691            16   \n2                0         0              5     0.049383            17   \n3                0         0              4     0.037037            14   \n4                1         1              0     0.024691            14   \n\n   WEATHER  ROADCOND  LIGHTCOND  ST_COLDESC  Area  \n0        4         8          5           4     1  \n1        6         8          2          16     0  \n2        4         0          5          27     0  \n3        1         0          5          14     0  \n4        6         8          5           4     2  ",
      "text/html": "<div>\n<style scoped>\n    .dataframe tbody tr th:only-of-type {\n        vertical-align: middle;\n    }\n\n    .dataframe tbody tr th {\n        vertical-align: top;\n    }\n\n    .dataframe thead th {\n        text-align: right;\n    }\n</style>\n<table border=\"1\" class=\"dataframe\">\n  <thead>\n    <tr style=\"text-align: right;\">\n      <th></th>\n      <th>Deadly_Accident</th>\n      <th>ADDRTYPE</th>\n      <th>COLLISIONTYPE</th>\n      <th>PERSONCOUNT</th>\n      <th>SDOT_COLDESC</th>\n      <th>WEATHER</th>\n      <th>ROADCOND</th>\n      <th>LIGHTCOND</th>\n      <th>ST_COLDESC</th>\n      <th>Area</th>\n    </tr>\n  </thead>\n  <tbody>\n    <tr>\n      <th>0</th>\n      <td>1</td>\n      <td>1</td>\n      <td>0</td>\n      <td>0.024691</td>\n      <td>14</td>\n      <td>4</td>\n      <td>8</td>\n      <td>5</td>\n      <td>4</td>\n      <td>1</td>\n    </tr>\n    <tr>\n      <th>1</th>\n      <td>0</td>\n      <td>0</td>\n      <td>9</td>\n      <td>0.024691</td>\n      <td>16</td>\n      <td>6</td>\n      <td>8</td>\n      <td>2</td>\n      <td>16</td>\n      <td>0</td>\n    </tr>\n    <tr>\n      <th>2</th>\n      <td>0</td>\n      <td>0</td>\n      <td>5</td>\n      <td>0.049383</td>\n      <td>17</td>\n      <td>4</td>\n      <td>0</td>\n      <td>5</td>\n      <td>27</td>\n      <td>0</td>\n    </tr>\n    <tr>\n      <th>3</th>\n      <td>0</td>\n      <td>0</td>\n      <td>4</td>\n      <td>0.037037</td>\n      <td>14</td>\n      <td>1</td>\n      <td>0</td>\n      <td>5</td>\n      <td>14</td>\n      <td>0</td>\n    </tr>\n    <tr>\n      <th>4</th>\n      <td>1</td>\n      <td>1</td>\n      <td>0</td>\n      <td>0.024691</td>\n      <td>14</td>\n      <td>6</td>\n      <td>8</td>\n      <td>5</td>\n      <td>4</td>\n      <td>2</td>\n    </tr>\n  </tbody>\n</table>\n</div>"
     },
     "metadata": {},
     "execution_count": 181
    }
   ],
   "source": [
    "temp1 = df_coll.Deadly_Accident\n",
    "temp1 = pd.concat([temp1, X], axis=1)\n",
    "temp1.head()"
   ]
  },
  {
   "source": [
    "temp1.corr() ## just for general knowledge"
   ],
   "cell_type": "code",
   "metadata": {},
   "execution_count": 182,
   "outputs": [
    {
     "output_type": "execute_result",
     "data": {
      "text/plain": "                 Deadly_Accident  ADDRTYPE  COLLISIONTYPE  PERSONCOUNT  \\\nDeadly_Accident         1.000000  0.200601      -0.129741     0.127633   \nADDRTYPE                0.200601  1.000000      -0.481823     0.062622   \nCOLLISIONTYPE          -0.129741 -0.481823       1.000000     0.012533   \nPERSONCOUNT             0.127633  0.062622       0.012533     1.000000   \nSDOT_COLDESC           -0.036518 -0.198577       0.081282    -0.026802   \nWEATHER                -0.106009 -0.086219       0.028065    -0.060862   \nROADCOND               -0.046157 -0.026438      -0.001675    -0.028536   \nLIGHTCOND              -0.056721 -0.050947       0.030438    -0.039518   \nST_COLDESC              0.090855 -0.176725       0.362848    -0.076163   \nArea                    0.022076 -0.034510      -0.003029    -0.000186   \n\n                 SDOT_COLDESC   WEATHER  ROADCOND  LIGHTCOND  ST_COLDESC  \\\nDeadly_Accident     -0.036518 -0.106009 -0.046157  -0.056721    0.090855   \nADDRTYPE            -0.198577 -0.086219 -0.026438  -0.050947   -0.176725   \nCOLLISIONTYPE        0.081282  0.028065 -0.001675   0.030438    0.362848   \nPERSONCOUNT         -0.026802 -0.060862 -0.028536  -0.039518   -0.076163   \nSDOT_COLDESC         1.000000  0.145854  0.058117   0.145220    0.138571   \nWEATHER              0.145854  1.000000  0.748500   0.203853    0.058366   \nROADCOND             0.058117  0.748500  1.000000   0.021078   -0.003007   \nLIGHTCOND            0.145220  0.203853  0.021078   1.000000    0.058432   \nST_COLDESC           0.138571  0.058366 -0.003007   0.058432    1.000000   \nArea                -0.013764 -0.009187  0.017219   0.003403   -0.096674   \n\n                     Area  \nDeadly_Accident  0.022076  \nADDRTYPE        -0.034510  \nCOLLISIONTYPE   -0.003029  \nPERSONCOUNT     -0.000186  \nSDOT_COLDESC    -0.013764  \nWEATHER         -0.009187  \nROADCOND         0.017219  \nLIGHTCOND        0.003403  \nST_COLDESC      -0.096674  \nArea             1.000000  ",
      "text/html": "<div>\n<style scoped>\n    .dataframe tbody tr th:only-of-type {\n        vertical-align: middle;\n    }\n\n    .dataframe tbody tr th {\n        vertical-align: top;\n    }\n\n    .dataframe thead th {\n        text-align: right;\n    }\n</style>\n<table border=\"1\" class=\"dataframe\">\n  <thead>\n    <tr style=\"text-align: right;\">\n      <th></th>\n      <th>Deadly_Accident</th>\n      <th>ADDRTYPE</th>\n      <th>COLLISIONTYPE</th>\n      <th>PERSONCOUNT</th>\n      <th>SDOT_COLDESC</th>\n      <th>WEATHER</th>\n      <th>ROADCOND</th>\n      <th>LIGHTCOND</th>\n      <th>ST_COLDESC</th>\n      <th>Area</th>\n    </tr>\n  </thead>\n  <tbody>\n    <tr>\n      <th>Deadly_Accident</th>\n      <td>1.000000</td>\n      <td>0.200601</td>\n      <td>-0.129741</td>\n      <td>0.127633</td>\n      <td>-0.036518</td>\n      <td>-0.106009</td>\n      <td>-0.046157</td>\n      <td>-0.056721</td>\n      <td>0.090855</td>\n      <td>0.022076</td>\n    </tr>\n    <tr>\n      <th>ADDRTYPE</th>\n      <td>0.200601</td>\n      <td>1.000000</td>\n      <td>-0.481823</td>\n      <td>0.062622</td>\n      <td>-0.198577</td>\n      <td>-0.086219</td>\n      <td>-0.026438</td>\n      <td>-0.050947</td>\n      <td>-0.176725</td>\n      <td>-0.034510</td>\n    </tr>\n    <tr>\n      <th>COLLISIONTYPE</th>\n      <td>-0.129741</td>\n      <td>-0.481823</td>\n      <td>1.000000</td>\n      <td>0.012533</td>\n      <td>0.081282</td>\n      <td>0.028065</td>\n      <td>-0.001675</td>\n      <td>0.030438</td>\n      <td>0.362848</td>\n      <td>-0.003029</td>\n    </tr>\n    <tr>\n      <th>PERSONCOUNT</th>\n      <td>0.127633</td>\n      <td>0.062622</td>\n      <td>0.012533</td>\n      <td>1.000000</td>\n      <td>-0.026802</td>\n      <td>-0.060862</td>\n      <td>-0.028536</td>\n      <td>-0.039518</td>\n      <td>-0.076163</td>\n      <td>-0.000186</td>\n    </tr>\n    <tr>\n      <th>SDOT_COLDESC</th>\n      <td>-0.036518</td>\n      <td>-0.198577</td>\n      <td>0.081282</td>\n      <td>-0.026802</td>\n      <td>1.000000</td>\n      <td>0.145854</td>\n      <td>0.058117</td>\n      <td>0.145220</td>\n      <td>0.138571</td>\n      <td>-0.013764</td>\n    </tr>\n    <tr>\n      <th>WEATHER</th>\n      <td>-0.106009</td>\n      <td>-0.086219</td>\n      <td>0.028065</td>\n      <td>-0.060862</td>\n      <td>0.145854</td>\n      <td>1.000000</td>\n      <td>0.748500</td>\n      <td>0.203853</td>\n      <td>0.058366</td>\n      <td>-0.009187</td>\n    </tr>\n    <tr>\n      <th>ROADCOND</th>\n      <td>-0.046157</td>\n      <td>-0.026438</td>\n      <td>-0.001675</td>\n      <td>-0.028536</td>\n      <td>0.058117</td>\n      <td>0.748500</td>\n      <td>1.000000</td>\n      <td>0.021078</td>\n      <td>-0.003007</td>\n      <td>0.017219</td>\n    </tr>\n    <tr>\n      <th>LIGHTCOND</th>\n      <td>-0.056721</td>\n      <td>-0.050947</td>\n      <td>0.030438</td>\n      <td>-0.039518</td>\n      <td>0.145220</td>\n      <td>0.203853</td>\n      <td>0.021078</td>\n      <td>1.000000</td>\n      <td>0.058432</td>\n      <td>0.003403</td>\n    </tr>\n    <tr>\n      <th>ST_COLDESC</th>\n      <td>0.090855</td>\n      <td>-0.176725</td>\n      <td>0.362848</td>\n      <td>-0.076163</td>\n      <td>0.138571</td>\n      <td>0.058366</td>\n      <td>-0.003007</td>\n      <td>0.058432</td>\n      <td>1.000000</td>\n      <td>-0.096674</td>\n    </tr>\n    <tr>\n      <th>Area</th>\n      <td>0.022076</td>\n      <td>-0.034510</td>\n      <td>-0.003029</td>\n      <td>-0.000186</td>\n      <td>-0.013764</td>\n      <td>-0.009187</td>\n      <td>0.017219</td>\n      <td>0.003403</td>\n      <td>-0.096674</td>\n      <td>1.000000</td>\n    </tr>\n  </tbody>\n</table>\n</div>"
     },
     "metadata": {},
     "execution_count": 182
    }
   ]
  },
  {
   "source": [
    "## In the next section I will use logistic regression beacuse our output is Yes or no (1 or 0)\n",
    "## so I believe that is the best optimal methodology"
   ],
   "cell_type": "markdown",
   "metadata": {}
  },
  {
   "cell_type": "code",
   "execution_count": 183,
   "metadata": {},
   "outputs": [
    {
     "output_type": "execute_result",
     "data": {
      "text/plain": "array([[1.0000000e+00, 0.0000000e+00, 2.4691358e-02, 1.4000000e+01,\n        4.0000000e+00, 8.0000000e+00, 5.0000000e+00, 4.0000000e+00,\n        1.0000000e+00],\n       [0.0000000e+00, 9.0000000e+00, 2.4691358e-02, 1.6000000e+01,\n        6.0000000e+00, 8.0000000e+00, 2.0000000e+00, 1.6000000e+01,\n        0.0000000e+00],\n       [0.0000000e+00, 5.0000000e+00, 4.9382716e-02, 1.7000000e+01,\n        4.0000000e+00, 0.0000000e+00, 5.0000000e+00, 2.7000000e+01,\n        0.0000000e+00],\n       [0.0000000e+00, 4.0000000e+00, 3.7037037e-02, 1.4000000e+01,\n        1.0000000e+00, 0.0000000e+00, 5.0000000e+00, 1.4000000e+01,\n        0.0000000e+00],\n       [1.0000000e+00, 0.0000000e+00, 2.4691358e-02, 1.4000000e+01,\n        6.0000000e+00, 8.0000000e+00, 5.0000000e+00, 4.0000000e+00,\n        2.0000000e+00]])"
     },
     "metadata": {},
     "execution_count": 183
    }
   ],
   "source": [
    "npX = np.asarray(X) ## convert X(df) to np array\n",
    "npX[0:5]"
   ]
  },
  {
   "cell_type": "code",
   "execution_count": 184,
   "metadata": {},
   "outputs": [
    {
     "output_type": "execute_result",
     "data": {
      "text/plain": "array([1, 0, 0, 0, 1], dtype=int64)"
     },
     "metadata": {},
     "execution_count": 184
    }
   ],
   "source": [
    "npY = np.asarray(y) ## convert y to np array\n",
    "npY[0:5]"
   ]
  },
  {
   "cell_type": "code",
   "execution_count": 185,
   "metadata": {},
   "outputs": [
    {
     "output_type": "execute_result",
     "data": {
      "text/plain": "array([[ 1.38540755, -1.60088434, -0.34423279, -0.49629055,  0.34025268,\n         1.49393411,  0.3598038 , -1.13841265,  0.24594864],\n       [-0.72180926,  1.6151249 , -0.34423279,  0.10658477,  1.0493154 ,\n         1.49393411, -1.40660147, -0.21444809, -0.99030463],\n       [-0.72180926,  0.18578746,  1.12835405,  0.40802244,  0.34025268,\n        -0.70345034,  0.3598038 ,  0.63251942, -0.99030463],\n       [-0.72180926, -0.1715469 ,  0.39206063, -0.49629055, -0.72334139,\n        -0.70345034,  0.3598038 , -0.36844218, -0.99030463],\n       [ 1.38540755, -1.60088434, -0.34423279, -0.49629055,  1.0493154 ,\n         1.49393411,  0.3598038 , -1.13841265,  1.48220191]])"
     },
     "metadata": {},
     "execution_count": 185
    }
   ],
   "source": [
    "npX = preprocessing.StandardScaler().fit(npX).transform(npX)\n",
    "npX[0:5]"
   ]
  },
  {
   "source": [
    "## Train/Test dataset"
   ],
   "cell_type": "markdown",
   "metadata": {}
  },
  {
   "cell_type": "code",
   "execution_count": 186,
   "metadata": {
    "tags": []
   },
   "outputs": [
    {
     "output_type": "stream",
     "name": "stdout",
     "text": "Train set: (147665, 9) (147665,)\nTest set: (36917, 9) (36917,)\n"
    }
   ],
   "source": [
    "from sklearn.model_selection import train_test_split\n",
    "X_train, X_test, y_train, y_test = train_test_split(npX, y, test_size=0.2, random_state=4)\n",
    "print ('Train set:', X_train.shape,  y_train.shape)\n",
    "print ('Test set:', X_test.shape,  y_test.shape)"
   ]
  },
  {
   "source": [
    "<h2 id=\"modeling\">Modeling (Logistic Regression with Scikit-learn)</h2>"
   ],
   "cell_type": "markdown",
   "metadata": {}
  },
  {
   "cell_type": "code",
   "execution_count": 187,
   "metadata": {},
   "outputs": [
    {
     "output_type": "execute_result",
     "data": {
      "text/plain": "LogisticRegression(C=0.01, solver=&#39;liblinear&#39;)"
     },
     "metadata": {},
     "execution_count": 187
    }
   ],
   "source": [
    "from sklearn.linear_model import LogisticRegression\n",
    "from sklearn.metrics import confusion_matrix\n",
    "LR = LogisticRegression(C=0.01, solver='liblinear').fit(X_train,y_train)\n",
    "LR"
   ]
  },
  {
   "cell_type": "code",
   "execution_count": 188,
   "metadata": {},
   "outputs": [
    {
     "output_type": "execute_result",
     "data": {
      "text/plain": "array([0, 0, 0, ..., 0, 0, 0], dtype=int64)"
     },
     "metadata": {},
     "execution_count": 188
    }
   ],
   "source": [
    "yhat = LR.predict(X_test) ## predict\n",
    "yhat"
   ]
  },
  {
   "source": [
    "__predict_proba__  returns estimates for all classes, ordered by the label of classes. So, the first column is the probability of class 1, P(Y=1|X), and second column is probability of class 0, P(Y=0|X):"
   ],
   "cell_type": "markdown",
   "metadata": {}
  },
  {
   "cell_type": "code",
   "execution_count": 189,
   "metadata": {},
   "outputs": [
    {
     "output_type": "execute_result",
     "data": {
      "text/plain": "array([[0.80624949, 0.19375051],\n       [0.6889016 , 0.3110984 ],\n       [0.80680567, 0.19319433],\n       ...,\n       [0.74214709, 0.25785291],\n       [0.76207692, 0.23792308],\n       [0.76094316, 0.23905684]])"
     },
     "metadata": {},
     "execution_count": 189
    }
   ],
   "source": [
    "yhat_prob = LR.predict_proba(X_test) \n",
    "yhat_prob"
   ]
  },
  {
   "cell_type": "code",
   "execution_count": 190,
   "metadata": {},
   "outputs": [],
   "source": [
    "from sklearn.metrics import classification_report"
   ]
  },
  {
   "cell_type": "code",
   "execution_count": 191,
   "metadata": {
    "tags": []
   },
   "outputs": [
    {
     "output_type": "stream",
     "name": "stdout",
     "text": "              precision    recall  f1-score   support\n\n           0       0.74      0.95      0.83     25769\n           1       0.68      0.22      0.34     11148\n\n    accuracy                           0.73     36917\n   macro avg       0.71      0.59      0.59     36917\nweighted avg       0.72      0.73      0.68     36917\n\n"
    }
   ],
   "source": [
    "print (classification_report(y_test, yhat))\n"
   ]
  },
  {
   "source": [
    "## the accuracy of the model is 73%"
   ],
   "cell_type": "markdown",
   "metadata": {}
  },
  {
   "source": [
    "# Machine learning : Decision Tree Classifier"
   ],
   "cell_type": "markdown",
   "metadata": {}
  },
  {
   "source": [
    "## In the next section I will use Decision Tree Classifier to try more calssifiaction algoritm"
   ],
   "cell_type": "markdown",
   "metadata": {}
  },
  {
   "cell_type": "code",
   "execution_count": 192,
   "metadata": {},
   "outputs": [],
   "source": [
    "from sklearn.tree import DecisionTreeClassifier"
   ]
  },
  {
   "cell_type": "code",
   "execution_count": 193,
   "metadata": {},
   "outputs": [],
   "source": [
    "X_trainset, X_testset, y_trainset, y_testset = train_test_split(X, y, test_size=0.3, random_state=3)"
   ]
  },
  {
   "cell_type": "code",
   "execution_count": 194,
   "metadata": {
    "tags": []
   },
   "outputs": [
    {
     "output_type": "stream",
     "name": "stdout",
     "text": "DecisionTrees&#39;s Accuracy:  0.7461851015801354\n"
    }
   ],
   "source": [
    "AccTree = DecisionTreeClassifier(criterion=\"entropy\", max_depth = 4)\n",
    "AccTree.fit(X_trainset,y_trainset)\n",
    "predTree = AccTree.predict(X_testset)\n",
    "from sklearn import metrics\n",
    "import matplotlib.pyplot as plt\n",
    "print(\"DecisionTrees's Accuracy: \", metrics.accuracy_score(y_testset, predTree))"
   ]
  },
  {
   "cell_type": "code",
   "execution_count": 195,
   "metadata": {},
   "outputs": [],
   "source": [
    "Ks = 20\n",
    "mean_acc = np.zeros((Ks-1))\n",
    "std_acc = np.zeros((Ks-1))\n",
    "ConfustionMx = [];\n",
    "for n in range(1,Ks):\n",
    "    \n",
    "    #Train Model and Predict \n",
    "    AccTree = DecisionTreeClassifier(criterion=\"entropy\", max_depth = n).fit(X_trainset,y_trainset) \n",
    "    predTree = AccTree.predict(X_testset)\n",
    "    mean_acc[n-1] = metrics.accuracy_score(y_testset, predTree)\n",
    "\n",
    "    \n"
   ]
  },
  {
   "cell_type": "code",
   "execution_count": 196,
   "metadata": {},
   "outputs": [
    {
     "output_type": "display_data",
     "data": {
      "text/plain": "&lt;Figure size 432x288 with 1 Axes&gt;",
      "image/svg+xml": "<?xml version=\"1.0\" encoding=\"utf-8\" standalone=\"no\"?>\r\n<!DOCTYPE svg PUBLIC \"-//W3C//DTD SVG 1.1//EN\"\r\n  \"http://www.w3.org/Graphics/SVG/1.1/DTD/svg11.dtd\">\r\n<!-- Created with matplotlib (https://matplotlib.org/) -->\r\n<svg height=\"280.15625pt\" version=\"1.1\" viewBox=\"0 0 424.35625 280.15625\" width=\"424.35625pt\" xmlns=\"http://www.w3.org/2000/svg\" xmlns:xlink=\"http://www.w3.org/1999/xlink\">\r\n <metadata>\r\n  <rdf:RDF xmlns:cc=\"http://creativecommons.org/ns#\" xmlns:dc=\"http://purl.org/dc/elements/1.1/\" xmlns:rdf=\"http://www.w3.org/1999/02/22-rdf-syntax-ns#\">\r\n   <cc:Work>\r\n    <dc:type rdf:resource=\"http://purl.org/dc/dcmitype/StillImage\"/>\r\n    <dc:date>2020-10-09T21:41:12.975602</dc:date>\r\n    <dc:format>image/svg+xml</dc:format>\r\n    <dc:creator>\r\n     <cc:Agent>\r\n      <dc:title>Matplotlib v3.3.1, https://matplotlib.org/</dc:title>\r\n     </cc:Agent>\r\n    </dc:creator>\r\n   </cc:Work>\r\n  </rdf:RDF>\r\n </metadata>\r\n <defs>\r\n  <style type=\"text/css\">*{stroke-linecap:butt;stroke-linejoin:round;}</style>\r\n </defs>\r\n <g id=\"figure_1\">\r\n  <g id=\"patch_1\">\r\n   <path d=\"M 0 280.15625 \r\nL 424.35625 280.15625 \r\nL 424.35625 0 \r\nL 0 0 \r\nz\r\n\" style=\"fill:none;\"/>\r\n  </g>\r\n  <g id=\"axes_1\">\r\n   <g id=\"patch_2\">\r\n    <path d=\"M 56.50625 242.6 \r\nL 417.15625 242.6 \r\nL 417.15625 7.2 \r\nL 56.50625 7.2 \r\nz\r\n\" style=\"fill:#ffffff;\"/>\r\n   </g>\r\n   <g id=\"matplotlib.axis_1\">\r\n    <g id=\"xtick_1\">\r\n     <g id=\"line2d_1\">\r\n      <defs>\r\n       <path d=\"M 0 0 \r\nL 0 3.5 \r\n\" id=\"mc971e26798\" style=\"stroke:#000000;stroke-width:0.8;\"/>\r\n      </defs>\r\n      <g>\r\n       <use style=\"stroke:#000000;stroke-width:0.8;\" x=\"100.221402\" xlink:href=\"#mc971e26798\" y=\"242.6\"/>\r\n      </g>\r\n     </g>\r\n     <g id=\"text_1\">\r\n      <!-- 2.5 -->\r\n      <g transform=\"translate(92.269839 257.198438)scale(0.1 -0.1)\">\r\n       <defs>\r\n        <path d=\"M 19.1875 8.296875 \r\nL 53.609375 8.296875 \r\nL 53.609375 0 \r\nL 7.328125 0 \r\nL 7.328125 8.296875 \r\nQ 12.9375 14.109375 22.625 23.890625 \r\nQ 32.328125 33.6875 34.8125 36.53125 \r\nQ 39.546875 41.84375 41.421875 45.53125 \r\nQ 43.3125 49.21875 43.3125 52.78125 \r\nQ 43.3125 58.59375 39.234375 62.25 \r\nQ 35.15625 65.921875 28.609375 65.921875 \r\nQ 23.96875 65.921875 18.8125 64.3125 \r\nQ 13.671875 62.703125 7.8125 59.421875 \r\nL 7.8125 69.390625 \r\nQ 13.765625 71.78125 18.9375 73 \r\nQ 24.125 74.21875 28.421875 74.21875 \r\nQ 39.75 74.21875 46.484375 68.546875 \r\nQ 53.21875 62.890625 53.21875 53.421875 \r\nQ 53.21875 48.921875 51.53125 44.890625 \r\nQ 49.859375 40.875 45.40625 35.40625 \r\nQ 44.1875 33.984375 37.640625 27.21875 \r\nQ 31.109375 20.453125 19.1875 8.296875 \r\nz\r\n\" id=\"DejaVuSans-50\"/>\r\n        <path d=\"M 10.6875 12.40625 \r\nL 21 12.40625 \r\nL 21 0 \r\nL 10.6875 0 \r\nz\r\n\" id=\"DejaVuSans-46\"/>\r\n        <path d=\"M 10.796875 72.90625 \r\nL 49.515625 72.90625 \r\nL 49.515625 64.59375 \r\nL 19.828125 64.59375 \r\nL 19.828125 46.734375 \r\nQ 21.96875 47.46875 24.109375 47.828125 \r\nQ 26.265625 48.1875 28.421875 48.1875 \r\nQ 40.625 48.1875 47.75 41.5 \r\nQ 54.890625 34.8125 54.890625 23.390625 \r\nQ 54.890625 11.625 47.5625 5.09375 \r\nQ 40.234375 -1.421875 26.90625 -1.421875 \r\nQ 22.3125 -1.421875 17.546875 -0.640625 \r\nQ 12.796875 0.140625 7.71875 1.703125 \r\nL 7.71875 11.625 \r\nQ 12.109375 9.234375 16.796875 8.0625 \r\nQ 21.484375 6.890625 26.703125 6.890625 \r\nQ 35.15625 6.890625 40.078125 11.328125 \r\nQ 45.015625 15.765625 45.015625 23.390625 \r\nQ 45.015625 31 40.078125 35.4375 \r\nQ 35.15625 39.890625 26.703125 39.890625 \r\nQ 22.75 39.890625 18.8125 39.015625 \r\nQ 14.890625 38.140625 10.796875 36.28125 \r\nz\r\n\" id=\"DejaVuSans-53\"/>\r\n       </defs>\r\n       <use xlink:href=\"#DejaVuSans-50\"/>\r\n       <use x=\"63.623047\" xlink:href=\"#DejaVuSans-46\"/>\r\n       <use x=\"95.410156\" xlink:href=\"#DejaVuSans-53\"/>\r\n      </g>\r\n     </g>\r\n    </g>\r\n    <g id=\"xtick_2\">\r\n     <g id=\"line2d_2\">\r\n      <g>\r\n       <use style=\"stroke:#000000;stroke-width:0.8;\" x=\"145.758018\" xlink:href=\"#mc971e26798\" y=\"242.6\"/>\r\n      </g>\r\n     </g>\r\n     <g id=\"text_2\">\r\n      <!-- 5.0 -->\r\n      <g transform=\"translate(137.806455 257.198438)scale(0.1 -0.1)\">\r\n       <defs>\r\n        <path d=\"M 31.78125 66.40625 \r\nQ 24.171875 66.40625 20.328125 58.90625 \r\nQ 16.5 51.421875 16.5 36.375 \r\nQ 16.5 21.390625 20.328125 13.890625 \r\nQ 24.171875 6.390625 31.78125 6.390625 \r\nQ 39.453125 6.390625 43.28125 13.890625 \r\nQ 47.125 21.390625 47.125 36.375 \r\nQ 47.125 51.421875 43.28125 58.90625 \r\nQ 39.453125 66.40625 31.78125 66.40625 \r\nz\r\nM 31.78125 74.21875 \r\nQ 44.046875 74.21875 50.515625 64.515625 \r\nQ 56.984375 54.828125 56.984375 36.375 \r\nQ 56.984375 17.96875 50.515625 8.265625 \r\nQ 44.046875 -1.421875 31.78125 -1.421875 \r\nQ 19.53125 -1.421875 13.0625 8.265625 \r\nQ 6.59375 17.96875 6.59375 36.375 \r\nQ 6.59375 54.828125 13.0625 64.515625 \r\nQ 19.53125 74.21875 31.78125 74.21875 \r\nz\r\n\" id=\"DejaVuSans-48\"/>\r\n       </defs>\r\n       <use xlink:href=\"#DejaVuSans-53\"/>\r\n       <use x=\"63.623047\" xlink:href=\"#DejaVuSans-46\"/>\r\n       <use x=\"95.410156\" xlink:href=\"#DejaVuSans-48\"/>\r\n      </g>\r\n     </g>\r\n    </g>\r\n    <g id=\"xtick_3\">\r\n     <g id=\"line2d_3\">\r\n      <g>\r\n       <use style=\"stroke:#000000;stroke-width:0.8;\" x=\"191.294634\" xlink:href=\"#mc971e26798\" y=\"242.6\"/>\r\n      </g>\r\n     </g>\r\n     <g id=\"text_3\">\r\n      <!-- 7.5 -->\r\n      <g transform=\"translate(183.343071 257.198438)scale(0.1 -0.1)\">\r\n       <defs>\r\n        <path d=\"M 8.203125 72.90625 \r\nL 55.078125 72.90625 \r\nL 55.078125 68.703125 \r\nL 28.609375 0 \r\nL 18.3125 0 \r\nL 43.21875 64.59375 \r\nL 8.203125 64.59375 \r\nz\r\n\" id=\"DejaVuSans-55\"/>\r\n       </defs>\r\n       <use xlink:href=\"#DejaVuSans-55\"/>\r\n       <use x=\"63.623047\" xlink:href=\"#DejaVuSans-46\"/>\r\n       <use x=\"95.410156\" xlink:href=\"#DejaVuSans-53\"/>\r\n      </g>\r\n     </g>\r\n    </g>\r\n    <g id=\"xtick_4\">\r\n     <g id=\"line2d_4\">\r\n      <g>\r\n       <use style=\"stroke:#000000;stroke-width:0.8;\" x=\"236.83125\" xlink:href=\"#mc971e26798\" y=\"242.6\"/>\r\n      </g>\r\n     </g>\r\n     <g id=\"text_4\">\r\n      <!-- 10.0 -->\r\n      <g transform=\"translate(225.698438 257.198438)scale(0.1 -0.1)\">\r\n       <defs>\r\n        <path d=\"M 12.40625 8.296875 \r\nL 28.515625 8.296875 \r\nL 28.515625 63.921875 \r\nL 10.984375 60.40625 \r\nL 10.984375 69.390625 \r\nL 28.421875 72.90625 \r\nL 38.28125 72.90625 \r\nL 38.28125 8.296875 \r\nL 54.390625 8.296875 \r\nL 54.390625 0 \r\nL 12.40625 0 \r\nz\r\n\" id=\"DejaVuSans-49\"/>\r\n       </defs>\r\n       <use xlink:href=\"#DejaVuSans-49\"/>\r\n       <use x=\"63.623047\" xlink:href=\"#DejaVuSans-48\"/>\r\n       <use x=\"127.246094\" xlink:href=\"#DejaVuSans-46\"/>\r\n       <use x=\"159.033203\" xlink:href=\"#DejaVuSans-48\"/>\r\n      </g>\r\n     </g>\r\n    </g>\r\n    <g id=\"xtick_5\">\r\n     <g id=\"line2d_5\">\r\n      <g>\r\n       <use style=\"stroke:#000000;stroke-width:0.8;\" x=\"282.367866\" xlink:href=\"#mc971e26798\" y=\"242.6\"/>\r\n      </g>\r\n     </g>\r\n     <g id=\"text_5\">\r\n      <!-- 12.5 -->\r\n      <g transform=\"translate(271.235054 257.198438)scale(0.1 -0.1)\">\r\n       <use xlink:href=\"#DejaVuSans-49\"/>\r\n       <use x=\"63.623047\" xlink:href=\"#DejaVuSans-50\"/>\r\n       <use x=\"127.246094\" xlink:href=\"#DejaVuSans-46\"/>\r\n       <use x=\"159.033203\" xlink:href=\"#DejaVuSans-53\"/>\r\n      </g>\r\n     </g>\r\n    </g>\r\n    <g id=\"xtick_6\">\r\n     <g id=\"line2d_6\">\r\n      <g>\r\n       <use style=\"stroke:#000000;stroke-width:0.8;\" x=\"327.904482\" xlink:href=\"#mc971e26798\" y=\"242.6\"/>\r\n      </g>\r\n     </g>\r\n     <g id=\"text_6\">\r\n      <!-- 15.0 -->\r\n      <g transform=\"translate(316.77167 257.198438)scale(0.1 -0.1)\">\r\n       <use xlink:href=\"#DejaVuSans-49\"/>\r\n       <use x=\"63.623047\" xlink:href=\"#DejaVuSans-53\"/>\r\n       <use x=\"127.246094\" xlink:href=\"#DejaVuSans-46\"/>\r\n       <use x=\"159.033203\" xlink:href=\"#DejaVuSans-48\"/>\r\n      </g>\r\n     </g>\r\n    </g>\r\n    <g id=\"xtick_7\">\r\n     <g id=\"line2d_7\">\r\n      <g>\r\n       <use style=\"stroke:#000000;stroke-width:0.8;\" x=\"373.441098\" xlink:href=\"#mc971e26798\" y=\"242.6\"/>\r\n      </g>\r\n     </g>\r\n     <g id=\"text_7\">\r\n      <!-- 17.5 -->\r\n      <g transform=\"translate(362.308286 257.198438)scale(0.1 -0.1)\">\r\n       <use xlink:href=\"#DejaVuSans-49\"/>\r\n       <use x=\"63.623047\" xlink:href=\"#DejaVuSans-55\"/>\r\n       <use x=\"127.246094\" xlink:href=\"#DejaVuSans-46\"/>\r\n       <use x=\"159.033203\" xlink:href=\"#DejaVuSans-53\"/>\r\n      </g>\r\n     </g>\r\n    </g>\r\n    <g id=\"text_8\">\r\n     <!-- Number of Nabors (K) -->\r\n     <g transform=\"translate(182.279688 270.876563)scale(0.1 -0.1)\">\r\n      <defs>\r\n       <path d=\"M 9.8125 72.90625 \r\nL 23.09375 72.90625 \r\nL 55.421875 11.921875 \r\nL 55.421875 72.90625 \r\nL 64.984375 72.90625 \r\nL 64.984375 0 \r\nL 51.703125 0 \r\nL 19.390625 60.984375 \r\nL 19.390625 0 \r\nL 9.8125 0 \r\nz\r\n\" id=\"DejaVuSans-78\"/>\r\n       <path d=\"M 8.5 21.578125 \r\nL 8.5 54.6875 \r\nL 17.484375 54.6875 \r\nL 17.484375 21.921875 \r\nQ 17.484375 14.15625 20.5 10.265625 \r\nQ 23.53125 6.390625 29.59375 6.390625 \r\nQ 36.859375 6.390625 41.078125 11.03125 \r\nQ 45.3125 15.671875 45.3125 23.6875 \r\nL 45.3125 54.6875 \r\nL 54.296875 54.6875 \r\nL 54.296875 0 \r\nL 45.3125 0 \r\nL 45.3125 8.40625 \r\nQ 42.046875 3.421875 37.71875 1 \r\nQ 33.40625 -1.421875 27.6875 -1.421875 \r\nQ 18.265625 -1.421875 13.375 4.4375 \r\nQ 8.5 10.296875 8.5 21.578125 \r\nz\r\nM 31.109375 56 \r\nz\r\n\" id=\"DejaVuSans-117\"/>\r\n       <path d=\"M 52 44.1875 \r\nQ 55.375 50.25 60.0625 53.125 \r\nQ 64.75 56 71.09375 56 \r\nQ 79.640625 56 84.28125 50.015625 \r\nQ 88.921875 44.046875 88.921875 33.015625 \r\nL 88.921875 0 \r\nL 79.890625 0 \r\nL 79.890625 32.71875 \r\nQ 79.890625 40.578125 77.09375 44.375 \r\nQ 74.3125 48.1875 68.609375 48.1875 \r\nQ 61.625 48.1875 57.5625 43.546875 \r\nQ 53.515625 38.921875 53.515625 30.90625 \r\nL 53.515625 0 \r\nL 44.484375 0 \r\nL 44.484375 32.71875 \r\nQ 44.484375 40.625 41.703125 44.40625 \r\nQ 38.921875 48.1875 33.109375 48.1875 \r\nQ 26.21875 48.1875 22.15625 43.53125 \r\nQ 18.109375 38.875 18.109375 30.90625 \r\nL 18.109375 0 \r\nL 9.078125 0 \r\nL 9.078125 54.6875 \r\nL 18.109375 54.6875 \r\nL 18.109375 46.1875 \r\nQ 21.1875 51.21875 25.484375 53.609375 \r\nQ 29.78125 56 35.6875 56 \r\nQ 41.65625 56 45.828125 52.96875 \r\nQ 50 49.953125 52 44.1875 \r\nz\r\n\" id=\"DejaVuSans-109\"/>\r\n       <path d=\"M 48.6875 27.296875 \r\nQ 48.6875 37.203125 44.609375 42.84375 \r\nQ 40.53125 48.484375 33.40625 48.484375 \r\nQ 26.265625 48.484375 22.1875 42.84375 \r\nQ 18.109375 37.203125 18.109375 27.296875 \r\nQ 18.109375 17.390625 22.1875 11.75 \r\nQ 26.265625 6.109375 33.40625 6.109375 \r\nQ 40.53125 6.109375 44.609375 11.75 \r\nQ 48.6875 17.390625 48.6875 27.296875 \r\nz\r\nM 18.109375 46.390625 \r\nQ 20.953125 51.265625 25.265625 53.625 \r\nQ 29.59375 56 35.59375 56 \r\nQ 45.5625 56 51.78125 48.09375 \r\nQ 58.015625 40.1875 58.015625 27.296875 \r\nQ 58.015625 14.40625 51.78125 6.484375 \r\nQ 45.5625 -1.421875 35.59375 -1.421875 \r\nQ 29.59375 -1.421875 25.265625 0.953125 \r\nQ 20.953125 3.328125 18.109375 8.203125 \r\nL 18.109375 0 \r\nL 9.078125 0 \r\nL 9.078125 75.984375 \r\nL 18.109375 75.984375 \r\nz\r\n\" id=\"DejaVuSans-98\"/>\r\n       <path d=\"M 56.203125 29.59375 \r\nL 56.203125 25.203125 \r\nL 14.890625 25.203125 \r\nQ 15.484375 15.921875 20.484375 11.0625 \r\nQ 25.484375 6.203125 34.421875 6.203125 \r\nQ 39.59375 6.203125 44.453125 7.46875 \r\nQ 49.3125 8.734375 54.109375 11.28125 \r\nL 54.109375 2.78125 \r\nQ 49.265625 0.734375 44.1875 -0.34375 \r\nQ 39.109375 -1.421875 33.890625 -1.421875 \r\nQ 20.796875 -1.421875 13.15625 6.1875 \r\nQ 5.515625 13.8125 5.515625 26.8125 \r\nQ 5.515625 40.234375 12.765625 48.109375 \r\nQ 20.015625 56 32.328125 56 \r\nQ 43.359375 56 49.78125 48.890625 \r\nQ 56.203125 41.796875 56.203125 29.59375 \r\nz\r\nM 47.21875 32.234375 \r\nQ 47.125 39.59375 43.09375 43.984375 \r\nQ 39.0625 48.390625 32.421875 48.390625 \r\nQ 24.90625 48.390625 20.390625 44.140625 \r\nQ 15.875 39.890625 15.1875 32.171875 \r\nz\r\n\" id=\"DejaVuSans-101\"/>\r\n       <path d=\"M 41.109375 46.296875 \r\nQ 39.59375 47.171875 37.8125 47.578125 \r\nQ 36.03125 48 33.890625 48 \r\nQ 26.265625 48 22.1875 43.046875 \r\nQ 18.109375 38.09375 18.109375 28.8125 \r\nL 18.109375 0 \r\nL 9.078125 0 \r\nL 9.078125 54.6875 \r\nL 18.109375 54.6875 \r\nL 18.109375 46.1875 \r\nQ 20.953125 51.171875 25.484375 53.578125 \r\nQ 30.03125 56 36.53125 56 \r\nQ 37.453125 56 38.578125 55.875 \r\nQ 39.703125 55.765625 41.0625 55.515625 \r\nz\r\n\" id=\"DejaVuSans-114\"/>\r\n       <path id=\"DejaVuSans-32\"/>\r\n       <path d=\"M 30.609375 48.390625 \r\nQ 23.390625 48.390625 19.1875 42.75 \r\nQ 14.984375 37.109375 14.984375 27.296875 \r\nQ 14.984375 17.484375 19.15625 11.84375 \r\nQ 23.34375 6.203125 30.609375 6.203125 \r\nQ 37.796875 6.203125 41.984375 11.859375 \r\nQ 46.1875 17.53125 46.1875 27.296875 \r\nQ 46.1875 37.015625 41.984375 42.703125 \r\nQ 37.796875 48.390625 30.609375 48.390625 \r\nz\r\nM 30.609375 56 \r\nQ 42.328125 56 49.015625 48.375 \r\nQ 55.71875 40.765625 55.71875 27.296875 \r\nQ 55.71875 13.875 49.015625 6.21875 \r\nQ 42.328125 -1.421875 30.609375 -1.421875 \r\nQ 18.84375 -1.421875 12.171875 6.21875 \r\nQ 5.515625 13.875 5.515625 27.296875 \r\nQ 5.515625 40.765625 12.171875 48.375 \r\nQ 18.84375 56 30.609375 56 \r\nz\r\n\" id=\"DejaVuSans-111\"/>\r\n       <path d=\"M 37.109375 75.984375 \r\nL 37.109375 68.5 \r\nL 28.515625 68.5 \r\nQ 23.6875 68.5 21.796875 66.546875 \r\nQ 19.921875 64.59375 19.921875 59.515625 \r\nL 19.921875 54.6875 \r\nL 34.71875 54.6875 \r\nL 34.71875 47.703125 \r\nL 19.921875 47.703125 \r\nL 19.921875 0 \r\nL 10.890625 0 \r\nL 10.890625 47.703125 \r\nL 2.296875 47.703125 \r\nL 2.296875 54.6875 \r\nL 10.890625 54.6875 \r\nL 10.890625 58.5 \r\nQ 10.890625 67.625 15.140625 71.796875 \r\nQ 19.390625 75.984375 28.609375 75.984375 \r\nz\r\n\" id=\"DejaVuSans-102\"/>\r\n       <path d=\"M 34.28125 27.484375 \r\nQ 23.390625 27.484375 19.1875 25 \r\nQ 14.984375 22.515625 14.984375 16.5 \r\nQ 14.984375 11.71875 18.140625 8.90625 \r\nQ 21.296875 6.109375 26.703125 6.109375 \r\nQ 34.1875 6.109375 38.703125 11.40625 \r\nQ 43.21875 16.703125 43.21875 25.484375 \r\nL 43.21875 27.484375 \r\nz\r\nM 52.203125 31.203125 \r\nL 52.203125 0 \r\nL 43.21875 0 \r\nL 43.21875 8.296875 \r\nQ 40.140625 3.328125 35.546875 0.953125 \r\nQ 30.953125 -1.421875 24.3125 -1.421875 \r\nQ 15.921875 -1.421875 10.953125 3.296875 \r\nQ 6 8.015625 6 15.921875 \r\nQ 6 25.140625 12.171875 29.828125 \r\nQ 18.359375 34.515625 30.609375 34.515625 \r\nL 43.21875 34.515625 \r\nL 43.21875 35.40625 \r\nQ 43.21875 41.609375 39.140625 45 \r\nQ 35.0625 48.390625 27.6875 48.390625 \r\nQ 23 48.390625 18.546875 47.265625 \r\nQ 14.109375 46.140625 10.015625 43.890625 \r\nL 10.015625 52.203125 \r\nQ 14.9375 54.109375 19.578125 55.046875 \r\nQ 24.21875 56 28.609375 56 \r\nQ 40.484375 56 46.34375 49.84375 \r\nQ 52.203125 43.703125 52.203125 31.203125 \r\nz\r\n\" id=\"DejaVuSans-97\"/>\r\n       <path d=\"M 44.28125 53.078125 \r\nL 44.28125 44.578125 \r\nQ 40.484375 46.53125 36.375 47.5 \r\nQ 32.28125 48.484375 27.875 48.484375 \r\nQ 21.1875 48.484375 17.84375 46.4375 \r\nQ 14.5 44.390625 14.5 40.28125 \r\nQ 14.5 37.15625 16.890625 35.375 \r\nQ 19.28125 33.59375 26.515625 31.984375 \r\nL 29.59375 31.296875 \r\nQ 39.15625 29.25 43.1875 25.515625 \r\nQ 47.21875 21.78125 47.21875 15.09375 \r\nQ 47.21875 7.46875 41.1875 3.015625 \r\nQ 35.15625 -1.421875 24.609375 -1.421875 \r\nQ 20.21875 -1.421875 15.453125 -0.5625 \r\nQ 10.6875 0.296875 5.421875 2 \r\nL 5.421875 11.28125 \r\nQ 10.40625 8.6875 15.234375 7.390625 \r\nQ 20.0625 6.109375 24.8125 6.109375 \r\nQ 31.15625 6.109375 34.5625 8.28125 \r\nQ 37.984375 10.453125 37.984375 14.40625 \r\nQ 37.984375 18.0625 35.515625 20.015625 \r\nQ 33.0625 21.96875 24.703125 23.78125 \r\nL 21.578125 24.515625 \r\nQ 13.234375 26.265625 9.515625 29.90625 \r\nQ 5.8125 33.546875 5.8125 39.890625 \r\nQ 5.8125 47.609375 11.28125 51.796875 \r\nQ 16.75 56 26.8125 56 \r\nQ 31.78125 56 36.171875 55.265625 \r\nQ 40.578125 54.546875 44.28125 53.078125 \r\nz\r\n\" id=\"DejaVuSans-115\"/>\r\n       <path d=\"M 31 75.875 \r\nQ 24.46875 64.65625 21.28125 53.65625 \r\nQ 18.109375 42.671875 18.109375 31.390625 \r\nQ 18.109375 20.125 21.3125 9.0625 \r\nQ 24.515625 -2 31 -13.1875 \r\nL 23.1875 -13.1875 \r\nQ 15.875 -1.703125 12.234375 9.375 \r\nQ 8.59375 20.453125 8.59375 31.390625 \r\nQ 8.59375 42.28125 12.203125 53.3125 \r\nQ 15.828125 64.359375 23.1875 75.875 \r\nz\r\n\" id=\"DejaVuSans-40\"/>\r\n       <path d=\"M 9.8125 72.90625 \r\nL 19.671875 72.90625 \r\nL 19.671875 42.09375 \r\nL 52.390625 72.90625 \r\nL 65.09375 72.90625 \r\nL 28.90625 38.921875 \r\nL 67.671875 0 \r\nL 54.6875 0 \r\nL 19.671875 35.109375 \r\nL 19.671875 0 \r\nL 9.8125 0 \r\nz\r\n\" id=\"DejaVuSans-75\"/>\r\n       <path d=\"M 8.015625 75.875 \r\nL 15.828125 75.875 \r\nQ 23.140625 64.359375 26.78125 53.3125 \r\nQ 30.421875 42.28125 30.421875 31.390625 \r\nQ 30.421875 20.453125 26.78125 9.375 \r\nQ 23.140625 -1.703125 15.828125 -13.1875 \r\nL 8.015625 -13.1875 \r\nQ 14.5 -2 17.703125 9.0625 \r\nQ 20.90625 20.125 20.90625 31.390625 \r\nQ 20.90625 42.671875 17.703125 53.65625 \r\nQ 14.5 64.65625 8.015625 75.875 \r\nz\r\n\" id=\"DejaVuSans-41\"/>\r\n      </defs>\r\n      <use xlink:href=\"#DejaVuSans-78\"/>\r\n      <use x=\"74.804688\" xlink:href=\"#DejaVuSans-117\"/>\r\n      <use x=\"138.183594\" xlink:href=\"#DejaVuSans-109\"/>\r\n      <use x=\"235.595703\" xlink:href=\"#DejaVuSans-98\"/>\r\n      <use x=\"299.072266\" xlink:href=\"#DejaVuSans-101\"/>\r\n      <use x=\"360.595703\" xlink:href=\"#DejaVuSans-114\"/>\r\n      <use x=\"401.708984\" xlink:href=\"#DejaVuSans-32\"/>\r\n      <use x=\"433.496094\" xlink:href=\"#DejaVuSans-111\"/>\r\n      <use x=\"494.677734\" xlink:href=\"#DejaVuSans-102\"/>\r\n      <use x=\"529.882812\" xlink:href=\"#DejaVuSans-32\"/>\r\n      <use x=\"561.669922\" xlink:href=\"#DejaVuSans-78\"/>\r\n      <use x=\"636.474609\" xlink:href=\"#DejaVuSans-97\"/>\r\n      <use x=\"697.753906\" xlink:href=\"#DejaVuSans-98\"/>\r\n      <use x=\"761.230469\" xlink:href=\"#DejaVuSans-111\"/>\r\n      <use x=\"822.412109\" xlink:href=\"#DejaVuSans-114\"/>\r\n      <use x=\"863.525391\" xlink:href=\"#DejaVuSans-115\"/>\r\n      <use x=\"915.625\" xlink:href=\"#DejaVuSans-32\"/>\r\n      <use x=\"947.412109\" xlink:href=\"#DejaVuSans-40\"/>\r\n      <use x=\"986.425781\" xlink:href=\"#DejaVuSans-75\"/>\r\n      <use x=\"1052.001953\" xlink:href=\"#DejaVuSans-41\"/>\r\n     </g>\r\n    </g>\r\n   </g>\r\n   <g id=\"matplotlib.axis_2\">\r\n    <g id=\"ytick_1\">\r\n     <g id=\"line2d_8\">\r\n      <defs>\r\n       <path d=\"M 0 0 \r\nL -3.5 0 \r\n\" id=\"med721aab64\" style=\"stroke:#000000;stroke-width:0.8;\"/>\r\n      </defs>\r\n      <g>\r\n       <use style=\"stroke:#000000;stroke-width:0.8;\" x=\"56.50625\" xlink:href=\"#med721aab64\" y=\"239.154237\"/>\r\n      </g>\r\n     </g>\r\n     <g id=\"text_9\">\r\n      <!-- 0.744 -->\r\n      <g transform=\"translate(20.878125 242.953456)scale(0.1 -0.1)\">\r\n       <defs>\r\n        <path d=\"M 37.796875 64.3125 \r\nL 12.890625 25.390625 \r\nL 37.796875 25.390625 \r\nz\r\nM 35.203125 72.90625 \r\nL 47.609375 72.90625 \r\nL 47.609375 25.390625 \r\nL 58.015625 25.390625 \r\nL 58.015625 17.1875 \r\nL 47.609375 17.1875 \r\nL 47.609375 0 \r\nL 37.796875 0 \r\nL 37.796875 17.1875 \r\nL 4.890625 17.1875 \r\nL 4.890625 26.703125 \r\nz\r\n\" id=\"DejaVuSans-52\"/>\r\n       </defs>\r\n       <use xlink:href=\"#DejaVuSans-48\"/>\r\n       <use x=\"63.623047\" xlink:href=\"#DejaVuSans-46\"/>\r\n       <use x=\"95.410156\" xlink:href=\"#DejaVuSans-55\"/>\r\n       <use x=\"159.033203\" xlink:href=\"#DejaVuSans-52\"/>\r\n       <use x=\"222.65625\" xlink:href=\"#DejaVuSans-52\"/>\r\n      </g>\r\n     </g>\r\n    </g>\r\n    <g id=\"ytick_2\">\r\n     <g id=\"line2d_9\">\r\n      <g>\r\n       <use style=\"stroke:#000000;stroke-width:0.8;\" x=\"56.50625\" xlink:href=\"#med721aab64\" y=\"194.520527\"/>\r\n      </g>\r\n     </g>\r\n     <g id=\"text_10\">\r\n      <!-- 0.746 -->\r\n      <g transform=\"translate(20.878125 198.319746)scale(0.1 -0.1)\">\r\n       <defs>\r\n        <path d=\"M 33.015625 40.375 \r\nQ 26.375 40.375 22.484375 35.828125 \r\nQ 18.609375 31.296875 18.609375 23.390625 \r\nQ 18.609375 15.53125 22.484375 10.953125 \r\nQ 26.375 6.390625 33.015625 6.390625 \r\nQ 39.65625 6.390625 43.53125 10.953125 \r\nQ 47.40625 15.53125 47.40625 23.390625 \r\nQ 47.40625 31.296875 43.53125 35.828125 \r\nQ 39.65625 40.375 33.015625 40.375 \r\nz\r\nM 52.59375 71.296875 \r\nL 52.59375 62.3125 \r\nQ 48.875 64.0625 45.09375 64.984375 \r\nQ 41.3125 65.921875 37.59375 65.921875 \r\nQ 27.828125 65.921875 22.671875 59.328125 \r\nQ 17.53125 52.734375 16.796875 39.40625 \r\nQ 19.671875 43.65625 24.015625 45.921875 \r\nQ 28.375 48.1875 33.59375 48.1875 \r\nQ 44.578125 48.1875 50.953125 41.515625 \r\nQ 57.328125 34.859375 57.328125 23.390625 \r\nQ 57.328125 12.15625 50.6875 5.359375 \r\nQ 44.046875 -1.421875 33.015625 -1.421875 \r\nQ 20.359375 -1.421875 13.671875 8.265625 \r\nQ 6.984375 17.96875 6.984375 36.375 \r\nQ 6.984375 53.65625 15.1875 63.9375 \r\nQ 23.390625 74.21875 37.203125 74.21875 \r\nQ 40.921875 74.21875 44.703125 73.484375 \r\nQ 48.484375 72.75 52.59375 71.296875 \r\nz\r\n\" id=\"DejaVuSans-54\"/>\r\n       </defs>\r\n       <use xlink:href=\"#DejaVuSans-48\"/>\r\n       <use x=\"63.623047\" xlink:href=\"#DejaVuSans-46\"/>\r\n       <use x=\"95.410156\" xlink:href=\"#DejaVuSans-55\"/>\r\n       <use x=\"159.033203\" xlink:href=\"#DejaVuSans-52\"/>\r\n       <use x=\"222.65625\" xlink:href=\"#DejaVuSans-54\"/>\r\n      </g>\r\n     </g>\r\n    </g>\r\n    <g id=\"ytick_3\">\r\n     <g id=\"line2d_10\">\r\n      <g>\r\n       <use style=\"stroke:#000000;stroke-width:0.8;\" x=\"56.50625\" xlink:href=\"#med721aab64\" y=\"149.886817\"/>\r\n      </g>\r\n     </g>\r\n     <g id=\"text_11\">\r\n      <!-- 0.748 -->\r\n      <g transform=\"translate(20.878125 153.686036)scale(0.1 -0.1)\">\r\n       <defs>\r\n        <path d=\"M 31.78125 34.625 \r\nQ 24.75 34.625 20.71875 30.859375 \r\nQ 16.703125 27.09375 16.703125 20.515625 \r\nQ 16.703125 13.921875 20.71875 10.15625 \r\nQ 24.75 6.390625 31.78125 6.390625 \r\nQ 38.8125 6.390625 42.859375 10.171875 \r\nQ 46.921875 13.96875 46.921875 20.515625 \r\nQ 46.921875 27.09375 42.890625 30.859375 \r\nQ 38.875 34.625 31.78125 34.625 \r\nz\r\nM 21.921875 38.8125 \r\nQ 15.578125 40.375 12.03125 44.71875 \r\nQ 8.5 49.078125 8.5 55.328125 \r\nQ 8.5 64.0625 14.71875 69.140625 \r\nQ 20.953125 74.21875 31.78125 74.21875 \r\nQ 42.671875 74.21875 48.875 69.140625 \r\nQ 55.078125 64.0625 55.078125 55.328125 \r\nQ 55.078125 49.078125 51.53125 44.71875 \r\nQ 48 40.375 41.703125 38.8125 \r\nQ 48.828125 37.15625 52.796875 32.3125 \r\nQ 56.78125 27.484375 56.78125 20.515625 \r\nQ 56.78125 9.90625 50.3125 4.234375 \r\nQ 43.84375 -1.421875 31.78125 -1.421875 \r\nQ 19.734375 -1.421875 13.25 4.234375 \r\nQ 6.78125 9.90625 6.78125 20.515625 \r\nQ 6.78125 27.484375 10.78125 32.3125 \r\nQ 14.796875 37.15625 21.921875 38.8125 \r\nz\r\nM 18.3125 54.390625 \r\nQ 18.3125 48.734375 21.84375 45.5625 \r\nQ 25.390625 42.390625 31.78125 42.390625 \r\nQ 38.140625 42.390625 41.71875 45.5625 \r\nQ 45.3125 48.734375 45.3125 54.390625 \r\nQ 45.3125 60.0625 41.71875 63.234375 \r\nQ 38.140625 66.40625 31.78125 66.40625 \r\nQ 25.390625 66.40625 21.84375 63.234375 \r\nQ 18.3125 60.0625 18.3125 54.390625 \r\nz\r\n\" id=\"DejaVuSans-56\"/>\r\n       </defs>\r\n       <use xlink:href=\"#DejaVuSans-48\"/>\r\n       <use x=\"63.623047\" xlink:href=\"#DejaVuSans-46\"/>\r\n       <use x=\"95.410156\" xlink:href=\"#DejaVuSans-55\"/>\r\n       <use x=\"159.033203\" xlink:href=\"#DejaVuSans-52\"/>\r\n       <use x=\"222.65625\" xlink:href=\"#DejaVuSans-56\"/>\r\n      </g>\r\n     </g>\r\n    </g>\r\n    <g id=\"ytick_4\">\r\n     <g id=\"line2d_11\">\r\n      <g>\r\n       <use style=\"stroke:#000000;stroke-width:0.8;\" x=\"56.50625\" xlink:href=\"#med721aab64\" y=\"105.253107\"/>\r\n      </g>\r\n     </g>\r\n     <g id=\"text_12\">\r\n      <!-- 0.750 -->\r\n      <g transform=\"translate(20.878125 109.052326)scale(0.1 -0.1)\">\r\n       <use xlink:href=\"#DejaVuSans-48\"/>\r\n       <use x=\"63.623047\" xlink:href=\"#DejaVuSans-46\"/>\r\n       <use x=\"95.410156\" xlink:href=\"#DejaVuSans-55\"/>\r\n       <use x=\"159.033203\" xlink:href=\"#DejaVuSans-53\"/>\r\n       <use x=\"222.65625\" xlink:href=\"#DejaVuSans-48\"/>\r\n      </g>\r\n     </g>\r\n    </g>\r\n    <g id=\"ytick_5\">\r\n     <g id=\"line2d_12\">\r\n      <g>\r\n       <use style=\"stroke:#000000;stroke-width:0.8;\" x=\"56.50625\" xlink:href=\"#med721aab64\" y=\"60.619397\"/>\r\n      </g>\r\n     </g>\r\n     <g id=\"text_13\">\r\n      <!-- 0.752 -->\r\n      <g transform=\"translate(20.878125 64.418616)scale(0.1 -0.1)\">\r\n       <use xlink:href=\"#DejaVuSans-48\"/>\r\n       <use x=\"63.623047\" xlink:href=\"#DejaVuSans-46\"/>\r\n       <use x=\"95.410156\" xlink:href=\"#DejaVuSans-55\"/>\r\n       <use x=\"159.033203\" xlink:href=\"#DejaVuSans-53\"/>\r\n       <use x=\"222.65625\" xlink:href=\"#DejaVuSans-50\"/>\r\n      </g>\r\n     </g>\r\n    </g>\r\n    <g id=\"ytick_6\">\r\n     <g id=\"line2d_13\">\r\n      <g>\r\n       <use style=\"stroke:#000000;stroke-width:0.8;\" x=\"56.50625\" xlink:href=\"#med721aab64\" y=\"15.985687\"/>\r\n      </g>\r\n     </g>\r\n     <g id=\"text_14\">\r\n      <!-- 0.754 -->\r\n      <g transform=\"translate(20.878125 19.784906)scale(0.1 -0.1)\">\r\n       <use xlink:href=\"#DejaVuSans-48\"/>\r\n       <use x=\"63.623047\" xlink:href=\"#DejaVuSans-46\"/>\r\n       <use x=\"95.410156\" xlink:href=\"#DejaVuSans-55\"/>\r\n       <use x=\"159.033203\" xlink:href=\"#DejaVuSans-53\"/>\r\n       <use x=\"222.65625\" xlink:href=\"#DejaVuSans-52\"/>\r\n      </g>\r\n     </g>\r\n    </g>\r\n    <g id=\"text_15\">\r\n     <!-- Accuracy  -->\r\n     <g transform=\"translate(14.798438 149.317188)rotate(-90)scale(0.1 -0.1)\">\r\n      <defs>\r\n       <path d=\"M 34.1875 63.1875 \r\nL 20.796875 26.90625 \r\nL 47.609375 26.90625 \r\nz\r\nM 28.609375 72.90625 \r\nL 39.796875 72.90625 \r\nL 67.578125 0 \r\nL 57.328125 0 \r\nL 50.6875 18.703125 \r\nL 17.828125 18.703125 \r\nL 11.1875 0 \r\nL 0.78125 0 \r\nz\r\n\" id=\"DejaVuSans-65\"/>\r\n       <path d=\"M 48.78125 52.59375 \r\nL 48.78125 44.1875 \r\nQ 44.96875 46.296875 41.140625 47.34375 \r\nQ 37.3125 48.390625 33.40625 48.390625 \r\nQ 24.65625 48.390625 19.8125 42.84375 \r\nQ 14.984375 37.3125 14.984375 27.296875 \r\nQ 14.984375 17.28125 19.8125 11.734375 \r\nQ 24.65625 6.203125 33.40625 6.203125 \r\nQ 37.3125 6.203125 41.140625 7.25 \r\nQ 44.96875 8.296875 48.78125 10.40625 \r\nL 48.78125 2.09375 \r\nQ 45.015625 0.34375 40.984375 -0.53125 \r\nQ 36.96875 -1.421875 32.421875 -1.421875 \r\nQ 20.0625 -1.421875 12.78125 6.34375 \r\nQ 5.515625 14.109375 5.515625 27.296875 \r\nQ 5.515625 40.671875 12.859375 48.328125 \r\nQ 20.21875 56 33.015625 56 \r\nQ 37.15625 56 41.109375 55.140625 \r\nQ 45.0625 54.296875 48.78125 52.59375 \r\nz\r\n\" id=\"DejaVuSans-99\"/>\r\n       <path d=\"M 32.171875 -5.078125 \r\nQ 28.375 -14.84375 24.75 -17.8125 \r\nQ 21.140625 -20.796875 15.09375 -20.796875 \r\nL 7.90625 -20.796875 \r\nL 7.90625 -13.28125 \r\nL 13.1875 -13.28125 \r\nQ 16.890625 -13.28125 18.9375 -11.515625 \r\nQ 21 -9.765625 23.484375 -3.21875 \r\nL 25.09375 0.875 \r\nL 2.984375 54.6875 \r\nL 12.5 54.6875 \r\nL 29.59375 11.921875 \r\nL 46.6875 54.6875 \r\nL 56.203125 54.6875 \r\nz\r\n\" id=\"DejaVuSans-121\"/>\r\n      </defs>\r\n      <use xlink:href=\"#DejaVuSans-65\"/>\r\n      <use x=\"66.658203\" xlink:href=\"#DejaVuSans-99\"/>\r\n      <use x=\"121.638672\" xlink:href=\"#DejaVuSans-99\"/>\r\n      <use x=\"176.619141\" xlink:href=\"#DejaVuSans-117\"/>\r\n      <use x=\"239.998047\" xlink:href=\"#DejaVuSans-114\"/>\r\n      <use x=\"281.111328\" xlink:href=\"#DejaVuSans-97\"/>\r\n      <use x=\"342.390625\" xlink:href=\"#DejaVuSans-99\"/>\r\n      <use x=\"397.371094\" xlink:href=\"#DejaVuSans-121\"/>\r\n      <use x=\"456.550781\" xlink:href=\"#DejaVuSans-32\"/>\r\n     </g>\r\n    </g>\r\n   </g>\r\n   <g id=\"line2d_14\">\r\n    <path clip-path=\"url(#p68b9273709)\" d=\"M 72.899432 231.9 \r\nL 91.114078 231.9 \r\nL 109.328725 231.9 \r\nL 127.543371 190.389642 \r\nL 145.758018 190.389642 \r\nL 163.972664 86.009228 \r\nL 182.187311 85.203202 \r\nL 200.401957 54.5742 \r\nL 218.616604 19.512053 \r\nL 236.83125 32.811488 \r\nL 255.045896 17.9 \r\nL 273.260543 18.706026 \r\nL 291.475189 19.915066 \r\nL 309.689836 44.901883 \r\nL 327.904482 79.158004 \r\nL 346.119129 86.009228 \r\nL 364.333775 115.832203 \r\nL 382.548422 148.073258 \r\nL 400.763068 193.613748 \r\n\" style=\"fill:none;stroke:#008000;stroke-linecap:square;stroke-width:1.5;\"/>\r\n   </g>\r\n   <g id=\"patch_3\">\r\n    <path d=\"M 56.50625 242.6 \r\nL 56.50625 7.2 \r\n\" style=\"fill:none;stroke:#000000;stroke-linecap:square;stroke-linejoin:miter;stroke-width:0.8;\"/>\r\n   </g>\r\n   <g id=\"patch_4\">\r\n    <path d=\"M 417.15625 242.6 \r\nL 417.15625 7.2 \r\n\" style=\"fill:none;stroke:#000000;stroke-linecap:square;stroke-linejoin:miter;stroke-width:0.8;\"/>\r\n   </g>\r\n   <g id=\"patch_5\">\r\n    <path d=\"M 56.50625 242.6 \r\nL 417.15625 242.6 \r\n\" style=\"fill:none;stroke:#000000;stroke-linecap:square;stroke-linejoin:miter;stroke-width:0.8;\"/>\r\n   </g>\r\n   <g id=\"patch_6\">\r\n    <path d=\"M 56.50625 7.2 \r\nL 417.15625 7.2 \r\n\" style=\"fill:none;stroke:#000000;stroke-linecap:square;stroke-linejoin:miter;stroke-width:0.8;\"/>\r\n   </g>\r\n   <g id=\"legend_1\">\r\n    <g id=\"patch_7\">\r\n     <path d=\"M 329.321875 29.878125 \r\nL 410.15625 29.878125 \r\nQ 412.15625 29.878125 412.15625 27.878125 \r\nL 412.15625 14.2 \r\nQ 412.15625 12.2 410.15625 12.2 \r\nL 329.321875 12.2 \r\nQ 327.321875 12.2 327.321875 14.2 \r\nL 327.321875 27.878125 \r\nQ 327.321875 29.878125 329.321875 29.878125 \r\nz\r\n\" style=\"fill:#ffffff;opacity:0.8;stroke:#cccccc;stroke-linejoin:miter;\"/>\r\n    </g>\r\n    <g id=\"line2d_15\">\r\n     <path d=\"M 331.321875 20.298438 \r\nL 351.321875 20.298438 \r\n\" style=\"fill:none;stroke:#008000;stroke-linecap:square;stroke-width:1.5;\"/>\r\n    </g>\r\n    <g id=\"line2d_16\"/>\r\n    <g id=\"text_16\">\r\n     <!-- Accuracy  -->\r\n     <g transform=\"translate(359.321875 23.798438)scale(0.1 -0.1)\">\r\n      <use xlink:href=\"#DejaVuSans-65\"/>\r\n      <use x=\"66.658203\" xlink:href=\"#DejaVuSans-99\"/>\r\n      <use x=\"121.638672\" xlink:href=\"#DejaVuSans-99\"/>\r\n      <use x=\"176.619141\" xlink:href=\"#DejaVuSans-117\"/>\r\n      <use x=\"239.998047\" xlink:href=\"#DejaVuSans-114\"/>\r\n      <use x=\"281.111328\" xlink:href=\"#DejaVuSans-97\"/>\r\n      <use x=\"342.390625\" xlink:href=\"#DejaVuSans-99\"/>\r\n      <use x=\"397.371094\" xlink:href=\"#DejaVuSans-121\"/>\r\n      <use x=\"456.550781\" xlink:href=\"#DejaVuSans-32\"/>\r\n     </g>\r\n    </g>\r\n   </g>\r\n  </g>\r\n </g>\r\n <defs>\r\n  <clipPath id=\"p68b9273709\">\r\n   <rect height=\"235.4\" width=\"360.65\" x=\"56.50625\" y=\"7.2\"/>\r\n  </clipPath>\r\n </defs>\r\n</svg>\r\n",
      "image/png": "[encoded data removed]"
     },
     "metadata": {
      "needs_background": "light"
     }
    }
   ],
   "source": [
    "plt.plot(range(1,Ks),mean_acc,'g')\n",
    "plt.legend(('Accuracy ', '+/- 3xstd'))\n",
    "plt.ylabel('Accuracy ')\n",
    "plt.xlabel('Number of Nabors (K)')\n",
    "plt.tight_layout()\n",
    "plt.show()"
   ]
  },
  {
   "cell_type": "code",
   "execution_count": 197,
   "metadata": {
    "tags": []
   },
   "outputs": [
    {
     "output_type": "stream",
     "name": "stdout",
     "text": "The best accuracy was with 0.7539142212189617 with k= 11\n"
    }
   ],
   "source": [
    "print( \"The best accuracy was with\", mean_acc.max(), \"with k=\", mean_acc.argmax()+1) "
   ]
  },
  {
   "source": [],
   "cell_type": "markdown",
   "metadata": {}
  },
  {
   "cell_type": "code",
   "execution_count": 198,
   "metadata": {
    "tags": []
   },
   "outputs": [
    {
     "output_type": "stream",
     "name": "stdout",
     "text": "DecisionTrees&#39;s Accuracy:  0.7539142212189617\n"
    }
   ],
   "source": [
    "AccTree = DecisionTreeClassifier(criterion=\"entropy\", max_depth = 11) ## lets insert max_depth = 11\n",
    "AccTree.fit(X_trainset,y_trainset)\n",
    "predTree = AccTree.predict(X_testset)\n",
    "from sklearn import metrics\n",
    "import matplotlib.pyplot as plt\n",
    "print(\"DecisionTrees's Accuracy: \", metrics.accuracy_score(y_testset, predTree))"
   ]
  },
  {
   "source": [
    "## In the next section I will convert the numerical values reverse to categorical values"
   ],
   "cell_type": "markdown",
   "metadata": {}
  },
  {
   "cell_type": "code",
   "execution_count": 199,
   "metadata": {},
   "outputs": [
    {
     "output_type": "execute_result",
     "data": {
      "text/plain": "5    46381\n0    34460\n7    32968\n4    22277\n9    18034\n3    13624\n6     6551\n1     5378\n8     2912\n2     1997\nName: COLLISIONTYPE, dtype: int64"
     },
     "metadata": {},
     "execution_count": 199
    }
   ],
   "source": [
    "X.COLLISIONTYPE.value_counts()"
   ]
  },
  {
   "cell_type": "code",
   "execution_count": 200,
   "metadata": {},
   "outputs": [
    {
     "output_type": "execute_result",
     "data": {
      "text/plain": "Parked Car    46381\nAngles        34460\nRear Ended    32968\nOther         22277\nSideswipe     18034\nLeft Turn     13624\nPedestrian     6551\nCycles         5378\nRight Turn     2912\nHead On        1997\nName: COLLISIONTYPE, dtype: int64"
     },
     "metadata": {},
     "execution_count": 200
    }
   ],
   "source": [
    "df_coll.COLLISIONTYPE.value_counts()"
   ]
  },
  {
   "source": [
    "I will comapre the values from df X to df_coll and then I can convert the values. <br>\n",
    "0 = Angles <br>\n",
    "1 = Cycles <br>\n",
    "2 = Head On <br>\n",
    "3 = Left turn <br>\n",
    "4 = Other <br>\n",
    "5 = Parked Car <br>\n",
    "6 = Pedestrian <br>\n",
    "7 = Rear Ended <br>\n",
    "8 = right turn <br> \n",
    "9 = Sideswipe            "
   ],
   "cell_type": "markdown",
   "metadata": {}
  },
  {
   "source": [
    "# Results \n",
    "## DecisionTrees model is better! "
   ],
   "cell_type": "markdown",
   "metadata": {}
  },
  {
   "source": [
    "#### note: <br>\n",
    "*I made a Decision Tree without SDOT_COLDESC and ST_COLDESC because I have decided that they are cause to a mess on the Decision Tree (the columns have much values). <br>*\n",
    " \n",
    "*Also I have checked again the accuracy of the model and it wasn't changed.*"
   ],
   "cell_type": "markdown",
   "metadata": {}
  },
  {
   "source": [
    "# CONCLUSION <br>\n",
    "Therefore I made visualisation to the Decision Tree, AccTree_4floors <br>\n",
    "<br>\n",
    "\n",
    "First, I want you to look on the 2 blue blocks (leaves) on the forth floor (don't count the first node) <br>\n",
    "**_The COLLISIONTYPE worth 6 which means pedestrian._** <br>\n",
    "<br>\n",
    "do you ask what is the point? <br>\n",
    "\n",
    "the point is it doesn't matter if the accident happened in block or at intersection <br>\n",
    "if there is pedestrian is will be deadly. <br>\n"
   ],
   "cell_type": "markdown",
   "metadata": {}
  },
  {
   "source": [
    "So, Transportation Authority of siattle USA pay attention please. <br>\n",
    "there is a high risk for pedestrian in your area, I demand to build more Infrastructure for pedestrian for instance: <br> \n",
    "- Bridges instead intersection \n",
    "- More sidewalks\n",
    "- Fences between sidewalks to road\n",
    "- Integrated Street which the limit km/h is 30\n",
    "- Explanation to pedestrians how to behave safely in cross ways"
   ],
   "cell_type": "markdown",
   "metadata": {}
  },
  {
   "source": [],
   "cell_type": "markdown",
   "metadata": {}
  },
  {
   "source": [
    "Thank you very much for the reading, <br>\n",
    "<br>\n",
    "Tomer"
   ],
   "cell_type": "markdown",
   "metadata": {}
  }
 ]
}