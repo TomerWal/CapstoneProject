{
 "cells": [
  {
   "cell_type": "markdown",
   "metadata": {},
   "source": [
    "# This notebook contains Capstone Project code"
   ]
  },
  {
   "source": [
    "## downloading 4 libraries which we are going to work onrererererereer\n",
    "%pip install pandas\n",
    "%pip install html5lib\n",
    "%pip install BeautifulSoup4\n",
    "%pip install lxml"
   ],
   "cell_type": "code",
   "metadata": {
    "tags": []
   },
   "execution_count": null,
   "outputs": []
  },
  {
   "cell_type": "code",
   "execution_count": 2,
   "metadata": {
    "tags": []
   },
   "outputs": [
    {
     "output_type": "stream",
     "name": "stdout",
     "text": "Hello Capstone Project Course!\n"
    }
   ],
   "source": [
    "import pandas as pd\n",
    "import numpy as np\n",
    "print (\"Hello Capstone Project Course!\")"
   ]
  },
  {
   "cell_type": "code",
   "execution_count": 3,
   "metadata": {},
   "outputs": [
    {
     "output_type": "execute_result",
     "data": {
      "text/plain": "  Postal Code         Community                                Neighbourhood\n0         M1A      Not assigned                                 Not assigned\n1         M2A      Not assigned                                 Not assigned\n2         M3A        North York                                    Parkwoods\n3         M4A        North York                             Victoria Village\n4         M5A  Downtown Toronto                    Regent Park, Harbourfront\n5         M6A        North York             Lawrence Manor, Lawrence Heights\n6         M7A  Downtown Toronto  Queen's Park, Ontario Provincial Government\n7         M8A      Not assigned                                 Not assigned\n8         M9A         Etobicoke      Islington Avenue, Humber Valley Village\n9         M1B       Scarborough                               Malvern, Rouge",
      "text/html": "<div>\n<style scoped>\n    .dataframe tbody tr th:only-of-type {\n        vertical-align: middle;\n    }\n\n    .dataframe tbody tr th {\n        vertical-align: top;\n    }\n\n    .dataframe thead th {\n        text-align: right;\n    }\n</style>\n<table border=\"1\" class=\"dataframe\">\n  <thead>\n    <tr style=\"text-align: right;\">\n      <th></th>\n      <th>Postal Code</th>\n      <th>Community</th>\n      <th>Neighbourhood</th>\n    </tr>\n  </thead>\n  <tbody>\n    <tr>\n      <th>0</th>\n      <td>M1A</td>\n      <td>Not assigned</td>\n      <td>Not assigned</td>\n    </tr>\n    <tr>\n      <th>1</th>\n      <td>M2A</td>\n      <td>Not assigned</td>\n      <td>Not assigned</td>\n    </tr>\n    <tr>\n      <th>2</th>\n      <td>M3A</td>\n      <td>North York</td>\n      <td>Parkwoods</td>\n    </tr>\n    <tr>\n      <th>3</th>\n      <td>M4A</td>\n      <td>North York</td>\n      <td>Victoria Village</td>\n    </tr>\n    <tr>\n      <th>4</th>\n      <td>M5A</td>\n      <td>Downtown Toronto</td>\n      <td>Regent Park, Harbourfront</td>\n    </tr>\n    <tr>\n      <th>5</th>\n      <td>M6A</td>\n      <td>North York</td>\n      <td>Lawrence Manor, Lawrence Heights</td>\n    </tr>\n    <tr>\n      <th>6</th>\n      <td>M7A</td>\n      <td>Downtown Toronto</td>\n      <td>Queen's Park, Ontario Provincial Government</td>\n    </tr>\n    <tr>\n      <th>7</th>\n      <td>M8A</td>\n      <td>Not assigned</td>\n      <td>Not assigned</td>\n    </tr>\n    <tr>\n      <th>8</th>\n      <td>M9A</td>\n      <td>Etobicoke</td>\n      <td>Islington Avenue, Humber Valley Village</td>\n    </tr>\n    <tr>\n      <th>9</th>\n      <td>M1B</td>\n      <td>Scarborough</td>\n      <td>Malvern, Rouge</td>\n    </tr>\n  </tbody>\n</table>\n</div>"
     },
     "metadata": {},
     "execution_count": 3
    }
   ],
   "source": [
    "## import library which knows how to convert html to pandas\n",
    "from pandas.io.html import read_html\n",
    "## define the wikipedia URL\n",
    "wiki_url = 'https://en.wikipedia.org/wiki/List_of_postal_codes_of_Canada:_M'\n",
    "## using read_html function in order to get list of dataframes by class that exist in the wiki_url\n",
    "wikitable = read_html(wiki_url, attrs={'class': 'wikitable'})\n",
    "## there is only 1 table we retrieve the first dataframe from the list\n",
    "df_postal = wikitable[0]\n",
    "df_postal.head(10)"
   ]
  },
  {
   "cell_type": "code",
   "execution_count": 4,
   "metadata": {},
   "outputs": [
    {
     "output_type": "execute_result",
     "data": {
      "text/plain": "  Postal Code         Community                                Neighbourhood\n0         M3A        North York                                    Parkwoods\n1         M4A        North York                             Victoria Village\n2         M5A  Downtown Toronto                    Regent Park, Harbourfront\n3         M6A        North York             Lawrence Manor, Lawrence Heights\n4         M7A  Downtown Toronto  Queen's Park, Ontario Provincial Government\n5         M9A         Etobicoke      Islington Avenue, Humber Valley Village\n6         M1B       Scarborough                               Malvern, Rouge\n7         M3B        North York                                    Don Mills\n8         M4B         East York              Parkview Hill, Woodbine Gardens\n9         M5B  Downtown Toronto                     Garden District, Ryerson",
      "text/html": "<div>\n<style scoped>\n    .dataframe tbody tr th:only-of-type {\n        vertical-align: middle;\n    }\n\n    .dataframe tbody tr th {\n        vertical-align: top;\n    }\n\n    .dataframe thead th {\n        text-align: right;\n    }\n</style>\n<table border=\"1\" class=\"dataframe\">\n  <thead>\n    <tr style=\"text-align: right;\">\n      <th></th>\n      <th>Postal Code</th>\n      <th>Community</th>\n      <th>Neighbourhood</th>\n    </tr>\n  </thead>\n  <tbody>\n    <tr>\n      <th>0</th>\n      <td>M3A</td>\n      <td>North York</td>\n      <td>Parkwoods</td>\n    </tr>\n    <tr>\n      <th>1</th>\n      <td>M4A</td>\n      <td>North York</td>\n      <td>Victoria Village</td>\n    </tr>\n    <tr>\n      <th>2</th>\n      <td>M5A</td>\n      <td>Downtown Toronto</td>\n      <td>Regent Park, Harbourfront</td>\n    </tr>\n    <tr>\n      <th>3</th>\n      <td>M6A</td>\n      <td>North York</td>\n      <td>Lawrence Manor, Lawrence Heights</td>\n    </tr>\n    <tr>\n      <th>4</th>\n      <td>M7A</td>\n      <td>Downtown Toronto</td>\n      <td>Queen's Park, Ontario Provincial Government</td>\n    </tr>\n    <tr>\n      <th>5</th>\n      <td>M9A</td>\n      <td>Etobicoke</td>\n      <td>Islington Avenue, Humber Valley Village</td>\n    </tr>\n    <tr>\n      <th>6</th>\n      <td>M1B</td>\n      <td>Scarborough</td>\n      <td>Malvern, Rouge</td>\n    </tr>\n    <tr>\n      <th>7</th>\n      <td>M3B</td>\n      <td>North York</td>\n      <td>Don Mills</td>\n    </tr>\n    <tr>\n      <th>8</th>\n      <td>M4B</td>\n      <td>East York</td>\n      <td>Parkview Hill, Woodbine Gardens</td>\n    </tr>\n    <tr>\n      <th>9</th>\n      <td>M5B</td>\n      <td>Downtown Toronto</td>\n      <td>Garden District, Ryerson</td>\n    </tr>\n  </tbody>\n</table>\n</div>"
     },
     "metadata": {},
     "execution_count": 4
    }
   ],
   "source": [
    "df_postal_filterd = df_postal[df_postal.Community != 'Not assigned'] ## Ignoring cells with a borough that is Not assigned.\n",
    "df_postal_filterd = df_postal_filterd[df_postal_filterd.Neighbourhood != 'Not assigned'] ## Checking If a cell has a borough but a Not assigned neighborhood (doesn't exist)\n",
    "df_postal_filterd.reset_index(inplace = True, drop = True) ## arrange the new df after cleaning\n",
    "df_postal_filterd.head(10)"
   ]
  },
  {
   "cell_type": "code",
   "execution_count": 5,
   "metadata": {},
   "outputs": [
    {
     "output_type": "execute_result",
     "data": {
      "text/plain": "(103, 3)"
     },
     "metadata": {},
     "execution_count": 5
    }
   ],
   "source": [
    "df_postal_filterd.shape ## get the df shape"
   ]
  },
  {
   "source": [
    "import wget\n",
    "Geospatial_data = wget.download('http://cocl.us/Geospatial_data')##downloading geospatial data"
   ],
   "cell_type": "code",
   "metadata": {
    "tags": []
   },
   "execution_count": 6,
   "outputs": []
  },
  {
   "cell_type": "code",
   "execution_count": 7,
   "metadata": {},
   "outputs": [
    {
     "output_type": "execute_result",
     "data": {
      "text/plain": "  Postal Code   Latitude  Longitude\n0         M1B  43.806686 -79.194353\n1         M1C  43.784535 -79.160497\n2         M1E  43.763573 -79.188711\n3         M1G  43.770992 -79.216917\n4         M1H  43.773136 -79.239476",
      "text/html": "<div>\n<style scoped>\n    .dataframe tbody tr th:only-of-type {\n        vertical-align: middle;\n    }\n\n    .dataframe tbody tr th {\n        vertical-align: top;\n    }\n\n    .dataframe thead th {\n        text-align: right;\n    }\n</style>\n<table border=\"1\" class=\"dataframe\">\n  <thead>\n    <tr style=\"text-align: right;\">\n      <th></th>\n      <th>Postal Code</th>\n      <th>Latitude</th>\n      <th>Longitude</th>\n    </tr>\n  </thead>\n  <tbody>\n    <tr>\n      <th>0</th>\n      <td>M1B</td>\n      <td>43.806686</td>\n      <td>-79.194353</td>\n    </tr>\n    <tr>\n      <th>1</th>\n      <td>M1C</td>\n      <td>43.784535</td>\n      <td>-79.160497</td>\n    </tr>\n    <tr>\n      <th>2</th>\n      <td>M1E</td>\n      <td>43.763573</td>\n      <td>-79.188711</td>\n    </tr>\n    <tr>\n      <th>3</th>\n      <td>M1G</td>\n      <td>43.770992</td>\n      <td>-79.216917</td>\n    </tr>\n    <tr>\n      <th>4</th>\n      <td>M1H</td>\n      <td>43.773136</td>\n      <td>-79.239476</td>\n    </tr>\n  </tbody>\n</table>\n</div>"
     },
     "metadata": {},
     "execution_count": 7
    }
   ],
   "source": [
    "df_geo = pd.read_csv('Geospatial_Coordinates.csv') ## read csv file into dataframe\n",
    "df_geo.head()"
   ]
  },
  {
   "cell_type": "code",
   "execution_count": 8,
   "metadata": {},
   "outputs": [
    {
     "output_type": "execute_result",
     "data": {
      "text/plain": "  Postal Code         Community                                Neighbourhood  \\\n0         M3A        North York                                    Parkwoods   \n1         M4A        North York                             Victoria Village   \n2         M5A  Downtown Toronto                    Regent Park, Harbourfront   \n3         M6A        North York             Lawrence Manor, Lawrence Heights   \n4         M7A  Downtown Toronto  Queen's Park, Ontario Provincial Government   \n5         M9A         Etobicoke      Islington Avenue, Humber Valley Village   \n6         M1B       Scarborough                               Malvern, Rouge   \n7         M3B        North York                                    Don Mills   \n8         M4B         East York              Parkview Hill, Woodbine Gardens   \n9         M5B  Downtown Toronto                     Garden District, Ryerson   \n\n    Latitude  Longitude  \n0  43.753259 -79.329656  \n1  43.725882 -79.315572  \n2  43.654260 -79.360636  \n3  43.718518 -79.464763  \n4  43.662301 -79.389494  \n5  43.667856 -79.532242  \n6  43.806686 -79.194353  \n7  43.745906 -79.352188  \n8  43.706397 -79.309937  \n9  43.657162 -79.378937  ",
      "text/html": "<div>\n<style scoped>\n    .dataframe tbody tr th:only-of-type {\n        vertical-align: middle;\n    }\n\n    .dataframe tbody tr th {\n        vertical-align: top;\n    }\n\n    .dataframe thead th {\n        text-align: right;\n    }\n</style>\n<table border=\"1\" class=\"dataframe\">\n  <thead>\n    <tr style=\"text-align: right;\">\n      <th></th>\n      <th>Postal Code</th>\n      <th>Community</th>\n      <th>Neighbourhood</th>\n      <th>Latitude</th>\n      <th>Longitude</th>\n    </tr>\n  </thead>\n  <tbody>\n    <tr>\n      <th>0</th>\n      <td>M3A</td>\n      <td>North York</td>\n      <td>Parkwoods</td>\n      <td>43.753259</td>\n      <td>-79.329656</td>\n    </tr>\n    <tr>\n      <th>1</th>\n      <td>M4A</td>\n      <td>North York</td>\n      <td>Victoria Village</td>\n      <td>43.725882</td>\n      <td>-79.315572</td>\n    </tr>\n    <tr>\n      <th>2</th>\n      <td>M5A</td>\n      <td>Downtown Toronto</td>\n      <td>Regent Park, Harbourfront</td>\n      <td>43.654260</td>\n      <td>-79.360636</td>\n    </tr>\n    <tr>\n      <th>3</th>\n      <td>M6A</td>\n      <td>North York</td>\n      <td>Lawrence Manor, Lawrence Heights</td>\n      <td>43.718518</td>\n      <td>-79.464763</td>\n    </tr>\n    <tr>\n      <th>4</th>\n      <td>M7A</td>\n      <td>Downtown Toronto</td>\n      <td>Queen's Park, Ontario Provincial Government</td>\n      <td>43.662301</td>\n      <td>-79.389494</td>\n    </tr>\n    <tr>\n      <th>5</th>\n      <td>M9A</td>\n      <td>Etobicoke</td>\n      <td>Islington Avenue, Humber Valley Village</td>\n      <td>43.667856</td>\n      <td>-79.532242</td>\n    </tr>\n    <tr>\n      <th>6</th>\n      <td>M1B</td>\n      <td>Scarborough</td>\n      <td>Malvern, Rouge</td>\n      <td>43.806686</td>\n      <td>-79.194353</td>\n    </tr>\n    <tr>\n      <th>7</th>\n      <td>M3B</td>\n      <td>North York</td>\n      <td>Don Mills</td>\n      <td>43.745906</td>\n      <td>-79.352188</td>\n    </tr>\n    <tr>\n      <th>8</th>\n      <td>M4B</td>\n      <td>East York</td>\n      <td>Parkview Hill, Woodbine Gardens</td>\n      <td>43.706397</td>\n      <td>-79.309937</td>\n    </tr>\n    <tr>\n      <th>9</th>\n      <td>M5B</td>\n      <td>Downtown Toronto</td>\n      <td>Garden District, Ryerson</td>\n      <td>43.657162</td>\n      <td>-79.378937</td>\n    </tr>\n  </tbody>\n</table>\n</div>"
     },
     "metadata": {},
     "execution_count": 8
    }
   ],
   "source": [
    "## merging Lat and Long to the main df\n",
    "df_postal_geo = df_postal_filterd.merge(df_geo, on='Postal Code')\n",
    "df_postal_geo.head(10)"
   ]
  },
  {
   "source": [
    "import json # library to handle JSON files\n",
    "\n",
    "%pip install geopy \n",
    "from geopy.geocoders import Nominatim # convert an address into latitude and longitude values\n",
    "\n",
    "%pip install requests\n",
    "import requests # library to handle requests\n",
    "from pandas.io.json import json_normalize # tranform JSON file into a pandas dataframe\n",
    "\n",
    "# Matplotlib and associated plotting modules\n",
    "%pip install  matplotlib  \n",
    "import matplotlib.cm as cm\n",
    "import matplotlib.colors as colors\n",
    "\n",
    "# import k-means from clustering stage\n",
    "%pip install sklearn\n",
    "from sklearn.cluster import KMeans\n",
    "\n",
    "%pip install folium\n",
    "import folium # map rendering library"
   ],
   "cell_type": "code",
   "metadata": {
    "tags": []
   },
   "execution_count": null,
   "outputs": []
  },
  {
   "source": [],
   "cell_type": "code",
   "metadata": {
    "tags": []
   },
   "execution_count": null,
   "outputs": []
  },
  {
   "cell_type": "code",
   "execution_count": 10,
   "metadata": {},
   "outputs": [
    {
     "output_type": "execute_result",
     "data": {
      "text/plain": "  Postal Code         Community                                Neighbourhood  \\\n0         M5A  Downtown Toronto                    Regent Park, Harbourfront   \n1         M7A  Downtown Toronto  Queen's Park, Ontario Provincial Government   \n2         M5B  Downtown Toronto                     Garden District, Ryerson   \n3         M5C  Downtown Toronto                               St. James Town   \n4         M4E      East Toronto                                  The Beaches   \n5         M5E  Downtown Toronto                                  Berczy Park   \n6         M5G  Downtown Toronto                           Central Bay Street   \n7         M6G  Downtown Toronto                                     Christie   \n8         M5H  Downtown Toronto                     Richmond, Adelaide, King   \n9         M6H      West Toronto                 Dufferin, Dovercourt Village   \n\n    Latitude  Longitude  \n0  43.654260 -79.360636  \n1  43.662301 -79.389494  \n2  43.657162 -79.378937  \n3  43.651494 -79.375418  \n4  43.676357 -79.293031  \n5  43.644771 -79.373306  \n6  43.657952 -79.387383  \n7  43.669542 -79.422564  \n8  43.650571 -79.384568  \n9  43.669005 -79.442259  ",
      "text/html": "<div>\n<style scoped>\n    .dataframe tbody tr th:only-of-type {\n        vertical-align: middle;\n    }\n\n    .dataframe tbody tr th {\n        vertical-align: top;\n    }\n\n    .dataframe thead th {\n        text-align: right;\n    }\n</style>\n<table border=\"1\" class=\"dataframe\">\n  <thead>\n    <tr style=\"text-align: right;\">\n      <th></th>\n      <th>Postal Code</th>\n      <th>Community</th>\n      <th>Neighbourhood</th>\n      <th>Latitude</th>\n      <th>Longitude</th>\n    </tr>\n  </thead>\n  <tbody>\n    <tr>\n      <th>0</th>\n      <td>M5A</td>\n      <td>Downtown Toronto</td>\n      <td>Regent Park, Harbourfront</td>\n      <td>43.654260</td>\n      <td>-79.360636</td>\n    </tr>\n    <tr>\n      <th>1</th>\n      <td>M7A</td>\n      <td>Downtown Toronto</td>\n      <td>Queen's Park, Ontario Provincial Government</td>\n      <td>43.662301</td>\n      <td>-79.389494</td>\n    </tr>\n    <tr>\n      <th>2</th>\n      <td>M5B</td>\n      <td>Downtown Toronto</td>\n      <td>Garden District, Ryerson</td>\n      <td>43.657162</td>\n      <td>-79.378937</td>\n    </tr>\n    <tr>\n      <th>3</th>\n      <td>M5C</td>\n      <td>Downtown Toronto</td>\n      <td>St. James Town</td>\n      <td>43.651494</td>\n      <td>-79.375418</td>\n    </tr>\n    <tr>\n      <th>4</th>\n      <td>M4E</td>\n      <td>East Toronto</td>\n      <td>The Beaches</td>\n      <td>43.676357</td>\n      <td>-79.293031</td>\n    </tr>\n    <tr>\n      <th>5</th>\n      <td>M5E</td>\n      <td>Downtown Toronto</td>\n      <td>Berczy Park</td>\n      <td>43.644771</td>\n      <td>-79.373306</td>\n    </tr>\n    <tr>\n      <th>6</th>\n      <td>M5G</td>\n      <td>Downtown Toronto</td>\n      <td>Central Bay Street</td>\n      <td>43.657952</td>\n      <td>-79.387383</td>\n    </tr>\n    <tr>\n      <th>7</th>\n      <td>M6G</td>\n      <td>Downtown Toronto</td>\n      <td>Christie</td>\n      <td>43.669542</td>\n      <td>-79.422564</td>\n    </tr>\n    <tr>\n      <th>8</th>\n      <td>M5H</td>\n      <td>Downtown Toronto</td>\n      <td>Richmond, Adelaide, King</td>\n      <td>43.650571</td>\n      <td>-79.384568</td>\n    </tr>\n    <tr>\n      <th>9</th>\n      <td>M6H</td>\n      <td>West Toronto</td>\n      <td>Dufferin, Dovercourt Village</td>\n      <td>43.669005</td>\n      <td>-79.442259</td>\n    </tr>\n  </tbody>\n</table>\n</div>"
     },
     "metadata": {},
     "execution_count": 10
    }
   ],
   "source": [
    "df_postal_geo = df_postal_geo[df_postal_geo.Community.str.contains(\"Toronto\")] ## filtering which bourogh contains the word 'Toronto'\n",
    "df_postal_geo.reset_index(inplace = True, drop = True) ## arrange the new df after cleaning\n",
    "df_postal_geo.head(10)"
   ]
  },
  {
   "cell_type": "code",
   "execution_count": 11,
   "metadata": {
    "tags": []
   },
   "outputs": [],
   "source": [
    "radius = 500 # limit of number of venues returned by Foursquare API\n",
    "LIMIT = 100 # define radius\n"
   ]
  },
  {
   "source": [
    "# function that extracts the category of the venue\n",
    "def get_category_type(row):\n",
    "    try:\n",
    "        categories_list = row['categories']\n",
    "    except:\n",
    "        categories_list = row['venue.categories']\n",
    "        \n",
    "    if len(categories_list) == 0:\n",
    "        return None\n",
    "    else:\n",
    "        return categories_list[0]['name']"
   ],
   "cell_type": "code",
   "metadata": {},
   "execution_count": 13,
   "outputs": []
  },
  {
   "cell_type": "code",
   "execution_count": 14,
   "metadata": {},
   "outputs": [],
   "source": [
    "def getNearbyVenues(names, latitudes, longitudes, radius=500):\n",
    "    \n",
    "    venues_list=[]\n",
    "    for name, lat, lng in zip(names, latitudes, longitudes):\n",
    "        print(name)\n",
    "            \n",
    "        # create the API request URL\n",
    "        url = 'https://api.foursquare.com/v2/venues/explore?&client_id={}&client_secret={}&v={}&ll={},{}&radius={}&limit={}'.format(\n",
    "            CLIENT_ID, \n",
    "            CLIENT_SECRET, \n",
    "            VERSION, \n",
    "            lat, \n",
    "            lng, \n",
    "            radius, \n",
    "            LIMIT)\n",
    "            \n",
    "        # make the GET request\n",
    "        results = requests.get(url).json()[\"response\"]['groups'][0]['items']\n",
    "        \n",
    "        # return only relevant information for each nearby venue\n",
    "        venues_list.append([(\n",
    "            name, \n",
    "            lat, \n",
    "            lng, \n",
    "            v['venue']['name'], \n",
    "            v['venue']['location']['lat'], \n",
    "            v['venue']['location']['lng'],  \n",
    "            v['venue']['categories'][0]['name']) for v in results])\n",
    "\n",
    "    nearby_venues = pd.DataFrame([item for venue_list in venues_list for item in venue_list])\n",
    "    nearby_venues.columns = ['Neighborhood', \n",
    "                  'Neighborhood Latitude', \n",
    "                  'Neighborhood Longitude', \n",
    "                  'Venue', \n",
    "                  'Venue Latitude', \n",
    "                  'Venue Longitude', \n",
    "                  'Venue Category']\n",
    "    \n",
    "    return(nearby_venues)"
   ]
  },
  {
   "source": [
    "## get near by venues\n",
    "\n",
    "toronto_venues = getNearbyVenues(names=df_postal_geo['Neighbourhood'],\n",
    "                                   latitudes=df_postal_geo['Latitude'],\n",
    "                                   longitudes=df_postal_geo['Longitude']\n",
    "                                  )"
   ],
   "cell_type": "code",
   "metadata": {
    "tags": []
   },
   "execution_count": 15,
   "outputs": [
    {
     "output_type": "stream",
     "name": "stdout",
     "text": "Regent Park, Harbourfront\nQueen's Park, Ontario Provincial Government\nGarden District, Ryerson\nSt. James Town\nThe Beaches\nBerczy Park\nCentral Bay Street\nChristie\nRichmond, Adelaide, King\nDufferin, Dovercourt Village\nHarbourfront East, Union Station, Toronto Islands\nLittle Portugal, Trinity\nThe Danforth West, Riverdale\nToronto Dominion Centre, Design Exchange\nBrockton, Parkdale Village, Exhibition Place\nIndia Bazaar, The Beaches West\nCommerce Court, Victoria Hotel\nStudio District\nLawrence Park\nRoselawn\nDavisville North\nForest Hill North & West, Forest Hill Road Park\nHigh Park, The Junction South\nNorth Toronto West, Lawrence Park\nThe Annex, North Midtown, Yorkville\nParkdale, Roncesvalles\nDavisville\nUniversity of Toronto, Harbord\nRunnymede, Swansea\nMoore Park, Summerhill East\nKensington Market, Chinatown, Grange Park\nSummerhill West, Rathnelly, South Hill, Forest Hill SE, Deer Park\nCN Tower, King and Spadina, Railway Lands, Harbourfront West, Bathurst Quay, South Niagara, Island airport\nRosedale\nStn A PO Boxes\nSt. James Town, Cabbagetown\nFirst Canadian Place, Underground city\nChurch and Wellesley\nBusiness reply mail Processing Centre, South Central Letter Processing Plant Toronto\n"
    }
   ]
  },
  {
   "cell_type": "code",
   "execution_count": 16,
   "metadata": {},
   "outputs": [
    {
     "output_type": "execute_result",
     "data": {
      "text/plain": "                Neighborhood  Neighborhood Latitude  Neighborhood Longitude  \\\n0  Regent Park, Harbourfront               43.65426              -79.360636   \n1  Regent Park, Harbourfront               43.65426              -79.360636   \n2  Regent Park, Harbourfront               43.65426              -79.360636   \n3  Regent Park, Harbourfront               43.65426              -79.360636   \n4  Regent Park, Harbourfront               43.65426              -79.360636   \n\n                    Venue  Venue Latitude  Venue Longitude  \\\n0        Roselle Desserts       43.653447       -79.362017   \n1           Tandem Coffee       43.653559       -79.361809   \n2  Cooper Koo Family YMCA       43.653249       -79.358008   \n3     Body Blitz Spa East       43.654735       -79.359874   \n4          Impact Kitchen       43.656369       -79.356980   \n\n        Venue Category  \n0               Bakery  \n1          Coffee Shop  \n2  Distribution Center  \n3                  Spa  \n4           Restaurant  ",
      "text/html": "<div>\n<style scoped>\n    .dataframe tbody tr th:only-of-type {\n        vertical-align: middle;\n    }\n\n    .dataframe tbody tr th {\n        vertical-align: top;\n    }\n\n    .dataframe thead th {\n        text-align: right;\n    }\n</style>\n<table border=\"1\" class=\"dataframe\">\n  <thead>\n    <tr style=\"text-align: right;\">\n      <th></th>\n      <th>Neighborhood</th>\n      <th>Neighborhood Latitude</th>\n      <th>Neighborhood Longitude</th>\n      <th>Venue</th>\n      <th>Venue Latitude</th>\n      <th>Venue Longitude</th>\n      <th>Venue Category</th>\n    </tr>\n  </thead>\n  <tbody>\n    <tr>\n      <th>0</th>\n      <td>Regent Park, Harbourfront</td>\n      <td>43.65426</td>\n      <td>-79.360636</td>\n      <td>Roselle Desserts</td>\n      <td>43.653447</td>\n      <td>-79.362017</td>\n      <td>Bakery</td>\n    </tr>\n    <tr>\n      <th>1</th>\n      <td>Regent Park, Harbourfront</td>\n      <td>43.65426</td>\n      <td>-79.360636</td>\n      <td>Tandem Coffee</td>\n      <td>43.653559</td>\n      <td>-79.361809</td>\n      <td>Coffee Shop</td>\n    </tr>\n    <tr>\n      <th>2</th>\n      <td>Regent Park, Harbourfront</td>\n      <td>43.65426</td>\n      <td>-79.360636</td>\n      <td>Cooper Koo Family YMCA</td>\n      <td>43.653249</td>\n      <td>-79.358008</td>\n      <td>Distribution Center</td>\n    </tr>\n    <tr>\n      <th>3</th>\n      <td>Regent Park, Harbourfront</td>\n      <td>43.65426</td>\n      <td>-79.360636</td>\n      <td>Body Blitz Spa East</td>\n      <td>43.654735</td>\n      <td>-79.359874</td>\n      <td>Spa</td>\n    </tr>\n    <tr>\n      <th>4</th>\n      <td>Regent Park, Harbourfront</td>\n      <td>43.65426</td>\n      <td>-79.360636</td>\n      <td>Impact Kitchen</td>\n      <td>43.656369</td>\n      <td>-79.356980</td>\n      <td>Restaurant</td>\n    </tr>\n  </tbody>\n</table>\n</div>"
     },
     "metadata": {},
     "execution_count": 16
    }
   ],
   "source": [
    "toronto_venues.head()"
   ]
  },
  {
   "cell_type": "code",
   "execution_count": 17,
   "metadata": {
    "tags": []
   },
   "outputs": [
    {
     "output_type": "stream",
     "name": "stdout",
     "text": "There are 238 uniques categories.\n"
    }
   ],
   "source": [
    "print('There are {} uniques categories.'.format(len(toronto_venues['Venue Category'].unique())))"
   ]
  },
  {
   "source": [
    "## Analyze Each Neighborhood"
   ],
   "cell_type": "markdown",
   "metadata": {}
  },
  {
   "cell_type": "code",
   "execution_count": 18,
   "metadata": {},
   "outputs": [
    {
     "output_type": "execute_result",
     "data": {
      "text/plain": "               Neighbourhood  Afghan Restaurant  Airport  Airport Food Court  \\\n0  Regent Park, Harbourfront                  0        0                   0   \n1  Regent Park, Harbourfront                  0        0                   0   \n2  Regent Park, Harbourfront                  0        0                   0   \n3  Regent Park, Harbourfront                  0        0                   0   \n4  Regent Park, Harbourfront                  0        0                   0   \n\n   Airport Gate  Airport Lounge  Airport Service  Airport Terminal  \\\n0             0               0                0                 0   \n1             0               0                0                 0   \n2             0               0                0                 0   \n3             0               0                0                 0   \n4             0               0                0                 0   \n\n   American Restaurant  Antique Shop  ...  Theme Restaurant  Toy / Game Store  \\\n0                    0             0  ...                 0                 0   \n1                    0             0  ...                 0                 0   \n2                    0             0  ...                 0                 0   \n3                    0             0  ...                 0                 0   \n4                    0             0  ...                 0                 0   \n\n   Trail  Train Station  Vegetarian / Vegan Restaurant  Video Game Store  \\\n0      0              0                              0                 0   \n1      0              0                              0                 0   \n2      0              0                              0                 0   \n3      0              0                              0                 0   \n4      0              0                              0                 0   \n\n   Vietnamese Restaurant  Wine Bar  Women's Store  Yoga Studio  \n0                      0         0              0            0  \n1                      0         0              0            0  \n2                      0         0              0            0  \n3                      0         0              0            0  \n4                      0         0              0            0  \n\n[5 rows x 239 columns]",
      "text/html": "<div>\n<style scoped>\n    .dataframe tbody tr th:only-of-type {\n        vertical-align: middle;\n    }\n\n    .dataframe tbody tr th {\n        vertical-align: top;\n    }\n\n    .dataframe thead th {\n        text-align: right;\n    }\n</style>\n<table border=\"1\" class=\"dataframe\">\n  <thead>\n    <tr style=\"text-align: right;\">\n      <th></th>\n      <th>Neighbourhood</th>\n      <th>Afghan Restaurant</th>\n      <th>Airport</th>\n      <th>Airport Food Court</th>\n      <th>Airport Gate</th>\n      <th>Airport Lounge</th>\n      <th>Airport Service</th>\n      <th>Airport Terminal</th>\n      <th>American Restaurant</th>\n      <th>Antique Shop</th>\n      <th>...</th>\n      <th>Theme Restaurant</th>\n      <th>Toy / Game Store</th>\n      <th>Trail</th>\n      <th>Train Station</th>\n      <th>Vegetarian / Vegan Restaurant</th>\n      <th>Video Game Store</th>\n      <th>Vietnamese Restaurant</th>\n      <th>Wine Bar</th>\n      <th>Women's Store</th>\n      <th>Yoga Studio</th>\n    </tr>\n  </thead>\n  <tbody>\n    <tr>\n      <th>0</th>\n      <td>Regent Park, Harbourfront</td>\n      <td>0</td>\n      <td>0</td>\n      <td>0</td>\n      <td>0</td>\n      <td>0</td>\n      <td>0</td>\n      <td>0</td>\n      <td>0</td>\n      <td>0</td>\n      <td>...</td>\n      <td>0</td>\n      <td>0</td>\n      <td>0</td>\n      <td>0</td>\n      <td>0</td>\n      <td>0</td>\n      <td>0</td>\n      <td>0</td>\n      <td>0</td>\n      <td>0</td>\n    </tr>\n    <tr>\n      <th>1</th>\n      <td>Regent Park, Harbourfront</td>\n      <td>0</td>\n      <td>0</td>\n      <td>0</td>\n      <td>0</td>\n      <td>0</td>\n      <td>0</td>\n      <td>0</td>\n      <td>0</td>\n      <td>0</td>\n      <td>...</td>\n      <td>0</td>\n      <td>0</td>\n      <td>0</td>\n      <td>0</td>\n      <td>0</td>\n      <td>0</td>\n      <td>0</td>\n      <td>0</td>\n      <td>0</td>\n      <td>0</td>\n    </tr>\n    <tr>\n      <th>2</th>\n      <td>Regent Park, Harbourfront</td>\n      <td>0</td>\n      <td>0</td>\n      <td>0</td>\n      <td>0</td>\n      <td>0</td>\n      <td>0</td>\n      <td>0</td>\n      <td>0</td>\n      <td>0</td>\n      <td>...</td>\n      <td>0</td>\n      <td>0</td>\n      <td>0</td>\n      <td>0</td>\n      <td>0</td>\n      <td>0</td>\n      <td>0</td>\n      <td>0</td>\n      <td>0</td>\n      <td>0</td>\n    </tr>\n    <tr>\n      <th>3</th>\n      <td>Regent Park, Harbourfront</td>\n      <td>0</td>\n      <td>0</td>\n      <td>0</td>\n      <td>0</td>\n      <td>0</td>\n      <td>0</td>\n      <td>0</td>\n      <td>0</td>\n      <td>0</td>\n      <td>...</td>\n      <td>0</td>\n      <td>0</td>\n      <td>0</td>\n      <td>0</td>\n      <td>0</td>\n      <td>0</td>\n      <td>0</td>\n      <td>0</td>\n      <td>0</td>\n      <td>0</td>\n    </tr>\n    <tr>\n      <th>4</th>\n      <td>Regent Park, Harbourfront</td>\n      <td>0</td>\n      <td>0</td>\n      <td>0</td>\n      <td>0</td>\n      <td>0</td>\n      <td>0</td>\n      <td>0</td>\n      <td>0</td>\n      <td>0</td>\n      <td>...</td>\n      <td>0</td>\n      <td>0</td>\n      <td>0</td>\n      <td>0</td>\n      <td>0</td>\n      <td>0</td>\n      <td>0</td>\n      <td>0</td>\n      <td>0</td>\n      <td>0</td>\n    </tr>\n  </tbody>\n</table>\n<p>5 rows × 239 columns</p>\n</div>"
     },
     "metadata": {},
     "execution_count": 18
    }
   ],
   "source": [
    "# one hot encoding\n",
    "toronto_onehot = pd.get_dummies(toronto_venues[['Venue Category']], prefix=\"\", prefix_sep=\"\")\n",
    "\n",
    "# add neighborhood column back to dataframe\n",
    "toronto_onehot['Neighbourhood'] = toronto_venues['Neighborhood'] \n",
    "\n",
    "# move neighborhood column to the first column\n",
    "fixed_columns = [toronto_onehot.columns[-1]] + list(toronto_onehot.columns[:-1])\n",
    "toronto_onehot = toronto_onehot[fixed_columns]\n",
    "\n",
    "toronto_onehot.head()"
   ]
  },
  {
   "cell_type": "code",
   "execution_count": 19,
   "metadata": {},
   "outputs": [
    {
     "output_type": "execute_result",
     "data": {
      "text/plain": "                                       Neighbourhood  Afghan Restaurant  \\\n0                                        Berczy Park                0.0   \n1       Brockton, Parkdale Village, Exhibition Place                0.0   \n2  Business reply mail Processing Centre, South C...                0.0   \n3  CN Tower, King and Spadina, Railway Lands, Har...                0.0   \n4                                 Central Bay Street                0.0   \n\n   Airport  Airport Food Court  Airport Gate  Airport Lounge  Airport Service  \\\n0   0.0000              0.0000        0.0000           0.000            0.000   \n1   0.0000              0.0000        0.0000           0.000            0.000   \n2   0.0000              0.0000        0.0000           0.000            0.000   \n3   0.0625              0.0625        0.0625           0.125            0.125   \n4   0.0000              0.0000        0.0000           0.000            0.000   \n\n   Airport Terminal  American Restaurant  Antique Shop  ...  Theme Restaurant  \\\n0            0.0000                  0.0           0.0  ...               0.0   \n1            0.0000                  0.0           0.0  ...               0.0   \n2            0.0000                  0.0           0.0  ...               0.0   \n3            0.0625                  0.0           0.0  ...               0.0   \n4            0.0000                  0.0           0.0  ...               0.0   \n\n   Toy / Game Store  Trail  Train Station  Vegetarian / Vegan Restaurant  \\\n0               0.0    0.0            0.0                       0.018182   \n1               0.0    0.0            0.0                       0.000000   \n2               0.0    0.0            0.0                       0.000000   \n3               0.0    0.0            0.0                       0.000000   \n4               0.0    0.0            0.0                       0.014085   \n\n   Video Game Store  Vietnamese Restaurant  Wine Bar  Women's Store  \\\n0               0.0                    0.0  0.000000            0.0   \n1               0.0                    0.0  0.000000            0.0   \n2               0.0                    0.0  0.000000            0.0   \n3               0.0                    0.0  0.000000            0.0   \n4               0.0                    0.0  0.014085            0.0   \n\n   Yoga Studio  \n0     0.000000  \n1     0.000000  \n2     0.000000  \n3     0.000000  \n4     0.014085  \n\n[5 rows x 239 columns]",
      "text/html": "<div>\n<style scoped>\n    .dataframe tbody tr th:only-of-type {\n        vertical-align: middle;\n    }\n\n    .dataframe tbody tr th {\n        vertical-align: top;\n    }\n\n    .dataframe thead th {\n        text-align: right;\n    }\n</style>\n<table border=\"1\" class=\"dataframe\">\n  <thead>\n    <tr style=\"text-align: right;\">\n      <th></th>\n      <th>Neighbourhood</th>\n      <th>Afghan Restaurant</th>\n      <th>Airport</th>\n      <th>Airport Food Court</th>\n      <th>Airport Gate</th>\n      <th>Airport Lounge</th>\n      <th>Airport Service</th>\n      <th>Airport Terminal</th>\n      <th>American Restaurant</th>\n      <th>Antique Shop</th>\n      <th>...</th>\n      <th>Theme Restaurant</th>\n      <th>Toy / Game Store</th>\n      <th>Trail</th>\n      <th>Train Station</th>\n      <th>Vegetarian / Vegan Restaurant</th>\n      <th>Video Game Store</th>\n      <th>Vietnamese Restaurant</th>\n      <th>Wine Bar</th>\n      <th>Women's Store</th>\n      <th>Yoga Studio</th>\n    </tr>\n  </thead>\n  <tbody>\n    <tr>\n      <th>0</th>\n      <td>Berczy Park</td>\n      <td>0.0</td>\n      <td>0.0000</td>\n      <td>0.0000</td>\n      <td>0.0000</td>\n      <td>0.000</td>\n      <td>0.000</td>\n      <td>0.0000</td>\n      <td>0.0</td>\n      <td>0.0</td>\n      <td>...</td>\n      <td>0.0</td>\n      <td>0.0</td>\n      <td>0.0</td>\n      <td>0.0</td>\n      <td>0.018182</td>\n      <td>0.0</td>\n      <td>0.0</td>\n      <td>0.000000</td>\n      <td>0.0</td>\n      <td>0.000000</td>\n    </tr>\n    <tr>\n      <th>1</th>\n      <td>Brockton, Parkdale Village, Exhibition Place</td>\n      <td>0.0</td>\n      <td>0.0000</td>\n      <td>0.0000</td>\n      <td>0.0000</td>\n      <td>0.000</td>\n      <td>0.000</td>\n      <td>0.0000</td>\n      <td>0.0</td>\n      <td>0.0</td>\n      <td>...</td>\n      <td>0.0</td>\n      <td>0.0</td>\n      <td>0.0</td>\n      <td>0.0</td>\n      <td>0.000000</td>\n      <td>0.0</td>\n      <td>0.0</td>\n      <td>0.000000</td>\n      <td>0.0</td>\n      <td>0.000000</td>\n    </tr>\n    <tr>\n      <th>2</th>\n      <td>Business reply mail Processing Centre, South C...</td>\n      <td>0.0</td>\n      <td>0.0000</td>\n      <td>0.0000</td>\n      <td>0.0000</td>\n      <td>0.000</td>\n      <td>0.000</td>\n      <td>0.0000</td>\n      <td>0.0</td>\n      <td>0.0</td>\n      <td>...</td>\n      <td>0.0</td>\n      <td>0.0</td>\n      <td>0.0</td>\n      <td>0.0</td>\n      <td>0.000000</td>\n      <td>0.0</td>\n      <td>0.0</td>\n      <td>0.000000</td>\n      <td>0.0</td>\n      <td>0.000000</td>\n    </tr>\n    <tr>\n      <th>3</th>\n      <td>CN Tower, King and Spadina, Railway Lands, Har...</td>\n      <td>0.0</td>\n      <td>0.0625</td>\n      <td>0.0625</td>\n      <td>0.0625</td>\n      <td>0.125</td>\n      <td>0.125</td>\n      <td>0.0625</td>\n      <td>0.0</td>\n      <td>0.0</td>\n      <td>...</td>\n      <td>0.0</td>\n      <td>0.0</td>\n      <td>0.0</td>\n      <td>0.0</td>\n      <td>0.000000</td>\n      <td>0.0</td>\n      <td>0.0</td>\n      <td>0.000000</td>\n      <td>0.0</td>\n      <td>0.000000</td>\n    </tr>\n    <tr>\n      <th>4</th>\n      <td>Central Bay Street</td>\n      <td>0.0</td>\n      <td>0.0000</td>\n      <td>0.0000</td>\n      <td>0.0000</td>\n      <td>0.000</td>\n      <td>0.000</td>\n      <td>0.0000</td>\n      <td>0.0</td>\n      <td>0.0</td>\n      <td>...</td>\n      <td>0.0</td>\n      <td>0.0</td>\n      <td>0.0</td>\n      <td>0.0</td>\n      <td>0.014085</td>\n      <td>0.0</td>\n      <td>0.0</td>\n      <td>0.014085</td>\n      <td>0.0</td>\n      <td>0.014085</td>\n    </tr>\n  </tbody>\n</table>\n<p>5 rows × 239 columns</p>\n</div>"
     },
     "metadata": {},
     "execution_count": 19
    }
   ],
   "source": [
    "toronto_grouped = toronto_onehot.groupby('Neighbourhood').mean().reset_index()\n",
    "toronto_grouped.head()"
   ]
  },
  {
   "cell_type": "code",
   "execution_count": 20,
   "metadata": {},
   "outputs": [],
   "source": [
    "def return_most_common_venues(row, num_top_venues):\n",
    "    row_categories = row.iloc[1:]\n",
    "    row_categories_sorted = row_categories.sort_values(ascending=False)\n",
    "    \n",
    "    return row_categories_sorted.index.values[0:num_top_venues]"
   ]
  },
  {
   "source": [
    "Now let's create the new dataframe and display the top 10 venues for each neighborhood."
   ],
   "cell_type": "markdown",
   "metadata": {}
  },
  {
   "cell_type": "code",
   "execution_count": 21,
   "metadata": {},
   "outputs": [
    {
     "output_type": "execute_result",
     "data": {
      "text/plain": "                                        Neighborhood 1st Most Common Venue  \\\n0                                        Berczy Park           Coffee Shop   \n1       Brockton, Parkdale Village, Exhibition Place                  Café   \n2  Business reply mail Processing Centre, South C...                  Park   \n3  CN Tower, King and Spadina, Railway Lands, Har...        Airport Lounge   \n4                                 Central Bay Street           Coffee Shop   \n\n  2nd Most Common Venue 3rd Most Common Venue 4th Most Common Venue  \\\n0              Beer Bar        Farmers Market            Restaurant   \n1             Nightclub           Coffee Shop        Breakfast Spot   \n2      Recording Studio            Restaurant               Brewery   \n3       Airport Service              Boutique   Rental Car Location   \n4                  Café        Sandwich Place    Italian Restaurant   \n\n  5th Most Common Venue 6th Most Common Venue  7th Most Common Venue  \\\n0          Cocktail Bar           Cheese Shop                 Bakery   \n1                Bakery     Convenience Store  Performing Arts Venue   \n2         Auto Workshop  Fast Food Restaurant         Farmers Market   \n3               Airport    Airport Food Court           Airport Gate   \n4           Salad Place       Bubble Tea Shop           Burger Joint   \n\n  8th Most Common Venue 9th Most Common Venue 10th Most Common Venue  \n0    Seafood Restaurant                  Café           Liquor Store  \n1             Pet Store          Climbing Gym             Restaurant  \n2               Butcher           Pizza Place                 Garden  \n3      Airport Terminal                   Bar        Harbor / Marina  \n4             Juice Bar      Department Store        Thai Restaurant  ",
      "text/html": "<div>\n<style scoped>\n    .dataframe tbody tr th:only-of-type {\n        vertical-align: middle;\n    }\n\n    .dataframe tbody tr th {\n        vertical-align: top;\n    }\n\n    .dataframe thead th {\n        text-align: right;\n    }\n</style>\n<table border=\"1\" class=\"dataframe\">\n  <thead>\n    <tr style=\"text-align: right;\">\n      <th></th>\n      <th>Neighborhood</th>\n      <th>1st Most Common Venue</th>\n      <th>2nd Most Common Venue</th>\n      <th>3rd Most Common Venue</th>\n      <th>4th Most Common Venue</th>\n      <th>5th Most Common Venue</th>\n      <th>6th Most Common Venue</th>\n      <th>7th Most Common Venue</th>\n      <th>8th Most Common Venue</th>\n      <th>9th Most Common Venue</th>\n      <th>10th Most Common Venue</th>\n    </tr>\n  </thead>\n  <tbody>\n    <tr>\n      <th>0</th>\n      <td>Berczy Park</td>\n      <td>Coffee Shop</td>\n      <td>Beer Bar</td>\n      <td>Farmers Market</td>\n      <td>Restaurant</td>\n      <td>Cocktail Bar</td>\n      <td>Cheese Shop</td>\n      <td>Bakery</td>\n      <td>Seafood Restaurant</td>\n      <td>Café</td>\n      <td>Liquor Store</td>\n    </tr>\n    <tr>\n      <th>1</th>\n      <td>Brockton, Parkdale Village, Exhibition Place</td>\n      <td>Café</td>\n      <td>Nightclub</td>\n      <td>Coffee Shop</td>\n      <td>Breakfast Spot</td>\n      <td>Bakery</td>\n      <td>Convenience Store</td>\n      <td>Performing Arts Venue</td>\n      <td>Pet Store</td>\n      <td>Climbing Gym</td>\n      <td>Restaurant</td>\n    </tr>\n    <tr>\n      <th>2</th>\n      <td>Business reply mail Processing Centre, South C...</td>\n      <td>Park</td>\n      <td>Recording Studio</td>\n      <td>Restaurant</td>\n      <td>Brewery</td>\n      <td>Auto Workshop</td>\n      <td>Fast Food Restaurant</td>\n      <td>Farmers Market</td>\n      <td>Butcher</td>\n      <td>Pizza Place</td>\n      <td>Garden</td>\n    </tr>\n    <tr>\n      <th>3</th>\n      <td>CN Tower, King and Spadina, Railway Lands, Har...</td>\n      <td>Airport Lounge</td>\n      <td>Airport Service</td>\n      <td>Boutique</td>\n      <td>Rental Car Location</td>\n      <td>Airport</td>\n      <td>Airport Food Court</td>\n      <td>Airport Gate</td>\n      <td>Airport Terminal</td>\n      <td>Bar</td>\n      <td>Harbor / Marina</td>\n    </tr>\n    <tr>\n      <th>4</th>\n      <td>Central Bay Street</td>\n      <td>Coffee Shop</td>\n      <td>Café</td>\n      <td>Sandwich Place</td>\n      <td>Italian Restaurant</td>\n      <td>Salad Place</td>\n      <td>Bubble Tea Shop</td>\n      <td>Burger Joint</td>\n      <td>Juice Bar</td>\n      <td>Department Store</td>\n      <td>Thai Restaurant</td>\n    </tr>\n  </tbody>\n</table>\n</div>"
     },
     "metadata": {},
     "execution_count": 21
    }
   ],
   "source": [
    "num_top_venues = 10\n",
    "\n",
    "indicators = ['st', 'nd', 'rd']\n",
    "\n",
    "# create columns according to number of top venues\n",
    "columns = ['Neighborhood']\n",
    "for ind in np.arange(num_top_venues):\n",
    "    try:\n",
    "        columns.append('{}{} Most Common Venue'.format(ind+1, indicators[ind]))\n",
    "    except:\n",
    "        columns.append('{}th Most Common Venue'.format(ind+1))\n",
    "\n",
    "# create a new dataframe\n",
    "neighborhoods_venues_sorted = pd.DataFrame(columns=columns)\n",
    "neighborhoods_venues_sorted['Neighborhood'] = toronto_grouped['Neighbourhood']\n",
    "\n",
    "for ind in np.arange(toronto_grouped.shape[0]):\n",
    "    neighborhoods_venues_sorted.iloc[ind, 1:] = return_most_common_venues(toronto_grouped.iloc[ind, :], num_top_venues)\n",
    "\n",
    "neighborhoods_venues_sorted.head()"
   ]
  },
  {
   "source": [
    "## Cluster Neighborhoods"
   ],
   "cell_type": "markdown",
   "metadata": {}
  },
  {
   "cell_type": "code",
   "execution_count": 22,
   "metadata": {},
   "outputs": [
    {
     "output_type": "execute_result",
     "data": {
      "text/plain": "array([2, 2, 2, 2, 2, 2, 2, 2, 2, 2, 2, 2, 0, 2, 2, 2, 2, 2, 0, 2, 1, 2,\n       2, 2, 2, 2, 0, 4, 2, 2, 2, 2, 2, 2, 2, 3, 2, 2, 2])"
     },
     "metadata": {},
     "execution_count": 22
    }
   ],
   "source": [
    "# set number of clusters\n",
    "kclusters = 5\n",
    "\n",
    "toronto_grouped_clustering = toronto_grouped.drop('Neighbourhood', 1)\n",
    "\n",
    "# run k-means clustering\n",
    "kmeans = KMeans(n_clusters=kclusters, random_state=0).fit(toronto_grouped_clustering)\n",
    "\n",
    "# check cluster labels generated for each row in the dataframe\n",
    "kmeans.labels_"
   ]
  },
  {
   "source": [
    "neighborhoods_venues_sorted.insert(0, 'Cluster Labels', kmeans.labels_)"
   ],
   "cell_type": "code",
   "metadata": {},
   "execution_count": 23,
   "outputs": []
  },
  {
   "cell_type": "code",
   "execution_count": 24,
   "metadata": {},
   "outputs": [
    {
     "output_type": "execute_result",
     "data": {
      "text/plain": "   Cluster Labels                                       Neighborhood  \\\n0               2                                        Berczy Park   \n1               2       Brockton, Parkdale Village, Exhibition Place   \n2               2  Business reply mail Processing Centre, South C...   \n3               2  CN Tower, King and Spadina, Railway Lands, Har...   \n4               2                                 Central Bay Street   \n\n  1st Most Common Venue 2nd Most Common Venue 3rd Most Common Venue  \\\n0           Coffee Shop              Beer Bar        Farmers Market   \n1                  Café             Nightclub           Coffee Shop   \n2                  Park      Recording Studio            Restaurant   \n3        Airport Lounge       Airport Service              Boutique   \n4           Coffee Shop                  Café        Sandwich Place   \n\n  4th Most Common Venue 5th Most Common Venue 6th Most Common Venue  \\\n0            Restaurant          Cocktail Bar           Cheese Shop   \n1        Breakfast Spot                Bakery     Convenience Store   \n2               Brewery         Auto Workshop  Fast Food Restaurant   \n3   Rental Car Location               Airport    Airport Food Court   \n4    Italian Restaurant           Salad Place       Bubble Tea Shop   \n\n   7th Most Common Venue 8th Most Common Venue 9th Most Common Venue  \\\n0                 Bakery    Seafood Restaurant                  Café   \n1  Performing Arts Venue             Pet Store          Climbing Gym   \n2         Farmers Market               Butcher           Pizza Place   \n3           Airport Gate      Airport Terminal                   Bar   \n4           Burger Joint             Juice Bar      Department Store   \n\n  10th Most Common Venue  \n0           Liquor Store  \n1             Restaurant  \n2                 Garden  \n3        Harbor / Marina  \n4        Thai Restaurant  ",
      "text/html": "<div>\n<style scoped>\n    .dataframe tbody tr th:only-of-type {\n        vertical-align: middle;\n    }\n\n    .dataframe tbody tr th {\n        vertical-align: top;\n    }\n\n    .dataframe thead th {\n        text-align: right;\n    }\n</style>\n<table border=\"1\" class=\"dataframe\">\n  <thead>\n    <tr style=\"text-align: right;\">\n      <th></th>\n      <th>Cluster Labels</th>\n      <th>Neighborhood</th>\n      <th>1st Most Common Venue</th>\n      <th>2nd Most Common Venue</th>\n      <th>3rd Most Common Venue</th>\n      <th>4th Most Common Venue</th>\n      <th>5th Most Common Venue</th>\n      <th>6th Most Common Venue</th>\n      <th>7th Most Common Venue</th>\n      <th>8th Most Common Venue</th>\n      <th>9th Most Common Venue</th>\n      <th>10th Most Common Venue</th>\n    </tr>\n  </thead>\n  <tbody>\n    <tr>\n      <th>0</th>\n      <td>2</td>\n      <td>Berczy Park</td>\n      <td>Coffee Shop</td>\n      <td>Beer Bar</td>\n      <td>Farmers Market</td>\n      <td>Restaurant</td>\n      <td>Cocktail Bar</td>\n      <td>Cheese Shop</td>\n      <td>Bakery</td>\n      <td>Seafood Restaurant</td>\n      <td>Café</td>\n      <td>Liquor Store</td>\n    </tr>\n    <tr>\n      <th>1</th>\n      <td>2</td>\n      <td>Brockton, Parkdale Village, Exhibition Place</td>\n      <td>Café</td>\n      <td>Nightclub</td>\n      <td>Coffee Shop</td>\n      <td>Breakfast Spot</td>\n      <td>Bakery</td>\n      <td>Convenience Store</td>\n      <td>Performing Arts Venue</td>\n      <td>Pet Store</td>\n      <td>Climbing Gym</td>\n      <td>Restaurant</td>\n    </tr>\n    <tr>\n      <th>2</th>\n      <td>2</td>\n      <td>Business reply mail Processing Centre, South C...</td>\n      <td>Park</td>\n      <td>Recording Studio</td>\n      <td>Restaurant</td>\n      <td>Brewery</td>\n      <td>Auto Workshop</td>\n      <td>Fast Food Restaurant</td>\n      <td>Farmers Market</td>\n      <td>Butcher</td>\n      <td>Pizza Place</td>\n      <td>Garden</td>\n    </tr>\n    <tr>\n      <th>3</th>\n      <td>2</td>\n      <td>CN Tower, King and Spadina, Railway Lands, Har...</td>\n      <td>Airport Lounge</td>\n      <td>Airport Service</td>\n      <td>Boutique</td>\n      <td>Rental Car Location</td>\n      <td>Airport</td>\n      <td>Airport Food Court</td>\n      <td>Airport Gate</td>\n      <td>Airport Terminal</td>\n      <td>Bar</td>\n      <td>Harbor / Marina</td>\n    </tr>\n    <tr>\n      <th>4</th>\n      <td>2</td>\n      <td>Central Bay Street</td>\n      <td>Coffee Shop</td>\n      <td>Café</td>\n      <td>Sandwich Place</td>\n      <td>Italian Restaurant</td>\n      <td>Salad Place</td>\n      <td>Bubble Tea Shop</td>\n      <td>Burger Joint</td>\n      <td>Juice Bar</td>\n      <td>Department Store</td>\n      <td>Thai Restaurant</td>\n    </tr>\n  </tbody>\n</table>\n</div>"
     },
     "metadata": {},
     "execution_count": 24
    }
   ],
   "source": [
    "neighborhoods_venues_sorted.head()"
   ]
  },
  {
   "cell_type": "code",
   "execution_count": 25,
   "metadata": {},
   "outputs": [
    {
     "output_type": "execute_result",
     "data": {
      "text/plain": "  Postal Code         Community                                Neighbourhood  \\\n0         M5A  Downtown Toronto                    Regent Park, Harbourfront   \n1         M7A  Downtown Toronto  Queen's Park, Ontario Provincial Government   \n2         M5B  Downtown Toronto                     Garden District, Ryerson   \n3         M5C  Downtown Toronto                               St. James Town   \n4         M4E      East Toronto                                  The Beaches   \n\n    Latitude  Longitude  Cluster Labels 1st Most Common Venue  \\\n0  43.654260 -79.360636               2           Coffee Shop   \n1  43.662301 -79.389494               2           Coffee Shop   \n2  43.657162 -79.378937               2        Clothing Store   \n3  43.651494 -79.375418               2           Coffee Shop   \n4  43.676357 -79.293031               3          Neighborhood   \n\n  2nd Most Common Venue 3rd Most Common Venue 4th Most Common Venue  \\\n0                  Park                   Pub                Bakery   \n1           Yoga Studio                 Diner            Restaurant   \n2           Coffee Shop                  Café        Cosmetics Shop   \n3                  Café          Cocktail Bar            Restaurant   \n4                   Pub     Health Food Store                 Trail   \n\n   5th Most Common Venue 6th Most Common Venue      7th Most Common Venue  \\\n0                Theater        Breakfast Spot                       Café   \n1  Portuguese Restaurant                  Park                Music Venue   \n2        Bubble Tea Shop   Japanese Restaurant  Middle Eastern Restaurant   \n3               Beer Bar             Gastropub        American Restaurant   \n4            Yoga Studio    Dim Sum Restaurant                      Diner   \n\n  8th Most Common Venue 9th Most Common Venue 10th Most Common Venue  \n0     Electronics Store                   Spa             Beer Store  \n1    Mexican Restaurant    Italian Restaurant             Hobby Shop  \n2             Bookstore      Ramen Restaurant            Pizza Place  \n3        Farmers Market                 Hotel    Japanese Restaurant  \n4        Discount Store   Distribution Center       Doner Restaurant  ",
      "text/html": "<div>\n<style scoped>\n    .dataframe tbody tr th:only-of-type {\n        vertical-align: middle;\n    }\n\n    .dataframe tbody tr th {\n        vertical-align: top;\n    }\n\n    .dataframe thead th {\n        text-align: right;\n    }\n</style>\n<table border=\"1\" class=\"dataframe\">\n  <thead>\n    <tr style=\"text-align: right;\">\n      <th></th>\n      <th>Postal Code</th>\n      <th>Community</th>\n      <th>Neighbourhood</th>\n      <th>Latitude</th>\n      <th>Longitude</th>\n      <th>Cluster Labels</th>\n      <th>1st Most Common Venue</th>\n      <th>2nd Most Common Venue</th>\n      <th>3rd Most Common Venue</th>\n      <th>4th Most Common Venue</th>\n      <th>5th Most Common Venue</th>\n      <th>6th Most Common Venue</th>\n      <th>7th Most Common Venue</th>\n      <th>8th Most Common Venue</th>\n      <th>9th Most Common Venue</th>\n      <th>10th Most Common Venue</th>\n    </tr>\n  </thead>\n  <tbody>\n    <tr>\n      <th>0</th>\n      <td>M5A</td>\n      <td>Downtown Toronto</td>\n      <td>Regent Park, Harbourfront</td>\n      <td>43.654260</td>\n      <td>-79.360636</td>\n      <td>2</td>\n      <td>Coffee Shop</td>\n      <td>Park</td>\n      <td>Pub</td>\n      <td>Bakery</td>\n      <td>Theater</td>\n      <td>Breakfast Spot</td>\n      <td>Café</td>\n      <td>Electronics Store</td>\n      <td>Spa</td>\n      <td>Beer Store</td>\n    </tr>\n    <tr>\n      <th>1</th>\n      <td>M7A</td>\n      <td>Downtown Toronto</td>\n      <td>Queen's Park, Ontario Provincial Government</td>\n      <td>43.662301</td>\n      <td>-79.389494</td>\n      <td>2</td>\n      <td>Coffee Shop</td>\n      <td>Yoga Studio</td>\n      <td>Diner</td>\n      <td>Restaurant</td>\n      <td>Portuguese Restaurant</td>\n      <td>Park</td>\n      <td>Music Venue</td>\n      <td>Mexican Restaurant</td>\n      <td>Italian Restaurant</td>\n      <td>Hobby Shop</td>\n    </tr>\n    <tr>\n      <th>2</th>\n      <td>M5B</td>\n      <td>Downtown Toronto</td>\n      <td>Garden District, Ryerson</td>\n      <td>43.657162</td>\n      <td>-79.378937</td>\n      <td>2</td>\n      <td>Clothing Store</td>\n      <td>Coffee Shop</td>\n      <td>Café</td>\n      <td>Cosmetics Shop</td>\n      <td>Bubble Tea Shop</td>\n      <td>Japanese Restaurant</td>\n      <td>Middle Eastern Restaurant</td>\n      <td>Bookstore</td>\n      <td>Ramen Restaurant</td>\n      <td>Pizza Place</td>\n    </tr>\n    <tr>\n      <th>3</th>\n      <td>M5C</td>\n      <td>Downtown Toronto</td>\n      <td>St. James Town</td>\n      <td>43.651494</td>\n      <td>-79.375418</td>\n      <td>2</td>\n      <td>Coffee Shop</td>\n      <td>Café</td>\n      <td>Cocktail Bar</td>\n      <td>Restaurant</td>\n      <td>Beer Bar</td>\n      <td>Gastropub</td>\n      <td>American Restaurant</td>\n      <td>Farmers Market</td>\n      <td>Hotel</td>\n      <td>Japanese Restaurant</td>\n    </tr>\n    <tr>\n      <th>4</th>\n      <td>M4E</td>\n      <td>East Toronto</td>\n      <td>The Beaches</td>\n      <td>43.676357</td>\n      <td>-79.293031</td>\n      <td>3</td>\n      <td>Neighborhood</td>\n      <td>Pub</td>\n      <td>Health Food Store</td>\n      <td>Trail</td>\n      <td>Yoga Studio</td>\n      <td>Dim Sum Restaurant</td>\n      <td>Diner</td>\n      <td>Discount Store</td>\n      <td>Distribution Center</td>\n      <td>Doner Restaurant</td>\n    </tr>\n  </tbody>\n</table>\n</div>"
     },
     "metadata": {},
     "execution_count": 25
    }
   ],
   "source": [
    "# add clustering labels\n",
    "\n",
    "\n",
    "toronto_merged = df_postal_geo\n",
    "\n",
    "# merge toronto_grouped with toronto_data to add latitude/longitude for each neighborhood\n",
    "toronto_merged = toronto_merged.join(neighborhoods_venues_sorted.set_index('Neighborhood'), on='Neighbourhood')\n",
    "\n",
    "toronto_merged.head() # check the last columns!"
   ]
  },
  {
   "source": [
    "Finally, let's visualize the resulting clusters"
   ],
   "cell_type": "markdown",
   "metadata": {}
  },
  {
   "cell_type": "code",
   "execution_count": 26,
   "metadata": {},
   "outputs": [
    {
     "output_type": "execute_result",
     "data": {
      "text/plain": "<folium.folium.Map at 0x12b904a8>",
      "text/html": "<div style=\"width:100%;\"><div style=\"position:relative;width:100%;height:0;padding-bottom:60%;\"><span style=\"color:#565656\">Make this Notebook Trusted to load map: File -> Trust Notebook</span><iframe src=\"about:blank\" style=\"position:absolute;width:100%;height:100%;left:0;top:0;border:none !important;\" data-html=PCFET0NUWVBFIGh0bWw+CjxoZWFkPiAgICAKICAgIDxtZXRhIGh0dHAtZXF1aXY9ImNvbnRlbnQtdHlwZSIgY29udGVudD0idGV4dC9odG1sOyBjaGFyc2V0PVVURi04IiAvPgogICAgCiAgICAgICAgPHNjcmlwdD4KICAgICAgICAgICAgTF9OT19UT1VDSCA9IGZhbHNlOwogICAgICAgICAgICBMX0RJU0FCTEVfM0QgPSBmYWxzZTsKICAgICAgICA8L3NjcmlwdD4KICAgIAogICAgPHNjcmlwdCBzcmM9Imh0dHBzOi8vY2RuLmpzZGVsaXZyLm5ldC9ucG0vbGVhZmxldEAxLjYuMC9kaXN0L2xlYWZsZXQuanMiPjwvc2NyaXB0PgogICAgPHNjcmlwdCBzcmM9Imh0dHBzOi8vY29kZS5qcXVlcnkuY29tL2pxdWVyeS0xLjEyLjQubWluLmpzIj48L3NjcmlwdD4KICAgIDxzY3JpcHQgc3JjPSJodHRwczovL21heGNkbi5ib290c3RyYXBjZG4uY29tL2Jvb3RzdHJhcC8zLjIuMC9qcy9ib290c3RyYXAubWluLmpzIj48L3NjcmlwdD4KICAgIDxzY3JpcHQgc3JjPSJodHRwczovL2NkbmpzLmNsb3VkZmxhcmUuY29tL2FqYXgvbGlicy9MZWFmbGV0LmF3ZXNvbWUtbWFya2Vycy8yLjAuMi9sZWFmbGV0LmF3ZXNvbWUtbWFya2Vycy5qcyI+PC9zY3JpcHQ+CiAgICA8bGluayByZWw9InN0eWxlc2hlZXQiIGhyZWY9Imh0dHBzOi8vY2RuLmpzZGVsaXZyLm5ldC9ucG0vbGVhZmxldEAxLjYuMC9kaXN0L2xlYWZsZXQuY3NzIi8+CiAgICA8bGluayByZWw9InN0eWxlc2hlZXQiIGhyZWY9Imh0dHBzOi8vbWF4Y2RuLmJvb3RzdHJhcGNkbi5jb20vYm9vdHN0cmFwLzMuMi4wL2Nzcy9ib290c3RyYXAubWluLmNzcyIvPgogICAgPGxpbmsgcmVsPSJzdHlsZXNoZWV0IiBocmVmPSJodHRwczovL21heGNkbi5ib290c3RyYXBjZG4uY29tL2Jvb3RzdHJhcC8zLjIuMC9jc3MvYm9vdHN0cmFwLXRoZW1lLm1pbi5jc3MiLz4KICAgIDxsaW5rIHJlbD0ic3R5bGVzaGVldCIgaHJlZj0iaHR0cHM6Ly9tYXhjZG4uYm9vdHN0cmFwY2RuLmNvbS9mb250LWF3ZXNvbWUvNC42LjMvY3NzL2ZvbnQtYXdlc29tZS5taW4uY3NzIi8+CiAgICA8bGluayByZWw9InN0eWxlc2hlZXQiIGhyZWY9Imh0dHBzOi8vY2RuanMuY2xvdWRmbGFyZS5jb20vYWpheC9saWJzL0xlYWZsZXQuYXdlc29tZS1tYXJrZXJzLzIuMC4yL2xlYWZsZXQuYXdlc29tZS1tYXJrZXJzLmNzcyIvPgogICAgPGxpbmsgcmVsPSJzdHlsZXNoZWV0IiBocmVmPSJodHRwczovL3Jhd2Nkbi5naXRoYWNrLmNvbS9weXRob24tdmlzdWFsaXphdGlvbi9mb2xpdW0vbWFzdGVyL2ZvbGl1bS90ZW1wbGF0ZXMvbGVhZmxldC5hd2Vzb21lLnJvdGF0ZS5jc3MiLz4KICAgIDxzdHlsZT5odG1sLCBib2R5IHt3aWR0aDogMTAwJTtoZWlnaHQ6IDEwMCU7bWFyZ2luOiAwO3BhZGRpbmc6IDA7fTwvc3R5bGU+CiAgICA8c3R5bGU+I21hcCB7cG9zaXRpb246YWJzb2x1dGU7dG9wOjA7Ym90dG9tOjA7cmlnaHQ6MDtsZWZ0OjA7fTwvc3R5bGU+CiAgICAKICAgICAgICAgICAgPG1ldGEgbmFtZT0idmlld3BvcnQiIGNvbnRlbnQ9IndpZHRoPWRldmljZS13aWR0aCwKICAgICAgICAgICAgICAgIGluaXRpYWwtc2NhbGU9MS4wLCBtYXhpbXVtLXNjYWxlPTEuMCwgdXNlci1zY2FsYWJsZT1ubyIgLz4KICAgICAgICAgICAgPHN0eWxlPgogICAgICAgICAgICAgICAgI21hcF9kYTA2ZWY5NjAzMzg0YjIwODQzMzVkMjBiMDk3NzkzOSB7CiAgICAgICAgICAgICAgICAgICAgcG9zaXRpb246IHJlbGF0aXZlOwogICAgICAgICAgICAgICAgICAgIHdpZHRoOiAxMDAuMCU7CiAgICAgICAgICAgICAgICAgICAgaGVpZ2h0OiAxMDAuMCU7CiAgICAgICAgICAgICAgICAgICAgbGVmdDogMC4wJTsKICAgICAgICAgICAgICAgICAgICB0b3A6IDAuMCU7CiAgICAgICAgICAgICAgICB9CiAgICAgICAgICAgIDwvc3R5bGU+CiAgICAgICAgCjwvaGVhZD4KPGJvZHk+ICAgIAogICAgCiAgICAgICAgICAgIDxkaXYgY2xhc3M9ImZvbGl1bS1tYXAiIGlkPSJtYXBfZGEwNmVmOTYwMzM4NGIyMDg0MzM1ZDIwYjA5Nzc5MzkiID48L2Rpdj4KICAgICAgICAKPC9ib2R5Pgo8c2NyaXB0PiAgICAKICAgIAogICAgICAgICAgICB2YXIgbWFwX2RhMDZlZjk2MDMzODRiMjA4NDMzNWQyMGIwOTc3OTM5ID0gTC5tYXAoCiAgICAgICAgICAgICAgICAibWFwX2RhMDZlZjk2MDMzODRiMjA4NDMzNWQyMGIwOTc3OTM5IiwKICAgICAgICAgICAgICAgIHsKICAgICAgICAgICAgICAgICAgICBjZW50ZXI6IFs0My42NTEwNywgLTc5LjM0NzAxNV0sCiAgICAgICAgICAgICAgICAgICAgY3JzOiBMLkNSUy5FUFNHMzg1NywKICAgICAgICAgICAgICAgICAgICB6b29tOiAxMSwKICAgICAgICAgICAgICAgICAgICB6b29tQ29udHJvbDogdHJ1ZSwKICAgICAgICAgICAgICAgICAgICBwcmVmZXJDYW52YXM6IGZhbHNlLAogICAgICAgICAgICAgICAgfQogICAgICAgICAgICApOwoKICAgICAgICAgICAgCgogICAgICAgIAogICAgCiAgICAgICAgICAgIHZhciB0aWxlX2xheWVyXzYyNzhiZTkxYjU2MDQ5NDk5NWQ0ODJiOGFiOWYyMmQwID0gTC50aWxlTGF5ZXIoCiAgICAgICAgICAgICAgICAiaHR0cHM6Ly97c30udGlsZS5vcGVuc3RyZWV0bWFwLm9yZy97en0ve3h9L3t5fS5wbmciLAogICAgICAgICAgICAgICAgeyJhdHRyaWJ1dGlvbiI6ICJEYXRhIGJ5IFx1MDAyNmNvcHk7IFx1MDAzY2EgaHJlZj1cImh0dHA6Ly9vcGVuc3RyZWV0bWFwLm9yZ1wiXHUwMDNlT3BlblN0cmVldE1hcFx1MDAzYy9hXHUwMDNlLCB1bmRlciBcdTAwM2NhIGhyZWY9XCJodHRwOi8vd3d3Lm9wZW5zdHJlZXRtYXAub3JnL2NvcHlyaWdodFwiXHUwMDNlT0RiTFx1MDAzYy9hXHUwMDNlLiIsICJkZXRlY3RSZXRpbmEiOiBmYWxzZSwgIm1heE5hdGl2ZVpvb20iOiAxOCwgIm1heFpvb20iOiAxOCwgIm1pblpvb20iOiAwLCAibm9XcmFwIjogZmFsc2UsICJvcGFjaXR5IjogMSwgInN1YmRvbWFpbnMiOiAiYWJjIiwgInRtcyI6IGZhbHNlfQogICAgICAgICAgICApLmFkZFRvKG1hcF9kYTA2ZWY5NjAzMzg0YjIwODQzMzVkMjBiMDk3NzkzOSk7CiAgICAgICAgCiAgICAKICAgICAgICAgICAgdmFyIGNpcmNsZV9tYXJrZXJfOGM2MWQ3ZTg0Mjg4NGU4OTk4Y2YxMWE3ODY2OThiNWUgPSBMLmNpcmNsZU1hcmtlcigKICAgICAgICAgICAgICAgIFs0My42NTQyNTk5LCAtNzkuMzYwNjM1OV0sCiAgICAgICAgICAgICAgICB7ImJ1YmJsaW5nTW91c2VFdmVudHMiOiB0cnVlLCAiY29sb3IiOiAiIzAwYjVlYiIsICJkYXNoQXJyYXkiOiBudWxsLCAiZGFzaE9mZnNldCI6IG51bGwsICJmaWxsIjogdHJ1ZSwgImZpbGxDb2xvciI6ICIjMDBiNWViIiwgImZpbGxPcGFjaXR5IjogMC43LCAiZmlsbFJ1bGUiOiAiZXZlbm9kZCIsICJsaW5lQ2FwIjogInJvdW5kIiwgImxpbmVKb2luIjogInJvdW5kIiwgIm9wYWNpdHkiOiAxLjAsICJyYWRpdXMiOiA1LCAic3Ryb2tlIjogdHJ1ZSwgIndlaWdodCI6IDN9CiAgICAgICAgICAgICkuYWRkVG8obWFwX2RhMDZlZjk2MDMzODRiMjA4NDMzNWQyMGIwOTc3OTM5KTsKICAgICAgICAKICAgIAogICAgICAgIHZhciBwb3B1cF85M2NjYjk0NzIzNWQ0OGFjYTVjODQ3YWJjNzlhOTZiYiA9IEwucG9wdXAoeyJtYXhXaWR0aCI6ICIxMDAlIn0pOwoKICAgICAgICAKICAgICAgICAgICAgdmFyIGh0bWxfMjRlMTYyYzAyMDZjNDE5Zjk1YzVjMGRhM2RkMjk4M2MgPSAkKGA8ZGl2IGlkPSJodG1sXzI0ZTE2MmMwMjA2YzQxOWY5NWM1YzBkYTNkZDI5ODNjIiBzdHlsZT0id2lkdGg6IDEwMC4wJTsgaGVpZ2h0OiAxMDAuMCU7Ij5SZWdlbnQgUGFyaywgSGFyYm91cmZyb250IENsdXN0ZXIgMjwvZGl2PmApWzBdOwogICAgICAgICAgICBwb3B1cF85M2NjYjk0NzIzNWQ0OGFjYTVjODQ3YWJjNzlhOTZiYi5zZXRDb250ZW50KGh0bWxfMjRlMTYyYzAyMDZjNDE5Zjk1YzVjMGRhM2RkMjk4M2MpOwogICAgICAgIAoKICAgICAgICBjaXJjbGVfbWFya2VyXzhjNjFkN2U4NDI4ODRlODk5OGNmMTFhNzg2Njk4YjVlLmJpbmRQb3B1cChwb3B1cF85M2NjYjk0NzIzNWQ0OGFjYTVjODQ3YWJjNzlhOTZiYikKICAgICAgICA7CgogICAgICAgIAogICAgCiAgICAKICAgICAgICAgICAgdmFyIGNpcmNsZV9tYXJrZXJfMTJiZmUxZWUyZGNmNDMzOThiNzkzMjJjNTBmYjNmYWQgPSBMLmNpcmNsZU1hcmtlcigKICAgICAgICAgICAgICAgIFs0My42NjIzMDE1LCAtNzkuMzg5NDkzOF0sCiAgICAgICAgICAgICAgICB7ImJ1YmJsaW5nTW91c2VFdmVudHMiOiB0cnVlLCAiY29sb3IiOiAiIzAwYjVlYiIsICJkYXNoQXJyYXkiOiBudWxsLCAiZGFzaE9mZnNldCI6IG51bGwsICJmaWxsIjogdHJ1ZSwgImZpbGxDb2xvciI6ICIjMDBiNWViIiwgImZpbGxPcGFjaXR5IjogMC43LCAiZmlsbFJ1bGUiOiAiZXZlbm9kZCIsICJsaW5lQ2FwIjogInJvdW5kIiwgImxpbmVKb2luIjogInJvdW5kIiwgIm9wYWNpdHkiOiAxLjAsICJyYWRpdXMiOiA1LCAic3Ryb2tlIjogdHJ1ZSwgIndlaWdodCI6IDN9CiAgICAgICAgICAgICkuYWRkVG8obWFwX2RhMDZlZjk2MDMzODRiMjA4NDMzNWQyMGIwOTc3OTM5KTsKICAgICAgICAKICAgIAogICAgICAgIHZhciBwb3B1cF80NDY2ZmZjYjcyZTk0MzcyYmM4NTc1NjZmOTUzMGY5MCA9IEwucG9wdXAoeyJtYXhXaWR0aCI6ICIxMDAlIn0pOwoKICAgICAgICAKICAgICAgICAgICAgdmFyIGh0bWxfNTI2NzZlYmE4MWQ4NDcxYWIyZjdhZWE4ODFhMzlkNjIgPSAkKGA8ZGl2IGlkPSJodG1sXzUyNjc2ZWJhODFkODQ3MWFiMmY3YWVhODgxYTM5ZDYyIiBzdHlsZT0id2lkdGg6IDEwMC4wJTsgaGVpZ2h0OiAxMDAuMCU7Ij5RdWVlbiYjMzk7cyBQYXJrLCBPbnRhcmlvIFByb3ZpbmNpYWwgR292ZXJubWVudCBDbHVzdGVyIDI8L2Rpdj5gKVswXTsKICAgICAgICAgICAgcG9wdXBfNDQ2NmZmY2I3MmU5NDM3MmJjODU3NTY2Zjk1MzBmOTAuc2V0Q29udGVudChodG1sXzUyNjc2ZWJhODFkODQ3MWFiMmY3YWVhODgxYTM5ZDYyKTsKICAgICAgICAKCiAgICAgICAgY2lyY2xlX21hcmtlcl8xMmJmZTFlZTJkY2Y0MzM5OGI3OTMyMmM1MGZiM2ZhZC5iaW5kUG9wdXAocG9wdXBfNDQ2NmZmY2I3MmU5NDM3MmJjODU3NTY2Zjk1MzBmOTApCiAgICAgICAgOwoKICAgICAgICAKICAgIAogICAgCiAgICAgICAgICAgIHZhciBjaXJjbGVfbWFya2VyXzVmM2ZlZWI0YTMwNjQ5MTM4MDU3ODgxMzliMTE2NGFkID0gTC5jaXJjbGVNYXJrZXIoCiAgICAgICAgICAgICAgICBbNDMuNjU3MTYxOCwgLTc5LjM3ODkzNzA5OTk5OTk5XSwKICAgICAgICAgICAgICAgIHsiYnViYmxpbmdNb3VzZUV2ZW50cyI6IHRydWUsICJjb2xvciI6ICIjMDBiNWViIiwgImRhc2hBcnJheSI6IG51bGwsICJkYXNoT2Zmc2V0IjogbnVsbCwgImZpbGwiOiB0cnVlLCAiZmlsbENvbG9yIjogIiMwMGI1ZWIiLCAiZmlsbE9wYWNpdHkiOiAwLjcsICJmaWxsUnVsZSI6ICJldmVub2RkIiwgImxpbmVDYXAiOiAicm91bmQiLCAibGluZUpvaW4iOiAicm91bmQiLCAib3BhY2l0eSI6IDEuMCwgInJhZGl1cyI6IDUsICJzdHJva2UiOiB0cnVlLCAid2VpZ2h0IjogM30KICAgICAgICAgICAgKS5hZGRUbyhtYXBfZGEwNmVmOTYwMzM4NGIyMDg0MzM1ZDIwYjA5Nzc5MzkpOwogICAgICAgIAogICAgCiAgICAgICAgdmFyIHBvcHVwXzI2YTQ0OWVkZjIzYTQ2OWE4YTExYWU3YzNiY2UxZmE4ID0gTC5wb3B1cCh7Im1heFdpZHRoIjogIjEwMCUifSk7CgogICAgICAgIAogICAgICAgICAgICB2YXIgaHRtbF9jYTYwOGU5M2VjYjQ0Y2JiYTUwMmVlNWFkNjAzMDU4NyA9ICQoYDxkaXYgaWQ9Imh0bWxfY2E2MDhlOTNlY2I0NGNiYmE1MDJlZTVhZDYwMzA1ODciIHN0eWxlPSJ3aWR0aDogMTAwLjAlOyBoZWlnaHQ6IDEwMC4wJTsiPkdhcmRlbiBEaXN0cmljdCwgUnllcnNvbiBDbHVzdGVyIDI8L2Rpdj5gKVswXTsKICAgICAgICAgICAgcG9wdXBfMjZhNDQ5ZWRmMjNhNDY5YThhMTFhZTdjM2JjZTFmYTguc2V0Q29udGVudChodG1sX2NhNjA4ZTkzZWNiNDRjYmJhNTAyZWU1YWQ2MDMwNTg3KTsKICAgICAgICAKCiAgICAgICAgY2lyY2xlX21hcmtlcl81ZjNmZWViNGEzMDY0OTEzODA1Nzg4MTM5YjExNjRhZC5iaW5kUG9wdXAocG9wdXBfMjZhNDQ5ZWRmMjNhNDY5YThhMTFhZTdjM2JjZTFmYTgpCiAgICAgICAgOwoKICAgICAgICAKICAgIAogICAgCiAgICAgICAgICAgIHZhciBjaXJjbGVfbWFya2VyXzM4ZWViMzcxODc4OTQ1MDZiYzkxMzZlZWZjZTdlYmRhID0gTC5jaXJjbGVNYXJrZXIoCiAgICAgICAgICAgICAgICBbNDMuNjUxNDkzOSwgLTc5LjM3NTQxNzldLAogICAgICAgICAgICAgICAgeyJidWJibGluZ01vdXNlRXZlbnRzIjogdHJ1ZSwgImNvbG9yIjogIiMwMGI1ZWIiLCAiZGFzaEFycmF5IjogbnVsbCwgImRhc2hPZmZzZXQiOiBudWxsLCAiZmlsbCI6IHRydWUsICJmaWxsQ29sb3IiOiAiIzAwYjVlYiIsICJmaWxsT3BhY2l0eSI6IDAuNywgImZpbGxSdWxlIjogImV2ZW5vZGQiLCAibGluZUNhcCI6ICJyb3VuZCIsICJsaW5lSm9pbiI6ICJyb3VuZCIsICJvcGFjaXR5IjogMS4wLCAicmFkaXVzIjogNSwgInN0cm9rZSI6IHRydWUsICJ3ZWlnaHQiOiAzfQogICAgICAgICAgICApLmFkZFRvKG1hcF9kYTA2ZWY5NjAzMzg0YjIwODQzMzVkMjBiMDk3NzkzOSk7CiAgICAgICAgCiAgICAKICAgICAgICB2YXIgcG9wdXBfZWY3MGYyYzhhZmY1NGMwOWIzNzE4YTFjMjI5OWM2YzQgPSBMLnBvcHVwKHsibWF4V2lkdGgiOiAiMTAwJSJ9KTsKCiAgICAgICAgCiAgICAgICAgICAgIHZhciBodG1sXzMxNGNhMTgzZGIyMDRiZmU4MTFkYzRmODljYjg4NzY5ID0gJChgPGRpdiBpZD0iaHRtbF8zMTRjYTE4M2RiMjA0YmZlODExZGM0Zjg5Y2I4ODc2OSIgc3R5bGU9IndpZHRoOiAxMDAuMCU7IGhlaWdodDogMTAwLjAlOyI+U3QuIEphbWVzIFRvd24gQ2x1c3RlciAyPC9kaXY+YClbMF07CiAgICAgICAgICAgIHBvcHVwX2VmNzBmMmM4YWZmNTRjMDliMzcxOGExYzIyOTljNmM0LnNldENvbnRlbnQoaHRtbF8zMTRjYTE4M2RiMjA0YmZlODExZGM0Zjg5Y2I4ODc2OSk7CiAgICAgICAgCgogICAgICAgIGNpcmNsZV9tYXJrZXJfMzhlZWIzNzE4Nzg5NDUwNmJjOTEzNmVlZmNlN2ViZGEuYmluZFBvcHVwKHBvcHVwX2VmNzBmMmM4YWZmNTRjMDliMzcxOGExYzIyOTljNmM0KQogICAgICAgIDsKCiAgICAgICAgCiAgICAKICAgIAogICAgICAgICAgICB2YXIgY2lyY2xlX21hcmtlcl85YWI5YTA1MDQ3MGE0YjgyOGE0NmQwMDk3YzYyODk5YyA9IEwuY2lyY2xlTWFya2VyKAogICAgICAgICAgICAgICAgWzQzLjY3NjM1NzM5OTk5OTk5LCAtNzkuMjkzMDMxMl0sCiAgICAgICAgICAgICAgICB7ImJ1YmJsaW5nTW91c2VFdmVudHMiOiB0cnVlLCAiY29sb3IiOiAiIzgwZmZiNCIsICJkYXNoQXJyYXkiOiBudWxsLCAiZGFzaE9mZnNldCI6IG51bGwsICJmaWxsIjogdHJ1ZSwgImZpbGxDb2xvciI6ICIjODBmZmI0IiwgImZpbGxPcGFjaXR5IjogMC43LCAiZmlsbFJ1bGUiOiAiZXZlbm9kZCIsICJsaW5lQ2FwIjogInJvdW5kIiwgImxpbmVKb2luIjogInJvdW5kIiwgIm9wYWNpdHkiOiAxLjAsICJyYWRpdXMiOiA1LCAic3Ryb2tlIjogdHJ1ZSwgIndlaWdodCI6IDN9CiAgICAgICAgICAgICkuYWRkVG8obWFwX2RhMDZlZjk2MDMzODRiMjA4NDMzNWQyMGIwOTc3OTM5KTsKICAgICAgICAKICAgIAogICAgICAgIHZhciBwb3B1cF85YjQ3ZjlhZjM4OTg0ZDJkOTgzOTkyYWNjYWMzMjI0ZiA9IEwucG9wdXAoeyJtYXhXaWR0aCI6ICIxMDAlIn0pOwoKICAgICAgICAKICAgICAgICAgICAgdmFyIGh0bWxfZmUzMTMzMWRjMTA4NGM0MzlmZDQ1OGQxZDk0MTRjYzkgPSAkKGA8ZGl2IGlkPSJodG1sX2ZlMzEzMzFkYzEwODRjNDM5ZmQ0NThkMWQ5NDE0Y2M5IiBzdHlsZT0id2lkdGg6IDEwMC4wJTsgaGVpZ2h0OiAxMDAuMCU7Ij5UaGUgQmVhY2hlcyBDbHVzdGVyIDM8L2Rpdj5gKVswXTsKICAgICAgICAgICAgcG9wdXBfOWI0N2Y5YWYzODk4NGQyZDk4Mzk5MmFjY2FjMzIyNGYuc2V0Q29udGVudChodG1sX2ZlMzEzMzFkYzEwODRjNDM5ZmQ0NThkMWQ5NDE0Y2M5KTsKICAgICAgICAKCiAgICAgICAgY2lyY2xlX21hcmtlcl85YWI5YTA1MDQ3MGE0YjgyOGE0NmQwMDk3YzYyODk5Yy5iaW5kUG9wdXAocG9wdXBfOWI0N2Y5YWYzODk4NGQyZDk4Mzk5MmFjY2FjMzIyNGYpCiAgICAgICAgOwoKICAgICAgICAKICAgIAogICAgCiAgICAgICAgICAgIHZhciBjaXJjbGVfbWFya2VyXzlhOTRlNjRhOTEzYjRjYjY5NjRmYjJmMDcyNWY1OGVhID0gTC5jaXJjbGVNYXJrZXIoCiAgICAgICAgICAgICAgICBbNDMuNjQ0NzcwNzk5OTk5OTk2LCAtNzkuMzczMzA2NF0sCiAgICAgICAgICAgICAgICB7ImJ1YmJsaW5nTW91c2VFdmVudHMiOiB0cnVlLCAiY29sb3IiOiAiIzAwYjVlYiIsICJkYXNoQXJyYXkiOiBudWxsLCAiZGFzaE9mZnNldCI6IG51bGwsICJmaWxsIjogdHJ1ZSwgImZpbGxDb2xvciI6ICIjMDBiNWViIiwgImZpbGxPcGFjaXR5IjogMC43LCAiZmlsbFJ1bGUiOiAiZXZlbm9kZCIsICJsaW5lQ2FwIjogInJvdW5kIiwgImxpbmVKb2luIjogInJvdW5kIiwgIm9wYWNpdHkiOiAxLjAsICJyYWRpdXMiOiA1LCAic3Ryb2tlIjogdHJ1ZSwgIndlaWdodCI6IDN9CiAgICAgICAgICAgICkuYWRkVG8obWFwX2RhMDZlZjk2MDMzODRiMjA4NDMzNWQyMGIwOTc3OTM5KTsKICAgICAgICAKICAgIAogICAgICAgIHZhciBwb3B1cF8zNzg4MjRhNWJiYmI0YjVmYWY1NDhmOWZjM2VlMzkyMSA9IEwucG9wdXAoeyJtYXhXaWR0aCI6ICIxMDAlIn0pOwoKICAgICAgICAKICAgICAgICAgICAgdmFyIGh0bWxfZjRmNjNhNTRmOGZkNDM1Njg0YjVhMDJmNWVlNmMxYzEgPSAkKGA8ZGl2IGlkPSJodG1sX2Y0ZjYzYTU0ZjhmZDQzNTY4NGI1YTAyZjVlZTZjMWMxIiBzdHlsZT0id2lkdGg6IDEwMC4wJTsgaGVpZ2h0OiAxMDAuMCU7Ij5CZXJjenkgUGFyayBDbHVzdGVyIDI8L2Rpdj5gKVswXTsKICAgICAgICAgICAgcG9wdXBfMzc4ODI0YTViYmJiNGI1ZmFmNTQ4ZjlmYzNlZTM5MjEuc2V0Q29udGVudChodG1sX2Y0ZjYzYTU0ZjhmZDQzNTY4NGI1YTAyZjVlZTZjMWMxKTsKICAgICAgICAKCiAgICAgICAgY2lyY2xlX21hcmtlcl85YTk0ZTY0YTkxM2I0Y2I2OTY0ZmIyZjA3MjVmNThlYS5iaW5kUG9wdXAocG9wdXBfMzc4ODI0YTViYmJiNGI1ZmFmNTQ4ZjlmYzNlZTM5MjEpCiAgICAgICAgOwoKICAgICAgICAKICAgIAogICAgCiAgICAgICAgICAgIHZhciBjaXJjbGVfbWFya2VyX2I2Mjg5ZDNkNmY5YjRiZmM5OWQzOWEyZWMwMWRhMWI5ID0gTC5jaXJjbGVNYXJrZXIoCiAgICAgICAgICAgICAgICBbNDMuNjU3OTUyNCwgLTc5LjM4NzM4MjZdLAogICAgICAgICAgICAgICAgeyJidWJibGluZ01vdXNlRXZlbnRzIjogdHJ1ZSwgImNvbG9yIjogIiMwMGI1ZWIiLCAiZGFzaEFycmF5IjogbnVsbCwgImRhc2hPZmZzZXQiOiBudWxsLCAiZmlsbCI6IHRydWUsICJmaWxsQ29sb3IiOiAiIzAwYjVlYiIsICJmaWxsT3BhY2l0eSI6IDAuNywgImZpbGxSdWxlIjogImV2ZW5vZGQiLCAibGluZUNhcCI6ICJyb3VuZCIsICJsaW5lSm9pbiI6ICJyb3VuZCIsICJvcGFjaXR5IjogMS4wLCAicmFkaXVzIjogNSwgInN0cm9rZSI6IHRydWUsICJ3ZWlnaHQiOiAzfQogICAgICAgICAgICApLmFkZFRvKG1hcF9kYTA2ZWY5NjAzMzg0YjIwODQzMzVkMjBiMDk3NzkzOSk7CiAgICAgICAgCiAgICAKICAgICAgICB2YXIgcG9wdXBfOTdhZDhiN2RiOGY2NGFmODg5YzNlYjU3NTQyY2U4YTggPSBMLnBvcHVwKHsibWF4V2lkdGgiOiAiMTAwJSJ9KTsKCiAgICAgICAgCiAgICAgICAgICAgIHZhciBodG1sX2Y5MWU0OGUxYzAxNzQ1ZDM5NjY1YmM0NzE3NTA0YTAwID0gJChgPGRpdiBpZD0iaHRtbF9mOTFlNDhlMWMwMTc0NWQzOTY2NWJjNDcxNzUwNGEwMCIgc3R5bGU9IndpZHRoOiAxMDAuMCU7IGhlaWdodDogMTAwLjAlOyI+Q2VudHJhbCBCYXkgU3RyZWV0IENsdXN0ZXIgMjwvZGl2PmApWzBdOwogICAgICAgICAgICBwb3B1cF85N2FkOGI3ZGI4ZjY0YWY4ODljM2ViNTc1NDJjZThhOC5zZXRDb250ZW50KGh0bWxfZjkxZTQ4ZTFjMDE3NDVkMzk2NjViYzQ3MTc1MDRhMDApOwogICAgICAgIAoKICAgICAgICBjaXJjbGVfbWFya2VyX2I2Mjg5ZDNkNmY5YjRiZmM5OWQzOWEyZWMwMWRhMWI5LmJpbmRQb3B1cChwb3B1cF85N2FkOGI3ZGI4ZjY0YWY4ODljM2ViNTc1NDJjZThhOCkKICAgICAgICA7CgogICAgICAgIAogICAgCiAgICAKICAgICAgICAgICAgdmFyIGNpcmNsZV9tYXJrZXJfNTVlZGVmY2Q1NWI4NGEwNmI0YzZiNzU0ODA3NDFiMjMgPSBMLmNpcmNsZU1hcmtlcigKICAgICAgICAgICAgICAgIFs0My42Njk1NDIsIC03OS40MjI1NjM3XSwKICAgICAgICAgICAgICAgIHsiYnViYmxpbmdNb3VzZUV2ZW50cyI6IHRydWUsICJjb2xvciI6ICIjMDBiNWViIiwgImRhc2hBcnJheSI6IG51bGwsICJkYXNoT2Zmc2V0IjogbnVsbCwgImZpbGwiOiB0cnVlLCAiZmlsbENvbG9yIjogIiMwMGI1ZWIiLCAiZmlsbE9wYWNpdHkiOiAwLjcsICJmaWxsUnVsZSI6ICJldmVub2RkIiwgImxpbmVDYXAiOiAicm91bmQiLCAibGluZUpvaW4iOiAicm91bmQiLCAib3BhY2l0eSI6IDEuMCwgInJhZGl1cyI6IDUsICJzdHJva2UiOiB0cnVlLCAid2VpZ2h0IjogM30KICAgICAgICAgICAgKS5hZGRUbyhtYXBfZGEwNmVmOTYwMzM4NGIyMDg0MzM1ZDIwYjA5Nzc5MzkpOwogICAgICAgIAogICAgCiAgICAgICAgdmFyIHBvcHVwX2ZkMWRhYTY0MjhkMjRkNjVhMzcwNDVkZGM0MzE2MmQ4ID0gTC5wb3B1cCh7Im1heFdpZHRoIjogIjEwMCUifSk7CgogICAgICAgIAogICAgICAgICAgICB2YXIgaHRtbF8wMGI2YTBlMGY5MzM0NWQzOWNkOGZkY2Y4OTBiNTViYyA9ICQoYDxkaXYgaWQ9Imh0bWxfMDBiNmEwZTBmOTMzNDVkMzljZDhmZGNmODkwYjU1YmMiIHN0eWxlPSJ3aWR0aDogMTAwLjAlOyBoZWlnaHQ6IDEwMC4wJTsiPkNocmlzdGllIENsdXN0ZXIgMjwvZGl2PmApWzBdOwogICAgICAgICAgICBwb3B1cF9mZDFkYWE2NDI4ZDI0ZDY1YTM3MDQ1ZGRjNDMxNjJkOC5zZXRDb250ZW50KGh0bWxfMDBiNmEwZTBmOTMzNDVkMzljZDhmZGNmODkwYjU1YmMpOwogICAgICAgIAoKICAgICAgICBjaXJjbGVfbWFya2VyXzU1ZWRlZmNkNTViODRhMDZiNGM2Yjc1NDgwNzQxYjIzLmJpbmRQb3B1cChwb3B1cF9mZDFkYWE2NDI4ZDI0ZDY1YTM3MDQ1ZGRjNDMxNjJkOCkKICAgICAgICA7CgogICAgICAgIAogICAgCiAgICAKICAgICAgICAgICAgdmFyIGNpcmNsZV9tYXJrZXJfOThjMDliOTA5NTFkNDI0MWEyMzAxN2YyMzVkMDNkMmEgPSBMLmNpcmNsZU1hcmtlcigKICAgICAgICAgICAgICAgIFs0My42NTA1NzEyMDAwMDAwMSwgLTc5LjM4NDU2NzVdLAogICAgICAgICAgICAgICAgeyJidWJibGluZ01vdXNlRXZlbnRzIjogdHJ1ZSwgImNvbG9yIjogIiMwMGI1ZWIiLCAiZGFzaEFycmF5IjogbnVsbCwgImRhc2hPZmZzZXQiOiBudWxsLCAiZmlsbCI6IHRydWUsICJmaWxsQ29sb3IiOiAiIzAwYjVlYiIsICJmaWxsT3BhY2l0eSI6IDAuNywgImZpbGxSdWxlIjogImV2ZW5vZGQiLCAibGluZUNhcCI6ICJyb3VuZCIsICJsaW5lSm9pbiI6ICJyb3VuZCIsICJvcGFjaXR5IjogMS4wLCAicmFkaXVzIjogNSwgInN0cm9rZSI6IHRydWUsICJ3ZWlnaHQiOiAzfQogICAgICAgICAgICApLmFkZFRvKG1hcF9kYTA2ZWY5NjAzMzg0YjIwODQzMzVkMjBiMDk3NzkzOSk7CiAgICAgICAgCiAgICAKICAgICAgICB2YXIgcG9wdXBfODE5NzhhN2ZkMDJhNDBlMGIyOGM5N2U4NDRiMmU3MjEgPSBMLnBvcHVwKHsibWF4V2lkdGgiOiAiMTAwJSJ9KTsKCiAgICAgICAgCiAgICAgICAgICAgIHZhciBodG1sXzBkNWI3MWVhN2UzOTRhYzhiNmUyOWU3NDUxMTg2Mjg2ID0gJChgPGRpdiBpZD0iaHRtbF8wZDViNzFlYTdlMzk0YWM4YjZlMjllNzQ1MTE4NjI4NiIgc3R5bGU9IndpZHRoOiAxMDAuMCU7IGhlaWdodDogMTAwLjAlOyI+UmljaG1vbmQsIEFkZWxhaWRlLCBLaW5nIENsdXN0ZXIgMjwvZGl2PmApWzBdOwogICAgICAgICAgICBwb3B1cF84MTk3OGE3ZmQwMmE0MGUwYjI4Yzk3ZTg0NGIyZTcyMS5zZXRDb250ZW50KGh0bWxfMGQ1YjcxZWE3ZTM5NGFjOGI2ZTI5ZTc0NTExODYyODYpOwogICAgICAgIAoKICAgICAgICBjaXJjbGVfbWFya2VyXzk4YzA5YjkwOTUxZDQyNDFhMjMwMTdmMjM1ZDAzZDJhLmJpbmRQb3B1cChwb3B1cF84MTk3OGE3ZmQwMmE0MGUwYjI4Yzk3ZTg0NGIyZTcyMSkKICAgICAgICA7CgogICAgICAgIAogICAgCiAgICAKICAgICAgICAgICAgdmFyIGNpcmNsZV9tYXJrZXJfMjlkNDk5NmYxM2YzNGMyZWJjYTA0ZTc2MDc3MWY0OWEgPSBMLmNpcmNsZU1hcmtlcigKICAgICAgICAgICAgICAgIFs0My42NjkwMDUxMDAwMDAwMSwgLTc5LjQ0MjI1OTNdLAogICAgICAgICAgICAgICAgeyJidWJibGluZ01vdXNlRXZlbnRzIjogdHJ1ZSwgImNvbG9yIjogIiMwMGI1ZWIiLCAiZGFzaEFycmF5IjogbnVsbCwgImRhc2hPZmZzZXQiOiBudWxsLCAiZmlsbCI6IHRydWUsICJmaWxsQ29sb3IiOiAiIzAwYjVlYiIsICJmaWxsT3BhY2l0eSI6IDAuNywgImZpbGxSdWxlIjogImV2ZW5vZGQiLCAibGluZUNhcCI6ICJyb3VuZCIsICJsaW5lSm9pbiI6ICJyb3VuZCIsICJvcGFjaXR5IjogMS4wLCAicmFkaXVzIjogNSwgInN0cm9rZSI6IHRydWUsICJ3ZWlnaHQiOiAzfQogICAgICAgICAgICApLmFkZFRvKG1hcF9kYTA2ZWY5NjAzMzg0YjIwODQzMzVkMjBiMDk3NzkzOSk7CiAgICAgICAgCiAgICAKICAgICAgICB2YXIgcG9wdXBfZjVmMjEzNDUxNzUxNDRmNDlkMjgwNjU2YTU0YjMwYTkgPSBMLnBvcHVwKHsibWF4V2lkdGgiOiAiMTAwJSJ9KTsKCiAgICAgICAgCiAgICAgICAgICAgIHZhciBodG1sX2Q5N2RkNGJmNTZmZTQwNGE5YTIyYzlhNzA0Zjg5OTQ3ID0gJChgPGRpdiBpZD0iaHRtbF9kOTdkZDRiZjU2ZmU0MDRhOWEyMmM5YTcwNGY4OTk0NyIgc3R5bGU9IndpZHRoOiAxMDAuMCU7IGhlaWdodDogMTAwLjAlOyI+RHVmZmVyaW4sIERvdmVyY291cnQgVmlsbGFnZSBDbHVzdGVyIDI8L2Rpdj5gKVswXTsKICAgICAgICAgICAgcG9wdXBfZjVmMjEzNDUxNzUxNDRmNDlkMjgwNjU2YTU0YjMwYTkuc2V0Q29udGVudChodG1sX2Q5N2RkNGJmNTZmZTQwNGE5YTIyYzlhNzA0Zjg5OTQ3KTsKICAgICAgICAKCiAgICAgICAgY2lyY2xlX21hcmtlcl8yOWQ0OTk2ZjEzZjM0YzJlYmNhMDRlNzYwNzcxZjQ5YS5iaW5kUG9wdXAocG9wdXBfZjVmMjEzNDUxNzUxNDRmNDlkMjgwNjU2YTU0YjMwYTkpCiAgICAgICAgOwoKICAgICAgICAKICAgIAogICAgCiAgICAgICAgICAgIHZhciBjaXJjbGVfbWFya2VyXzRlNjg2Y2RhNWVlYTQ4M2JhMjQ5NjVkZDYyNDA1ZDNjID0gTC5jaXJjbGVNYXJrZXIoCiAgICAgICAgICAgICAgICBbNDMuNjQwODE1NywgLTc5LjM4MTc1MjI5OTk5OTk5XSwKICAgICAgICAgICAgICAgIHsiYnViYmxpbmdNb3VzZUV2ZW50cyI6IHRydWUsICJjb2xvciI6ICIjMDBiNWViIiwgImRhc2hBcnJheSI6IG51bGwsICJkYXNoT2Zmc2V0IjogbnVsbCwgImZpbGwiOiB0cnVlLCAiZmlsbENvbG9yIjogIiMwMGI1ZWIiLCAiZmlsbE9wYWNpdHkiOiAwLjcsICJmaWxsUnVsZSI6ICJldmVub2RkIiwgImxpbmVDYXAiOiAicm91bmQiLCAibGluZUpvaW4iOiAicm91bmQiLCAib3BhY2l0eSI6IDEuMCwgInJhZGl1cyI6IDUsICJzdHJva2UiOiB0cnVlLCAid2VpZ2h0IjogM30KICAgICAgICAgICAgKS5hZGRUbyhtYXBfZGEwNmVmOTYwMzM4NGIyMDg0MzM1ZDIwYjA5Nzc5MzkpOwogICAgICAgIAogICAgCiAgICAgICAgdmFyIHBvcHVwX2MzYjliMjI0ZjlmNTRjYzA4MGQ5NDRkMmE1MmY4NjFmID0gTC5wb3B1cCh7Im1heFdpZHRoIjogIjEwMCUifSk7CgogICAgICAgIAogICAgICAgICAgICB2YXIgaHRtbF9iYzdkYWU3MmEwNTk0MTgwYjFhNjY4OTNiMjdhYjg2ZSA9ICQoYDxkaXYgaWQ9Imh0bWxfYmM3ZGFlNzJhMDU5NDE4MGIxYTY2ODkzYjI3YWI4NmUiIHN0eWxlPSJ3aWR0aDogMTAwLjAlOyBoZWlnaHQ6IDEwMC4wJTsiPkhhcmJvdXJmcm9udCBFYXN0LCBVbmlvbiBTdGF0aW9uLCBUb3JvbnRvIElzbGFuZHMgQ2x1c3RlciAyPC9kaXY+YClbMF07CiAgICAgICAgICAgIHBvcHVwX2MzYjliMjI0ZjlmNTRjYzA4MGQ5NDRkMmE1MmY4NjFmLnNldENvbnRlbnQoaHRtbF9iYzdkYWU3MmEwNTk0MTgwYjFhNjY4OTNiMjdhYjg2ZSk7CiAgICAgICAgCgogICAgICAgIGNpcmNsZV9tYXJrZXJfNGU2ODZjZGE1ZWVhNDgzYmEyNDk2NWRkNjI0MDVkM2MuYmluZFBvcHVwKHBvcHVwX2MzYjliMjI0ZjlmNTRjYzA4MGQ5NDRkMmE1MmY4NjFmKQogICAgICAgIDsKCiAgICAgICAgCiAgICAKICAgIAogICAgICAgICAgICB2YXIgY2lyY2xlX21hcmtlcl9hZTRmMjg0NmYzMTE0NWE0YjcyNjNhZTY1NjhhN2JhZiA9IEwuY2lyY2xlTWFya2VyKAogICAgICAgICAgICAgICAgWzQzLjY0NzkyNjcwMDAwMDAwNiwgLTc5LjQxOTc0OTddLAogICAgICAgICAgICAgICAgeyJidWJibGluZ01vdXNlRXZlbnRzIjogdHJ1ZSwgImNvbG9yIjogIiMwMGI1ZWIiLCAiZGFzaEFycmF5IjogbnVsbCwgImRhc2hPZmZzZXQiOiBudWxsLCAiZmlsbCI6IHRydWUsICJmaWxsQ29sb3IiOiAiIzAwYjVlYiIsICJmaWxsT3BhY2l0eSI6IDAuNywgImZpbGxSdWxlIjogImV2ZW5vZGQiLCAibGluZUNhcCI6ICJyb3VuZCIsICJsaW5lSm9pbiI6ICJyb3VuZCIsICJvcGFjaXR5IjogMS4wLCAicmFkaXVzIjogNSwgInN0cm9rZSI6IHRydWUsICJ3ZWlnaHQiOiAzfQogICAgICAgICAgICApLmFkZFRvKG1hcF9kYTA2ZWY5NjAzMzg0YjIwODQzMzVkMjBiMDk3NzkzOSk7CiAgICAgICAgCiAgICAKICAgICAgICB2YXIgcG9wdXBfNWQ5N2YxMjllMDBiNDA0Nzg3YjQ3YWU4M2Q2YTE2NTQgPSBMLnBvcHVwKHsibWF4V2lkdGgiOiAiMTAwJSJ9KTsKCiAgICAgICAgCiAgICAgICAgICAgIHZhciBodG1sXzU2Y2E0NmQ4Y2E0YzRkOTY4NjljNTk5YmJlM2U0NjZhID0gJChgPGRpdiBpZD0iaHRtbF81NmNhNDZkOGNhNGM0ZDk2ODY5YzU5OWJiZTNlNDY2YSIgc3R5bGU9IndpZHRoOiAxMDAuMCU7IGhlaWdodDogMTAwLjAlOyI+TGl0dGxlIFBvcnR1Z2FsLCBUcmluaXR5IENsdXN0ZXIgMjwvZGl2PmApWzBdOwogICAgICAgICAgICBwb3B1cF81ZDk3ZjEyOWUwMGI0MDQ3ODdiNDdhZTgzZDZhMTY1NC5zZXRDb250ZW50KGh0bWxfNTZjYTQ2ZDhjYTRjNGQ5Njg2OWM1OTliYmUzZTQ2NmEpOwogICAgICAgIAoKICAgICAgICBjaXJjbGVfbWFya2VyX2FlNGYyODQ2ZjMxMTQ1YTRiNzI2M2FlNjU2OGE3YmFmLmJpbmRQb3B1cChwb3B1cF81ZDk3ZjEyOWUwMGI0MDQ3ODdiNDdhZTgzZDZhMTY1NCkKICAgICAgICA7CgogICAgICAgIAogICAgCiAgICAKICAgICAgICAgICAgdmFyIGNpcmNsZV9tYXJrZXJfYTAzMThmZTBmMmI1NDNmYmFlYjUwOTc0ZWQwMjlkMTMgPSBMLmNpcmNsZU1hcmtlcigKICAgICAgICAgICAgICAgIFs0My42Nzk1NTcxLCAtNzkuMzUyMTg4XSwKICAgICAgICAgICAgICAgIHsiYnViYmxpbmdNb3VzZUV2ZW50cyI6IHRydWUsICJjb2xvciI6ICIjMDBiNWViIiwgImRhc2hBcnJheSI6IG51bGwsICJkYXNoT2Zmc2V0IjogbnVsbCwgImZpbGwiOiB0cnVlLCAiZmlsbENvbG9yIjogIiMwMGI1ZWIiLCAiZmlsbE9wYWNpdHkiOiAwLjcsICJmaWxsUnVsZSI6ICJldmVub2RkIiwgImxpbmVDYXAiOiAicm91bmQiLCAibGluZUpvaW4iOiAicm91bmQiLCAib3BhY2l0eSI6IDEuMCwgInJhZGl1cyI6IDUsICJzdHJva2UiOiB0cnVlLCAid2VpZ2h0IjogM30KICAgICAgICAgICAgKS5hZGRUbyhtYXBfZGEwNmVmOTYwMzM4NGIyMDg0MzM1ZDIwYjA5Nzc5MzkpOwogICAgICAgIAogICAgCiAgICAgICAgdmFyIHBvcHVwXzJkNjZkNGExYjBiYTQyYjA5NmFhNWI1N2U1NDI5Y2E2ID0gTC5wb3B1cCh7Im1heFdpZHRoIjogIjEwMCUifSk7CgogICAgICAgIAogICAgICAgICAgICB2YXIgaHRtbF9mZTFhOTRiYTJlMmE0YWMwYjBkODNmMDU5ZDRkOGI1YiA9ICQoYDxkaXYgaWQ9Imh0bWxfZmUxYTk0YmEyZTJhNGFjMGIwZDgzZjA1OWQ0ZDhiNWIiIHN0eWxlPSJ3aWR0aDogMTAwLjAlOyBoZWlnaHQ6IDEwMC4wJTsiPlRoZSBEYW5mb3J0aCBXZXN0LCBSaXZlcmRhbGUgQ2x1c3RlciAyPC9kaXY+YClbMF07CiAgICAgICAgICAgIHBvcHVwXzJkNjZkNGExYjBiYTQyYjA5NmFhNWI1N2U1NDI5Y2E2LnNldENvbnRlbnQoaHRtbF9mZTFhOTRiYTJlMmE0YWMwYjBkODNmMDU5ZDRkOGI1Yik7CiAgICAgICAgCgogICAgICAgIGNpcmNsZV9tYXJrZXJfYTAzMThmZTBmMmI1NDNmYmFlYjUwOTc0ZWQwMjlkMTMuYmluZFBvcHVwKHBvcHVwXzJkNjZkNGExYjBiYTQyYjA5NmFhNWI1N2U1NDI5Y2E2KQogICAgICAgIDsKCiAgICAgICAgCiAgICAKICAgIAogICAgICAgICAgICB2YXIgY2lyY2xlX21hcmtlcl8xYWVmNTlhMDUxZTk0Y2U1OWExNTJiNGFmYTMwMGZiYyA9IEwuY2lyY2xlTWFya2VyKAogICAgICAgICAgICAgICAgWzQzLjY0NzE3NjgsIC03OS4zODE1NzY0MDAwMDAwMV0sCiAgICAgICAgICAgICAgICB7ImJ1YmJsaW5nTW91c2VFdmVudHMiOiB0cnVlLCAiY29sb3IiOiAiIzAwYjVlYiIsICJkYXNoQXJyYXkiOiBudWxsLCAiZGFzaE9mZnNldCI6IG51bGwsICJmaWxsIjogdHJ1ZSwgImZpbGxDb2xvciI6ICIjMDBiNWViIiwgImZpbGxPcGFjaXR5IjogMC43LCAiZmlsbFJ1bGUiOiAiZXZlbm9kZCIsICJsaW5lQ2FwIjogInJvdW5kIiwgImxpbmVKb2luIjogInJvdW5kIiwgIm9wYWNpdHkiOiAxLjAsICJyYWRpdXMiOiA1LCAic3Ryb2tlIjogdHJ1ZSwgIndlaWdodCI6IDN9CiAgICAgICAgICAgICkuYWRkVG8obWFwX2RhMDZlZjk2MDMzODRiMjA4NDMzNWQyMGIwOTc3OTM5KTsKICAgICAgICAKICAgIAogICAgICAgIHZhciBwb3B1cF9lNjM4ODY3YWQ2MjM0MWY5OWU1NWY0ZTIyN2MxMzUxMSA9IEwucG9wdXAoeyJtYXhXaWR0aCI6ICIxMDAlIn0pOwoKICAgICAgICAKICAgICAgICAgICAgdmFyIGh0bWxfYjQ0ZGI0ODVjMWY2NDliZDk0MjJmM2U0ZGMwZDM1OGIgPSAkKGA8ZGl2IGlkPSJodG1sX2I0NGRiNDg1YzFmNjQ5YmQ5NDIyZjNlNGRjMGQzNThiIiBzdHlsZT0id2lkdGg6IDEwMC4wJTsgaGVpZ2h0OiAxMDAuMCU7Ij5Ub3JvbnRvIERvbWluaW9uIENlbnRyZSwgRGVzaWduIEV4Y2hhbmdlIENsdXN0ZXIgMjwvZGl2PmApWzBdOwogICAgICAgICAgICBwb3B1cF9lNjM4ODY3YWQ2MjM0MWY5OWU1NWY0ZTIyN2MxMzUxMS5zZXRDb250ZW50KGh0bWxfYjQ0ZGI0ODVjMWY2NDliZDk0MjJmM2U0ZGMwZDM1OGIpOwogICAgICAgIAoKICAgICAgICBjaXJjbGVfbWFya2VyXzFhZWY1OWEwNTFlOTRjZTU5YTE1MmI0YWZhMzAwZmJjLmJpbmRQb3B1cChwb3B1cF9lNjM4ODY3YWQ2MjM0MWY5OWU1NWY0ZTIyN2MxMzUxMSkKICAgICAgICA7CgogICAgICAgIAogICAgCiAgICAKICAgICAgICAgICAgdmFyIGNpcmNsZV9tYXJrZXJfZGJiZWJiNDE0NWRiNDkxZWFiZjlkNzEyMTU1ZjkwMzkgPSBMLmNpcmNsZU1hcmtlcigKICAgICAgICAgICAgICAgIFs0My42MzY4NDcyLCAtNzkuNDI4MTkxNDAwMDAwMDJdLAogICAgICAgICAgICAgICAgeyJidWJibGluZ01vdXNlRXZlbnRzIjogdHJ1ZSwgImNvbG9yIjogIiMwMGI1ZWIiLCAiZGFzaEFycmF5IjogbnVsbCwgImRhc2hPZmZzZXQiOiBudWxsLCAiZmlsbCI6IHRydWUsICJmaWxsQ29sb3IiOiAiIzAwYjVlYiIsICJmaWxsT3BhY2l0eSI6IDAuNywgImZpbGxSdWxlIjogImV2ZW5vZGQiLCAibGluZUNhcCI6ICJyb3VuZCIsICJsaW5lSm9pbiI6ICJyb3VuZCIsICJvcGFjaXR5IjogMS4wLCAicmFkaXVzIjogNSwgInN0cm9rZSI6IHRydWUsICJ3ZWlnaHQiOiAzfQogICAgICAgICAgICApLmFkZFRvKG1hcF9kYTA2ZWY5NjAzMzg0YjIwODQzMzVkMjBiMDk3NzkzOSk7CiAgICAgICAgCiAgICAKICAgICAgICB2YXIgcG9wdXBfMGEyYzQyZDBkYzVkNDI5ZDk1ZmM0MWRkMWQ2ZWEyZjMgPSBMLnBvcHVwKHsibWF4V2lkdGgiOiAiMTAwJSJ9KTsKCiAgICAgICAgCiAgICAgICAgICAgIHZhciBodG1sX2EyNDYyMjY4MDgzYjQzN2RiODgyM2E4ZjRjYjRiM2MxID0gJChgPGRpdiBpZD0iaHRtbF9hMjQ2MjI2ODA4M2I0MzdkYjg4MjNhOGY0Y2I0YjNjMSIgc3R5bGU9IndpZHRoOiAxMDAuMCU7IGhlaWdodDogMTAwLjAlOyI+QnJvY2t0b24sIFBhcmtkYWxlIFZpbGxhZ2UsIEV4aGliaXRpb24gUGxhY2UgQ2x1c3RlciAyPC9kaXY+YClbMF07CiAgICAgICAgICAgIHBvcHVwXzBhMmM0MmQwZGM1ZDQyOWQ5NWZjNDFkZDFkNmVhMmYzLnNldENvbnRlbnQoaHRtbF9hMjQ2MjI2ODA4M2I0MzdkYjg4MjNhOGY0Y2I0YjNjMSk7CiAgICAgICAgCgogICAgICAgIGNpcmNsZV9tYXJrZXJfZGJiZWJiNDE0NWRiNDkxZWFiZjlkNzEyMTU1ZjkwMzkuYmluZFBvcHVwKHBvcHVwXzBhMmM0MmQwZGM1ZDQyOWQ5NWZjNDFkZDFkNmVhMmYzKQogICAgICAgIDsKCiAgICAgICAgCiAgICAKICAgIAogICAgICAgICAgICB2YXIgY2lyY2xlX21hcmtlcl8wMzk0Y2NmNWRlMDc0ZWQ2YmM5ZGYwNDhjYWNhYWY5MSA9IEwuY2lyY2xlTWFya2VyKAogICAgICAgICAgICAgICAgWzQzLjY2ODk5ODUsIC03OS4zMTU1NzE1OTk5OTk5OF0sCiAgICAgICAgICAgICAgICB7ImJ1YmJsaW5nTW91c2VFdmVudHMiOiB0cnVlLCAiY29sb3IiOiAiIzAwYjVlYiIsICJkYXNoQXJyYXkiOiBudWxsLCAiZGFzaE9mZnNldCI6IG51bGwsICJmaWxsIjogdHJ1ZSwgImZpbGxDb2xvciI6ICIjMDBiNWViIiwgImZpbGxPcGFjaXR5IjogMC43LCAiZmlsbFJ1bGUiOiAiZXZlbm9kZCIsICJsaW5lQ2FwIjogInJvdW5kIiwgImxpbmVKb2luIjogInJvdW5kIiwgIm9wYWNpdHkiOiAxLjAsICJyYWRpdXMiOiA1LCAic3Ryb2tlIjogdHJ1ZSwgIndlaWdodCI6IDN9CiAgICAgICAgICAgICkuYWRkVG8obWFwX2RhMDZlZjk2MDMzODRiMjA4NDMzNWQyMGIwOTc3OTM5KTsKICAgICAgICAKICAgIAogICAgICAgIHZhciBwb3B1cF84MWJkNTU0NTQ2YzM0YzMwOTZhZTYzZGUzMTI5MTU5OCA9IEwucG9wdXAoeyJtYXhXaWR0aCI6ICIxMDAlIn0pOwoKICAgICAgICAKICAgICAgICAgICAgdmFyIGh0bWxfMzZiOTVlNjk3OWE5NDUxZWJmNjZiNDU3YTBkMTE0ZTEgPSAkKGA8ZGl2IGlkPSJodG1sXzM2Yjk1ZTY5NzlhOTQ1MWViZjY2YjQ1N2EwZDExNGUxIiBzdHlsZT0id2lkdGg6IDEwMC4wJTsgaGVpZ2h0OiAxMDAuMCU7Ij5JbmRpYSBCYXphYXIsIFRoZSBCZWFjaGVzIFdlc3QgQ2x1c3RlciAyPC9kaXY+YClbMF07CiAgICAgICAgICAgIHBvcHVwXzgxYmQ1NTQ1NDZjMzRjMzA5NmFlNjNkZTMxMjkxNTk4LnNldENvbnRlbnQoaHRtbF8zNmI5NWU2OTc5YTk0NTFlYmY2NmI0NTdhMGQxMTRlMSk7CiAgICAgICAgCgogICAgICAgIGNpcmNsZV9tYXJrZXJfMDM5NGNjZjVkZTA3NGVkNmJjOWRmMDQ4Y2FjYWFmOTEuYmluZFBvcHVwKHBvcHVwXzgxYmQ1NTQ1NDZjMzRjMzA5NmFlNjNkZTMxMjkxNTk4KQogICAgICAgIDsKCiAgICAgICAgCiAgICAKICAgIAogICAgICAgICAgICB2YXIgY2lyY2xlX21hcmtlcl9kZmVjNWFkZDY5Nzk0NGU2OTExODkzMWU3YTdhMGJhZiA9IEwuY2lyY2xlTWFya2VyKAogICAgICAgICAgICAgICAgWzQzLjY0ODE5ODUsIC03OS4zNzk4MTY5MDAwMDAwMV0sCiAgICAgICAgICAgICAgICB7ImJ1YmJsaW5nTW91c2VFdmVudHMiOiB0cnVlLCAiY29sb3IiOiAiIzAwYjVlYiIsICJkYXNoQXJyYXkiOiBudWxsLCAiZGFzaE9mZnNldCI6IG51bGwsICJmaWxsIjogdHJ1ZSwgImZpbGxDb2xvciI6ICIjMDBiNWViIiwgImZpbGxPcGFjaXR5IjogMC43LCAiZmlsbFJ1bGUiOiAiZXZlbm9kZCIsICJsaW5lQ2FwIjogInJvdW5kIiwgImxpbmVKb2luIjogInJvdW5kIiwgIm9wYWNpdHkiOiAxLjAsICJyYWRpdXMiOiA1LCAic3Ryb2tlIjogdHJ1ZSwgIndlaWdodCI6IDN9CiAgICAgICAgICAgICkuYWRkVG8obWFwX2RhMDZlZjk2MDMzODRiMjA4NDMzNWQyMGIwOTc3OTM5KTsKICAgICAgICAKICAgIAogICAgICAgIHZhciBwb3B1cF8zY2U0MDIzNGQ4YzQ0ZjAyOGZmNjRmODY5M2NiY2I3ZSA9IEwucG9wdXAoeyJtYXhXaWR0aCI6ICIxMDAlIn0pOwoKICAgICAgICAKICAgICAgICAgICAgdmFyIGh0bWxfZmJiMzVhNTg3OTNkNGRmNDgwNDhmOWZlNjJkYmI4NGYgPSAkKGA8ZGl2IGlkPSJodG1sX2ZiYjM1YTU4NzkzZDRkZjQ4MDQ4ZjlmZTYyZGJiODRmIiBzdHlsZT0id2lkdGg6IDEwMC4wJTsgaGVpZ2h0OiAxMDAuMCU7Ij5Db21tZXJjZSBDb3VydCwgVmljdG9yaWEgSG90ZWwgQ2x1c3RlciAyPC9kaXY+YClbMF07CiAgICAgICAgICAgIHBvcHVwXzNjZTQwMjM0ZDhjNDRmMDI4ZmY2NGY4NjkzY2JjYjdlLnNldENvbnRlbnQoaHRtbF9mYmIzNWE1ODc5M2Q0ZGY0ODA0OGY5ZmU2MmRiYjg0Zik7CiAgICAgICAgCgogICAgICAgIGNpcmNsZV9tYXJrZXJfZGZlYzVhZGQ2OTc5NDRlNjkxMTg5MzFlN2E3YTBiYWYuYmluZFBvcHVwKHBvcHVwXzNjZTQwMjM0ZDhjNDRmMDI4ZmY2NGY4NjkzY2JjYjdlKQogICAgICAgIDsKCiAgICAgICAgCiAgICAKICAgIAogICAgICAgICAgICB2YXIgY2lyY2xlX21hcmtlcl80YmIwMzlmZDlhYzU0M2ExOThiNTQ2ZjI1ZWQ3MWYyOCA9IEwuY2lyY2xlTWFya2VyKAogICAgICAgICAgICAgICAgWzQzLjY1OTUyNTUsIC03OS4zNDA5MjNdLAogICAgICAgICAgICAgICAgeyJidWJibGluZ01vdXNlRXZlbnRzIjogdHJ1ZSwgImNvbG9yIjogIiMwMGI1ZWIiLCAiZGFzaEFycmF5IjogbnVsbCwgImRhc2hPZmZzZXQiOiBudWxsLCAiZmlsbCI6IHRydWUsICJmaWxsQ29sb3IiOiAiIzAwYjVlYiIsICJmaWxsT3BhY2l0eSI6IDAuNywgImZpbGxSdWxlIjogImV2ZW5vZGQiLCAibGluZUNhcCI6ICJyb3VuZCIsICJsaW5lSm9pbiI6ICJyb3VuZCIsICJvcGFjaXR5IjogMS4wLCAicmFkaXVzIjogNSwgInN0cm9rZSI6IHRydWUsICJ3ZWlnaHQiOiAzfQogICAgICAgICAgICApLmFkZFRvKG1hcF9kYTA2ZWY5NjAzMzg0YjIwODQzMzVkMjBiMDk3NzkzOSk7CiAgICAgICAgCiAgICAKICAgICAgICB2YXIgcG9wdXBfN2VjZjgzZDc5ZjExNDRlOGFhNGZjYzRiNjgwYjQ1NGIgPSBMLnBvcHVwKHsibWF4V2lkdGgiOiAiMTAwJSJ9KTsKCiAgICAgICAgCiAgICAgICAgICAgIHZhciBodG1sXzg1ZTkxMjZhNDkwZjQxNzI5NjliNmVjMGQwZGRjZmJiID0gJChgPGRpdiBpZD0iaHRtbF84NWU5MTI2YTQ5MGY0MTcyOTY5YjZlYzBkMGRkY2ZiYiIgc3R5bGU9IndpZHRoOiAxMDAuMCU7IGhlaWdodDogMTAwLjAlOyI+U3R1ZGlvIERpc3RyaWN0IENsdXN0ZXIgMjwvZGl2PmApWzBdOwogICAgICAgICAgICBwb3B1cF83ZWNmODNkNzlmMTE0NGU4YWE0ZmNjNGI2ODBiNDU0Yi5zZXRDb250ZW50KGh0bWxfODVlOTEyNmE0OTBmNDE3Mjk2OWI2ZWMwZDBkZGNmYmIpOwogICAgICAgIAoKICAgICAgICBjaXJjbGVfbWFya2VyXzRiYjAzOWZkOWFjNTQzYTE5OGI1NDZmMjVlZDcxZjI4LmJpbmRQb3B1cChwb3B1cF83ZWNmODNkNzlmMTE0NGU4YWE0ZmNjNGI2ODBiNDU0YikKICAgICAgICA7CgogICAgICAgIAogICAgCiAgICAKICAgICAgICAgICAgdmFyIGNpcmNsZV9tYXJrZXJfNjBjZTFlYmUzMTBmNGI1YTgwZTZjNWYyYzU2MzM2OTIgPSBMLmNpcmNsZU1hcmtlcigKICAgICAgICAgICAgICAgIFs0My43MjgwMjA1LCAtNzkuMzg4NzkwMV0sCiAgICAgICAgICAgICAgICB7ImJ1YmJsaW5nTW91c2VFdmVudHMiOiB0cnVlLCAiY29sb3IiOiAiI2ZmMDAwMCIsICJkYXNoQXJyYXkiOiBudWxsLCAiZGFzaE9mZnNldCI6IG51bGwsICJmaWxsIjogdHJ1ZSwgImZpbGxDb2xvciI6ICIjZmYwMDAwIiwgImZpbGxPcGFjaXR5IjogMC43LCAiZmlsbFJ1bGUiOiAiZXZlbm9kZCIsICJsaW5lQ2FwIjogInJvdW5kIiwgImxpbmVKb2luIjogInJvdW5kIiwgIm9wYWNpdHkiOiAxLjAsICJyYWRpdXMiOiA1LCAic3Ryb2tlIjogdHJ1ZSwgIndlaWdodCI6IDN9CiAgICAgICAgICAgICkuYWRkVG8obWFwX2RhMDZlZjk2MDMzODRiMjA4NDMzNWQyMGIwOTc3OTM5KTsKICAgICAgICAKICAgIAogICAgICAgIHZhciBwb3B1cF80MjhkNDgyMzZhYTk0ZjM1OTZmZjI4MTliOTU5OTRkOSA9IEwucG9wdXAoeyJtYXhXaWR0aCI6ICIxMDAlIn0pOwoKICAgICAgICAKICAgICAgICAgICAgdmFyIGh0bWxfYzUyZmJmZDg4OTNjNDM2Yzk2MzI4MjBkM2MyNTIzMTQgPSAkKGA8ZGl2IGlkPSJodG1sX2M1MmZiZmQ4ODkzYzQzNmM5NjMyODIwZDNjMjUyMzE0IiBzdHlsZT0id2lkdGg6IDEwMC4wJTsgaGVpZ2h0OiAxMDAuMCU7Ij5MYXdyZW5jZSBQYXJrIENsdXN0ZXIgMDwvZGl2PmApWzBdOwogICAgICAgICAgICBwb3B1cF80MjhkNDgyMzZhYTk0ZjM1OTZmZjI4MTliOTU5OTRkOS5zZXRDb250ZW50KGh0bWxfYzUyZmJmZDg4OTNjNDM2Yzk2MzI4MjBkM2MyNTIzMTQpOwogICAgICAgIAoKICAgICAgICBjaXJjbGVfbWFya2VyXzYwY2UxZWJlMzEwZjRiNWE4MGU2YzVmMmM1NjMzNjkyLmJpbmRQb3B1cChwb3B1cF80MjhkNDgyMzZhYTk0ZjM1OTZmZjI4MTliOTU5OTRkOSkKICAgICAgICA7CgogICAgICAgIAogICAgCiAgICAKICAgICAgICAgICAgdmFyIGNpcmNsZV9tYXJrZXJfZmMzYjU1NWM4OTBkNDQ2NTg3ZDk3ZDE0ZGNhN2RiMGIgPSBMLmNpcmNsZU1hcmtlcigKICAgICAgICAgICAgICAgIFs0My43MTE2OTQ4LCAtNzkuNDE2OTM1NTk5OTk5OTldLAogICAgICAgICAgICAgICAgeyJidWJibGluZ01vdXNlRXZlbnRzIjogdHJ1ZSwgImNvbG9yIjogIiNmZmIzNjAiLCAiZGFzaEFycmF5IjogbnVsbCwgImRhc2hPZmZzZXQiOiBudWxsLCAiZmlsbCI6IHRydWUsICJmaWxsQ29sb3IiOiAiI2ZmYjM2MCIsICJmaWxsT3BhY2l0eSI6IDAuNywgImZpbGxSdWxlIjogImV2ZW5vZGQiLCAibGluZUNhcCI6ICJyb3VuZCIsICJsaW5lSm9pbiI6ICJyb3VuZCIsICJvcGFjaXR5IjogMS4wLCAicmFkaXVzIjogNSwgInN0cm9rZSI6IHRydWUsICJ3ZWlnaHQiOiAzfQogICAgICAgICAgICApLmFkZFRvKG1hcF9kYTA2ZWY5NjAzMzg0YjIwODQzMzVkMjBiMDk3NzkzOSk7CiAgICAgICAgCiAgICAKICAgICAgICB2YXIgcG9wdXBfYmY4Mjg0NmFkNjRmNDlkZGE2MjA2N2UwYWEwMjFiNzIgPSBMLnBvcHVwKHsibWF4V2lkdGgiOiAiMTAwJSJ9KTsKCiAgICAgICAgCiAgICAgICAgICAgIHZhciBodG1sXzJkODcwMDQ4Y2E5YzRmNjI4ZGFiNmUzMmZjNDNlOTZiID0gJChgPGRpdiBpZD0iaHRtbF8yZDg3MDA0OGNhOWM0ZjYyOGRhYjZlMzJmYzQzZTk2YiIgc3R5bGU9IndpZHRoOiAxMDAuMCU7IGhlaWdodDogMTAwLjAlOyI+Um9zZWxhd24gQ2x1c3RlciA0PC9kaXY+YClbMF07CiAgICAgICAgICAgIHBvcHVwX2JmODI4NDZhZDY0ZjQ5ZGRhNjIwNjdlMGFhMDIxYjcyLnNldENvbnRlbnQoaHRtbF8yZDg3MDA0OGNhOWM0ZjYyOGRhYjZlMzJmYzQzZTk2Yik7CiAgICAgICAgCgogICAgICAgIGNpcmNsZV9tYXJrZXJfZmMzYjU1NWM4OTBkNDQ2NTg3ZDk3ZDE0ZGNhN2RiMGIuYmluZFBvcHVwKHBvcHVwX2JmODI4NDZhZDY0ZjQ5ZGRhNjIwNjdlMGFhMDIxYjcyKQogICAgICAgIDsKCiAgICAgICAgCiAgICAKICAgIAogICAgICAgICAgICB2YXIgY2lyY2xlX21hcmtlcl8wZTBlZDg4Mjc2NTY0ODBiYmZiYTYwYTI2NzI0NWEzYSA9IEwuY2lyY2xlTWFya2VyKAogICAgICAgICAgICAgICAgWzQzLjcxMjc1MTEsIC03OS4zOTAxOTc1XSwKICAgICAgICAgICAgICAgIHsiYnViYmxpbmdNb3VzZUV2ZW50cyI6IHRydWUsICJjb2xvciI6ICIjMDBiNWViIiwgImRhc2hBcnJheSI6IG51bGwsICJkYXNoT2Zmc2V0IjogbnVsbCwgImZpbGwiOiB0cnVlLCAiZmlsbENvbG9yIjogIiMwMGI1ZWIiLCAiZmlsbE9wYWNpdHkiOiAwLjcsICJmaWxsUnVsZSI6ICJldmVub2RkIiwgImxpbmVDYXAiOiAicm91bmQiLCAibGluZUpvaW4iOiAicm91bmQiLCAib3BhY2l0eSI6IDEuMCwgInJhZGl1cyI6IDUsICJzdHJva2UiOiB0cnVlLCAid2VpZ2h0IjogM30KICAgICAgICAgICAgKS5hZGRUbyhtYXBfZGEwNmVmOTYwMzM4NGIyMDg0MzM1ZDIwYjA5Nzc5MzkpOwogICAgICAgIAogICAgCiAgICAgICAgdmFyIHBvcHVwXzg1MGNjYWU2MzBmYjQ3ODJiZmFhNzdmZGUzYTE4ZWNjID0gTC5wb3B1cCh7Im1heFdpZHRoIjogIjEwMCUifSk7CgogICAgICAgIAogICAgICAgICAgICB2YXIgaHRtbF9jYTBjMjA4NGU3YWU0YjVjYjNlM2RhNzc0Mzc1M2UzOSA9ICQoYDxkaXYgaWQ9Imh0bWxfY2EwYzIwODRlN2FlNGI1Y2IzZTNkYTc3NDM3NTNlMzkiIHN0eWxlPSJ3aWR0aDogMTAwLjAlOyBoZWlnaHQ6IDEwMC4wJTsiPkRhdmlzdmlsbGUgTm9ydGggQ2x1c3RlciAyPC9kaXY+YClbMF07CiAgICAgICAgICAgIHBvcHVwXzg1MGNjYWU2MzBmYjQ3ODJiZmFhNzdmZGUzYTE4ZWNjLnNldENvbnRlbnQoaHRtbF9jYTBjMjA4NGU3YWU0YjVjYjNlM2RhNzc0Mzc1M2UzOSk7CiAgICAgICAgCgogICAgICAgIGNpcmNsZV9tYXJrZXJfMGUwZWQ4ODI3NjU2NDgwYmJmYmE2MGEyNjcyNDVhM2EuYmluZFBvcHVwKHBvcHVwXzg1MGNjYWU2MzBmYjQ3ODJiZmFhNzdmZGUzYTE4ZWNjKQogICAgICAgIDsKCiAgICAgICAgCiAgICAKICAgIAogICAgICAgICAgICB2YXIgY2lyY2xlX21hcmtlcl8zOGQ1NDM3NjkwZjk0NTYwOTllYzExMTdlNDNiZmExMyA9IEwuY2lyY2xlTWFya2VyKAogICAgICAgICAgICAgICAgWzQzLjY5Njk0NzYsIC03OS40MTEzMDcyMDAwMDAwMV0sCiAgICAgICAgICAgICAgICB7ImJ1YmJsaW5nTW91c2VFdmVudHMiOiB0cnVlLCAiY29sb3IiOiAiI2ZmMDAwMCIsICJkYXNoQXJyYXkiOiBudWxsLCAiZGFzaE9mZnNldCI6IG51bGwsICJmaWxsIjogdHJ1ZSwgImZpbGxDb2xvciI6ICIjZmYwMDAwIiwgImZpbGxPcGFjaXR5IjogMC43LCAiZmlsbFJ1bGUiOiAiZXZlbm9kZCIsICJsaW5lQ2FwIjogInJvdW5kIiwgImxpbmVKb2luIjogInJvdW5kIiwgIm9wYWNpdHkiOiAxLjAsICJyYWRpdXMiOiA1LCAic3Ryb2tlIjogdHJ1ZSwgIndlaWdodCI6IDN9CiAgICAgICAgICAgICkuYWRkVG8obWFwX2RhMDZlZjk2MDMzODRiMjA4NDMzNWQyMGIwOTc3OTM5KTsKICAgICAgICAKICAgIAogICAgICAgIHZhciBwb3B1cF80OTZiOWRhMWQ4Nzk0OTdiOTFlOTZkNmZiZWE4YmYzZSA9IEwucG9wdXAoeyJtYXhXaWR0aCI6ICIxMDAlIn0pOwoKICAgICAgICAKICAgICAgICAgICAgdmFyIGh0bWxfMDBiZjMzMDlmMDliNGE2ZGEwOWJmMGQ2YTM5ZDFjODEgPSAkKGA8ZGl2IGlkPSJodG1sXzAwYmYzMzA5ZjA5YjRhNmRhMDliZjBkNmEzOWQxYzgxIiBzdHlsZT0id2lkdGg6IDEwMC4wJTsgaGVpZ2h0OiAxMDAuMCU7Ij5Gb3Jlc3QgSGlsbCBOb3J0aCAmYW1wOyBXZXN0LCBGb3Jlc3QgSGlsbCBSb2FkIFBhcmsgQ2x1c3RlciAwPC9kaXY+YClbMF07CiAgICAgICAgICAgIHBvcHVwXzQ5NmI5ZGExZDg3OTQ5N2I5MWU5NmQ2ZmJlYThiZjNlLnNldENvbnRlbnQoaHRtbF8wMGJmMzMwOWYwOWI0YTZkYTA5YmYwZDZhMzlkMWM4MSk7CiAgICAgICAgCgogICAgICAgIGNpcmNsZV9tYXJrZXJfMzhkNTQzNzY5MGY5NDU2MDk5ZWMxMTE3ZTQzYmZhMTMuYmluZFBvcHVwKHBvcHVwXzQ5NmI5ZGExZDg3OTQ5N2I5MWU5NmQ2ZmJlYThiZjNlKQogICAgICAgIDsKCiAgICAgICAgCiAgICAKICAgIAogICAgICAgICAgICB2YXIgY2lyY2xlX21hcmtlcl81NTRmNjg5NTQ0ZWI0ZjNlOWZiM2FlOGNmMzcyNDc0YiA9IEwuY2lyY2xlTWFya2VyKAogICAgICAgICAgICAgICAgWzQzLjY2MTYwODMsIC03OS40NjQ3NjMyOTk5OTk5OV0sCiAgICAgICAgICAgICAgICB7ImJ1YmJsaW5nTW91c2VFdmVudHMiOiB0cnVlLCAiY29sb3IiOiAiIzAwYjVlYiIsICJkYXNoQXJyYXkiOiBudWxsLCAiZGFzaE9mZnNldCI6IG51bGwsICJmaWxsIjogdHJ1ZSwgImZpbGxDb2xvciI6ICIjMDBiNWViIiwgImZpbGxPcGFjaXR5IjogMC43LCAiZmlsbFJ1bGUiOiAiZXZlbm9kZCIsICJsaW5lQ2FwIjogInJvdW5kIiwgImxpbmVKb2luIjogInJvdW5kIiwgIm9wYWNpdHkiOiAxLjAsICJyYWRpdXMiOiA1LCAic3Ryb2tlIjogdHJ1ZSwgIndlaWdodCI6IDN9CiAgICAgICAgICAgICkuYWRkVG8obWFwX2RhMDZlZjk2MDMzODRiMjA4NDMzNWQyMGIwOTc3OTM5KTsKICAgICAgICAKICAgIAogICAgICAgIHZhciBwb3B1cF8yMmI1YzY2ZTNjZDk0ZjMxOGViMDlmZWQ5M2I0ZjYyMiA9IEwucG9wdXAoeyJtYXhXaWR0aCI6ICIxMDAlIn0pOwoKICAgICAgICAKICAgICAgICAgICAgdmFyIGh0bWxfM2IwMTExZDVmNzYwNDFhNGEzY2EzZjgzZjJmNDUwZDEgPSAkKGA8ZGl2IGlkPSJodG1sXzNiMDExMWQ1Zjc2MDQxYTRhM2NhM2Y4M2YyZjQ1MGQxIiBzdHlsZT0id2lkdGg6IDEwMC4wJTsgaGVpZ2h0OiAxMDAuMCU7Ij5IaWdoIFBhcmssIFRoZSBKdW5jdGlvbiBTb3V0aCBDbHVzdGVyIDI8L2Rpdj5gKVswXTsKICAgICAgICAgICAgcG9wdXBfMjJiNWM2NmUzY2Q5NGYzMThlYjA5ZmVkOTNiNGY2MjIuc2V0Q29udGVudChodG1sXzNiMDExMWQ1Zjc2MDQxYTRhM2NhM2Y4M2YyZjQ1MGQxKTsKICAgICAgICAKCiAgICAgICAgY2lyY2xlX21hcmtlcl81NTRmNjg5NTQ0ZWI0ZjNlOWZiM2FlOGNmMzcyNDc0Yi5iaW5kUG9wdXAocG9wdXBfMjJiNWM2NmUzY2Q5NGYzMThlYjA5ZmVkOTNiNGY2MjIpCiAgICAgICAgOwoKICAgICAgICAKICAgIAogICAgCiAgICAgICAgICAgIHZhciBjaXJjbGVfbWFya2VyX2Y3NzhlYTIwOThjZDRlYzk5ZmMzOTExOTVjZWMxZTY0ID0gTC5jaXJjbGVNYXJrZXIoCiAgICAgICAgICAgICAgICBbNDMuNzE1MzgzNCwgLTc5LjQwNTY3ODQwMDAwMDAxXSwKICAgICAgICAgICAgICAgIHsiYnViYmxpbmdNb3VzZUV2ZW50cyI6IHRydWUsICJjb2xvciI6ICIjMDBiNWViIiwgImRhc2hBcnJheSI6IG51bGwsICJkYXNoT2Zmc2V0IjogbnVsbCwgImZpbGwiOiB0cnVlLCAiZmlsbENvbG9yIjogIiMwMGI1ZWIiLCAiZmlsbE9wYWNpdHkiOiAwLjcsICJmaWxsUnVsZSI6ICJldmVub2RkIiwgImxpbmVDYXAiOiAicm91bmQiLCAibGluZUpvaW4iOiAicm91bmQiLCAib3BhY2l0eSI6IDEuMCwgInJhZGl1cyI6IDUsICJzdHJva2UiOiB0cnVlLCAid2VpZ2h0IjogM30KICAgICAgICAgICAgKS5hZGRUbyhtYXBfZGEwNmVmOTYwMzM4NGIyMDg0MzM1ZDIwYjA5Nzc5MzkpOwogICAgICAgIAogICAgCiAgICAgICAgdmFyIHBvcHVwXzI4MzJjNDgzMTE4OTQwZDBiYTdlNDY0N2NlMTBlY2E4ID0gTC5wb3B1cCh7Im1heFdpZHRoIjogIjEwMCUifSk7CgogICAgICAgIAogICAgICAgICAgICB2YXIgaHRtbF9iN2Y2MzdmNTUzMzg0YmE3OGM2OTc1Yzk3YTg3NzdmNiA9ICQoYDxkaXYgaWQ9Imh0bWxfYjdmNjM3ZjU1MzM4NGJhNzhjNjk3NWM5N2E4Nzc3ZjYiIHN0eWxlPSJ3aWR0aDogMTAwLjAlOyBoZWlnaHQ6IDEwMC4wJTsiPk5vcnRoIFRvcm9udG8gV2VzdCwgTGF3cmVuY2UgUGFyayBDbHVzdGVyIDI8L2Rpdj5gKVswXTsKICAgICAgICAgICAgcG9wdXBfMjgzMmM0ODMxMTg5NDBkMGJhN2U0NjQ3Y2UxMGVjYTguc2V0Q29udGVudChodG1sX2I3ZjYzN2Y1NTMzODRiYTc4YzY5NzVjOTdhODc3N2Y2KTsKICAgICAgICAKCiAgICAgICAgY2lyY2xlX21hcmtlcl9mNzc4ZWEyMDk4Y2Q0ZWM5OWZjMzkxMTk1Y2VjMWU2NC5iaW5kUG9wdXAocG9wdXBfMjgzMmM0ODMxMTg5NDBkMGJhN2U0NjQ3Y2UxMGVjYTgpCiAgICAgICAgOwoKICAgICAgICAKICAgIAogICAgCiAgICAgICAgICAgIHZhciBjaXJjbGVfbWFya2VyXzVkNmNhMDhjMzc1YjQwOWZhOWI2ZTFmY2QwMjAwNzI3ID0gTC5jaXJjbGVNYXJrZXIoCiAgICAgICAgICAgICAgICBbNDMuNjcyNzA5NywgLTc5LjQwNTY3ODQwMDAwMDAxXSwKICAgICAgICAgICAgICAgIHsiYnViYmxpbmdNb3VzZUV2ZW50cyI6IHRydWUsICJjb2xvciI6ICIjMDBiNWViIiwgImRhc2hBcnJheSI6IG51bGwsICJkYXNoT2Zmc2V0IjogbnVsbCwgImZpbGwiOiB0cnVlLCAiZmlsbENvbG9yIjogIiMwMGI1ZWIiLCAiZmlsbE9wYWNpdHkiOiAwLjcsICJmaWxsUnVsZSI6ICJldmVub2RkIiwgImxpbmVDYXAiOiAicm91bmQiLCAibGluZUpvaW4iOiAicm91bmQiLCAib3BhY2l0eSI6IDEuMCwgInJhZGl1cyI6IDUsICJzdHJva2UiOiB0cnVlLCAid2VpZ2h0IjogM30KICAgICAgICAgICAgKS5hZGRUbyhtYXBfZGEwNmVmOTYwMzM4NGIyMDg0MzM1ZDIwYjA5Nzc5MzkpOwogICAgICAgIAogICAgCiAgICAgICAgdmFyIHBvcHVwX2I2M2Q1YzQ5YjRlODRlMzhiYTA0NTMzN2M5MmNlNjA4ID0gTC5wb3B1cCh7Im1heFdpZHRoIjogIjEwMCUifSk7CgogICAgICAgIAogICAgICAgICAgICB2YXIgaHRtbF81NDUzOTg4NDQwZWM0YTZkOTkzZTVjMDU2NDBmYWU0MiA9ICQoYDxkaXYgaWQ9Imh0bWxfNTQ1Mzk4ODQ0MGVjNGE2ZDk5M2U1YzA1NjQwZmFlNDIiIHN0eWxlPSJ3aWR0aDogMTAwLjAlOyBoZWlnaHQ6IDEwMC4wJTsiPlRoZSBBbm5leCwgTm9ydGggTWlkdG93biwgWW9ya3ZpbGxlIENsdXN0ZXIgMjwvZGl2PmApWzBdOwogICAgICAgICAgICBwb3B1cF9iNjNkNWM0OWI0ZTg0ZTM4YmEwNDUzMzdjOTJjZTYwOC5zZXRDb250ZW50KGh0bWxfNTQ1Mzk4ODQ0MGVjNGE2ZDk5M2U1YzA1NjQwZmFlNDIpOwogICAgICAgIAoKICAgICAgICBjaXJjbGVfbWFya2VyXzVkNmNhMDhjMzc1YjQwOWZhOWI2ZTFmY2QwMjAwNzI3LmJpbmRQb3B1cChwb3B1cF9iNjNkNWM0OWI0ZTg0ZTM4YmEwNDUzMzdjOTJjZTYwOCkKICAgICAgICA7CgogICAgICAgIAogICAgCiAgICAKICAgICAgICAgICAgdmFyIGNpcmNsZV9tYXJrZXJfMTNlYzQ3OGVlZGZlNDVlMGExMTcxNmVmNTZjYWUyYTggPSBMLmNpcmNsZU1hcmtlcigKICAgICAgICAgICAgICAgIFs0My42NDg5NTk3LCAtNzkuNDU2MzI1XSwKICAgICAgICAgICAgICAgIHsiYnViYmxpbmdNb3VzZUV2ZW50cyI6IHRydWUsICJjb2xvciI6ICIjMDBiNWViIiwgImRhc2hBcnJheSI6IG51bGwsICJkYXNoT2Zmc2V0IjogbnVsbCwgImZpbGwiOiB0cnVlLCAiZmlsbENvbG9yIjogIiMwMGI1ZWIiLCAiZmlsbE9wYWNpdHkiOiAwLjcsICJmaWxsUnVsZSI6ICJldmVub2RkIiwgImxpbmVDYXAiOiAicm91bmQiLCAibGluZUpvaW4iOiAicm91bmQiLCAib3BhY2l0eSI6IDEuMCwgInJhZGl1cyI6IDUsICJzdHJva2UiOiB0cnVlLCAid2VpZ2h0IjogM30KICAgICAgICAgICAgKS5hZGRUbyhtYXBfZGEwNmVmOTYwMzM4NGIyMDg0MzM1ZDIwYjA5Nzc5MzkpOwogICAgICAgIAogICAgCiAgICAgICAgdmFyIHBvcHVwXzRkNDgyZGU1M2JiODQ0NGM4NDQ4NjZiNjMwNzRmYTk5ID0gTC5wb3B1cCh7Im1heFdpZHRoIjogIjEwMCUifSk7CgogICAgICAgIAogICAgICAgICAgICB2YXIgaHRtbF80MDA1Zjc4ZWM1Mjk0YTQzOGQ3YjJiOWM3OTFmYzhkOCA9ICQoYDxkaXYgaWQ9Imh0bWxfNDAwNWY3OGVjNTI5NGE0MzhkN2IyYjljNzkxZmM4ZDgiIHN0eWxlPSJ3aWR0aDogMTAwLjAlOyBoZWlnaHQ6IDEwMC4wJTsiPlBhcmtkYWxlLCBSb25jZXN2YWxsZXMgQ2x1c3RlciAyPC9kaXY+YClbMF07CiAgICAgICAgICAgIHBvcHVwXzRkNDgyZGU1M2JiODQ0NGM4NDQ4NjZiNjMwNzRmYTk5LnNldENvbnRlbnQoaHRtbF80MDA1Zjc4ZWM1Mjk0YTQzOGQ3YjJiOWM3OTFmYzhkOCk7CiAgICAgICAgCgogICAgICAgIGNpcmNsZV9tYXJrZXJfMTNlYzQ3OGVlZGZlNDVlMGExMTcxNmVmNTZjYWUyYTguYmluZFBvcHVwKHBvcHVwXzRkNDgyZGU1M2JiODQ0NGM4NDQ4NjZiNjMwNzRmYTk5KQogICAgICAgIDsKCiAgICAgICAgCiAgICAKICAgIAogICAgICAgICAgICB2YXIgY2lyY2xlX21hcmtlcl82MTViMTlmOTQwZGY0YzgyOWQ2NDM4YWFkNzE2MDVmMiA9IEwuY2lyY2xlTWFya2VyKAogICAgICAgICAgICAgICAgWzQzLjcwNDMyNDQsIC03OS4zODg3OTAxXSwKICAgICAgICAgICAgICAgIHsiYnViYmxpbmdNb3VzZUV2ZW50cyI6IHRydWUsICJjb2xvciI6ICIjMDBiNWViIiwgImRhc2hBcnJheSI6IG51bGwsICJkYXNoT2Zmc2V0IjogbnVsbCwgImZpbGwiOiB0cnVlLCAiZmlsbENvbG9yIjogIiMwMGI1ZWIiLCAiZmlsbE9wYWNpdHkiOiAwLjcsICJmaWxsUnVsZSI6ICJldmVub2RkIiwgImxpbmVDYXAiOiAicm91bmQiLCAibGluZUpvaW4iOiAicm91bmQiLCAib3BhY2l0eSI6IDEuMCwgInJhZGl1cyI6IDUsICJzdHJva2UiOiB0cnVlLCAid2VpZ2h0IjogM30KICAgICAgICAgICAgKS5hZGRUbyhtYXBfZGEwNmVmOTYwMzM4NGIyMDg0MzM1ZDIwYjA5Nzc5MzkpOwogICAgICAgIAogICAgCiAgICAgICAgdmFyIHBvcHVwXzM5MzUyYzI1YTU2YzQzY2JiNDBlODhlZTI3NDg4NzRiID0gTC5wb3B1cCh7Im1heFdpZHRoIjogIjEwMCUifSk7CgogICAgICAgIAogICAgICAgICAgICB2YXIgaHRtbF81ODVmOTM3NDBkNmM0NTViOWJkYzFiZjY4YmNlZThhYyA9ICQoYDxkaXYgaWQ9Imh0bWxfNTg1ZjkzNzQwZDZjNDU1YjliZGMxYmY2OGJjZWU4YWMiIHN0eWxlPSJ3aWR0aDogMTAwLjAlOyBoZWlnaHQ6IDEwMC4wJTsiPkRhdmlzdmlsbGUgQ2x1c3RlciAyPC9kaXY+YClbMF07CiAgICAgICAgICAgIHBvcHVwXzM5MzUyYzI1YTU2YzQzY2JiNDBlODhlZTI3NDg4NzRiLnNldENvbnRlbnQoaHRtbF81ODVmOTM3NDBkNmM0NTViOWJkYzFiZjY4YmNlZThhYyk7CiAgICAgICAgCgogICAgICAgIGNpcmNsZV9tYXJrZXJfNjE1YjE5Zjk0MGRmNGM4MjlkNjQzOGFhZDcxNjA1ZjIuYmluZFBvcHVwKHBvcHVwXzM5MzUyYzI1YTU2YzQzY2JiNDBlODhlZTI3NDg4NzRiKQogICAgICAgIDsKCiAgICAgICAgCiAgICAKICAgIAogICAgICAgICAgICB2YXIgY2lyY2xlX21hcmtlcl84OWQwNzY1YjE3MTI0ZDQ5YmI1N2I2OTU1YzFhMDE1MiA9IEwuY2lyY2xlTWFya2VyKAogICAgICAgICAgICAgICAgWzQzLjY2MjY5NTYsIC03OS40MDAwNDkzXSwKICAgICAgICAgICAgICAgIHsiYnViYmxpbmdNb3VzZUV2ZW50cyI6IHRydWUsICJjb2xvciI6ICIjMDBiNWViIiwgImRhc2hBcnJheSI6IG51bGwsICJkYXNoT2Zmc2V0IjogbnVsbCwgImZpbGwiOiB0cnVlLCAiZmlsbENvbG9yIjogIiMwMGI1ZWIiLCAiZmlsbE9wYWNpdHkiOiAwLjcsICJmaWxsUnVsZSI6ICJldmVub2RkIiwgImxpbmVDYXAiOiAicm91bmQiLCAibGluZUpvaW4iOiAicm91bmQiLCAib3BhY2l0eSI6IDEuMCwgInJhZGl1cyI6IDUsICJzdHJva2UiOiB0cnVlLCAid2VpZ2h0IjogM30KICAgICAgICAgICAgKS5hZGRUbyhtYXBfZGEwNmVmOTYwMzM4NGIyMDg0MzM1ZDIwYjA5Nzc5MzkpOwogICAgICAgIAogICAgCiAgICAgICAgdmFyIHBvcHVwX2ZkZDUxNDNmNmZkYTQzY2ZhNmM0ZWY5YTg4YWMyOTdjID0gTC5wb3B1cCh7Im1heFdpZHRoIjogIjEwMCUifSk7CgogICAgICAgIAogICAgICAgICAgICB2YXIgaHRtbF8wMjcxMDQzOWZmYjE0ZjU0YTlmMTYyYjhjMTg1OTcxMCA9ICQoYDxkaXYgaWQ9Imh0bWxfMDI3MTA0MzlmZmIxNGY1NGE5ZjE2MmI4YzE4NTk3MTAiIHN0eWxlPSJ3aWR0aDogMTAwLjAlOyBoZWlnaHQ6IDEwMC4wJTsiPlVuaXZlcnNpdHkgb2YgVG9yb250bywgSGFyYm9yZCBDbHVzdGVyIDI8L2Rpdj5gKVswXTsKICAgICAgICAgICAgcG9wdXBfZmRkNTE0M2Y2ZmRhNDNjZmE2YzRlZjlhODhhYzI5N2Muc2V0Q29udGVudChodG1sXzAyNzEwNDM5ZmZiMTRmNTRhOWYxNjJiOGMxODU5NzEwKTsKICAgICAgICAKCiAgICAgICAgY2lyY2xlX21hcmtlcl84OWQwNzY1YjE3MTI0ZDQ5YmI1N2I2OTU1YzFhMDE1Mi5iaW5kUG9wdXAocG9wdXBfZmRkNTE0M2Y2ZmRhNDNjZmE2YzRlZjlhODhhYzI5N2MpCiAgICAgICAgOwoKICAgICAgICAKICAgIAogICAgCiAgICAgICAgICAgIHZhciBjaXJjbGVfbWFya2VyX2I5MWU1MmIwNjU3NzQ2ZDc5NTc4NzQzOTUxODQxYzJhID0gTC5jaXJjbGVNYXJrZXIoCiAgICAgICAgICAgICAgICBbNDMuNjUxNTcwNiwgLTc5LjQ4NDQ0OTldLAogICAgICAgICAgICAgICAgeyJidWJibGluZ01vdXNlRXZlbnRzIjogdHJ1ZSwgImNvbG9yIjogIiMwMGI1ZWIiLCAiZGFzaEFycmF5IjogbnVsbCwgImRhc2hPZmZzZXQiOiBudWxsLCAiZmlsbCI6IHRydWUsICJmaWxsQ29sb3IiOiAiIzAwYjVlYiIsICJmaWxsT3BhY2l0eSI6IDAuNywgImZpbGxSdWxlIjogImV2ZW5vZGQiLCAibGluZUNhcCI6ICJyb3VuZCIsICJsaW5lSm9pbiI6ICJyb3VuZCIsICJvcGFjaXR5IjogMS4wLCAicmFkaXVzIjogNSwgInN0cm9rZSI6IHRydWUsICJ3ZWlnaHQiOiAzfQogICAgICAgICAgICApLmFkZFRvKG1hcF9kYTA2ZWY5NjAzMzg0YjIwODQzMzVkMjBiMDk3NzkzOSk7CiAgICAgICAgCiAgICAKICAgICAgICB2YXIgcG9wdXBfZTQwN2Q2MjFmYjA1NDlmZmE0NDUzNWM0MWRkZTk4ODAgPSBMLnBvcHVwKHsibWF4V2lkdGgiOiAiMTAwJSJ9KTsKCiAgICAgICAgCiAgICAgICAgICAgIHZhciBodG1sXzlkYTcxODI2OGZhMjRiN2ZhOTE1OTcxZDEyOGQ2NmNiID0gJChgPGRpdiBpZD0iaHRtbF85ZGE3MTgyNjhmYTI0YjdmYTkxNTk3MWQxMjhkNjZjYiIgc3R5bGU9IndpZHRoOiAxMDAuMCU7IGhlaWdodDogMTAwLjAlOyI+UnVubnltZWRlLCBTd2Fuc2VhIENsdXN0ZXIgMjwvZGl2PmApWzBdOwogICAgICAgICAgICBwb3B1cF9lNDA3ZDYyMWZiMDU0OWZmYTQ0NTM1YzQxZGRlOTg4MC5zZXRDb250ZW50KGh0bWxfOWRhNzE4MjY4ZmEyNGI3ZmE5MTU5NzFkMTI4ZDY2Y2IpOwogICAgICAgIAoKICAgICAgICBjaXJjbGVfbWFya2VyX2I5MWU1MmIwNjU3NzQ2ZDc5NTc4NzQzOTUxODQxYzJhLmJpbmRQb3B1cChwb3B1cF9lNDA3ZDYyMWZiMDU0OWZmYTQ0NTM1YzQxZGRlOTg4MCkKICAgICAgICA7CgogICAgICAgIAogICAgCiAgICAKICAgICAgICAgICAgdmFyIGNpcmNsZV9tYXJrZXJfYTY2NWZiN2YxYzdjNGY3YWIwY2JlNjZmODgzYTI2NmIgPSBMLmNpcmNsZU1hcmtlcigKICAgICAgICAgICAgICAgIFs0My42ODk1NzQzLCAtNzkuMzgzMTU5OTAwMDAwMDFdLAogICAgICAgICAgICAgICAgeyJidWJibGluZ01vdXNlRXZlbnRzIjogdHJ1ZSwgImNvbG9yIjogIiM4MDAwZmYiLCAiZGFzaEFycmF5IjogbnVsbCwgImRhc2hPZmZzZXQiOiBudWxsLCAiZmlsbCI6IHRydWUsICJmaWxsQ29sb3IiOiAiIzgwMDBmZiIsICJmaWxsT3BhY2l0eSI6IDAuNywgImZpbGxSdWxlIjogImV2ZW5vZGQiLCAibGluZUNhcCI6ICJyb3VuZCIsICJsaW5lSm9pbiI6ICJyb3VuZCIsICJvcGFjaXR5IjogMS4wLCAicmFkaXVzIjogNSwgInN0cm9rZSI6IHRydWUsICJ3ZWlnaHQiOiAzfQogICAgICAgICAgICApLmFkZFRvKG1hcF9kYTA2ZWY5NjAzMzg0YjIwODQzMzVkMjBiMDk3NzkzOSk7CiAgICAgICAgCiAgICAKICAgICAgICB2YXIgcG9wdXBfZjRiNjM2ZjhlODgxNDlmZmI5OTYxMzU5ZDQ1NDNhZTUgPSBMLnBvcHVwKHsibWF4V2lkdGgiOiAiMTAwJSJ9KTsKCiAgICAgICAgCiAgICAgICAgICAgIHZhciBodG1sX2ZmZWNhM2E4ZWY3MTQyNWFiMzZhZTNkMTY4ZTg0NTlmID0gJChgPGRpdiBpZD0iaHRtbF9mZmVjYTNhOGVmNzE0MjVhYjM2YWUzZDE2OGU4NDU5ZiIgc3R5bGU9IndpZHRoOiAxMDAuMCU7IGhlaWdodDogMTAwLjAlOyI+TW9vcmUgUGFyaywgU3VtbWVyaGlsbCBFYXN0IENsdXN0ZXIgMTwvZGl2PmApWzBdOwogICAgICAgICAgICBwb3B1cF9mNGI2MzZmOGU4ODE0OWZmYjk5NjEzNTlkNDU0M2FlNS5zZXRDb250ZW50KGh0bWxfZmZlY2EzYThlZjcxNDI1YWIzNmFlM2QxNjhlODQ1OWYpOwogICAgICAgIAoKICAgICAgICBjaXJjbGVfbWFya2VyX2E2NjVmYjdmMWM3YzRmN2FiMGNiZTY2Zjg4M2EyNjZiLmJpbmRQb3B1cChwb3B1cF9mNGI2MzZmOGU4ODE0OWZmYjk5NjEzNTlkNDU0M2FlNSkKICAgICAgICA7CgogICAgICAgIAogICAgCiAgICAKICAgICAgICAgICAgdmFyIGNpcmNsZV9tYXJrZXJfMDE3NmE4Njk0MTg1NGE3NjkwMjE3OTM3MTNhMTZkYmEgPSBMLmNpcmNsZU1hcmtlcigKICAgICAgICAgICAgICAgIFs0My42NTMyMDU3LCAtNzkuNDAwMDQ5M10sCiAgICAgICAgICAgICAgICB7ImJ1YmJsaW5nTW91c2VFdmVudHMiOiB0cnVlLCAiY29sb3IiOiAiIzAwYjVlYiIsICJkYXNoQXJyYXkiOiBudWxsLCAiZGFzaE9mZnNldCI6IG51bGwsICJmaWxsIjogdHJ1ZSwgImZpbGxDb2xvciI6ICIjMDBiNWViIiwgImZpbGxPcGFjaXR5IjogMC43LCAiZmlsbFJ1bGUiOiAiZXZlbm9kZCIsICJsaW5lQ2FwIjogInJvdW5kIiwgImxpbmVKb2luIjogInJvdW5kIiwgIm9wYWNpdHkiOiAxLjAsICJyYWRpdXMiOiA1LCAic3Ryb2tlIjogdHJ1ZSwgIndlaWdodCI6IDN9CiAgICAgICAgICAgICkuYWRkVG8obWFwX2RhMDZlZjk2MDMzODRiMjA4NDMzNWQyMGIwOTc3OTM5KTsKICAgICAgICAKICAgIAogICAgICAgIHZhciBwb3B1cF9mYmUwYjgwMTRhY2Q0YTU2YmI4MmExMTNjMzMwMjU2NCA9IEwucG9wdXAoeyJtYXhXaWR0aCI6ICIxMDAlIn0pOwoKICAgICAgICAKICAgICAgICAgICAgdmFyIGh0bWxfYjFjNWEwZjlmMTBmNGNiYjllM2FhN2NkYWExMzc5MDYgPSAkKGA8ZGl2IGlkPSJodG1sX2IxYzVhMGY5ZjEwZjRjYmI5ZTNhYTdjZGFhMTM3OTA2IiBzdHlsZT0id2lkdGg6IDEwMC4wJTsgaGVpZ2h0OiAxMDAuMCU7Ij5LZW5zaW5ndG9uIE1hcmtldCwgQ2hpbmF0b3duLCBHcmFuZ2UgUGFyayBDbHVzdGVyIDI8L2Rpdj5gKVswXTsKICAgICAgICAgICAgcG9wdXBfZmJlMGI4MDE0YWNkNGE1NmJiODJhMTEzYzMzMDI1NjQuc2V0Q29udGVudChodG1sX2IxYzVhMGY5ZjEwZjRjYmI5ZTNhYTdjZGFhMTM3OTA2KTsKICAgICAgICAKCiAgICAgICAgY2lyY2xlX21hcmtlcl8wMTc2YTg2OTQxODU0YTc2OTAyMTc5MzcxM2ExNmRiYS5iaW5kUG9wdXAocG9wdXBfZmJlMGI4MDE0YWNkNGE1NmJiODJhMTEzYzMzMDI1NjQpCiAgICAgICAgOwoKICAgICAgICAKICAgIAogICAgCiAgICAgICAgICAgIHZhciBjaXJjbGVfbWFya2VyXzhlNjk2ZDBiYmU5MTQ1MGFiYTQ5M2I0MmZhZjU0MTVjID0gTC5jaXJjbGVNYXJrZXIoCiAgICAgICAgICAgICAgICBbNDMuNjg2NDEyMjk5OTk5OTksIC03OS40MDAwNDkzXSwKICAgICAgICAgICAgICAgIHsiYnViYmxpbmdNb3VzZUV2ZW50cyI6IHRydWUsICJjb2xvciI6ICIjMDBiNWViIiwgImRhc2hBcnJheSI6IG51bGwsICJkYXNoT2Zmc2V0IjogbnVsbCwgImZpbGwiOiB0cnVlLCAiZmlsbENvbG9yIjogIiMwMGI1ZWIiLCAiZmlsbE9wYWNpdHkiOiAwLjcsICJmaWxsUnVsZSI6ICJldmVub2RkIiwgImxpbmVDYXAiOiAicm91bmQiLCAibGluZUpvaW4iOiAicm91bmQiLCAib3BhY2l0eSI6IDEuMCwgInJhZGl1cyI6IDUsICJzdHJva2UiOiB0cnVlLCAid2VpZ2h0IjogM30KICAgICAgICAgICAgKS5hZGRUbyhtYXBfZGEwNmVmOTYwMzM4NGIyMDg0MzM1ZDIwYjA5Nzc5MzkpOwogICAgICAgIAogICAgCiAgICAgICAgdmFyIHBvcHVwX2U5MTBhNGZmNzQ5ZTQ3MjQ5OGViNTVhNWFkZWZlYWNhID0gTC5wb3B1cCh7Im1heFdpZHRoIjogIjEwMCUifSk7CgogICAgICAgIAogICAgICAgICAgICB2YXIgaHRtbF9lYjVmOTQwZGQwMWM0OGQxOTUyNDUwOWVjMmI5NmUxMCA9ICQoYDxkaXYgaWQ9Imh0bWxfZWI1Zjk0MGRkMDFjNDhkMTk1MjQ1MDllYzJiOTZlMTAiIHN0eWxlPSJ3aWR0aDogMTAwLjAlOyBoZWlnaHQ6IDEwMC4wJTsiPlN1bW1lcmhpbGwgV2VzdCwgUmF0aG5lbGx5LCBTb3V0aCBIaWxsLCBGb3Jlc3QgSGlsbCBTRSwgRGVlciBQYXJrIENsdXN0ZXIgMjwvZGl2PmApWzBdOwogICAgICAgICAgICBwb3B1cF9lOTEwYTRmZjc0OWU0NzI0OThlYjU1YTVhZGVmZWFjYS5zZXRDb250ZW50KGh0bWxfZWI1Zjk0MGRkMDFjNDhkMTk1MjQ1MDllYzJiOTZlMTApOwogICAgICAgIAoKICAgICAgICBjaXJjbGVfbWFya2VyXzhlNjk2ZDBiYmU5MTQ1MGFiYTQ5M2I0MmZhZjU0MTVjLmJpbmRQb3B1cChwb3B1cF9lOTEwYTRmZjc0OWU0NzI0OThlYjU1YTVhZGVmZWFjYSkKICAgICAgICA7CgogICAgICAgIAogICAgCiAgICAKICAgICAgICAgICAgdmFyIGNpcmNsZV9tYXJrZXJfYTRjNzU0MjA1YTY2NDI2Mjg5MzBhNjM2MGM3NmJhYjggPSBMLmNpcmNsZU1hcmtlcigKICAgICAgICAgICAgICAgIFs0My42Mjg5NDY3LCAtNzkuMzk0NDE5OV0sCiAgICAgICAgICAgICAgICB7ImJ1YmJsaW5nTW91c2VFdmVudHMiOiB0cnVlLCAiY29sb3IiOiAiIzAwYjVlYiIsICJkYXNoQXJyYXkiOiBudWxsLCAiZGFzaE9mZnNldCI6IG51bGwsICJmaWxsIjogdHJ1ZSwgImZpbGxDb2xvciI6ICIjMDBiNWViIiwgImZpbGxPcGFjaXR5IjogMC43LCAiZmlsbFJ1bGUiOiAiZXZlbm9kZCIsICJsaW5lQ2FwIjogInJvdW5kIiwgImxpbmVKb2luIjogInJvdW5kIiwgIm9wYWNpdHkiOiAxLjAsICJyYWRpdXMiOiA1LCAic3Ryb2tlIjogdHJ1ZSwgIndlaWdodCI6IDN9CiAgICAgICAgICAgICkuYWRkVG8obWFwX2RhMDZlZjk2MDMzODRiMjA4NDMzNWQyMGIwOTc3OTM5KTsKICAgICAgICAKICAgIAogICAgICAgIHZhciBwb3B1cF9iMWZmZWJmMTQzNTU0NThlODEwMzA2YWJlZTliNTc4ZCA9IEwucG9wdXAoeyJtYXhXaWR0aCI6ICIxMDAlIn0pOwoKICAgICAgICAKICAgICAgICAgICAgdmFyIGh0bWxfMTkxZGUwMzA5ZjRmNGM2ZGJkZWYxZmVhMjNhYzg5ZGQgPSAkKGA8ZGl2IGlkPSJodG1sXzE5MWRlMDMwOWY0ZjRjNmRiZGVmMWZlYTIzYWM4OWRkIiBzdHlsZT0id2lkdGg6IDEwMC4wJTsgaGVpZ2h0OiAxMDAuMCU7Ij5DTiBUb3dlciwgS2luZyBhbmQgU3BhZGluYSwgUmFpbHdheSBMYW5kcywgSGFyYm91cmZyb250IFdlc3QsIEJhdGh1cnN0IFF1YXksIFNvdXRoIE5pYWdhcmEsIElzbGFuZCBhaXJwb3J0IENsdXN0ZXIgMjwvZGl2PmApWzBdOwogICAgICAgICAgICBwb3B1cF9iMWZmZWJmMTQzNTU0NThlODEwMzA2YWJlZTliNTc4ZC5zZXRDb250ZW50KGh0bWxfMTkxZGUwMzA5ZjRmNGM2ZGJkZWYxZmVhMjNhYzg5ZGQpOwogICAgICAgIAoKICAgICAgICBjaXJjbGVfbWFya2VyX2E0Yzc1NDIwNWE2NjQyNjI4OTMwYTYzNjBjNzZiYWI4LmJpbmRQb3B1cChwb3B1cF9iMWZmZWJmMTQzNTU0NThlODEwMzA2YWJlZTliNTc4ZCkKICAgICAgICA7CgogICAgICAgIAogICAgCiAgICAKICAgICAgICAgICAgdmFyIGNpcmNsZV9tYXJrZXJfNGVjNTBiOTI3MzA4NDY4MDg0M2NiNTUwNzRmMmI2MDkgPSBMLmNpcmNsZU1hcmtlcigKICAgICAgICAgICAgICAgIFs0My42Nzk1NjI2LCAtNzkuMzc3NTI5NDAwMDAwMDFdLAogICAgICAgICAgICAgICAgeyJidWJibGluZ01vdXNlRXZlbnRzIjogdHJ1ZSwgImNvbG9yIjogIiNmZjAwMDAiLCAiZGFzaEFycmF5IjogbnVsbCwgImRhc2hPZmZzZXQiOiBudWxsLCAiZmlsbCI6IHRydWUsICJmaWxsQ29sb3IiOiAiI2ZmMDAwMCIsICJmaWxsT3BhY2l0eSI6IDAuNywgImZpbGxSdWxlIjogImV2ZW5vZGQiLCAibGluZUNhcCI6ICJyb3VuZCIsICJsaW5lSm9pbiI6ICJyb3VuZCIsICJvcGFjaXR5IjogMS4wLCAicmFkaXVzIjogNSwgInN0cm9rZSI6IHRydWUsICJ3ZWlnaHQiOiAzfQogICAgICAgICAgICApLmFkZFRvKG1hcF9kYTA2ZWY5NjAzMzg0YjIwODQzMzVkMjBiMDk3NzkzOSk7CiAgICAgICAgCiAgICAKICAgICAgICB2YXIgcG9wdXBfNDE5NWIxNDZlMjZhNDEwYmI0M2E2MDlkMzY1ODc0M2IgPSBMLnBvcHVwKHsibWF4V2lkdGgiOiAiMTAwJSJ9KTsKCiAgICAgICAgCiAgICAgICAgICAgIHZhciBodG1sX2U0ZTdjZjQ4MGYwNDQxMTJhMDFkYTM3N2EzNzVmMTgwID0gJChgPGRpdiBpZD0iaHRtbF9lNGU3Y2Y0ODBmMDQ0MTEyYTAxZGEzNzdhMzc1ZjE4MCIgc3R5bGU9IndpZHRoOiAxMDAuMCU7IGhlaWdodDogMTAwLjAlOyI+Um9zZWRhbGUgQ2x1c3RlciAwPC9kaXY+YClbMF07CiAgICAgICAgICAgIHBvcHVwXzQxOTViMTQ2ZTI2YTQxMGJiNDNhNjA5ZDM2NTg3NDNiLnNldENvbnRlbnQoaHRtbF9lNGU3Y2Y0ODBmMDQ0MTEyYTAxZGEzNzdhMzc1ZjE4MCk7CiAgICAgICAgCgogICAgICAgIGNpcmNsZV9tYXJrZXJfNGVjNTBiOTI3MzA4NDY4MDg0M2NiNTUwNzRmMmI2MDkuYmluZFBvcHVwKHBvcHVwXzQxOTViMTQ2ZTI2YTQxMGJiNDNhNjA5ZDM2NTg3NDNiKQogICAgICAgIDsKCiAgICAgICAgCiAgICAKICAgIAogICAgICAgICAgICB2YXIgY2lyY2xlX21hcmtlcl83NjI5ZmYwYjk5NjI0ZTJkOTMxNzQ3NjY1M2UzMGU4NyA9IEwuY2lyY2xlTWFya2VyKAogICAgICAgICAgICAgICAgWzQzLjY0NjQzNTIsIC03OS4zNzQ4NDU5OTk5OTk5OV0sCiAgICAgICAgICAgICAgICB7ImJ1YmJsaW5nTW91c2VFdmVudHMiOiB0cnVlLCAiY29sb3IiOiAiIzAwYjVlYiIsICJkYXNoQXJyYXkiOiBudWxsLCAiZGFzaE9mZnNldCI6IG51bGwsICJmaWxsIjogdHJ1ZSwgImZpbGxDb2xvciI6ICIjMDBiNWViIiwgImZpbGxPcGFjaXR5IjogMC43LCAiZmlsbFJ1bGUiOiAiZXZlbm9kZCIsICJsaW5lQ2FwIjogInJvdW5kIiwgImxpbmVKb2luIjogInJvdW5kIiwgIm9wYWNpdHkiOiAxLjAsICJyYWRpdXMiOiA1LCAic3Ryb2tlIjogdHJ1ZSwgIndlaWdodCI6IDN9CiAgICAgICAgICAgICkuYWRkVG8obWFwX2RhMDZlZjk2MDMzODRiMjA4NDMzNWQyMGIwOTc3OTM5KTsKICAgICAgICAKICAgIAogICAgICAgIHZhciBwb3B1cF9kOGIzMjhlYzFhNjc0ZTA2OWY1ZDE0YmIxOGZkMzkzMiA9IEwucG9wdXAoeyJtYXhXaWR0aCI6ICIxMDAlIn0pOwoKICAgICAgICAKICAgICAgICAgICAgdmFyIGh0bWxfZDRiOWMxYjA0ODUzNDhlZGE0YjMwMmE1Nzc3NGZiNWQgPSAkKGA8ZGl2IGlkPSJodG1sX2Q0YjljMWIwNDg1MzQ4ZWRhNGIzMDJhNTc3NzRmYjVkIiBzdHlsZT0id2lkdGg6IDEwMC4wJTsgaGVpZ2h0OiAxMDAuMCU7Ij5TdG4gQSBQTyBCb3hlcyBDbHVzdGVyIDI8L2Rpdj5gKVswXTsKICAgICAgICAgICAgcG9wdXBfZDhiMzI4ZWMxYTY3NGUwNjlmNWQxNGJiMThmZDM5MzIuc2V0Q29udGVudChodG1sX2Q0YjljMWIwNDg1MzQ4ZWRhNGIzMDJhNTc3NzRmYjVkKTsKICAgICAgICAKCiAgICAgICAgY2lyY2xlX21hcmtlcl83NjI5ZmYwYjk5NjI0ZTJkOTMxNzQ3NjY1M2UzMGU4Ny5iaW5kUG9wdXAocG9wdXBfZDhiMzI4ZWMxYTY3NGUwNjlmNWQxNGJiMThmZDM5MzIpCiAgICAgICAgOwoKICAgICAgICAKICAgIAogICAgCiAgICAgICAgICAgIHZhciBjaXJjbGVfbWFya2VyX2ViZjI0YzMxM2I0ZjQwNzFhN2UzNTk1NjM5YjBlN2Y4ID0gTC5jaXJjbGVNYXJrZXIoCiAgICAgICAgICAgICAgICBbNDMuNjY3OTY3LCAtNzkuMzY3Njc1M10sCiAgICAgICAgICAgICAgICB7ImJ1YmJsaW5nTW91c2VFdmVudHMiOiB0cnVlLCAiY29sb3IiOiAiIzAwYjVlYiIsICJkYXNoQXJyYXkiOiBudWxsLCAiZGFzaE9mZnNldCI6IG51bGwsICJmaWxsIjogdHJ1ZSwgImZpbGxDb2xvciI6ICIjMDBiNWViIiwgImZpbGxPcGFjaXR5IjogMC43LCAiZmlsbFJ1bGUiOiAiZXZlbm9kZCIsICJsaW5lQ2FwIjogInJvdW5kIiwgImxpbmVKb2luIjogInJvdW5kIiwgIm9wYWNpdHkiOiAxLjAsICJyYWRpdXMiOiA1LCAic3Ryb2tlIjogdHJ1ZSwgIndlaWdodCI6IDN9CiAgICAgICAgICAgICkuYWRkVG8obWFwX2RhMDZlZjk2MDMzODRiMjA4NDMzNWQyMGIwOTc3OTM5KTsKICAgICAgICAKICAgIAogICAgICAgIHZhciBwb3B1cF81N2Q5Y2FiY2ZjZTA0NjliODdhNDdhYzEzYTFjOThiOSA9IEwucG9wdXAoeyJtYXhXaWR0aCI6ICIxMDAlIn0pOwoKICAgICAgICAKICAgICAgICAgICAgdmFyIGh0bWxfY2YzNzYyM2U5MWRjNGJkNzg1M2E2YzllNmM2MWEzNDUgPSAkKGA8ZGl2IGlkPSJodG1sX2NmMzc2MjNlOTFkYzRiZDc4NTNhNmM5ZTZjNjFhMzQ1IiBzdHlsZT0id2lkdGg6IDEwMC4wJTsgaGVpZ2h0OiAxMDAuMCU7Ij5TdC4gSmFtZXMgVG93biwgQ2FiYmFnZXRvd24gQ2x1c3RlciAyPC9kaXY+YClbMF07CiAgICAgICAgICAgIHBvcHVwXzU3ZDljYWJjZmNlMDQ2OWI4N2E0N2FjMTNhMWM5OGI5LnNldENvbnRlbnQoaHRtbF9jZjM3NjIzZTkxZGM0YmQ3ODUzYTZjOWU2YzYxYTM0NSk7CiAgICAgICAgCgogICAgICAgIGNpcmNsZV9tYXJrZXJfZWJmMjRjMzEzYjRmNDA3MWE3ZTM1OTU2MzliMGU3ZjguYmluZFBvcHVwKHBvcHVwXzU3ZDljYWJjZmNlMDQ2OWI4N2E0N2FjMTNhMWM5OGI5KQogICAgICAgIDsKCiAgICAgICAgCiAgICAKICAgIAogICAgICAgICAgICB2YXIgY2lyY2xlX21hcmtlcl9iYTZjZDNlZWIwZWQ0NzM5ODhjNTZmMjgwZmMxN2Y3NiA9IEwuY2lyY2xlTWFya2VyKAogICAgICAgICAgICAgICAgWzQzLjY0ODQyOTIsIC03OS4zODIyODAyXSwKICAgICAgICAgICAgICAgIHsiYnViYmxpbmdNb3VzZUV2ZW50cyI6IHRydWUsICJjb2xvciI6ICIjMDBiNWViIiwgImRhc2hBcnJheSI6IG51bGwsICJkYXNoT2Zmc2V0IjogbnVsbCwgImZpbGwiOiB0cnVlLCAiZmlsbENvbG9yIjogIiMwMGI1ZWIiLCAiZmlsbE9wYWNpdHkiOiAwLjcsICJmaWxsUnVsZSI6ICJldmVub2RkIiwgImxpbmVDYXAiOiAicm91bmQiLCAibGluZUpvaW4iOiAicm91bmQiLCAib3BhY2l0eSI6IDEuMCwgInJhZGl1cyI6IDUsICJzdHJva2UiOiB0cnVlLCAid2VpZ2h0IjogM30KICAgICAgICAgICAgKS5hZGRUbyhtYXBfZGEwNmVmOTYwMzM4NGIyMDg0MzM1ZDIwYjA5Nzc5MzkpOwogICAgICAgIAogICAgCiAgICAgICAgdmFyIHBvcHVwXzJjNzkwMTZmYzVhMTRiY2Q5N2I5MzY3OWY2N2Y0Yzg3ID0gTC5wb3B1cCh7Im1heFdpZHRoIjogIjEwMCUifSk7CgogICAgICAgIAogICAgICAgICAgICB2YXIgaHRtbF82MmRkNDkwYzlkNjQ0MTI5ODZjMDM1YmY5ZjEwZTdkNiA9ICQoYDxkaXYgaWQ9Imh0bWxfNjJkZDQ5MGM5ZDY0NDEyOTg2YzAzNWJmOWYxMGU3ZDYiIHN0eWxlPSJ3aWR0aDogMTAwLjAlOyBoZWlnaHQ6IDEwMC4wJTsiPkZpcnN0IENhbmFkaWFuIFBsYWNlLCBVbmRlcmdyb3VuZCBjaXR5IENsdXN0ZXIgMjwvZGl2PmApWzBdOwogICAgICAgICAgICBwb3B1cF8yYzc5MDE2ZmM1YTE0YmNkOTdiOTM2NzlmNjdmNGM4Ny5zZXRDb250ZW50KGh0bWxfNjJkZDQ5MGM5ZDY0NDEyOTg2YzAzNWJmOWYxMGU3ZDYpOwogICAgICAgIAoKICAgICAgICBjaXJjbGVfbWFya2VyX2JhNmNkM2VlYjBlZDQ3Mzk4OGM1NmYyODBmYzE3Zjc2LmJpbmRQb3B1cChwb3B1cF8yYzc5MDE2ZmM1YTE0YmNkOTdiOTM2NzlmNjdmNGM4NykKICAgICAgICA7CgogICAgICAgIAogICAgCiAgICAKICAgICAgICAgICAgdmFyIGNpcmNsZV9tYXJrZXJfZmY0YjkzYWUzYTgwNGYwYjgxMzhiNTY5NmUzN2VmMWMgPSBMLmNpcmNsZU1hcmtlcigKICAgICAgICAgICAgICAgIFs0My42NjU4NTk5LCAtNzkuMzgzMTU5OTAwMDAwMDFdLAogICAgICAgICAgICAgICAgeyJidWJibGluZ01vdXNlRXZlbnRzIjogdHJ1ZSwgImNvbG9yIjogIiMwMGI1ZWIiLCAiZGFzaEFycmF5IjogbnVsbCwgImRhc2hPZmZzZXQiOiBudWxsLCAiZmlsbCI6IHRydWUsICJmaWxsQ29sb3IiOiAiIzAwYjVlYiIsICJmaWxsT3BhY2l0eSI6IDAuNywgImZpbGxSdWxlIjogImV2ZW5vZGQiLCAibGluZUNhcCI6ICJyb3VuZCIsICJsaW5lSm9pbiI6ICJyb3VuZCIsICJvcGFjaXR5IjogMS4wLCAicmFkaXVzIjogNSwgInN0cm9rZSI6IHRydWUsICJ3ZWlnaHQiOiAzfQogICAgICAgICAgICApLmFkZFRvKG1hcF9kYTA2ZWY5NjAzMzg0YjIwODQzMzVkMjBiMDk3NzkzOSk7CiAgICAgICAgCiAgICAKICAgICAgICB2YXIgcG9wdXBfMjY5OWY1NGMwMmNmNDY5NTg5MmViODhmMGE1MzQ5NDAgPSBMLnBvcHVwKHsibWF4V2lkdGgiOiAiMTAwJSJ9KTsKCiAgICAgICAgCiAgICAgICAgICAgIHZhciBodG1sXzYxNTg1OTk3MmJkNzQ5NjhhOWMzZDc2ZTI1YmVmODdlID0gJChgPGRpdiBpZD0iaHRtbF82MTU4NTk5NzJiZDc0OTY4YTljM2Q3NmUyNWJlZjg3ZSIgc3R5bGU9IndpZHRoOiAxMDAuMCU7IGhlaWdodDogMTAwLjAlOyI+Q2h1cmNoIGFuZCBXZWxsZXNsZXkgQ2x1c3RlciAyPC9kaXY+YClbMF07CiAgICAgICAgICAgIHBvcHVwXzI2OTlmNTRjMDJjZjQ2OTU4OTJlYjg4ZjBhNTM0OTQwLnNldENvbnRlbnQoaHRtbF82MTU4NTk5NzJiZDc0OTY4YTljM2Q3NmUyNWJlZjg3ZSk7CiAgICAgICAgCgogICAgICAgIGNpcmNsZV9tYXJrZXJfZmY0YjkzYWUzYTgwNGYwYjgxMzhiNTY5NmUzN2VmMWMuYmluZFBvcHVwKHBvcHVwXzI2OTlmNTRjMDJjZjQ2OTU4OTJlYjg4ZjBhNTM0OTQwKQogICAgICAgIDsKCiAgICAgICAgCiAgICAKICAgIAogICAgICAgICAgICB2YXIgY2lyY2xlX21hcmtlcl81NDZkMmU4Mjg3NTA0MDJlOWU5NDgzOGRjYmE0ZGM5NCA9IEwuY2lyY2xlTWFya2VyKAogICAgICAgICAgICAgICAgWzQzLjY2Mjc0MzksIC03OS4zMjE1NThdLAogICAgICAgICAgICAgICAgeyJidWJibGluZ01vdXNlRXZlbnRzIjogdHJ1ZSwgImNvbG9yIjogIiMwMGI1ZWIiLCAiZGFzaEFycmF5IjogbnVsbCwgImRhc2hPZmZzZXQiOiBudWxsLCAiZmlsbCI6IHRydWUsICJmaWxsQ29sb3IiOiAiIzAwYjVlYiIsICJmaWxsT3BhY2l0eSI6IDAuNywgImZpbGxSdWxlIjogImV2ZW5vZGQiLCAibGluZUNhcCI6ICJyb3VuZCIsICJsaW5lSm9pbiI6ICJyb3VuZCIsICJvcGFjaXR5IjogMS4wLCAicmFkaXVzIjogNSwgInN0cm9rZSI6IHRydWUsICJ3ZWlnaHQiOiAzfQogICAgICAgICAgICApLmFkZFRvKG1hcF9kYTA2ZWY5NjAzMzg0YjIwODQzMzVkMjBiMDk3NzkzOSk7CiAgICAgICAgCiAgICAKICAgICAgICB2YXIgcG9wdXBfOWRkMWU3ZWQzMDNjNGU2YzkxYmQ3YmFkYmRiMTVjOGUgPSBMLnBvcHVwKHsibWF4V2lkdGgiOiAiMTAwJSJ9KTsKCiAgICAgICAgCiAgICAgICAgICAgIHZhciBodG1sXzgxZjM5MDQ2NmU5NDRkYWQ4ZThiODVhMWQwMzc2YTdiID0gJChgPGRpdiBpZD0iaHRtbF84MWYzOTA0NjZlOTQ0ZGFkOGU4Yjg1YTFkMDM3NmE3YiIgc3R5bGU9IndpZHRoOiAxMDAuMCU7IGhlaWdodDogMTAwLjAlOyI+QnVzaW5lc3MgcmVwbHkgbWFpbCBQcm9jZXNzaW5nIENlbnRyZSwgU291dGggQ2VudHJhbCBMZXR0ZXIgUHJvY2Vzc2luZyBQbGFudCBUb3JvbnRvIENsdXN0ZXIgMjwvZGl2PmApWzBdOwogICAgICAgICAgICBwb3B1cF85ZGQxZTdlZDMwM2M0ZTZjOTFiZDdiYWRiZGIxNWM4ZS5zZXRDb250ZW50KGh0bWxfODFmMzkwNDY2ZTk0NGRhZDhlOGI4NWExZDAzNzZhN2IpOwogICAgICAgIAoKICAgICAgICBjaXJjbGVfbWFya2VyXzU0NmQyZTgyODc1MDQwMmU5ZTk0ODM4ZGNiYTRkYzk0LmJpbmRQb3B1cChwb3B1cF85ZGQxZTdlZDMwM2M0ZTZjOTFiZDdiYWRiZGIxNWM4ZSkKICAgICAgICA7CgogICAgICAgIAogICAgCjwvc2NyaXB0Pg== onload=\"this.contentDocument.open();this.contentDocument.write(atob(this.getAttribute('data-html')));this.contentDocument.close();\" allowfullscreen webkitallowfullscreen mozallowfullscreen></iframe></div></div>"
     },
     "metadata": {},
     "execution_count": 26
    }
   ],
   "source": [
    "# create map\n",
    "map_clusters = folium.Map(location=[43.651070, -79.347015], zoom_start=11)\n",
    "\n",
    "# set color scheme for the clusters\n",
    "x = np.arange(kclusters)\n",
    "ys = [i + x + (i*x)**2 for i in range(kclusters)]\n",
    "colors_array = cm.rainbow(np.linspace(0, 1, len(ys)))\n",
    "rainbow = [colors.rgb2hex(i) for i in colors_array]\n",
    "\n",
    "# add markers to the map\n",
    "markers_colors = []\n",
    "for lat, lon, poi, cluster in zip(toronto_merged['Latitude'], toronto_merged['Longitude'], toronto_merged['Neighbourhood'], toronto_merged['Cluster Labels']):\n",
    "    label = folium.Popup(str(poi) + ' Cluster ' + str(cluster), parse_html=True)\n",
    "    folium.CircleMarker(\n",
    "        [lat, lon],\n",
    "        radius=5,\n",
    "        popup=label,\n",
    "        color=rainbow[cluster-1],\n",
    "        fill=True,\n",
    "        fill_color=rainbow[cluster-1],\n",
    "        fill_opacity=0.7).add_to(map_clusters)\n",
    "       \n",
    "map_clusters"
   ]
  },
  {
   "source": [
    "## Examine Clusters"
   ],
   "cell_type": "markdown",
   "metadata": {}
  },
  {
   "cell_type": "code",
   "execution_count": 27,
   "metadata": {},
   "outputs": [
    {
     "output_type": "execute_result",
     "data": {
      "text/plain": "           Community  Cluster Labels 1st Most Common Venue  \\\n18   Central Toronto               0                  Park   \n21   Central Toronto               0                  Park   \n33  Downtown Toronto               0                  Park   \n\n   2nd Most Common Venue 3rd Most Common Venue 4th Most Common Venue  \\\n18           Swim School              Bus Line           Escape Room   \n21      Sushi Restaurant         Jewelry Store                 Trail   \n33            Playground                 Trail         Deli / Bodega   \n\n   5th Most Common Venue        6th Most Common Venue 7th Most Common Venue  \\\n18     Electronics Store  Eastern European Restaurant   Dumpling Restaurant   \n21     Electronics Store  Eastern European Restaurant   Dumpling Restaurant   \n33     Electronics Store  Eastern European Restaurant   Dumpling Restaurant   \n\n   8th Most Common Venue 9th Most Common Venue 10th Most Common Venue  \n18            Donut Shop      Doner Restaurant                Dog Run  \n21            Donut Shop      Doner Restaurant                Dog Run  \n33            Donut Shop      Doner Restaurant                Dog Run  ",
      "text/html": "<div>\n<style scoped>\n    .dataframe tbody tr th:only-of-type {\n        vertical-align: middle;\n    }\n\n    .dataframe tbody tr th {\n        vertical-align: top;\n    }\n\n    .dataframe thead th {\n        text-align: right;\n    }\n</style>\n<table border=\"1\" class=\"dataframe\">\n  <thead>\n    <tr style=\"text-align: right;\">\n      <th></th>\n      <th>Community</th>\n      <th>Cluster Labels</th>\n      <th>1st Most Common Venue</th>\n      <th>2nd Most Common Venue</th>\n      <th>3rd Most Common Venue</th>\n      <th>4th Most Common Venue</th>\n      <th>5th Most Common Venue</th>\n      <th>6th Most Common Venue</th>\n      <th>7th Most Common Venue</th>\n      <th>8th Most Common Venue</th>\n      <th>9th Most Common Venue</th>\n      <th>10th Most Common Venue</th>\n    </tr>\n  </thead>\n  <tbody>\n    <tr>\n      <th>18</th>\n      <td>Central Toronto</td>\n      <td>0</td>\n      <td>Park</td>\n      <td>Swim School</td>\n      <td>Bus Line</td>\n      <td>Escape Room</td>\n      <td>Electronics Store</td>\n      <td>Eastern European Restaurant</td>\n      <td>Dumpling Restaurant</td>\n      <td>Donut Shop</td>\n      <td>Doner Restaurant</td>\n      <td>Dog Run</td>\n    </tr>\n    <tr>\n      <th>21</th>\n      <td>Central Toronto</td>\n      <td>0</td>\n      <td>Park</td>\n      <td>Sushi Restaurant</td>\n      <td>Jewelry Store</td>\n      <td>Trail</td>\n      <td>Electronics Store</td>\n      <td>Eastern European Restaurant</td>\n      <td>Dumpling Restaurant</td>\n      <td>Donut Shop</td>\n      <td>Doner Restaurant</td>\n      <td>Dog Run</td>\n    </tr>\n    <tr>\n      <th>33</th>\n      <td>Downtown Toronto</td>\n      <td>0</td>\n      <td>Park</td>\n      <td>Playground</td>\n      <td>Trail</td>\n      <td>Deli / Bodega</td>\n      <td>Electronics Store</td>\n      <td>Eastern European Restaurant</td>\n      <td>Dumpling Restaurant</td>\n      <td>Donut Shop</td>\n      <td>Doner Restaurant</td>\n      <td>Dog Run</td>\n    </tr>\n  </tbody>\n</table>\n</div>"
     },
     "metadata": {},
     "execution_count": 27
    }
   ],
   "source": [
    "# Cluster 1\n",
    "toronto_merged.loc[toronto_merged['Cluster Labels'] == 0, toronto_merged.columns[[1] + list(range(5, toronto_merged.shape[1]))]]"
   ]
  },
  {
   "cell_type": "code",
   "execution_count": 28,
   "metadata": {},
   "outputs": [
    {
     "output_type": "execute_result",
     "data": {
      "text/plain": "          Community  Cluster Labels 1st Most Common Venue  \\\n29  Central Toronto               1            Playground   \n\n   2nd Most Common Venue 3rd Most Common Venue 4th Most Common Venue  \\\n29                 Trail           Yoga Studio      Department Store   \n\n   5th Most Common Venue 6th Most Common Venue        7th Most Common Venue  \\\n29           Escape Room     Electronics Store  Eastern European Restaurant   \n\n   8th Most Common Venue 9th Most Common Venue 10th Most Common Venue  \n29   Dumpling Restaurant            Donut Shop       Doner Restaurant  ",
      "text/html": "<div>\n<style scoped>\n    .dataframe tbody tr th:only-of-type {\n        vertical-align: middle;\n    }\n\n    .dataframe tbody tr th {\n        vertical-align: top;\n    }\n\n    .dataframe thead th {\n        text-align: right;\n    }\n</style>\n<table border=\"1\" class=\"dataframe\">\n  <thead>\n    <tr style=\"text-align: right;\">\n      <th></th>\n      <th>Community</th>\n      <th>Cluster Labels</th>\n      <th>1st Most Common Venue</th>\n      <th>2nd Most Common Venue</th>\n      <th>3rd Most Common Venue</th>\n      <th>4th Most Common Venue</th>\n      <th>5th Most Common Venue</th>\n      <th>6th Most Common Venue</th>\n      <th>7th Most Common Venue</th>\n      <th>8th Most Common Venue</th>\n      <th>9th Most Common Venue</th>\n      <th>10th Most Common Venue</th>\n    </tr>\n  </thead>\n  <tbody>\n    <tr>\n      <th>29</th>\n      <td>Central Toronto</td>\n      <td>1</td>\n      <td>Playground</td>\n      <td>Trail</td>\n      <td>Yoga Studio</td>\n      <td>Department Store</td>\n      <td>Escape Room</td>\n      <td>Electronics Store</td>\n      <td>Eastern European Restaurant</td>\n      <td>Dumpling Restaurant</td>\n      <td>Donut Shop</td>\n      <td>Doner Restaurant</td>\n    </tr>\n  </tbody>\n</table>\n</div>"
     },
     "metadata": {},
     "execution_count": 28
    }
   ],
   "source": [
    "# Cluster 2\n",
    "toronto_merged.loc[toronto_merged['Cluster Labels'] == 1, toronto_merged.columns[[1] + list(range(5, toronto_merged.shape[1]))]]"
   ]
  },
  {
   "cell_type": "code",
   "execution_count": 29,
   "metadata": {},
   "outputs": [
    {
     "output_type": "execute_result",
     "data": {
      "text/plain": "          Community  Cluster Labels 1st Most Common Venue  \\\n0  Downtown Toronto               2           Coffee Shop   \n1  Downtown Toronto               2           Coffee Shop   \n2  Downtown Toronto               2        Clothing Store   \n3  Downtown Toronto               2           Coffee Shop   \n5  Downtown Toronto               2           Coffee Shop   \n\n  2nd Most Common Venue 3rd Most Common Venue 4th Most Common Venue  \\\n0                  Park                   Pub                Bakery   \n1           Yoga Studio                 Diner            Restaurant   \n2           Coffee Shop                  Café        Cosmetics Shop   \n3                  Café          Cocktail Bar            Restaurant   \n5              Beer Bar        Farmers Market            Restaurant   \n\n   5th Most Common Venue 6th Most Common Venue      7th Most Common Venue  \\\n0                Theater        Breakfast Spot                       Café   \n1  Portuguese Restaurant                  Park                Music Venue   \n2        Bubble Tea Shop   Japanese Restaurant  Middle Eastern Restaurant   \n3               Beer Bar             Gastropub        American Restaurant   \n5           Cocktail Bar           Cheese Shop                     Bakery   \n\n  8th Most Common Venue 9th Most Common Venue 10th Most Common Venue  \n0     Electronics Store                   Spa             Beer Store  \n1    Mexican Restaurant    Italian Restaurant             Hobby Shop  \n2             Bookstore      Ramen Restaurant            Pizza Place  \n3        Farmers Market                 Hotel    Japanese Restaurant  \n5    Seafood Restaurant                  Café           Liquor Store  ",
      "text/html": "<div>\n<style scoped>\n    .dataframe tbody tr th:only-of-type {\n        vertical-align: middle;\n    }\n\n    .dataframe tbody tr th {\n        vertical-align: top;\n    }\n\n    .dataframe thead th {\n        text-align: right;\n    }\n</style>\n<table border=\"1\" class=\"dataframe\">\n  <thead>\n    <tr style=\"text-align: right;\">\n      <th></th>\n      <th>Community</th>\n      <th>Cluster Labels</th>\n      <th>1st Most Common Venue</th>\n      <th>2nd Most Common Venue</th>\n      <th>3rd Most Common Venue</th>\n      <th>4th Most Common Venue</th>\n      <th>5th Most Common Venue</th>\n      <th>6th Most Common Venue</th>\n      <th>7th Most Common Venue</th>\n      <th>8th Most Common Venue</th>\n      <th>9th Most Common Venue</th>\n      <th>10th Most Common Venue</th>\n    </tr>\n  </thead>\n  <tbody>\n    <tr>\n      <th>0</th>\n      <td>Downtown Toronto</td>\n      <td>2</td>\n      <td>Coffee Shop</td>\n      <td>Park</td>\n      <td>Pub</td>\n      <td>Bakery</td>\n      <td>Theater</td>\n      <td>Breakfast Spot</td>\n      <td>Café</td>\n      <td>Electronics Store</td>\n      <td>Spa</td>\n      <td>Beer Store</td>\n    </tr>\n    <tr>\n      <th>1</th>\n      <td>Downtown Toronto</td>\n      <td>2</td>\n      <td>Coffee Shop</td>\n      <td>Yoga Studio</td>\n      <td>Diner</td>\n      <td>Restaurant</td>\n      <td>Portuguese Restaurant</td>\n      <td>Park</td>\n      <td>Music Venue</td>\n      <td>Mexican Restaurant</td>\n      <td>Italian Restaurant</td>\n      <td>Hobby Shop</td>\n    </tr>\n    <tr>\n      <th>2</th>\n      <td>Downtown Toronto</td>\n      <td>2</td>\n      <td>Clothing Store</td>\n      <td>Coffee Shop</td>\n      <td>Café</td>\n      <td>Cosmetics Shop</td>\n      <td>Bubble Tea Shop</td>\n      <td>Japanese Restaurant</td>\n      <td>Middle Eastern Restaurant</td>\n      <td>Bookstore</td>\n      <td>Ramen Restaurant</td>\n      <td>Pizza Place</td>\n    </tr>\n    <tr>\n      <th>3</th>\n      <td>Downtown Toronto</td>\n      <td>2</td>\n      <td>Coffee Shop</td>\n      <td>Café</td>\n      <td>Cocktail Bar</td>\n      <td>Restaurant</td>\n      <td>Beer Bar</td>\n      <td>Gastropub</td>\n      <td>American Restaurant</td>\n      <td>Farmers Market</td>\n      <td>Hotel</td>\n      <td>Japanese Restaurant</td>\n    </tr>\n    <tr>\n      <th>5</th>\n      <td>Downtown Toronto</td>\n      <td>2</td>\n      <td>Coffee Shop</td>\n      <td>Beer Bar</td>\n      <td>Farmers Market</td>\n      <td>Restaurant</td>\n      <td>Cocktail Bar</td>\n      <td>Cheese Shop</td>\n      <td>Bakery</td>\n      <td>Seafood Restaurant</td>\n      <td>Café</td>\n      <td>Liquor Store</td>\n    </tr>\n  </tbody>\n</table>\n</div>"
     },
     "metadata": {},
     "execution_count": 29
    }
   ],
   "source": [
    "# Cluster 3\n",
    "toronto_merged.loc[toronto_merged['Cluster Labels'] == 2, toronto_merged.columns[[1] + list(range(5, toronto_merged.shape[1]))]].head()"
   ]
  },
  {
   "cell_type": "code",
   "execution_count": 30,
   "metadata": {},
   "outputs": [
    {
     "output_type": "execute_result",
     "data": {
      "text/plain": "      Community  Cluster Labels 1st Most Common Venue 2nd Most Common Venue  \\\n4  East Toronto               3          Neighborhood                   Pub   \n\n  3rd Most Common Venue 4th Most Common Venue 5th Most Common Venue  \\\n4     Health Food Store                 Trail           Yoga Studio   \n\n  6th Most Common Venue 7th Most Common Venue 8th Most Common Venue  \\\n4    Dim Sum Restaurant                 Diner        Discount Store   \n\n  9th Most Common Venue 10th Most Common Venue  \n4   Distribution Center       Doner Restaurant  ",
      "text/html": "<div>\n<style scoped>\n    .dataframe tbody tr th:only-of-type {\n        vertical-align: middle;\n    }\n\n    .dataframe tbody tr th {\n        vertical-align: top;\n    }\n\n    .dataframe thead th {\n        text-align: right;\n    }\n</style>\n<table border=\"1\" class=\"dataframe\">\n  <thead>\n    <tr style=\"text-align: right;\">\n      <th></th>\n      <th>Community</th>\n      <th>Cluster Labels</th>\n      <th>1st Most Common Venue</th>\n      <th>2nd Most Common Venue</th>\n      <th>3rd Most Common Venue</th>\n      <th>4th Most Common Venue</th>\n      <th>5th Most Common Venue</th>\n      <th>6th Most Common Venue</th>\n      <th>7th Most Common Venue</th>\n      <th>8th Most Common Venue</th>\n      <th>9th Most Common Venue</th>\n      <th>10th Most Common Venue</th>\n    </tr>\n  </thead>\n  <tbody>\n    <tr>\n      <th>4</th>\n      <td>East Toronto</td>\n      <td>3</td>\n      <td>Neighborhood</td>\n      <td>Pub</td>\n      <td>Health Food Store</td>\n      <td>Trail</td>\n      <td>Yoga Studio</td>\n      <td>Dim Sum Restaurant</td>\n      <td>Diner</td>\n      <td>Discount Store</td>\n      <td>Distribution Center</td>\n      <td>Doner Restaurant</td>\n    </tr>\n  </tbody>\n</table>\n</div>"
     },
     "metadata": {},
     "execution_count": 30
    }
   ],
   "source": [
    "# Cluster 4\n",
    "toronto_merged.loc[toronto_merged['Cluster Labels'] == 3, toronto_merged.columns[[1] + list(range(5, toronto_merged.shape[1]))]].head()"
   ]
  }
 ],
 "metadata": {
  "kernelspec": {
   "display_name": "Python 3.8.5 32-bit ('.venv': venv)",
   "language": "python",
   "name": "python38532bitvenvvenvfa0948426e114792aa2b023009def919"
  },
  "language_info": {
   "codemirror_mode": {
    "name": "ipython",
    "version": 3
   },
   "file_extension": ".py",
   "mimetype": "text/x-python",
   "name": "python",
   "nbconvert_exporter": "python",
   "pygments_lexer": "ipython3",
   "version": "3.8.5-final"
  }
 },
 "nbformat": 4,
 "nbformat_minor": 4
}